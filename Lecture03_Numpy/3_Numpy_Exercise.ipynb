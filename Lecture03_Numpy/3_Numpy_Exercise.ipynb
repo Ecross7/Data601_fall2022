{
 "cells": [
  {
   "cell_type": "markdown",
   "metadata": {
    "id": "A4riu74H9-ye"
   },
   "source": [
    "<b>Exercise:</b>\n",
    "1. Create a 6x4 array, which includes random integers from 1 to 10, name this array \"A\". print the array A.\n",
    "2. Find all the numbers bigger than 5 and multiply them with 10, name this new array B.\n",
    "3. Replace the element on the 2nd row, 3rd column of B, with -10 "
   ]
  },
  {
   "cell_type": "code",
   "execution_count": 1,
   "metadata": {
    "colab": {
     "base_uri": "https://localhost:8080/"
    },
    "executionInfo": {
     "elapsed": 5155,
     "status": "ok",
     "timestamp": 1644671049856,
     "user": {
      "displayName": "Ergun Simsek",
      "photoUrl": "https://lh3.googleusercontent.com/a-/AOh14Gg-wjHaTCL8nW1-WBjkR0PKajXbyfc3UgfX4HpB=s64",
      "userId": "16739529127101354422"
     },
     "user_tz": 300
    },
    "id": "ADZXKP4sxaRf",
    "outputId": "3e0e5b72-01a7-464b-ea2a-2de32920b309"
   },
   "outputs": [
    {
     "name": "stdout",
     "output_type": "stream",
     "text": [
      "Defaulting to user installation because normal site-packages is not writeable\n",
      "Requirement already satisfied: pipe in c:\\users\\felix\\appdata\\roaming\\python\\python39\\site-packages (2.0)\n"
     ]
    }
   ],
   "source": [
    "import numpy as np\n",
    "!pip install pipe\n",
    "from pipe import select, where"
   ]
  },
  {
   "cell_type": "code",
   "execution_count": 2,
   "metadata": {
    "colab": {
     "base_uri": "https://localhost:8080/"
    },
    "executionInfo": {
     "elapsed": 14,
     "status": "ok",
     "timestamp": 1644671049856,
     "user": {
      "displayName": "Ergun Simsek",
      "photoUrl": "https://lh3.googleusercontent.com/a-/AOh14Gg-wjHaTCL8nW1-WBjkR0PKajXbyfc3UgfX4HpB=s64",
      "userId": "16739529127101354422"
     },
     "user_tz": 300
    },
    "id": "e_UYOgU_btam",
    "outputId": "b0cd7fc1-fcd9-41e7-a4a1-cbe1d2d37f38"
   },
   "outputs": [
    {
     "name": "stdout",
     "output_type": "stream",
     "text": [
      "[[10  1  7  9]\n",
      " [ 9  4  7  1]\n",
      " [ 9  8  7  5]\n",
      " [ 7  5  8  5]\n",
      " [ 1  9  5  8]\n",
      " [ 6  9  8  2]]\n"
     ]
    }
   ],
   "source": [
    "# step-1\n",
    "A = np.random.randint(1,11,24).reshape(6,4)\n",
    "print(A)"
   ]
  },
  {
   "cell_type": "code",
   "execution_count": 3,
   "metadata": {
    "colab": {
     "base_uri": "https://localhost:8080/"
    },
    "executionInfo": {
     "elapsed": 14,
     "status": "ok",
     "timestamp": 1644671049857,
     "user": {
      "displayName": "Ergun Simsek",
      "photoUrl": "https://lh3.googleusercontent.com/a-/AOh14Gg-wjHaTCL8nW1-WBjkR0PKajXbyfc3UgfX4HpB=s64",
      "userId": "16739529127101354422"
     },
     "user_tz": 300
    },
    "id": "ytC8pdnBgh7P",
    "outputId": "c5eddb40-8e0d-4a2e-c980-0512baf5f6a9"
   },
   "outputs": [
    {
     "name": "stdout",
     "output_type": "stream",
     "text": [
      "[[100   1  70  90]\n",
      " [ 90   4  70   1]\n",
      " [ 90  80  70   5]\n",
      " [ 70   5  80   5]\n",
      " [  1  90   5  80]\n",
      " [ 60  90  80   2]]\n"
     ]
    }
   ],
   "source": [
    "# step-2: Method-1: Old-fashion\n",
    "B = np.copy(A)\n",
    "for i in range(len(A)):\n",
    "  for j in range(len(A[0])):\n",
    "    if A[i,j]>5:\n",
    "      B[i,j] = 10*A[i,j] \n",
    "print(B)      "
   ]
  },
  {
   "cell_type": "code",
   "execution_count": 4,
   "metadata": {
    "colab": {
     "base_uri": "https://localhost:8080/"
    },
    "executionInfo": {
     "elapsed": 13,
     "status": "ok",
     "timestamp": 1644671049857,
     "user": {
      "displayName": "Ergun Simsek",
      "photoUrl": "https://lh3.googleusercontent.com/a-/AOh14Gg-wjHaTCL8nW1-WBjkR0PKajXbyfc3UgfX4HpB=s64",
      "userId": "16739529127101354422"
     },
     "user_tz": 300
    },
    "id": "_p5rzKPeeAwp",
    "outputId": "135fc077-79d1-4fa2-d977-9cf82ff7f0e2"
   },
   "outputs": [
    {
     "name": "stdout",
     "output_type": "stream",
     "text": [
      "[[100   1  70  90]\n",
      " [ 90   4  70   1]\n",
      " [ 90  80  70   5]\n",
      " [ 70   5  80   5]\n",
      " [  1  90   5  80]\n",
      " [ 60  90  80   2]]\n"
     ]
    }
   ],
   "source": [
    "# step-2: Method-2: One For Loop\n",
    "inda = np.asarray(np.where(A>5))\n",
    "B = np.copy(A)\n",
    "for i in range(int(inda.size/2)):\n",
    "  B[inda[0,i],inda[1,i]] = 10*A[inda[0,i],inda[1,i]]\n",
    "print(B)  "
   ]
  },
  {
   "cell_type": "code",
   "execution_count": 5,
   "metadata": {
    "colab": {
     "base_uri": "https://localhost:8080/"
    },
    "executionInfo": {
     "elapsed": 12,
     "status": "ok",
     "timestamp": 1644671049857,
     "user": {
      "displayName": "Ergun Simsek",
      "photoUrl": "https://lh3.googleusercontent.com/a-/AOh14Gg-wjHaTCL8nW1-WBjkR0PKajXbyfc3UgfX4HpB=s64",
      "userId": "16739529127101354422"
     },
     "user_tz": 300
    },
    "id": "FbV82_Xv8nEb",
    "outputId": "4f62926f-3a6d-4367-d726-0a07ae8e0e03"
   },
   "outputs": [
    {
     "name": "stdout",
     "output_type": "stream",
     "text": [
      "[[100   1  70  90]\n",
      " [ 90   4  70   1]\n",
      " [ 90  80  70   5]\n",
      " [ 70   5  80   5]\n",
      " [  1  90   5  80]\n",
      " [ 60  90  80   2]]\n"
     ]
    }
   ],
   "source": [
    "# step-2: Method-3: Numpy's Select (https://numpy.org/doc/stable/reference/generated/numpy.select.html)\n",
    "B = np.select([A<=5, A>5], [A, A*10])\n",
    "print(B)"
   ]
  },
  {
   "cell_type": "code",
   "execution_count": 6,
   "metadata": {
    "colab": {
     "base_uri": "https://localhost:8080/"
    },
    "executionInfo": {
     "elapsed": 6,
     "status": "ok",
     "timestamp": 1644671050050,
     "user": {
      "displayName": "Ergun Simsek",
      "photoUrl": "https://lh3.googleusercontent.com/a-/AOh14Gg-wjHaTCL8nW1-WBjkR0PKajXbyfc3UgfX4HpB=s64",
      "userId": "16739529127101354422"
     },
     "user_tz": 300
    },
    "id": "KxLkVXw9g-0h",
    "outputId": "b5ed3b9d-fc25-4476-ce94-4742a1158243"
   },
   "outputs": [
    {
     "name": "stdout",
     "output_type": "stream",
     "text": [
      "[[100   1  70  90]\n",
      " [ 90   4  70   1]\n",
      " [ 90  80  70   5]\n",
      " [ 70   5  80   5]\n",
      " [  1  90   5  80]\n",
      " [ 60  90  80   2]]\n"
     ]
    }
   ],
   "source": [
    "# step-2: Method-4: Proper use of \"where\"\n",
    "B = A.copy()\n",
    "ind1, ind2 = np.where(A>5.0)\n",
    "B[ind1,ind2] = B[ind1,ind2]*10\n",
    "print(B)"
   ]
  },
  {
   "cell_type": "code",
   "execution_count": 7,
   "metadata": {
    "colab": {
     "base_uri": "https://localhost:8080/"
    },
    "executionInfo": {
     "elapsed": 5,
     "status": "ok",
     "timestamp": 1644671050050,
     "user": {
      "displayName": "Ergun Simsek",
      "photoUrl": "https://lh3.googleusercontent.com/a-/AOh14Gg-wjHaTCL8nW1-WBjkR0PKajXbyfc3UgfX4HpB=s64",
      "userId": "16739529127101354422"
     },
     "user_tz": 300
    },
    "id": "lNZNrmGwb7D6",
    "outputId": "61ac4b66-430b-4469-c3c2-e3aa65138049"
   },
   "outputs": [
    {
     "name": "stdout",
     "output_type": "stream",
     "text": [
      "[[100   1  70  90]\n",
      " [ 90   4  70   1]\n",
      " [ 90  80  70   5]\n",
      " [ 70   5  80   5]\n",
      " [  1  90   5  80]\n",
      " [ 60  90  80   2]]\n"
     ]
    }
   ],
   "source": [
    "# step-2 Method-5 (Pipe + Lambda)\n",
    "B = np.array(list(A.flatten().tolist()| select(lambda x: 10*x if x>5 else x))).reshape(6,4)\n",
    "print(B)"
   ]
  },
  {
   "cell_type": "code",
   "execution_count": 8,
   "metadata": {
    "colab": {
     "base_uri": "https://localhost:8080/"
    },
    "executionInfo": {
     "elapsed": 4,
     "status": "ok",
     "timestamp": 1644671050050,
     "user": {
      "displayName": "Ergun Simsek",
      "photoUrl": "https://lh3.googleusercontent.com/a-/AOh14Gg-wjHaTCL8nW1-WBjkR0PKajXbyfc3UgfX4HpB=s64",
      "userId": "16739529127101354422"
     },
     "user_tz": 300
    },
    "id": "7vrRU7NUfVt-",
    "outputId": "7ea68076-9a7a-47b4-b360-c790af7a3650"
   },
   "outputs": [
    {
     "name": "stdout",
     "output_type": "stream",
     "text": [
      "[[100   1  70  90]\n",
      " [ 90   4  70   1]\n",
      " [ 90  80  70   5]\n",
      " [ 70   5  80   5]\n",
      " [  1  90   5  80]\n",
      " [ 60  90  80   2]]\n"
     ]
    }
   ],
   "source": [
    "# step-2: Method-6: zip-method\n",
    "B = np.array([j*10 if i else j for i,j in \n",
    "               zip((A > 5).flatten(), A.flatten())]).reshape((6,4))\n",
    "print(B)"
   ]
  },
  {
   "cell_type": "code",
   "execution_count": 9,
   "metadata": {
    "colab": {
     "base_uri": "https://localhost:8080/"
    },
    "executionInfo": {
     "elapsed": 3,
     "status": "ok",
     "timestamp": 1644671050050,
     "user": {
      "displayName": "Ergun Simsek",
      "photoUrl": "https://lh3.googleusercontent.com/a-/AOh14Gg-wjHaTCL8nW1-WBjkR0PKajXbyfc3UgfX4HpB=s64",
      "userId": "16739529127101354422"
     },
     "user_tz": 300
    },
    "id": "kkpwWsWM9yRR",
    "outputId": "03463dac-9306-4f9a-db9c-7e04c7069fa0"
   },
   "outputs": [
    {
     "name": "stdout",
     "output_type": "stream",
     "text": [
      "[[100   1  70  90]\n",
      " [ 90   4 -10   1]\n",
      " [ 90  80  70   5]\n",
      " [ 70   5  80   5]\n",
      " [  1  90   5  80]\n",
      " [ 60  90  80   2]]\n"
     ]
    }
   ],
   "source": [
    "# step-3\n",
    "B[1,2] = -10\n",
    "print(B)"
   ]
  },
  {
   "cell_type": "markdown",
   "metadata": {},
   "source": [
    "# Notebook End"
   ]
  },
  {
   "cell_type": "code",
   "execution_count": null,
   "metadata": {},
   "outputs": [],
   "source": []
  },
  {
   "cell_type": "code",
   "execution_count": null,
   "metadata": {},
   "outputs": [],
   "source": []
  },
  {
   "cell_type": "code",
   "execution_count": null,
   "metadata": {},
   "outputs": [],
   "source": []
  }
 ],
 "metadata": {
  "colab": {
   "authorship_tag": "ABX9TyODmH849kp/FbHzg743ofig",
   "collapsed_sections": [],
   "name": "Numpy_Exercise.ipynb",
   "provenance": []
  },
  "kernelspec": {
   "display_name": "Python 3 (ipykernel)",
   "language": "python",
   "name": "python3"
  },
  "language_info": {
   "codemirror_mode": {
    "name": "ipython",
    "version": 3
   },
   "file_extension": ".py",
   "mimetype": "text/x-python",
   "name": "python",
   "nbconvert_exporter": "python",
   "pygments_lexer": "ipython3",
   "version": "3.9.12"
  }
 },
 "nbformat": 4,
 "nbformat_minor": 1
}
