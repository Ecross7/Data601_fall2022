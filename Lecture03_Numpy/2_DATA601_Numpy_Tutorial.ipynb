{
 "cells": [
  {
   "cell_type": "code",
   "execution_count": 1,
   "metadata": {
    "id": "E6AMZ-_UnoaD"
   },
   "outputs": [],
   "source": [
    "# Notebook Package Importing\n",
    "import numpy as np"
   ]
  },
  {
   "cell_type": "markdown",
   "metadata": {
    "id": "FPqOLRTAnoaA"
   },
   "source": [
    "# NUMPY"
   ]
  },
  {
   "cell_type": "markdown",
   "metadata": {
    "id": "Z7Bjddk2noaC"
   },
   "source": [
    " - Numpy provides python with its numerical muscle. \n",
    " - This is your go-to package. \n",
    " - The package is written in C and made to deal with N-dimensional arrays, all basic mathematical operations, linear algebra operations, et cetera. \n",
    " - We will not be going through all of the power of this module. For more \n",
    " https://numpy.org/doc/stable/reference/index.html"
   ]
  },
  {
   "cell_type": "markdown",
   "metadata": {
    "id": "Cpo0qEqynoaD"
   },
   "source": [
    "Numpy arrays are the base object containing a variety of powerful methods. <br>\n",
    "Making a Numpy array is easy:\n"
   ]
  },
  {
   "cell_type": "code",
   "execution_count": 2,
   "metadata": {
    "id": "cM1ZfQqXnoaE"
   },
   "outputs": [],
   "source": [
    "array1 = np.array([1,2,3])"
   ]
  },
  {
   "cell_type": "markdown",
   "metadata": {
    "id": "XDt4HtvZnoaE"
   },
   "source": [
    "Note that it is np.array([1,2,3]) <br>\n",
    "not np.array[1, 2, 3]"
   ]
  },
  {
   "cell_type": "code",
   "execution_count": 3,
   "metadata": {
    "id": "y7sCGXzknoaE"
   },
   "outputs": [],
   "source": [
    "# You can convert Lists to NP Arrays\n",
    "# and believe me, you will convert lots of lists to NP arrays\n",
    "list1 = [1.0, 2.0, 3.0]"
   ]
  },
  {
   "cell_type": "code",
   "execution_count": 4,
   "metadata": {
    "id": "-eSBoRzZnoaF"
   },
   "outputs": [],
   "source": [
    "array2 = np.array(list1)"
   ]
  },
  {
   "cell_type": "markdown",
   "metadata": {
    "id": "m6W8t7--noaF"
   },
   "source": [
    "All data in a Numpy array must be of a single data type (dtype). <br>\n",
    "Numpy has a large number of possible data types:\n",
    "\n",
    "- np.str ==> string\n",
    "- np.bool ==> boolean (i.e., True|False)\n",
    "- np.int ==> integer\n",
    "- np.float ==> floating point\n",
    "- np.complex ==> complex (i.e., 1+1j)"
   ]
  },
  {
   "cell_type": "code",
   "execution_count": 5,
   "metadata": {
    "id": "MqNLZJYMnoaG"
   },
   "outputs": [],
   "source": [
    "# currently, array1 is an integer array\n",
    "# if we want to convert that integer array into a float array, \n",
    "# we need to use an associated function (with an underscore). For example\n",
    "array3 = np.float_(array1)"
   ]
  },
  {
   "cell_type": "code",
   "execution_count": 6,
   "metadata": {
    "colab": {
     "base_uri": "https://localhost:8080/"
    },
    "executionInfo": {
     "elapsed": 40,
     "status": "ok",
     "timestamp": 1644606434794,
     "user": {
      "displayName": "Ergun Simsek",
      "photoUrl": "https://lh3.googleusercontent.com/a-/AOh14Gg-wjHaTCL8nW1-WBjkR0PKajXbyfc3UgfX4HpB=s64",
      "userId": "16739529127101354422"
     },
     "user_tz": 300
    },
    "id": "OE-TRuC_noaG",
    "outputId": "589ee813-7810-4ff5-ce33-45c1f1e94ec0"
   },
   "outputs": [
    {
     "name": "stdout",
     "output_type": "stream",
     "text": [
      "[1 2 3]\n",
      "[1. 2. 3.]\n"
     ]
    }
   ],
   "source": [
    "print(array1)\n",
    "print(array3)"
   ]
  },
  {
   "cell_type": "markdown",
   "metadata": {
    "id": "TOA3eoZynoaH"
   },
   "source": [
    "## Multidimensionality"
   ]
  },
  {
   "cell_type": "markdown",
   "metadata": {
    "id": "ddxNdviinoaH"
   },
   "source": [
    "Numpy arrays can be N-dimensional, which is of particular use with tables of data (i.e. 2-D)"
   ]
  },
  {
   "cell_type": "code",
   "execution_count": 7,
   "metadata": {
    "colab": {
     "base_uri": "https://localhost:8080/"
    },
    "executionInfo": {
     "elapsed": 37,
     "status": "ok",
     "timestamp": 1644606434795,
     "user": {
      "displayName": "Ergun Simsek",
      "photoUrl": "https://lh3.googleusercontent.com/a-/AOh14Gg-wjHaTCL8nW1-WBjkR0PKajXbyfc3UgfX4HpB=s64",
      "userId": "16739529127101354422"
     },
     "user_tz": 300
    },
    "id": "rcHSleGBnoaH",
    "outputId": "a9f3547e-7d3a-463a-bf7e-f10cb70c5fe0"
   },
   "outputs": [
    {
     "name": "stdout",
     "output_type": "stream",
     "text": [
      "[[1 2]\n",
      " [3 4]\n",
      " [5 6]]\n"
     ]
    }
   ],
   "source": [
    "# Creating a 3x2 Array:\n",
    "array4 = np.array( [[1, 2], [3, 4], [5, 6]])\n",
    "print(array4)"
   ]
  },
  {
   "cell_type": "code",
   "execution_count": 8,
   "metadata": {
    "colab": {
     "base_uri": "https://localhost:8080/"
    },
    "executionInfo": {
     "elapsed": 30,
     "status": "ok",
     "timestamp": 1644606434796,
     "user": {
      "displayName": "Ergun Simsek",
      "photoUrl": "https://lh3.googleusercontent.com/a-/AOh14Gg-wjHaTCL8nW1-WBjkR0PKajXbyfc3UgfX4HpB=s64",
      "userId": "16739529127101354422"
     },
     "user_tz": 300
    },
    "id": "XidqT6c7noaH",
    "outputId": "9af972c2-39eb-4bab-ec53-11b7bd503b6e"
   },
   "outputs": [
    {
     "data": {
      "text/plain": [
       "(3, 2)"
      ]
     },
     "execution_count": 8,
     "metadata": {},
     "output_type": "execute_result"
    }
   ],
   "source": [
    "array4.shape"
   ]
  },
  {
   "cell_type": "code",
   "execution_count": 9,
   "metadata": {
    "colab": {
     "base_uri": "https://localhost:8080/"
    },
    "executionInfo": {
     "elapsed": 22,
     "status": "ok",
     "timestamp": 1644606434796,
     "user": {
      "displayName": "Ergun Simsek",
      "photoUrl": "https://lh3.googleusercontent.com/a-/AOh14Gg-wjHaTCL8nW1-WBjkR0PKajXbyfc3UgfX4HpB=s64",
      "userId": "16739529127101354422"
     },
     "user_tz": 300
    },
    "id": "Olf1lLxZnoaI",
    "outputId": "94f12716-a608-404a-ec76-c8d11e3bd20a"
   },
   "outputs": [
    {
     "data": {
      "text/plain": [
       "6"
      ]
     },
     "execution_count": 9,
     "metadata": {},
     "output_type": "execute_result"
    }
   ],
   "source": [
    "array4.size"
   ]
  },
  {
   "cell_type": "code",
   "execution_count": 10,
   "metadata": {
    "colab": {
     "base_uri": "https://localhost:8080/"
    },
    "executionInfo": {
     "elapsed": 19,
     "status": "ok",
     "timestamp": 1644606434797,
     "user": {
      "displayName": "Ergun Simsek",
      "photoUrl": "https://lh3.googleusercontent.com/a-/AOh14Gg-wjHaTCL8nW1-WBjkR0PKajXbyfc3UgfX4HpB=s64",
      "userId": "16739529127101354422"
     },
     "user_tz": 300
    },
    "id": "3nnGbqgInoaI",
    "outputId": "15afddd0-739d-4b87-cf40-14a1d8f52fbc"
   },
   "outputs": [
    {
     "data": {
      "text/plain": [
       "array([2, 4, 6])"
      ]
     },
     "execution_count": 10,
     "metadata": {},
     "output_type": "execute_result"
    }
   ],
   "source": [
    "array4[:,1]"
   ]
  },
  {
   "cell_type": "code",
   "execution_count": 11,
   "metadata": {
    "colab": {
     "base_uri": "https://localhost:8080/"
    },
    "executionInfo": {
     "elapsed": 219,
     "status": "ok",
     "timestamp": 1644606435000,
     "user": {
      "displayName": "Ergun Simsek",
      "photoUrl": "https://lh3.googleusercontent.com/a-/AOh14Gg-wjHaTCL8nW1-WBjkR0PKajXbyfc3UgfX4HpB=s64",
      "userId": "16739529127101354422"
     },
     "user_tz": 300
    },
    "id": "ewCqbkPDnoaI",
    "outputId": "1c8b391f-fe03-4e0d-914d-47d79b5c925d"
   },
   "outputs": [
    {
     "data": {
      "text/plain": [
       "array([3, 4])"
      ]
     },
     "execution_count": 11,
     "metadata": {},
     "output_type": "execute_result"
    }
   ],
   "source": [
    "array4[1,:]"
   ]
  },
  {
   "cell_type": "code",
   "execution_count": 12,
   "metadata": {
    "colab": {
     "base_uri": "https://localhost:8080/"
    },
    "executionInfo": {
     "elapsed": 44,
     "status": "ok",
     "timestamp": 1644606435001,
     "user": {
      "displayName": "Ergun Simsek",
      "photoUrl": "https://lh3.googleusercontent.com/a-/AOh14Gg-wjHaTCL8nW1-WBjkR0PKajXbyfc3UgfX4HpB=s64",
      "userId": "16739529127101354422"
     },
     "user_tz": 300
    },
    "id": "43yliD7PnoaI",
    "outputId": "f308ac50-dbb0-4566-e83f-42b93f24bbbb"
   },
   "outputs": [
    {
     "data": {
      "text/plain": [
       "array([1, 2, 3, 4, 5, 6])"
      ]
     },
     "execution_count": 12,
     "metadata": {},
     "output_type": "execute_result"
    }
   ],
   "source": [
    "array4.flatten()"
   ]
  },
  {
   "cell_type": "code",
   "execution_count": 13,
   "metadata": {
    "colab": {
     "base_uri": "https://localhost:8080/"
    },
    "executionInfo": {
     "elapsed": 41,
     "status": "ok",
     "timestamp": 1644606435002,
     "user": {
      "displayName": "Ergun Simsek",
      "photoUrl": "https://lh3.googleusercontent.com/a-/AOh14Gg-wjHaTCL8nW1-WBjkR0PKajXbyfc3UgfX4HpB=s64",
      "userId": "16739529127101354422"
     },
     "user_tz": 300
    },
    "id": "EY4hgE7mnoaI",
    "outputId": "e6930c6a-7726-4d11-d8f0-85befd597487"
   },
   "outputs": [
    {
     "data": {
      "text/plain": [
       "array([[1, 2, 3],\n",
       "       [4, 5, 6]])"
      ]
     },
     "execution_count": 13,
     "metadata": {},
     "output_type": "execute_result"
    }
   ],
   "source": [
    "array4.reshape((2,3))"
   ]
  },
  {
   "cell_type": "code",
   "execution_count": 14,
   "metadata": {
    "colab": {
     "base_uri": "https://localhost:8080/"
    },
    "executionInfo": {
     "elapsed": 38,
     "status": "ok",
     "timestamp": 1644606435002,
     "user": {
      "displayName": "Ergun Simsek",
      "photoUrl": "https://lh3.googleusercontent.com/a-/AOh14Gg-wjHaTCL8nW1-WBjkR0PKajXbyfc3UgfX4HpB=s64",
      "userId": "16739529127101354422"
     },
     "user_tz": 300
    },
    "id": "5x1SG10jnoaJ",
    "outputId": "cad0f590-c885-4163-910f-bbadbbff2bfc"
   },
   "outputs": [
    {
     "data": {
      "text/plain": [
       "array([[1],\n",
       "       [2],\n",
       "       [3],\n",
       "       [4],\n",
       "       [5],\n",
       "       [6]])"
      ]
     },
     "execution_count": 14,
     "metadata": {},
     "output_type": "execute_result"
    }
   ],
   "source": [
    "array4.reshape((-1,1))"
   ]
  },
  {
   "cell_type": "markdown",
   "metadata": {
    "id": "oOP7Cq3JnoaJ"
   },
   "source": [
    "# Special Array Creation Functions"
   ]
  },
  {
   "cell_type": "code",
   "execution_count": 15,
   "metadata": {
    "colab": {
     "base_uri": "https://localhost:8080/"
    },
    "executionInfo": {
     "elapsed": 36,
     "status": "ok",
     "timestamp": 1644606435003,
     "user": {
      "displayName": "Ergun Simsek",
      "photoUrl": "https://lh3.googleusercontent.com/a-/AOh14Gg-wjHaTCL8nW1-WBjkR0PKajXbyfc3UgfX4HpB=s64",
      "userId": "16739529127101354422"
     },
     "user_tz": 300
    },
    "id": "d3xS_OwknoaJ",
    "outputId": "b2e8a90c-da2c-4b61-83a8-6b3b03c3f678"
   },
   "outputs": [
    {
     "name": "stdout",
     "output_type": "stream",
     "text": [
      "[0 1 2 3 4 5 6 7 8 9]\n"
     ]
    }
   ],
   "source": [
    "array5 = np.arange(10)\n",
    "print(array5)"
   ]
  },
  {
   "cell_type": "code",
   "execution_count": 16,
   "metadata": {
    "colab": {
     "base_uri": "https://localhost:8080/"
    },
    "executionInfo": {
     "elapsed": 32,
     "status": "ok",
     "timestamp": 1644606435003,
     "user": {
      "displayName": "Ergun Simsek",
      "photoUrl": "https://lh3.googleusercontent.com/a-/AOh14Gg-wjHaTCL8nW1-WBjkR0PKajXbyfc3UgfX4HpB=s64",
      "userId": "16739529127101354422"
     },
     "user_tz": 300
    },
    "id": "R3QKUnnYnoaJ",
    "outputId": "32d92a0c-7ec0-40a5-ad9f-1866276640ad"
   },
   "outputs": [
    {
     "name": "stdout",
     "output_type": "stream",
     "text": [
      "[ 0  5 10 15 20 25 30 35 40 45 50]\n"
     ]
    }
   ],
   "source": [
    "array6 = np.arange(0,51,5)\n",
    "print(array6)"
   ]
  },
  {
   "cell_type": "code",
   "execution_count": 17,
   "metadata": {
    "colab": {
     "base_uri": "https://localhost:8080/"
    },
    "executionInfo": {
     "elapsed": 29,
     "status": "ok",
     "timestamp": 1644606435004,
     "user": {
      "displayName": "Ergun Simsek",
      "photoUrl": "https://lh3.googleusercontent.com/a-/AOh14Gg-wjHaTCL8nW1-WBjkR0PKajXbyfc3UgfX4HpB=s64",
      "userId": "16739529127101354422"
     },
     "user_tz": 300
    },
    "id": "LHt4SfQOnoaJ",
    "outputId": "88dda6da-2e78-4f36-e989-78f3e6eeecc3"
   },
   "outputs": [
    {
     "name": "stdout",
     "output_type": "stream",
     "text": [
      "[1. 1. 1. 1. 1. 1. 1. 1. 1. 1.]\n"
     ]
    }
   ],
   "source": [
    "array7 = np.ones(10)\n",
    "print(array7)"
   ]
  },
  {
   "cell_type": "code",
   "execution_count": 18,
   "metadata": {
    "colab": {
     "base_uri": "https://localhost:8080/"
    },
    "executionInfo": {
     "elapsed": 27,
     "status": "ok",
     "timestamp": 1644606435006,
     "user": {
      "displayName": "Ergun Simsek",
      "photoUrl": "https://lh3.googleusercontent.com/a-/AOh14Gg-wjHaTCL8nW1-WBjkR0PKajXbyfc3UgfX4HpB=s64",
      "userId": "16739529127101354422"
     },
     "user_tz": 300
    },
    "id": "nzk3wIgDnoaK",
    "outputId": "6f85e6ec-8ec5-4f09-ebb3-9686e51736a8"
   },
   "outputs": [
    {
     "name": "stdout",
     "output_type": "stream",
     "text": [
      "[[0. 0. 0. 0. 0.]\n",
      " [0. 0. 0. 0. 0.]\n",
      " [0. 0. 0. 0. 0.]]\n"
     ]
    }
   ],
   "source": [
    "array8 = np.zeros((3,5))\n",
    "print(array8)"
   ]
  },
  {
   "cell_type": "code",
   "execution_count": 19,
   "metadata": {
    "colab": {
     "base_uri": "https://localhost:8080/"
    },
    "executionInfo": {
     "elapsed": 25,
     "status": "ok",
     "timestamp": 1644606435007,
     "user": {
      "displayName": "Ergun Simsek",
      "photoUrl": "https://lh3.googleusercontent.com/a-/AOh14Gg-wjHaTCL8nW1-WBjkR0PKajXbyfc3UgfX4HpB=s64",
      "userId": "16739529127101354422"
     },
     "user_tz": 300
    },
    "id": "G4SLhf8InoaK",
    "outputId": "7dbd9d29-1a03-437f-8764-6fc470c9b9b6"
   },
   "outputs": [
    {
     "name": "stdout",
     "output_type": "stream",
     "text": [
      "[[1. 0. 0. 0. 0. 0.]\n",
      " [0. 1. 0. 0. 0. 0.]\n",
      " [0. 0. 1. 0. 0. 0.]\n",
      " [0. 0. 0. 1. 0. 0.]\n",
      " [0. 0. 0. 0. 1. 0.]\n",
      " [0. 0. 0. 0. 0. 1.]]\n"
     ]
    }
   ],
   "source": [
    "array9 = np.identity(6)\n",
    "print(array9)"
   ]
  },
  {
   "cell_type": "markdown",
   "metadata": {
    "id": "Aqpj0UyXnoaK"
   },
   "source": [
    "## Some Built-in Numpy Functionality"
   ]
  },
  {
   "cell_type": "code",
   "execution_count": 20,
   "metadata": {
    "colab": {
     "base_uri": "https://localhost:8080/"
    },
    "executionInfo": {
     "elapsed": 22,
     "status": "ok",
     "timestamp": 1644606435007,
     "user": {
      "displayName": "Ergun Simsek",
      "photoUrl": "https://lh3.googleusercontent.com/a-/AOh14Gg-wjHaTCL8nW1-WBjkR0PKajXbyfc3UgfX4HpB=s64",
      "userId": "16739529127101354422"
     },
     "user_tz": 300
    },
    "id": "6uA52_yfnoaK",
    "outputId": "4d970da5-40ff-4a2f-c183-7134c080d99a"
   },
   "outputs": [
    {
     "data": {
      "text/plain": [
       "array([[0, 1, 2],\n",
       "       [3, 4, 5],\n",
       "       [6, 7, 8]])"
      ]
     },
     "execution_count": 20,
     "metadata": {},
     "output_type": "execute_result"
    }
   ],
   "source": [
    "np.arange(9).reshape((3,3))"
   ]
  },
  {
   "cell_type": "code",
   "execution_count": 21,
   "metadata": {
    "colab": {
     "base_uri": "https://localhost:8080/"
    },
    "executionInfo": {
     "elapsed": 19,
     "status": "ok",
     "timestamp": 1644606435008,
     "user": {
      "displayName": "Ergun Simsek",
      "photoUrl": "https://lh3.googleusercontent.com/a-/AOh14Gg-wjHaTCL8nW1-WBjkR0PKajXbyfc3UgfX4HpB=s64",
      "userId": "16739529127101354422"
     },
     "user_tz": 300
    },
    "id": "6g0e1yxjIozc",
    "outputId": "1af27cdd-9f35-4727-ea7a-bd4d0e97bb66"
   },
   "outputs": [
    {
     "data": {
      "text/plain": [
       "array([ 0,  5, 10, 15, 20, 25, 30, 35, 40, 45, 50])"
      ]
     },
     "execution_count": 21,
     "metadata": {},
     "output_type": "execute_result"
    }
   ],
   "source": [
    "array6"
   ]
  },
  {
   "cell_type": "code",
   "execution_count": 22,
   "metadata": {
    "colab": {
     "base_uri": "https://localhost:8080/"
    },
    "executionInfo": {
     "elapsed": 171,
     "status": "ok",
     "timestamp": 1644606435164,
     "user": {
      "displayName": "Ergun Simsek",
      "photoUrl": "https://lh3.googleusercontent.com/a-/AOh14Gg-wjHaTCL8nW1-WBjkR0PKajXbyfc3UgfX4HpB=s64",
      "userId": "16739529127101354422"
     },
     "user_tz": 300
    },
    "id": "TjrdpA11noaK",
    "outputId": "d0e3b872-29ca-4c29-e633-2f7b26ea3bbf"
   },
   "outputs": [
    {
     "data": {
      "text/plain": [
       "(0, 50)"
      ]
     },
     "execution_count": 22,
     "metadata": {},
     "output_type": "execute_result"
    }
   ],
   "source": [
    "array6.min(), array6.max()"
   ]
  },
  {
   "cell_type": "code",
   "execution_count": 23,
   "metadata": {
    "colab": {
     "base_uri": "https://localhost:8080/"
    },
    "executionInfo": {
     "elapsed": 21,
     "status": "ok",
     "timestamp": 1644606435170,
     "user": {
      "displayName": "Ergun Simsek",
      "photoUrl": "https://lh3.googleusercontent.com/a-/AOh14Gg-wjHaTCL8nW1-WBjkR0PKajXbyfc3UgfX4HpB=s64",
      "userId": "16739529127101354422"
     },
     "user_tz": 300
    },
    "id": "6kJPal_cnoaK",
    "outputId": "1d56be69-caad-4083-ba58-043ac75dede0"
   },
   "outputs": [
    {
     "data": {
      "text/plain": [
       "(5.0, 45.0, 362880.0)"
      ]
     },
     "execution_count": 23,
     "metadata": {},
     "output_type": "execute_result"
    }
   ],
   "source": [
    "array1 = np.arange(1,10,1.0)\n",
    "array1.mean(), array1.sum(), array1.prod()"
   ]
  },
  {
   "cell_type": "code",
   "execution_count": 24,
   "metadata": {
    "colab": {
     "base_uri": "https://localhost:8080/"
    },
    "executionInfo": {
     "elapsed": 19,
     "status": "ok",
     "timestamp": 1644606435170,
     "user": {
      "displayName": "Ergun Simsek",
      "photoUrl": "https://lh3.googleusercontent.com/a-/AOh14Gg-wjHaTCL8nW1-WBjkR0PKajXbyfc3UgfX4HpB=s64",
      "userId": "16739529127101354422"
     },
     "user_tz": 300
    },
    "id": "--4DFO0LnoaK",
    "outputId": "5c803d77-12dc-4030-cb27-cf2e86b104ba"
   },
   "outputs": [
    {
     "name": "stdout",
     "output_type": "stream",
     "text": [
      "[[7 1 3]\n",
      " [2 4 5]\n",
      " [1 5 1]\n",
      " [3 3 5]]\n"
     ]
    }
   ],
   "source": [
    "array10 = np.random.randint(1,10,12).reshape((4,3))\n",
    "print(array10)"
   ]
  },
  {
   "cell_type": "code",
   "execution_count": 25,
   "metadata": {
    "colab": {
     "base_uri": "https://localhost:8080/"
    },
    "executionInfo": {
     "elapsed": 17,
     "status": "ok",
     "timestamp": 1644606435171,
     "user": {
      "displayName": "Ergun Simsek",
      "photoUrl": "https://lh3.googleusercontent.com/a-/AOh14Gg-wjHaTCL8nW1-WBjkR0PKajXbyfc3UgfX4HpB=s64",
      "userId": "16739529127101354422"
     },
     "user_tz": 300
    },
    "id": "hsft2c0AJbva",
    "outputId": "896fa4d9-98cf-476e-b724-f779debea1a6"
   },
   "outputs": [
    {
     "data": {
      "text/plain": [
       "3.3333333333333335"
      ]
     },
     "execution_count": 25,
     "metadata": {},
     "output_type": "execute_result"
    }
   ],
   "source": [
    "array10.mean()"
   ]
  },
  {
   "cell_type": "code",
   "execution_count": 26,
   "metadata": {
    "colab": {
     "base_uri": "https://localhost:8080/"
    },
    "executionInfo": {
     "elapsed": 14,
     "status": "ok",
     "timestamp": 1644606435171,
     "user": {
      "displayName": "Ergun Simsek",
      "photoUrl": "https://lh3.googleusercontent.com/a-/AOh14Gg-wjHaTCL8nW1-WBjkR0PKajXbyfc3UgfX4HpB=s64",
      "userId": "16739529127101354422"
     },
     "user_tz": 300
    },
    "id": "FzW5pl6dnoaK",
    "outputId": "ef72a1f2-2a20-4233-c88b-12f0988a42f0"
   },
   "outputs": [
    {
     "data": {
      "text/plain": [
       "array([3.25, 3.25, 3.5 ])"
      ]
     },
     "execution_count": 26,
     "metadata": {},
     "output_type": "execute_result"
    }
   ],
   "source": [
    "# average of each column\n",
    "array10.mean(axis=0)"
   ]
  },
  {
   "cell_type": "code",
   "execution_count": 27,
   "metadata": {
    "id": "wDcXrgUdnoaL"
   },
   "outputs": [
    {
     "data": {
      "text/plain": [
       "array([3.66666667, 3.66666667, 2.33333333, 3.66666667])"
      ]
     },
     "execution_count": 27,
     "metadata": {},
     "output_type": "execute_result"
    }
   ],
   "source": [
    "# average of each row\n",
    "array10.mean(axis=1)"
   ]
  },
  {
   "cell_type": "code",
   "execution_count": 28,
   "metadata": {},
   "outputs": [
    {
     "data": {
      "text/plain": [
       "3.3333333333333335"
      ]
     },
     "execution_count": 28,
     "metadata": {},
     "output_type": "execute_result"
    }
   ],
   "source": [
    "# Average of column and rows.\n",
    "array10.mean(axis=(0,1))"
   ]
  },
  {
   "cell_type": "code",
   "execution_count": 29,
   "metadata": {
    "colab": {
     "base_uri": "https://localhost:8080/"
    },
    "executionInfo": {
     "elapsed": 4,
     "status": "ok",
     "timestamp": 1644606449672,
     "user": {
      "displayName": "Ergun Simsek",
      "photoUrl": "https://lh3.googleusercontent.com/a-/AOh14Gg-wjHaTCL8nW1-WBjkR0PKajXbyfc3UgfX4HpB=s64",
      "userId": "16739529127101354422"
     },
     "user_tz": 300
    },
    "id": "NwOWlEWBnoaL",
    "outputId": "c0fbb728-b282-476f-ab15-a19eb83a488b"
   },
   "outputs": [
    {
     "data": {
      "text/plain": [
       "array([13, 13, 14])"
      ]
     },
     "execution_count": 29,
     "metadata": {},
     "output_type": "execute_result"
    }
   ],
   "source": [
    "# sum of columns\n",
    "array10.sum(axis=0)"
   ]
  },
  {
   "cell_type": "code",
   "execution_count": 30,
   "metadata": {
    "colab": {
     "base_uri": "https://localhost:8080/"
    },
    "executionInfo": {
     "elapsed": 149,
     "status": "ok",
     "timestamp": 1644606451371,
     "user": {
      "displayName": "Ergun Simsek",
      "photoUrl": "https://lh3.googleusercontent.com/a-/AOh14Gg-wjHaTCL8nW1-WBjkR0PKajXbyfc3UgfX4HpB=s64",
      "userId": "16739529127101354422"
     },
     "user_tz": 300
    },
    "id": "gnvQNpwJnoaL",
    "outputId": "7459af65-9b51-40d2-dd92-f918e7802582"
   },
   "outputs": [
    {
     "data": {
      "text/plain": [
       "array([11, 11,  7, 11])"
      ]
     },
     "execution_count": 30,
     "metadata": {},
     "output_type": "execute_result"
    }
   ],
   "source": [
    "# sum of rows\n",
    "array10.sum(axis=1)"
   ]
  },
  {
   "cell_type": "code",
   "execution_count": 31,
   "metadata": {
    "colab": {
     "base_uri": "https://localhost:8080/"
    },
    "executionInfo": {
     "elapsed": 126,
     "status": "ok",
     "timestamp": 1644606477484,
     "user": {
      "displayName": "Ergun Simsek",
      "photoUrl": "https://lh3.googleusercontent.com/a-/AOh14Gg-wjHaTCL8nW1-WBjkR0PKajXbyfc3UgfX4HpB=s64",
      "userId": "16739529127101354422"
     },
     "user_tz": 300
    },
    "id": "cXlUnAIvnoaL",
    "outputId": "63628a4b-b4e3-4719-8ae6-7774265e42e5"
   },
   "outputs": [
    {
     "name": "stdout",
     "output_type": "stream",
     "text": [
      "[[7 1 3]\n",
      " [2 4 5]\n",
      " [1 5 1]\n",
      " [3 3 5]]\n"
     ]
    }
   ],
   "source": [
    "print(array10)"
   ]
  },
  {
   "cell_type": "code",
   "execution_count": 32,
   "metadata": {
    "colab": {
     "base_uri": "https://localhost:8080/"
    },
    "executionInfo": {
     "elapsed": 177,
     "status": "ok",
     "timestamp": 1644606480598,
     "user": {
      "displayName": "Ergun Simsek",
      "photoUrl": "https://lh3.googleusercontent.com/a-/AOh14Gg-wjHaTCL8nW1-WBjkR0PKajXbyfc3UgfX4HpB=s64",
      "userId": "16739529127101354422"
     },
     "user_tz": 300
    },
    "id": "DTpEqC_SnoaL",
    "outputId": "db345b6f-de47-447a-a0fb-9efa1eaca42b"
   },
   "outputs": [
    {
     "data": {
      "text/plain": [
       "array([[7, 2, 1, 3],\n",
       "       [1, 4, 5, 3],\n",
       "       [3, 5, 1, 5]])"
      ]
     },
     "execution_count": 32,
     "metadata": {},
     "output_type": "execute_result"
    }
   ],
   "source": [
    "array10.transpose()"
   ]
  },
  {
   "cell_type": "code",
   "execution_count": 33,
   "metadata": {
    "colab": {
     "base_uri": "https://localhost:8080/"
    },
    "executionInfo": {
     "elapsed": 148,
     "status": "ok",
     "timestamp": 1644606484923,
     "user": {
      "displayName": "Ergun Simsek",
      "photoUrl": "https://lh3.googleusercontent.com/a-/AOh14Gg-wjHaTCL8nW1-WBjkR0PKajXbyfc3UgfX4HpB=s64",
      "userId": "16739529127101354422"
     },
     "user_tz": 300
    },
    "id": "8NCe8GfcnoaL",
    "outputId": "35384b1a-8211-4511-ea2c-57ea02269a23"
   },
   "outputs": [
    {
     "data": {
      "text/plain": [
       "array([[7, 2, 1, 3],\n",
       "       [1, 4, 5, 3],\n",
       "       [3, 5, 1, 5]])"
      ]
     },
     "execution_count": 33,
     "metadata": {},
     "output_type": "execute_result"
    }
   ],
   "source": [
    "# another method of transposing\n",
    "array10.T"
   ]
  },
  {
   "cell_type": "code",
   "execution_count": 34,
   "metadata": {
    "id": "lqo7OyTvnoaL"
   },
   "outputs": [
    {
     "data": {
      "text/plain": [
       "array([[7, 2, 1, 3],\n",
       "       [1, 4, 5, 3],\n",
       "       [3, 5, 1, 5]])"
      ]
     },
     "execution_count": 34,
     "metadata": {},
     "output_type": "execute_result"
    }
   ],
   "source": [
    "# and yet another method of transposing\n",
    "array10.swapaxes(0, 1)"
   ]
  },
  {
   "cell_type": "code",
   "execution_count": 35,
   "metadata": {
    "id": "G4GkPuBinoaL"
   },
   "outputs": [],
   "source": [
    "# # RESHAPING"
   ]
  },
  {
   "cell_type": "code",
   "execution_count": 36,
   "metadata": {
    "colab": {
     "base_uri": "https://localhost:8080/"
    },
    "executionInfo": {
     "elapsed": 162,
     "status": "ok",
     "timestamp": 1644606579738,
     "user": {
      "displayName": "Ergun Simsek",
      "photoUrl": "https://lh3.googleusercontent.com/a-/AOh14Gg-wjHaTCL8nW1-WBjkR0PKajXbyfc3UgfX4HpB=s64",
      "userId": "16739529127101354422"
     },
     "user_tz": 300
    },
    "id": "sPWAb6ZxnoaM",
    "outputId": "89ab5af0-16b1-489f-fc0d-74529ede404b"
   },
   "outputs": [
    {
     "data": {
      "text/plain": [
       "array([[ 0,  1,  2,  3,  4,  5,  6,  7,  8,  9],\n",
       "       [10, 11, 12, 13, 14, 15, 16, 17, 18, 19],\n",
       "       [20, 21, 22, 23, 24, 25, 26, 27, 28, 29],\n",
       "       [30, 31, 32, 33, 34, 35, 36, 37, 38, 39],\n",
       "       [40, 41, 42, 43, 44, 45, 46, 47, 48, 49],\n",
       "       [50, 51, 52, 53, 54, 55, 56, 57, 58, 59],\n",
       "       [60, 61, 62, 63, 64, 65, 66, 67, 68, 69],\n",
       "       [70, 71, 72, 73, 74, 75, 76, 77, 78, 79],\n",
       "       [80, 81, 82, 83, 84, 85, 86, 87, 88, 89]])"
      ]
     },
     "execution_count": 36,
     "metadata": {},
     "output_type": "execute_result"
    }
   ],
   "source": [
    "np.arange(90).reshape((9, 10))"
   ]
  },
  {
   "cell_type": "code",
   "execution_count": 37,
   "metadata": {
    "colab": {
     "base_uri": "https://localhost:8080/"
    },
    "executionInfo": {
     "elapsed": 180,
     "status": "ok",
     "timestamp": 1644606612736,
     "user": {
      "displayName": "Ergun Simsek",
      "photoUrl": "https://lh3.googleusercontent.com/a-/AOh14Gg-wjHaTCL8nW1-WBjkR0PKajXbyfc3UgfX4HpB=s64",
      "userId": "16739529127101354422"
     },
     "user_tz": 300
    },
    "id": "CTOIoUn-noaM",
    "outputId": "b31476c6-6ee7-4afb-ab20-4c64338a2c98"
   },
   "outputs": [
    {
     "data": {
      "text/plain": [
       "array([[ 0,  1,  2,  3,  4,  5,  6,  7,  8,  9],\n",
       "       [10, 11, 12, 13, 14, 15, 16, 17, 18, 19],\n",
       "       [20, 21, 22, 23, 24, 25, 26, 27, 28, 29],\n",
       "       [30, 31, 32, 33, 34, 35, 36, 37, 38, 39],\n",
       "       [40, 41, 42, 43, 44, 45, 46, 47, 48, 49],\n",
       "       [50, 51, 52, 53, 54, 55, 56, 57, 58, 59],\n",
       "       [60, 61, 62, 63, 64, 65, 66, 67, 68, 69],\n",
       "       [70, 71, 72, 73, 74, 75, 76, 77, 78, 79],\n",
       "       [80, 81, 82, 83, 84, 85, 86, 87, 88, 89]])"
      ]
     },
     "execution_count": 37,
     "metadata": {},
     "output_type": "execute_result"
    }
   ],
   "source": [
    "np.arange(90).reshape((-1, 10))\n",
    "# here -1 means \"hey python, you determine the length along this axis\"\n",
    "# we know there will be 10 columns, NP determines the number of row"
   ]
  },
  {
   "cell_type": "code",
   "execution_count": 38,
   "metadata": {
    "colab": {
     "base_uri": "https://localhost:8080/"
    },
    "executionInfo": {
     "elapsed": 208,
     "status": "ok",
     "timestamp": 1644606634364,
     "user": {
      "displayName": "Ergun Simsek",
      "photoUrl": "https://lh3.googleusercontent.com/a-/AOh14Gg-wjHaTCL8nW1-WBjkR0PKajXbyfc3UgfX4HpB=s64",
      "userId": "16739529127101354422"
     },
     "user_tz": 300
    },
    "id": "8gxkzsXjnoaM",
    "outputId": "5aba978c-0dba-46fb-9aba-0bf289b045d8"
   },
   "outputs": [
    {
     "data": {
      "text/plain": [
       "True"
      ]
     },
     "execution_count": 38,
     "metadata": {},
     "output_type": "execute_result"
    }
   ],
   "source": [
    "array1 = np.arange(90).reshape((-1, 10))\n",
    "array1.shape == (9, 10)"
   ]
  },
  {
   "cell_type": "code",
   "execution_count": 39,
   "metadata": {
    "id": "fADYqGlknoaM"
   },
   "outputs": [],
   "source": [
    "# Let's change some elements and observe where they are"
   ]
  },
  {
   "cell_type": "code",
   "execution_count": 40,
   "metadata": {
    "colab": {
     "base_uri": "https://localhost:8080/"
    },
    "executionInfo": {
     "elapsed": 133,
     "status": "ok",
     "timestamp": 1644606675504,
     "user": {
      "displayName": "Ergun Simsek",
      "photoUrl": "https://lh3.googleusercontent.com/a-/AOh14Gg-wjHaTCL8nW1-WBjkR0PKajXbyfc3UgfX4HpB=s64",
      "userId": "16739529127101354422"
     },
     "user_tz": 300
    },
    "id": "5AjRYwr7noaM",
    "outputId": "8d3af65c-0f7e-4f65-b3dc-c59d4baf40de"
   },
   "outputs": [
    {
     "name": "stdout",
     "output_type": "stream",
     "text": [
      "[[1000    1    2    3    4    5    6    7    8    9]\n",
      " [  10   11   12   13   14   15   16   17   18   19]\n",
      " [  20   21   22   23   24   25   26   27   28   29]\n",
      " [  30   31   32   33   34   35   36   37   38   39]\n",
      " [  40   41   42   43   44   45   46   47   48   49]\n",
      " [  50   51   52   53   54   55   56   57   58   59]\n",
      " [  60   61   62   63   64   65   66   67   68   69]\n",
      " [  70   71   72   73   74   75   76   77   78   79]\n",
      " [  80   81   82   83   84   85   86   87   88   89]]\n"
     ]
    }
   ],
   "source": [
    "array1[0,0]= 1000\n",
    "print(array1)"
   ]
  },
  {
   "cell_type": "code",
   "execution_count": 41,
   "metadata": {
    "colab": {
     "base_uri": "https://localhost:8080/"
    },
    "executionInfo": {
     "elapsed": 162,
     "status": "ok",
     "timestamp": 1644606726615,
     "user": {
      "displayName": "Ergun Simsek",
      "photoUrl": "https://lh3.googleusercontent.com/a-/AOh14Gg-wjHaTCL8nW1-WBjkR0PKajXbyfc3UgfX4HpB=s64",
      "userId": "16739529127101354422"
     },
     "user_tz": 300
    },
    "id": "hb62YcMKnoaM",
    "outputId": "993e2ce0-6c08-467a-e8ba-47e7ad445d95"
   },
   "outputs": [
    {
     "name": "stdout",
     "output_type": "stream",
     "text": [
      "[[1000    1    2    3    4    5    6    7    8    9]\n",
      " [  10   11   12   13   14   15   16   17   18   19]\n",
      " [  20   21   22   23   24   25   26   27   28   29]\n",
      " [  30   31   32   33   34   35   36   37   38   39]\n",
      " [  40   41   42   43   44   45   46   47   48   49]\n",
      " [   1    1    1    1    1    1    1    1    1    1]\n",
      " [  60   61   62   63   64   65   66   67   68   69]\n",
      " [  70   71   72   73   74   75   76   77   78   79]\n",
      " [  80   81   82   83   84   85   86   87   88   89]]\n"
     ]
    }
   ],
   "source": [
    "array1[5,:]= np.ones(10)\n",
    "print(array1)"
   ]
  },
  {
   "cell_type": "code",
   "execution_count": 42,
   "metadata": {
    "colab": {
     "base_uri": "https://localhost:8080/"
    },
    "executionInfo": {
     "elapsed": 116,
     "status": "ok",
     "timestamp": 1644606735492,
     "user": {
      "displayName": "Ergun Simsek",
      "photoUrl": "https://lh3.googleusercontent.com/a-/AOh14Gg-wjHaTCL8nW1-WBjkR0PKajXbyfc3UgfX4HpB=s64",
      "userId": "16739529127101354422"
     },
     "user_tz": 300
    },
    "id": "yAcrdwccnoaM",
    "outputId": "9e05e2fe-535d-452b-e447-9a3ac79ab2c4"
   },
   "outputs": [
    {
     "name": "stdout",
     "output_type": "stream",
     "text": [
      "[[1000    1    2    3    0    5    6    7    8    9]\n",
      " [  10   11   12   13    0   15   16   17   18   19]\n",
      " [  20   21   22   23    0   25   26   27   28   29]\n",
      " [  30   31   32   33    0   35   36   37   38   39]\n",
      " [  40   41   42   43    0   45   46   47   48   49]\n",
      " [   1    1    1    1    0    1    1    1    1    1]\n",
      " [  60   61   62   63    0   65   66   67   68   69]\n",
      " [  70   71   72   73    0   75   76   77   78   79]\n",
      " [  80   81   82   83    0   85   86   87   88   89]]\n"
     ]
    }
   ],
   "source": [
    "array1[:,4]= np.zeros(9)\n",
    "print(array1)"
   ]
  },
  {
   "cell_type": "code",
   "execution_count": 43,
   "metadata": {
    "colab": {
     "base_uri": "https://localhost:8080/"
    },
    "executionInfo": {
     "elapsed": 203,
     "status": "ok",
     "timestamp": 1644606761092,
     "user": {
      "displayName": "Ergun Simsek",
      "photoUrl": "https://lh3.googleusercontent.com/a-/AOh14Gg-wjHaTCL8nW1-WBjkR0PKajXbyfc3UgfX4HpB=s64",
      "userId": "16739529127101354422"
     },
     "user_tz": 300
    },
    "id": "zNYQd11HnoaM",
    "outputId": "a579e9c6-069a-4b79-d4f4-3eec9373c944"
   },
   "outputs": [
    {
     "name": "stdout",
     "output_type": "stream",
     "text": [
      "[[1000    1    2    3    0    5    6    7    8    9]\n",
      " [  10   11   12   13    0   15   16   17   18   19]\n",
      " [  20   21   22   23    0   25   26   27   28   29]\n",
      " [  30    2    2    2    2    2    2    2   38   39]\n",
      " [  40   41   42   43    0   45   46   47   48   49]\n",
      " [   1    1    1    1    0    1    1    1    1    1]\n",
      " [  60   61   62   63    0   65   66   67   68   69]\n",
      " [  70   71   72   73    0   75   76   77   78   79]\n",
      " [  80   81   82   83    0   85   86   87   88   89]]\n"
     ]
    }
   ],
   "source": [
    "array1[3,1:8] = 2*np.ones(7)\n",
    "print(array1)"
   ]
  },
  {
   "cell_type": "code",
   "execution_count": 44,
   "metadata": {
    "colab": {
     "base_uri": "https://localhost:8080/"
    },
    "executionInfo": {
     "elapsed": 246,
     "status": "ok",
     "timestamp": 1644606879167,
     "user": {
      "displayName": "Ergun Simsek",
      "photoUrl": "https://lh3.googleusercontent.com/a-/AOh14Gg-wjHaTCL8nW1-WBjkR0PKajXbyfc3UgfX4HpB=s64",
      "userId": "16739529127101354422"
     },
     "user_tz": 300
    },
    "id": "cViVJhCGnoaM",
    "outputId": "5c4d2726-8d05-44d4-edfb-bbba1a1018bf"
   },
   "outputs": [
    {
     "name": "stdout",
     "output_type": "stream",
     "text": [
      "[[1000    1    2    3    0    5    6    7    8    9]\n",
      " [  10   11   12   13    0   15   16   17   18   19]\n",
      " [  20   21   22   23    0   25   26   27   28   29]\n",
      " [  30    2    2    2    2    2    2    2   38   39]\n",
      " [  40   41   42   43    0   45   46   47   48   49]\n",
      " [   1    3    3    1    0    1    1    1    1    1]\n",
      " [  60    3    3   63    0   65   66   67   68   69]\n",
      " [  70    3    3   73    0   75   76   77   78   79]\n",
      " [  80   81   82   83    0   85   86   87   88   89]]\n"
     ]
    }
   ],
   "source": [
    "# -1 means \"last\"\n",
    "array1[5:-1,1:3] = [[3,3],[3,3],[3,3]]\n",
    "print(array1)"
   ]
  },
  {
   "cell_type": "code",
   "execution_count": 45,
   "metadata": {
    "colab": {
     "base_uri": "https://localhost:8080/"
    },
    "executionInfo": {
     "elapsed": 126,
     "status": "ok",
     "timestamp": 1644606904612,
     "user": {
      "displayName": "Ergun Simsek",
      "photoUrl": "https://lh3.googleusercontent.com/a-/AOh14Gg-wjHaTCL8nW1-WBjkR0PKajXbyfc3UgfX4HpB=s64",
      "userId": "16739529127101354422"
     },
     "user_tz": 300
    },
    "id": "YHWiP6tDnoaN",
    "outputId": "86a367f2-aea9-4df6-decf-0e0c861dd26d"
   },
   "outputs": [
    {
     "name": "stdout",
     "output_type": "stream",
     "text": [
      "[[1000    1    2    3    0    5    6    7    8    9]\n",
      " [  10   11   12   13    0   15   16   17   18   19]\n",
      " [  20   21   22   23    0   25   26   27   28   29]\n",
      " [  30    2    2    2    2    2    2    2   38   39]\n",
      " [  40   41   42   43    0   45   46   47   48   49]\n",
      " [   1    3    3    1    0    1  -20    1    1    1]\n",
      " [  60    3    3   63    0   65   66   67   68   69]\n",
      " [  70    3    3   73    0   75   76   77  -20   79]\n",
      " [  80   81   82   83    0   85   86   87   88   89]]\n"
     ]
    }
   ],
   "source": [
    "# Non-sequential indexing!\n",
    "array1[(5, 7), (6, 8)] = [-20,-20]\n",
    "print(array1)"
   ]
  },
  {
   "cell_type": "code",
   "execution_count": 46,
   "metadata": {
    "id": "mIZ57fRCnoaN"
   },
   "outputs": [
    {
     "name": "stdout",
     "output_type": "stream",
     "text": [
      "Before______\n",
      "[1 2 3]\n",
      "After_______\n",
      "[5 2 3]\n"
     ]
    }
   ],
   "source": [
    "# a = b vs a = copy(b)\n",
    "array1 = np.array([1, 2, 3]) \n",
    "array2 = array1\n",
    "print('Before______')\n",
    "print(array2)\n",
    "array1[0] = 5\n",
    "print('After_______')\n",
    "print(array2)"
   ]
  },
  {
   "cell_type": "code",
   "execution_count": 47,
   "metadata": {
    "id": "LWGVLv7pnoaN"
   },
   "outputs": [
    {
     "name": "stdout",
     "output_type": "stream",
     "text": [
      "Before______\n",
      "[1 2 3]\n",
      "After_______\n",
      "[1 2 3]\n"
     ]
    }
   ],
   "source": [
    "# Numpy arrays are generally passed by reference (to minimize space used in memory)\n",
    "# This is why when we made a change in array1 above, we also changed array2\n",
    "#\n",
    "# To ensure that values are independent, use the copy function:\n",
    "array1 = np.array([1, 2, 3]) \n",
    "array2 = np.copy(array1)\n",
    "print('Before______')\n",
    "print(array2)\n",
    "array1[0] = 5\n",
    "print('After_______')\n",
    "print(array2)"
   ]
  },
  {
   "cell_type": "markdown",
   "metadata": {
    "id": "28wu4_JInoaN"
   },
   "source": [
    "### Numpy Load Text Files: np.loadtxt\n",
    "There are lots of options on this function, so check the docs, but some of the most used: <br> \n",
    "array2 = np.loadtxt(filename, dtype=dtype, comments=‘#’, delimiter=‘,’, skiprows=5,\n",
    " usecols=(0, 1, 2)) <br>\n",
    " - This skips all comments (designated with a #) and the first 5 rows. \n",
    " - It then reads in columns 0, 1, and 2, delimited by a comma"
   ]
  },
  {
   "cell_type": "markdown",
   "metadata": {
    "id": "r19EtiaAnoaN"
   },
   "source": [
    "When in doubt about arguments and what form they should be, check the docs:"
   ]
  },
  {
   "cell_type": "code",
   "execution_count": 48,
   "metadata": {
    "id": "VpIhpxMvnoaN"
   },
   "outputs": [],
   "source": [
    "np.loadtxt?"
   ]
  },
  {
   "cell_type": "code",
   "execution_count": 49,
   "metadata": {},
   "outputs": [],
   "source": [
    "# Alternatively remember using the Shift+Tab to access the documentation."
   ]
  },
  {
   "cell_type": "markdown",
   "metadata": {
    "id": "mzd2enKDnoaO"
   },
   "source": [
    "Loadtxt can read in gzipped (.gz) and Bzip2 (.bz2) files without them being unzipped."
   ]
  },
  {
   "cell_type": "markdown",
   "metadata": {
    "id": "Ai0551d_noaO"
   },
   "source": [
    "### Mathematical Operations\n",
    "Mathematical operations proceed element-wise, as follows"
   ]
  },
  {
   "cell_type": "code",
   "execution_count": 50,
   "metadata": {
    "colab": {
     "base_uri": "https://localhost:8080/"
    },
    "executionInfo": {
     "elapsed": 151,
     "status": "ok",
     "timestamp": 1644607573808,
     "user": {
      "displayName": "Ergun Simsek",
      "photoUrl": "https://lh3.googleusercontent.com/a-/AOh14Gg-wjHaTCL8nW1-WBjkR0PKajXbyfc3UgfX4HpB=s64",
      "userId": "16739529127101354422"
     },
     "user_tz": 300
    },
    "id": "n6tP6wzxnoaO",
    "outputId": "e687f6d8-7d98-4117-cac8-eb8fd6612796"
   },
   "outputs": [
    {
     "name": "stdout",
     "output_type": "stream",
     "text": [
      "[5.5 6.  6.5 7. ]\n"
     ]
    }
   ],
   "source": [
    "array1 = np.array([0.5, 1.0, 1.5, 2.0])\n",
    "print(array1+5)"
   ]
  },
  {
   "cell_type": "code",
   "execution_count": 51,
   "metadata": {
    "colab": {
     "base_uri": "https://localhost:8080/"
    },
    "executionInfo": {
     "elapsed": 151,
     "status": "ok",
     "timestamp": 1644607583150,
     "user": {
      "displayName": "Ergun Simsek",
      "photoUrl": "https://lh3.googleusercontent.com/a-/AOh14Gg-wjHaTCL8nW1-WBjkR0PKajXbyfc3UgfX4HpB=s64",
      "userId": "16739529127101354422"
     },
     "user_tz": 300
    },
    "id": "GOtWfsVhnoaO",
    "outputId": "d7a31650-aeeb-4bd7-8a1b-4967fef7e501"
   },
   "outputs": [
    {
     "name": "stdout",
     "output_type": "stream",
     "text": [
      "[1. 2. 3. 4.]\n"
     ]
    }
   ],
   "source": [
    "print(array1*2)"
   ]
  },
  {
   "cell_type": "code",
   "execution_count": 52,
   "metadata": {
    "colab": {
     "base_uri": "https://localhost:8080/"
    },
    "executionInfo": {
     "elapsed": 124,
     "status": "ok",
     "timestamp": 1644607587846,
     "user": {
      "displayName": "Ergun Simsek",
      "photoUrl": "https://lh3.googleusercontent.com/a-/AOh14Gg-wjHaTCL8nW1-WBjkR0PKajXbyfc3UgfX4HpB=s64",
      "userId": "16739529127101354422"
     },
     "user_tz": 300
    },
    "id": "b8ejCnXHnoaO",
    "outputId": "8dfbbf16-0a63-4b9c-e7d7-48ba1df7ff07"
   },
   "outputs": [
    {
     "name": "stdout",
     "output_type": "stream",
     "text": [
      "[0.25 1.   2.25 4.  ]\n"
     ]
    }
   ],
   "source": [
    "print(array1**2)"
   ]
  },
  {
   "cell_type": "code",
   "execution_count": 53,
   "metadata": {
    "colab": {
     "base_uri": "https://localhost:8080/"
    },
    "executionInfo": {
     "elapsed": 541,
     "status": "ok",
     "timestamp": 1644607593487,
     "user": {
      "displayName": "Ergun Simsek",
      "photoUrl": "https://lh3.googleusercontent.com/a-/AOh14Gg-wjHaTCL8nW1-WBjkR0PKajXbyfc3UgfX4HpB=s64",
      "userId": "16739529127101354422"
     },
     "user_tz": 300
    },
    "id": "pRmhlEEMnoaO",
    "outputId": "91cb1c0e-5987-4bc4-af9e-ea95b5a40ec8"
   },
   "outputs": [
    {
     "name": "stdout",
     "output_type": "stream",
     "text": [
      "[1. 2. 3. 4.]\n"
     ]
    }
   ],
   "source": [
    "array2 = np.copy(array1)\n",
    "print(array1 + array2)"
   ]
  },
  {
   "cell_type": "code",
   "execution_count": 54,
   "metadata": {
    "colab": {
     "base_uri": "https://localhost:8080/"
    },
    "executionInfo": {
     "elapsed": 9,
     "status": "ok",
     "timestamp": 1644607593666,
     "user": {
      "displayName": "Ergun Simsek",
      "photoUrl": "https://lh3.googleusercontent.com/a-/AOh14Gg-wjHaTCL8nW1-WBjkR0PKajXbyfc3UgfX4HpB=s64",
      "userId": "16739529127101354422"
     },
     "user_tz": 300
    },
    "id": "r29moGA9noaO",
    "outputId": "81366a2d-094e-4317-ac57-7f9d98e1a2ce"
   },
   "outputs": [
    {
     "name": "stdout",
     "output_type": "stream",
     "text": [
      "[0.25 1.   2.25 4.  ]\n"
     ]
    }
   ],
   "source": [
    "print(array1*array2)"
   ]
  },
  {
   "cell_type": "code",
   "execution_count": 55,
   "metadata": {
    "colab": {
     "base_uri": "https://localhost:8080/"
    },
    "executionInfo": {
     "elapsed": 150,
     "status": "ok",
     "timestamp": 1644607639106,
     "user": {
      "displayName": "Ergun Simsek",
      "photoUrl": "https://lh3.googleusercontent.com/a-/AOh14Gg-wjHaTCL8nW1-WBjkR0PKajXbyfc3UgfX4HpB=s64",
      "userId": "16739529127101354422"
     },
     "user_tz": 300
    },
    "id": "2Tax2z4HnoaO",
    "outputId": "3baef52b-ec55-4af0-dae0-841fa49a70ef"
   },
   "outputs": [
    {
     "data": {
      "text/plain": [
       "array([-0.30103   ,  0.        ,  0.17609126,  0.30103   ])"
      ]
     },
     "execution_count": 55,
     "metadata": {},
     "output_type": "execute_result"
    }
   ],
   "source": [
    "np.log10(array1)"
   ]
  },
  {
   "cell_type": "code",
   "execution_count": 56,
   "metadata": {
    "colab": {
     "base_uri": "https://localhost:8080/"
    },
    "executionInfo": {
     "elapsed": 154,
     "status": "ok",
     "timestamp": 1644607647289,
     "user": {
      "displayName": "Ergun Simsek",
      "photoUrl": "https://lh3.googleusercontent.com/a-/AOh14Gg-wjHaTCL8nW1-WBjkR0PKajXbyfc3UgfX4HpB=s64",
      "userId": "16739529127101354422"
     },
     "user_tz": 300
    },
    "id": "rV4G9OhinoaP",
    "outputId": "b632689e-c983-4366-ba86-8d9452340745"
   },
   "outputs": [
    {
     "data": {
      "text/plain": [
       "array([1.64872127, 2.71828183, 4.48168907, 7.3890561 ])"
      ]
     },
     "execution_count": 56,
     "metadata": {},
     "output_type": "execute_result"
    }
   ],
   "source": [
    "np.exp(array1)"
   ]
  },
  {
   "cell_type": "code",
   "execution_count": 57,
   "metadata": {
    "colab": {
     "base_uri": "https://localhost:8080/"
    },
    "executionInfo": {
     "elapsed": 227,
     "status": "ok",
     "timestamp": 1644607651506,
     "user": {
      "displayName": "Ergun Simsek",
      "photoUrl": "https://lh3.googleusercontent.com/a-/AOh14Gg-wjHaTCL8nW1-WBjkR0PKajXbyfc3UgfX4HpB=s64",
      "userId": "16739529127101354422"
     },
     "user_tz": 300
    },
    "id": "FJPbmGI4noaP",
    "outputId": "ade88691-ce82-4cf6-906b-18a5f6edcb71"
   },
   "outputs": [
    {
     "data": {
      "text/plain": [
       "array([0.47942554, 0.84147098, 0.99749499, 0.90929743])"
      ]
     },
     "execution_count": 57,
     "metadata": {},
     "output_type": "execute_result"
    }
   ],
   "source": [
    "np.sin(array1)"
   ]
  },
  {
   "cell_type": "code",
   "execution_count": 58,
   "metadata": {
    "colab": {
     "base_uri": "https://localhost:8080/"
    },
    "executionInfo": {
     "elapsed": 8,
     "status": "ok",
     "timestamp": 1644607653302,
     "user": {
      "displayName": "Ergun Simsek",
      "photoUrl": "https://lh3.googleusercontent.com/a-/AOh14Gg-wjHaTCL8nW1-WBjkR0PKajXbyfc3UgfX4HpB=s64",
      "userId": "16739529127101354422"
     },
     "user_tz": 300
    },
    "id": "-pK6Y-L6noaP",
    "outputId": "40fe8a5d-b2b8-4385-a589-9062f80417b0"
   },
   "outputs": [
    {
     "data": {
      "text/plain": [
       "array([1.12762597, 1.54308063, 2.35240962, 3.76219569])"
      ]
     },
     "execution_count": 58,
     "metadata": {},
     "output_type": "execute_result"
    }
   ],
   "source": [
    "np.cosh(array1)"
   ]
  },
  {
   "cell_type": "markdown",
   "metadata": {
    "id": "WZGpYs2YnoaP"
   },
   "source": [
    "## Matrix Math"
   ]
  },
  {
   "cell_type": "code",
   "execution_count": 59,
   "metadata": {
    "colab": {
     "base_uri": "https://localhost:8080/"
    },
    "executionInfo": {
     "elapsed": 120,
     "status": "ok",
     "timestamp": 1644607706531,
     "user": {
      "displayName": "Ergun Simsek",
      "photoUrl": "https://lh3.googleusercontent.com/a-/AOh14Gg-wjHaTCL8nW1-WBjkR0PKajXbyfc3UgfX4HpB=s64",
      "userId": "16739529127101354422"
     },
     "user_tz": 300
    },
    "id": "4lZClfSNnoaP",
    "outputId": "b652f2f4-b253-4e06-c0c2-d95a13496630"
   },
   "outputs": [
    {
     "name": "stdout",
     "output_type": "stream",
     "text": [
      "[[0 1]\n",
      " [2 3]]\n",
      "[[4 5]\n",
      " [6 7]]\n"
     ]
    }
   ],
   "source": [
    "# For 2-D (and higher) matrices, you can do standard matrix math:\n",
    "arr1 = np.array([[0,1],[2,3]])\n",
    "arr2 = np.array([[4,5],[6,7]])\n",
    "print(arr1)\n",
    "print(arr2)"
   ]
  },
  {
   "cell_type": "code",
   "execution_count": 60,
   "metadata": {
    "colab": {
     "base_uri": "https://localhost:8080/"
    },
    "executionInfo": {
     "elapsed": 134,
     "status": "ok",
     "timestamp": 1644607717201,
     "user": {
      "displayName": "Ergun Simsek",
      "photoUrl": "https://lh3.googleusercontent.com/a-/AOh14Gg-wjHaTCL8nW1-WBjkR0PKajXbyfc3UgfX4HpB=s64",
      "userId": "16739529127101354422"
     },
     "user_tz": 300
    },
    "id": "EKUVvPrznoaP",
    "outputId": "ff28e7cd-c85a-4aa1-d043-6c858ebe3292"
   },
   "outputs": [
    {
     "data": {
      "text/plain": [
       "array([[ 6,  7],\n",
       "       [26, 31]])"
      ]
     },
     "execution_count": 60,
     "metadata": {},
     "output_type": "execute_result"
    }
   ],
   "source": [
    "# Doing standard matrix math: \n",
    "np.dot(arr1, arr2)  # dot product"
   ]
  },
  {
   "cell_type": "code",
   "execution_count": 61,
   "metadata": {
    "colab": {
     "base_uri": "https://localhost:8080/"
    },
    "executionInfo": {
     "elapsed": 140,
     "status": "ok",
     "timestamp": 1644607720832,
     "user": {
      "displayName": "Ergun Simsek",
      "photoUrl": "https://lh3.googleusercontent.com/a-/AOh14Gg-wjHaTCL8nW1-WBjkR0PKajXbyfc3UgfX4HpB=s64",
      "userId": "16739529127101354422"
     },
     "user_tz": 300
    },
    "id": "-8NNFk0dnoaP",
    "outputId": "5606c2ee-237c-43a5-eff8-23dd23ec6dbe"
   },
   "outputs": [
    {
     "data": {
      "text/plain": [
       "array([-4, -4])"
      ]
     },
     "execution_count": 61,
     "metadata": {},
     "output_type": "execute_result"
    }
   ],
   "source": [
    "# Cross product\n",
    "np.cross(arr1, arr2) "
   ]
  },
  {
   "cell_type": "code",
   "execution_count": 62,
   "metadata": {
    "colab": {
     "base_uri": "https://localhost:8080/"
    },
    "executionInfo": {
     "elapsed": 129,
     "status": "ok",
     "timestamp": 1644607775712,
     "user": {
      "displayName": "Ergun Simsek",
      "photoUrl": "https://lh3.googleusercontent.com/a-/AOh14Gg-wjHaTCL8nW1-WBjkR0PKajXbyfc3UgfX4HpB=s64",
      "userId": "16739529127101354422"
     },
     "user_tz": 300
    },
    "id": "gfRY5V0hnoaP",
    "outputId": "9c832955-7bbd-44c2-f284-a5594cce229f"
   },
   "outputs": [
    {
     "data": {
      "text/plain": [
       "(array([-0.56155281,  3.56155281]),\n",
       " array([[-0.87192821, -0.27032301],\n",
       "        [ 0.48963374, -0.96276969]]))"
      ]
     },
     "execution_count": 62,
     "metadata": {},
     "output_type": "execute_result"
    }
   ],
   "source": [
    "# Eigenvalues and eigenvectors\n",
    "np.linalg.eig(arr1) "
   ]
  },
  {
   "cell_type": "code",
   "execution_count": 63,
   "metadata": {
    "colab": {
     "base_uri": "https://localhost:8080/"
    },
    "executionInfo": {
     "elapsed": 378,
     "status": "ok",
     "timestamp": 1644607865429,
     "user": {
      "displayName": "Ergun Simsek",
      "photoUrl": "https://lh3.googleusercontent.com/a-/AOh14Gg-wjHaTCL8nW1-WBjkR0PKajXbyfc3UgfX4HpB=s64",
      "userId": "16739529127101354422"
     },
     "user_tz": 300
    },
    "id": "Sxx0SKehnoaP",
    "outputId": "127521ca-8928-4098-e522-d3075bb6792d"
   },
   "outputs": [
    {
     "data": {
      "text/plain": [
       "array([[-1.5,  0.5],\n",
       "       [ 1. ,  0. ]])"
      ]
     },
     "execution_count": 63,
     "metadata": {},
     "output_type": "execute_result"
    }
   ],
   "source": [
    "# calculating inverses:\n",
    "np.linalg.inv(arr1)"
   ]
  },
  {
   "cell_type": "code",
   "execution_count": 64,
   "metadata": {
    "colab": {
     "base_uri": "https://localhost:8080/"
    },
    "executionInfo": {
     "elapsed": 142,
     "status": "ok",
     "timestamp": 1644607921661,
     "user": {
      "displayName": "Ergun Simsek",
      "photoUrl": "https://lh3.googleusercontent.com/a-/AOh14Gg-wjHaTCL8nW1-WBjkR0PKajXbyfc3UgfX4HpB=s64",
      "userId": "16739529127101354422"
     },
     "user_tz": 300
    },
    "id": "lta5EH1CnoaP",
    "outputId": "58965843-e0e8-4aa8-d2d0-c81547317ac0"
   },
   "outputs": [
    {
     "data": {
      "text/plain": [
       "-2.0"
      ]
     },
     "execution_count": 64,
     "metadata": {},
     "output_type": "execute_result"
    }
   ],
   "source": [
    "# determinant\n",
    "np.linalg.det(arr1)"
   ]
  },
  {
   "cell_type": "markdown",
   "metadata": {
    "id": "oYrUdwwpnoaQ"
   },
   "source": [
    "### Searching Arrays"
   ]
  },
  {
   "cell_type": "code",
   "execution_count": 65,
   "metadata": {
    "colab": {
     "base_uri": "https://localhost:8080/"
    },
    "executionInfo": {
     "elapsed": 128,
     "status": "ok",
     "timestamp": 1644607933623,
     "user": {
      "displayName": "Ergun Simsek",
      "photoUrl": "https://lh3.googleusercontent.com/a-/AOh14Gg-wjHaTCL8nW1-WBjkR0PKajXbyfc3UgfX4HpB=s64",
      "userId": "16739529127101354422"
     },
     "user_tz": 300
    },
    "id": "WlFW2ZnWnoaQ",
    "outputId": "e72fc4a6-3dc0-47f9-9676-ab23a9325ccc"
   },
   "outputs": [
    {
     "name": "stdout",
     "output_type": "stream",
     "text": [
      "[[0 1 2]\n",
      " [3 4 5]]\n"
     ]
    }
   ],
   "source": [
    "arr1 = np.arange(6).reshape((2,3))\n",
    "print(arr1)"
   ]
  },
  {
   "cell_type": "code",
   "execution_count": 66,
   "metadata": {
    "colab": {
     "base_uri": "https://localhost:8080/"
    },
    "executionInfo": {
     "elapsed": 154,
     "status": "ok",
     "timestamp": 1644607983557,
     "user": {
      "displayName": "Ergun Simsek",
      "photoUrl": "https://lh3.googleusercontent.com/a-/AOh14Gg-wjHaTCL8nW1-WBjkR0PKajXbyfc3UgfX4HpB=s64",
      "userId": "16739529127101354422"
     },
     "user_tz": 300
    },
    "id": "q6A6m0MznoaQ",
    "outputId": "0fa20104-557b-4a26-8c0d-a6a72808b735"
   },
   "outputs": [
    {
     "name": "stdout",
     "output_type": "stream",
     "text": [
      "Indices of elements >1\n"
     ]
    },
    {
     "data": {
      "text/plain": [
       "(array([0, 1, 1, 1], dtype=int64), array([2, 0, 1, 2], dtype=int64))"
      ]
     },
     "execution_count": 66,
     "metadata": {},
     "output_type": "execute_result"
    }
   ],
   "source": [
    "# following command gives the elements of arr1 > 1\n",
    "# [0,2], [1,0], [1,1], [1,2]\n",
    "# but we will have them in row/col tuple\n",
    "print ('Indices of elements >1')\n",
    "np.where(arr1 > 1)"
   ]
  },
  {
   "cell_type": "code",
   "execution_count": 67,
   "metadata": {
    "id": "tGghV3N1noaQ"
   },
   "outputs": [
    {
     "name": "stdout",
     "output_type": "stream",
     "text": [
      "2\n"
     ]
    }
   ],
   "source": [
    "print(arr1[0, 2])"
   ]
  },
  {
   "cell_type": "code",
   "execution_count": 68,
   "metadata": {
    "id": "kTG8Mgc8noaQ"
   },
   "outputs": [
    {
     "name": "stdout",
     "output_type": "stream",
     "text": [
      "3\n"
     ]
    }
   ],
   "source": [
    "print(arr1[1, 0])"
   ]
  },
  {
   "cell_type": "code",
   "execution_count": 69,
   "metadata": {},
   "outputs": [
    {
     "name": "stdout",
     "output_type": "stream",
     "text": [
      "Elements which are >1\n",
      "[2 3 4 5]\n"
     ]
    }
   ],
   "source": [
    "print(\"Elements which are >1\")\n",
    "indices = np.where(arr1 > 1)\n",
    "print(arr1[indices])"
   ]
  },
  {
   "cell_type": "code",
   "execution_count": 70,
   "metadata": {},
   "outputs": [
    {
     "name": "stdout",
     "output_type": "stream",
     "text": [
      "Elements which are >1\n",
      "[2 3 4 5]\n"
     ]
    }
   ],
   "source": [
    "print(\"Elements which are >1\")\n",
    "print(arr1[np.where(arr1 > 1)])"
   ]
  },
  {
   "cell_type": "code",
   "execution_count": 71,
   "metadata": {
    "id": "B9qRTtmAnoaQ"
   },
   "outputs": [
    {
     "data": {
      "text/plain": [
       "(array([0, 1], dtype=int64), array([2, 0], dtype=int64))"
      ]
     },
     "execution_count": 71,
     "metadata": {},
     "output_type": "execute_result"
    }
   ],
   "source": [
    "# you can use more than one criteria\n",
    "# but in that case we should use extra ()s as follows \n",
    "np.where((arr1 > 1) & (arr1<4))"
   ]
  },
  {
   "cell_type": "markdown",
   "metadata": {
    "id": "SaLjUDBynoaQ"
   },
   "source": [
    "## Vectorizing Functions"
   ]
  },
  {
   "cell_type": "code",
   "execution_count": 72,
   "metadata": {
    "id": "vhWI5Pt0noaQ"
   },
   "outputs": [],
   "source": [
    "# Sometimes, you’ll want to make complex functions that don’t \n",
    "# necessarily automatically work with numpy arrays.\n",
    "# SoLution: vectorization.\n",
    "# Let's see how vectorization works with an example"
   ]
  },
  {
   "cell_type": "code",
   "execution_count": 73,
   "metadata": {
    "id": "oYLM9hrTnoaQ"
   },
   "outputs": [],
   "source": [
    "def funct1(val): # Defined \"funct1\" accepts only one value.\n",
    "    if val < np.pi/2: # Doesn’t work with array\n",
    "        x = np.sin(val)\n",
    "    else:\n",
    "        x = np.cos(val)\n",
    "    return x"
   ]
  },
  {
   "cell_type": "code",
   "execution_count": 74,
   "metadata": {
    "colab": {
     "base_uri": "https://localhost:8080/"
    },
    "executionInfo": {
     "elapsed": 155,
     "status": "ok",
     "timestamp": 1644608204244,
     "user": {
      "displayName": "Ergun Simsek",
      "photoUrl": "https://lh3.googleusercontent.com/a-/AOh14Gg-wjHaTCL8nW1-WBjkR0PKajXbyfc3UgfX4HpB=s64",
      "userId": "16739529127101354422"
     },
     "user_tz": 300
    },
    "id": "YtEPGaO2noaQ",
    "outputId": "b3759a52-d381-4492-d386-f42a93c95951"
   },
   "outputs": [
    {
     "data": {
      "text/plain": [
       "0.7071067811865476"
      ]
     },
     "execution_count": 74,
     "metadata": {},
     "output_type": "execute_result"
    }
   ],
   "source": [
    "# this will work\n",
    "funct1(np.pi/4)"
   ]
  },
  {
   "cell_type": "code",
   "execution_count": 75,
   "metadata": {
    "colab": {
     "base_uri": "https://localhost:8080/"
    },
    "executionInfo": {
     "elapsed": 142,
     "status": "ok",
     "timestamp": 1644608394624,
     "user": {
      "displayName": "Ergun Simsek",
      "photoUrl": "https://lh3.googleusercontent.com/a-/AOh14Gg-wjHaTCL8nW1-WBjkR0PKajXbyfc3UgfX4HpB=s64",
      "userId": "16739529127101354422"
     },
     "user_tz": 300
    },
    "id": "lQewkuXdnoaR",
    "outputId": "f638da49-44dd-49d4-8741-53988925277f"
   },
   "outputs": [
    {
     "name": "stdout",
     "output_type": "stream",
     "text": [
      "[0.         0.52359878 1.04719755 1.57079633 2.0943951  2.61799388\n",
      " 3.14159265]\n"
     ]
    }
   ],
   "source": [
    "z = np.linspace(0,np.pi,7)\n",
    "print(z)"
   ]
  },
  {
   "cell_type": "code",
   "execution_count": 76,
   "metadata": {
    "colab": {
     "base_uri": "https://localhost:8080/",
     "height": 345
    },
    "executionInfo": {
     "elapsed": 161,
     "status": "error",
     "timestamp": 1644608417720,
     "user": {
      "displayName": "Ergun Simsek",
      "photoUrl": "https://lh3.googleusercontent.com/a-/AOh14Gg-wjHaTCL8nW1-WBjkR0PKajXbyfc3UgfX4HpB=s64",
      "userId": "16739529127101354422"
     },
     "user_tz": 300
    },
    "id": "l-Pp5xDBS9K9",
    "outputId": "e4fc305f-6dfe-48df-9d28-7bcfd85a2769"
   },
   "outputs": [
    {
     "ename": "ValueError",
     "evalue": "The truth value of an array with more than one element is ambiguous. Use a.any() or a.all()",
     "output_type": "error",
     "traceback": [
      "\u001b[1;31m---------------------------------------------------------------------------\u001b[0m",
      "\u001b[1;31mValueError\u001b[0m                                Traceback (most recent call last)",
      "Input \u001b[1;32mIn [76]\u001b[0m, in \u001b[0;36m<cell line: 3>\u001b[1;34m()\u001b[0m\n\u001b[0;32m      1\u001b[0m \u001b[38;5;66;03m# Calling funct1 with the results of \"z\" will fail.\u001b[39;00m\n\u001b[0;32m      2\u001b[0m \u001b[38;5;66;03m# Error provides details on the array having more than one element.\u001b[39;00m\n\u001b[1;32m----> 3\u001b[0m \u001b[43mfunct1\u001b[49m\u001b[43m(\u001b[49m\u001b[43mz\u001b[49m\u001b[43m)\u001b[49m\n",
      "Input \u001b[1;32mIn [73]\u001b[0m, in \u001b[0;36mfunct1\u001b[1;34m(val)\u001b[0m\n\u001b[0;32m      1\u001b[0m \u001b[38;5;28;01mdef\u001b[39;00m \u001b[38;5;21mfunct1\u001b[39m(val): \u001b[38;5;66;03m# Defined \"funct1\" accepts only one value.\u001b[39;00m\n\u001b[1;32m----> 2\u001b[0m     \u001b[38;5;28;01mif\u001b[39;00m \u001b[43mval\u001b[49m\u001b[43m \u001b[49m\u001b[38;5;241;43m<\u001b[39;49m\u001b[43m \u001b[49m\u001b[43mnp\u001b[49m\u001b[38;5;241;43m.\u001b[39;49m\u001b[43mpi\u001b[49m\u001b[38;5;241;43m/\u001b[39;49m\u001b[38;5;241;43m2\u001b[39;49m: \u001b[38;5;66;03m# Doesn’t work with array\u001b[39;00m\n\u001b[0;32m      3\u001b[0m         x \u001b[38;5;241m=\u001b[39m np\u001b[38;5;241m.\u001b[39msin(val)\n\u001b[0;32m      4\u001b[0m     \u001b[38;5;28;01melse\u001b[39;00m:\n",
      "\u001b[1;31mValueError\u001b[0m: The truth value of an array with more than one element is ambiguous. Use a.any() or a.all()"
     ]
    }
   ],
   "source": [
    "# Calling funct1 with the results of \"z\" will fail.\n",
    "# Error provides details on the array having more than one element.\n",
    "funct1(z)"
   ]
  },
  {
   "cell_type": "code",
   "execution_count": 77,
   "metadata": {
    "colab": {
     "base_uri": "https://localhost:8080/"
    },
    "executionInfo": {
     "elapsed": 165,
     "status": "ok",
     "timestamp": 1644608513471,
     "user": {
      "displayName": "Ergun Simsek",
      "photoUrl": "https://lh3.googleusercontent.com/a-/AOh14Gg-wjHaTCL8nW1-WBjkR0PKajXbyfc3UgfX4HpB=s64",
      "userId": "16739529127101354422"
     },
     "user_tz": 300
    },
    "id": "r-e9UWH1noaR",
    "outputId": "be36290f-e315-4f50-e002-292e31526805"
   },
   "outputs": [
    {
     "data": {
      "text/plain": [
       "array([ 0.00000000e+00,  5.00000000e-01,  8.66025404e-01,  6.12323400e-17,\n",
       "       -5.00000000e-01, -8.66025404e-01, -1.00000000e+00])"
      ]
     },
     "execution_count": 77,
     "metadata": {},
     "output_type": "execute_result"
    }
   ],
   "source": [
    "# Now it will work\n",
    "vfunct1 = np.vectorize(funct1)\n",
    "vfunct1(z)\n",
    "# because the vectorize function makes functions like this work for arrays"
   ]
  },
  {
   "cell_type": "code",
   "execution_count": 78,
   "metadata": {},
   "outputs": [
    {
     "name": "stdout",
     "output_type": "stream",
     "text": [
      "[0.0, 0.49999999999999994, 0.8660254037844386, 6.123233995736766e-17, -0.4999999999999998, -0.8660254037844385, -1.0]\n"
     ]
    }
   ],
   "source": [
    "# Another option could be to use a loop oveer the elements of the array.\n",
    "\n",
    "# Using list comprehensions. Define an empty array with same number of elements in z array.\n",
    "z_vect = [0 for a in range(len(z))]\n",
    "\n",
    "# Could also copy the array z.\n",
    "#z_vect = z.copy()\n",
    "# Note that I could use z_vect = z. Even though this will initially work it will replace z.\n",
    "\n",
    "for element in range(len(z)):\n",
    "    z_vect[element] = funct1(z[element])\n",
    "print(z_vect)"
   ]
  },
  {
   "cell_type": "markdown",
   "metadata": {
    "id": "wC0Fe2C2noaR"
   },
   "source": [
    "While this is fine to do for functions you don’t need high performance on, it is slow(ish). Consider writing the function better for speed."
   ]
  },
  {
   "cell_type": "markdown",
   "metadata": {
    "id": "wZmpKVG_noaR"
   },
   "source": [
    "## Saving your output"
   ]
  },
  {
   "cell_type": "code",
   "execution_count": 79,
   "metadata": {
    "id": "ytbQ-7fHnoaR"
   },
   "outputs": [],
   "source": [
    "# For individual numpy arrays, there are some quick and dirty methods to save your data:"
   ]
  },
  {
   "cell_type": "code",
   "execution_count": 80,
   "metadata": {
    "id": "v3KZKdw4noaR"
   },
   "outputs": [],
   "source": [
    "# Quick and Dirty in Text: \n",
    "x = np.arange(100).reshape((25,4))\n",
    "np.savetxt('test.dat', x)"
   ]
  },
  {
   "cell_type": "code",
   "execution_count": 81,
   "metadata": {
    "id": "HPPt3hFNnoaR"
   },
   "outputs": [],
   "source": [
    "# Numpy also has some proprietary formats (.npy, .npz) that allow for quick reading of data\n",
    "# Saving a single array: \n",
    "np.save('test.npy', arr1)\n",
    "\n",
    "# Saving multiple arrays: \n",
    "x2 = np.arange(20).reshape((5,4))\n",
    "np.savez('test', a1=x, a2=x2)   # .npz suffix added\n",
    "\n",
    "# Output file extensions are based on how many arrays you have in the save file:\n",
    "# .npy is for a single array and \n",
    "# .npz is for multiple"
   ]
  },
  {
   "cell_type": "markdown",
   "metadata": {
    "id": "HUBoMoJlnoaR"
   },
   "source": [
    "### Loading Saved Output\n",
    "Python List files in directory use os, \"ls\" function. Note that \"ls\" is a Unix function."
   ]
  },
  {
   "cell_type": "code",
   "execution_count": 82,
   "metadata": {},
   "outputs": [],
   "source": [
    "import os"
   ]
  },
  {
   "cell_type": "code",
   "execution_count": 83,
   "metadata": {},
   "outputs": [
    {
     "data": {
      "text/plain": [
       "['.ipynb_checkpoints',\n",
       " '1_DATA601_Additional_Material_Review.pdf',\n",
       " '1_DATA601_Additional_Material_Review.pptx',\n",
       " '2_DATA601_Numpy_Tutorial.ipynb',\n",
       " '3_Numpy_Exercise.ipynb',\n",
       " 'README',\n",
       " 'test.dat',\n",
       " 'test.npy',\n",
       " 'test.npz']"
      ]
     },
     "execution_count": 83,
     "metadata": {},
     "output_type": "execute_result"
    }
   ],
   "source": [
    "os.listdir()"
   ]
  },
  {
   "cell_type": "code",
   "execution_count": 84,
   "metadata": {
    "colab": {
     "base_uri": "https://localhost:8080/"
    },
    "executionInfo": {
     "elapsed": 166,
     "status": "ok",
     "timestamp": 1644608835562,
     "user": {
      "displayName": "Ergun Simsek",
      "photoUrl": "https://lh3.googleusercontent.com/a-/AOh14Gg-wjHaTCL8nW1-WBjkR0PKajXbyfc3UgfX4HpB=s64",
      "userId": "16739529127101354422"
     },
     "user_tz": 300
    },
    "id": "ULOlhqlZUuDV",
    "outputId": "8916b35b-da68-4202-f747-3999dca47eab"
   },
   "outputs": [
    {
     "name": "stdout",
     "output_type": "stream",
     "text": [
      " Volume in drive C is OS\n",
      " Volume Serial Number is 0A49-61E1\n",
      "\n",
      " Directory of C:\\Felix_ASUS_Docs\\1A_Python_Projects\\DATA601-Fall 2022\\Lecture03_Numpy\n",
      "\n",
      "09/25/2022  09:38 PM    <DIR>          .\n",
      "09/21/2022  10:25 PM    <DIR>          ..\n",
      "09/25/2022  09:24 PM    <DIR>          .ipynb_checkpoints\n",
      "09/20/2022  04:03 PM           259,116 1_DATA601_Additional_Material_Review.pdf\n",
      "09/20/2022  02:51 PM           313,169 1_DATA601_Additional_Material_Review.pptx\n",
      "09/25/2022  09:38 PM            80,630 2_DATA601_Numpy_Tutorial.ipynb\n",
      "09/20/2022  02:46 PM            10,634 3_Numpy_Exercise.ipynb\n",
      "08/06/2022  11:30 PM                27 README\n",
      "09/25/2022  09:39 PM             2,525 test.dat\n",
      "09/25/2022  09:39 PM               152 test.npy\n",
      "09/25/2022  09:39 PM               974 test.npz\n",
      "               8 File(s)        667,227 bytes\n",
      "               3 Dir(s)  828,895,522,816 bytes free\n"
     ]
    }
   ],
   "source": [
    "ls"
   ]
  },
  {
   "cell_type": "code",
   "execution_count": 85,
   "metadata": {
    "colab": {
     "base_uri": "https://localhost:8080/"
    },
    "executionInfo": {
     "elapsed": 133,
     "status": "ok",
     "timestamp": 1644608887088,
     "user": {
      "displayName": "Ergun Simsek",
      "photoUrl": "https://lh3.googleusercontent.com/a-/AOh14Gg-wjHaTCL8nW1-WBjkR0PKajXbyfc3UgfX4HpB=s64",
      "userId": "16739529127101354422"
     },
     "user_tz": 300
    },
    "id": "eIRZvU8hnoaR",
    "outputId": "57387382-8fc2-4490-d386-8ce558dce165"
   },
   "outputs": [
    {
     "name": "stdout",
     "output_type": "stream",
     "text": [
      "[[0 1 2]\n",
      " [3 4 5]]\n"
     ]
    }
   ],
   "source": [
    "# To load a single numpy array (.npy file): \n",
    "arr1a = np.load('test.npy')\n",
    "print(arr1a)"
   ]
  },
  {
   "cell_type": "code",
   "execution_count": 86,
   "metadata": {
    "id": "zrMC9PMFnoaR"
   },
   "outputs": [
    {
     "name": "stdout",
     "output_type": "stream",
     "text": [
      "arr1\t arr1a\t arr2\t array1\t array10\t array2\t array3\t array4\t array5\t \n",
      "array6\t array7\t array8\t array9\t element\t funct1\t indices\t list1\t np\t \n",
      "os\t vfunct1\t x\t x2\t z\t z_vect\t \n"
     ]
    }
   ],
   "source": [
    "# to list current variables used so far in the Jupyter Notebook.\n",
    "%who"
   ]
  },
  {
   "cell_type": "code",
   "execution_count": 87,
   "metadata": {
    "colab": {
     "base_uri": "https://localhost:8080/"
    },
    "executionInfo": {
     "elapsed": 128,
     "status": "ok",
     "timestamp": 1644608902938,
     "user": {
      "displayName": "Ergun Simsek",
      "photoUrl": "https://lh3.googleusercontent.com/a-/AOh14Gg-wjHaTCL8nW1-WBjkR0PKajXbyfc3UgfX4HpB=s64",
      "userId": "16739529127101354422"
     },
     "user_tz": 300
    },
    "id": "PGOtzsBFnoaR",
    "outputId": "d1f17593-2fff-4612-befb-e329d5d543fb"
   },
   "outputs": [
    {
     "data": {
      "text/plain": [
       "['a1', 'a2']"
      ]
     },
     "execution_count": 87,
     "metadata": {},
     "output_type": "execute_result"
    }
   ],
   "source": [
    "# To load a multiple numpy arrays (.npz file): \n",
    "alldata = np.load('test.npz')\n",
    "# to learn what arrays are in your NPZ file do this\n",
    "alldata.files"
   ]
  },
  {
   "cell_type": "code",
   "execution_count": 88,
   "metadata": {
    "colab": {
     "base_uri": "https://localhost:8080/"
    },
    "executionInfo": {
     "elapsed": 302,
     "status": "ok",
     "timestamp": 1644608940343,
     "user": {
      "displayName": "Ergun Simsek",
      "photoUrl": "https://lh3.googleusercontent.com/a-/AOh14Gg-wjHaTCL8nW1-WBjkR0PKajXbyfc3UgfX4HpB=s64",
      "userId": "16739529127101354422"
     },
     "user_tz": 300
    },
    "id": "Qw5JZLRJnoaS",
    "outputId": "60312191-53b6-4653-ad9e-80720b22c3ed"
   },
   "outputs": [
    {
     "name": "stdout",
     "output_type": "stream",
     "text": [
      "[[ 0  1  2  3]\n",
      " [ 4  5  6  7]\n",
      " [ 8  9 10 11]\n",
      " [12 13 14 15]\n",
      " [16 17 18 19]\n",
      " [20 21 22 23]\n",
      " [24 25 26 27]\n",
      " [28 29 30 31]\n",
      " [32 33 34 35]\n",
      " [36 37 38 39]\n",
      " [40 41 42 43]\n",
      " [44 45 46 47]\n",
      " [48 49 50 51]\n",
      " [52 53 54 55]\n",
      " [56 57 58 59]\n",
      " [60 61 62 63]\n",
      " [64 65 66 67]\n",
      " [68 69 70 71]\n",
      " [72 73 74 75]\n",
      " [76 77 78 79]\n",
      " [80 81 82 83]\n",
      " [84 85 86 87]\n",
      " [88 89 90 91]\n",
      " [92 93 94 95]\n",
      " [96 97 98 99]]\n"
     ]
    }
   ],
   "source": [
    "# All Data Object is dictionary-like:\n",
    "var1 = alldata['a1']\n",
    "var2 = alldata['a2']\n",
    "print(var1)"
   ]
  },
  {
   "cell_type": "markdown",
   "metadata": {
    "id": "pzfOlqylnoaS"
   },
   "source": [
    "## LAMBDA FUNCTIONS"
   ]
  },
  {
   "cell_type": "code",
   "execution_count": 89,
   "metadata": {
    "id": "vO5N01YnnoaS"
   },
   "outputs": [],
   "source": [
    "# Sometimes you want to define a simple function without the full function syntax. \n",
    "# Lambda functions exist for this exact reason: \n",
    "# Defining the Function:\n",
    "funct1 = lambda x: x**2 # Returns the square of x"
   ]
  },
  {
   "cell_type": "code",
   "execution_count": 90,
   "metadata": {
    "id": "acXr2x1fnoaS"
   },
   "outputs": [
    {
     "name": "stdout",
     "output_type": "stream",
     "text": [
      "25\n"
     ]
    }
   ],
   "source": [
    "# Using the Function:\n",
    "tmpvar1 = funct1(5)\n",
    "print(tmpvar1)"
   ]
  },
  {
   "cell_type": "code",
   "execution_count": 91,
   "metadata": {
    "id": "SukW-YGpnoaS"
   },
   "outputs": [],
   "source": [
    "# Can use multiple variables:\n",
    "funct2 = lambda x,y: x + y"
   ]
  },
  {
   "cell_type": "code",
   "execution_count": 92,
   "metadata": {
    "id": "08AO2oUKnoaS"
   },
   "outputs": [
    {
     "name": "stdout",
     "output_type": "stream",
     "text": [
      "11\n"
     ]
    }
   ],
   "source": [
    "# Using the Function:\n",
    "tmpvar2 = funct2(5, 6) \n",
    "print(tmpvar2)"
   ]
  },
  {
   "cell_type": "code",
   "execution_count": 93,
   "metadata": {
    "id": "k00dVhhPnoaS"
   },
   "outputs": [],
   "source": [
    "# LAMBDA FUNCTIONS ARE VERY USEFUL IN E.D.A"
   ]
  },
  {
   "cell_type": "markdown",
   "metadata": {},
   "source": [
    "# Pipe\n",
    "Pipe is a module that enables shell like input. For more information: https://pypi.org/project/pipe/.\n",
    "\n",
    "If you need to install \"pipe\" uncomment the cell below. Just run once. The same works with Anaconda Prompt or Terminal."
   ]
  },
  {
   "cell_type": "code",
   "execution_count": 94,
   "metadata": {
    "colab": {
     "base_uri": "https://localhost:8080/"
    },
    "executionInfo": {
     "elapsed": 3198,
     "status": "ok",
     "timestamp": 1644609359914,
     "user": {
      "displayName": "Ergun Simsek",
      "photoUrl": "https://lh3.googleusercontent.com/a-/AOh14Gg-wjHaTCL8nW1-WBjkR0PKajXbyfc3UgfX4HpB=s64",
      "userId": "16739529127101354422"
     },
     "user_tz": 300
    },
    "id": "1Py7QiBsxi90",
    "outputId": "2d3db660-407d-4b01-a233-6416f0e1d935"
   },
   "outputs": [],
   "source": [
    "#!pip install pipe"
   ]
  },
  {
   "cell_type": "code",
   "execution_count": 95,
   "metadata": {},
   "outputs": [],
   "source": [
    "from pipe import select, where"
   ]
  },
  {
   "cell_type": "code",
   "execution_count": 96,
   "metadata": {
    "colab": {
     "base_uri": "https://localhost:8080/"
    },
    "executionInfo": {
     "elapsed": 124,
     "status": "ok",
     "timestamp": 1644609545861,
     "user": {
      "displayName": "Ergun Simsek",
      "photoUrl": "https://lh3.googleusercontent.com/a-/AOh14Gg-wjHaTCL8nW1-WBjkR0PKajXbyfc3UgfX4HpB=s64",
      "userId": "16739529127101354422"
     },
     "user_tz": 300
    },
    "id": "-LXd2vVWnoaS",
    "outputId": "12e9e431-07c8-4543-8534-ebf066c48781"
   },
   "outputs": [
    {
     "data": {
      "text/plain": [
       "[4, 16, 36, 100]"
      ]
     },
     "execution_count": 96,
     "metadata": {},
     "output_type": "execute_result"
    }
   ],
   "source": [
    "arr = [1, 2, 3, 4, 5, 6, 10]\n",
    "# Develops list of array elements where is divisible by 2 and slected elements squared.\n",
    "# This is using Pipe \"where\" and \"select\" functions.\n",
    "list(arr| where(lambda x:x%2==0) | select(lambda x:x**2)) "
   ]
  },
  {
   "cell_type": "markdown",
   "metadata": {
    "id": "A4riu74H9-ye"
   },
   "source": [
    "<b>Exercise:</b>\n",
    "1. Create a 6x4 array, which includes random integers from 1 to 10, name this array \"A\". print the array A.\n",
    "2. Find all the numbers bigger than 5 and multiply them with 10, name this new array B.\n",
    "3. Replace the element on the 2nd row, 3rd column of B, with -10 "
   ]
  },
  {
   "cell_type": "code",
   "execution_count": 97,
   "metadata": {
    "colab": {
     "base_uri": "https://localhost:8080/"
    },
    "executionInfo": {
     "elapsed": 145,
     "status": "ok",
     "timestamp": 1644670194961,
     "user": {
      "displayName": "Ergun Simsek",
      "photoUrl": "https://lh3.googleusercontent.com/a-/AOh14Gg-wjHaTCL8nW1-WBjkR0PKajXbyfc3UgfX4HpB=s64",
      "userId": "16739529127101354422"
     },
     "user_tz": 300
    },
    "id": "e_UYOgU_btam",
    "outputId": "1dca8db1-1bfb-4a60-9a36-645c3a9b0401"
   },
   "outputs": [
    {
     "name": "stdout",
     "output_type": "stream",
     "text": [
      "[[10  5  1  4]\n",
      " [ 2  4  1  4]\n",
      " [ 2  5  9  3]\n",
      " [10  6  8  4]\n",
      " [10  5  3  1]\n",
      " [ 2  6  2  8]]\n"
     ]
    }
   ],
   "source": [
    "# step-1\n",
    "A = np.random.randint(1,11,24).reshape(6,4)\n",
    "print(A)"
   ]
  },
  {
   "cell_type": "code",
   "execution_count": 98,
   "metadata": {
    "colab": {
     "base_uri": "https://localhost:8080/"
    },
    "executionInfo": {
     "elapsed": 177,
     "status": "ok",
     "timestamp": 1644670674233,
     "user": {
      "displayName": "Ergun Simsek",
      "photoUrl": "https://lh3.googleusercontent.com/a-/AOh14Gg-wjHaTCL8nW1-WBjkR0PKajXbyfc3UgfX4HpB=s64",
      "userId": "16739529127101354422"
     },
     "user_tz": 300
    },
    "id": "ytC8pdnBgh7P",
    "outputId": "07306180-3faf-400d-e20c-30a053c70920"
   },
   "outputs": [
    {
     "name": "stdout",
     "output_type": "stream",
     "text": [
      "[[100   5   1   4]\n",
      " [  2   4   1   4]\n",
      " [  2   5  90   3]\n",
      " [100  60  80   4]\n",
      " [100   5   3   1]\n",
      " [  2  60   2  80]]\n"
     ]
    }
   ],
   "source": [
    "# step-2: Method-1: Old-fashion\n",
    "B = np.copy(A)\n",
    "for i in range(len(A)):\n",
    "    for j in range(len(A[0])):\n",
    "        if A[i,j]>5:\n",
    "            B[i,j] = 10*A[i,j]\n",
    "print(B)      "
   ]
  },
  {
   "cell_type": "code",
   "execution_count": 99,
   "metadata": {
    "colab": {
     "base_uri": "https://localhost:8080/"
    },
    "executionInfo": {
     "elapsed": 182,
     "status": "ok",
     "timestamp": 1644670619203,
     "user": {
      "displayName": "Ergun Simsek",
      "photoUrl": "https://lh3.googleusercontent.com/a-/AOh14Gg-wjHaTCL8nW1-WBjkR0PKajXbyfc3UgfX4HpB=s64",
      "userId": "16739529127101354422"
     },
     "user_tz": 300
    },
    "id": "_p5rzKPeeAwp",
    "outputId": "9fc221f7-8a77-4975-d24e-47eaf482728d"
   },
   "outputs": [
    {
     "name": "stdout",
     "output_type": "stream",
     "text": [
      "[[100   5   1   4]\n",
      " [  2   4   1   4]\n",
      " [  2   5  90   3]\n",
      " [100  60  80   4]\n",
      " [100   5   3   1]\n",
      " [  2  60   2  80]]\n"
     ]
    }
   ],
   "source": [
    "# step-2: Method-2: One For Loop\n",
    "inda = np.asarray(np.where(A>5))\n",
    "B = np.copy(A)\n",
    "for i in range(int(inda.size/2)):\n",
    "    B[inda[0,i],inda[1,i]] = 10*A[inda[0,i],inda[1,i]]\n",
    "print(B)  "
   ]
  },
  {
   "cell_type": "code",
   "execution_count": 100,
   "metadata": {
    "colab": {
     "base_uri": "https://localhost:8080/"
    },
    "executionInfo": {
     "elapsed": 130,
     "status": "ok",
     "timestamp": 1644670760379,
     "user": {
      "displayName": "Ergun Simsek",
      "photoUrl": "https://lh3.googleusercontent.com/a-/AOh14Gg-wjHaTCL8nW1-WBjkR0PKajXbyfc3UgfX4HpB=s64",
      "userId": "16739529127101354422"
     },
     "user_tz": 300
    },
    "id": "KxLkVXw9g-0h",
    "outputId": "502a7298-cbe5-4ff8-bfc3-722ff3aff1b2"
   },
   "outputs": [
    {
     "name": "stdout",
     "output_type": "stream",
     "text": [
      "[[100   5   1   4]\n",
      " [  2   4   1   4]\n",
      " [  2   5  90   3]\n",
      " [100  60  80   4]\n",
      " [100   5   3   1]\n",
      " [  2  60   2  80]]\n"
     ]
    }
   ],
   "source": [
    "# step-2: Method-3: Proper use of \"where\"\n",
    "B = A.copy()\n",
    "ind1, ind2 = np.where(A>5.0)\n",
    "B[ind1,ind2] = B[ind1,ind2]*10\n",
    "print(B)"
   ]
  },
  {
   "cell_type": "code",
   "execution_count": 101,
   "metadata": {
    "colab": {
     "base_uri": "https://localhost:8080/"
    },
    "executionInfo": {
     "elapsed": 160,
     "status": "ok",
     "timestamp": 1644670492345,
     "user": {
      "displayName": "Ergun Simsek",
      "photoUrl": "https://lh3.googleusercontent.com/a-/AOh14Gg-wjHaTCL8nW1-WBjkR0PKajXbyfc3UgfX4HpB=s64",
      "userId": "16739529127101354422"
     },
     "user_tz": 300
    },
    "id": "lNZNrmGwb7D6",
    "outputId": "4ef7dbca-488f-4a7b-92bd-da95c110fe90"
   },
   "outputs": [
    {
     "name": "stdout",
     "output_type": "stream",
     "text": [
      "[[100   5   1   4]\n",
      " [  2   4   1   4]\n",
      " [  2   5  90   3]\n",
      " [100  60  80   4]\n",
      " [100   5   3   1]\n",
      " [  2  60   2  80]]\n"
     ]
    }
   ],
   "source": [
    "# step-2 Method-4 (Pipe + Lambda)\n",
    "B = np.array(list(A.flatten().tolist()| select(lambda x: 10*x if x>5 else x))).reshape(6,4)\n",
    "print(B)"
   ]
  },
  {
   "cell_type": "code",
   "execution_count": 102,
   "metadata": {
    "id": "7vrRU7NUfVt-"
   },
   "outputs": [
    {
     "name": "stdout",
     "output_type": "stream",
     "text": [
      "[[100   5   1   4]\n",
      " [  2   4   1   4]\n",
      " [  2   5  90   3]\n",
      " [100  60  80   4]\n",
      " [100   5   3   1]\n",
      " [  2  60   2  80]]\n"
     ]
    }
   ],
   "source": [
    "# step-2: Method-5: zip-method\n",
    "B = np.array([j*10 if i else j for i,j in \n",
    "              zip((A > 5).flatten(), A.flatten())]).reshape((6,4))\n",
    "print(B)"
   ]
  },
  {
   "cell_type": "code",
   "execution_count": 103,
   "metadata": {
    "colab": {
     "base_uri": "https://localhost:8080/"
    },
    "executionInfo": {
     "elapsed": 143,
     "status": "ok",
     "timestamp": 1644669596391,
     "user": {
      "displayName": "Ergun Simsek",
      "photoUrl": "https://lh3.googleusercontent.com/a-/AOh14Gg-wjHaTCL8nW1-WBjkR0PKajXbyfc3UgfX4HpB=s64",
      "userId": "16739529127101354422"
     },
     "user_tz": 300
    },
    "id": "XBtibFfK8YiW",
    "outputId": "862be54b-d573-4381-82be-03b0b3312a9c"
   },
   "outputs": [
    {
     "data": {
      "text/plain": [
       "[[10, 5, 1, 4],\n",
       " [2, 4, 1, 4],\n",
       " [2, 5, 9, 3],\n",
       " [10, 6, 8, 4],\n",
       " [10, 5, 3, 1],\n",
       " [2, 6, 2, 8]]"
      ]
     },
     "execution_count": 103,
     "metadata": {},
     "output_type": "execute_result"
    }
   ],
   "source": [
    "A.tolist()"
   ]
  },
  {
   "cell_type": "code",
   "execution_count": 104,
   "metadata": {
    "colab": {
     "base_uri": "https://localhost:8080/"
    },
    "executionInfo": {
     "elapsed": 146,
     "status": "ok",
     "timestamp": 1644669910989,
     "user": {
      "displayName": "Ergun Simsek",
      "photoUrl": "https://lh3.googleusercontent.com/a-/AOh14Gg-wjHaTCL8nW1-WBjkR0PKajXbyfc3UgfX4HpB=s64",
      "userId": "16739529127101354422"
     },
     "user_tz": 300
    },
    "id": "FbV82_Xv8nEb",
    "outputId": "d7ac1cc3-aadc-4be0-a913-e1f4eba69e23"
   },
   "outputs": [
    {
     "name": "stdout",
     "output_type": "stream",
     "text": [
      "[[100   5   1   4]\n",
      " [  2   4   1   4]\n",
      " [  2   5  90   3]\n",
      " [100  60  80   4]\n",
      " [100   5   3   1]\n",
      " [  2  60   2  80]]\n"
     ]
    }
   ],
   "source": [
    "B = np.select([A<=5, A>5], [A, A*10])\n",
    "print(B)"
   ]
  },
  {
   "cell_type": "code",
   "execution_count": 105,
   "metadata": {
    "colab": {
     "base_uri": "https://localhost:8080/"
    },
    "executionInfo": {
     "elapsed": 3,
     "status": "ok",
     "timestamp": 1644670878437,
     "user": {
      "displayName": "Ergun Simsek",
      "photoUrl": "https://lh3.googleusercontent.com/a-/AOh14Gg-wjHaTCL8nW1-WBjkR0PKajXbyfc3UgfX4HpB=s64",
      "userId": "16739529127101354422"
     },
     "user_tz": 300
    },
    "id": "kkpwWsWM9yRR",
    "outputId": "0612e7ea-e0d3-4027-c0b4-9cd9f39588d6"
   },
   "outputs": [
    {
     "name": "stdout",
     "output_type": "stream",
     "text": [
      "[[100   5   1   4]\n",
      " [  2   4 -10   4]\n",
      " [  2   5  90   3]\n",
      " [100  60  80   4]\n",
      " [100   5   3   1]\n",
      " [  2  60   2  80]]\n"
     ]
    }
   ],
   "source": [
    "# step-3\n",
    "B[1,2] = -10\n",
    "print(B)"
   ]
  },
  {
   "cell_type": "markdown",
   "metadata": {
    "id": "az4ALutiBgGD"
   },
   "source": [
    "# Notebook End"
   ]
  },
  {
   "cell_type": "code",
   "execution_count": null,
   "metadata": {},
   "outputs": [],
   "source": []
  },
  {
   "cell_type": "code",
   "execution_count": null,
   "metadata": {},
   "outputs": [],
   "source": []
  },
  {
   "cell_type": "code",
   "execution_count": null,
   "metadata": {},
   "outputs": [],
   "source": []
  }
 ],
 "metadata": {
  "colab": {
   "collapsed_sections": [],
   "name": "DATA601_Numpy_Tutorial.ipynb",
   "provenance": []
  },
  "kernelspec": {
   "display_name": "Python 3 (ipykernel)",
   "language": "python",
   "name": "python3"
  },
  "language_info": {
   "codemirror_mode": {
    "name": "ipython",
    "version": 3
   },
   "file_extension": ".py",
   "mimetype": "text/x-python",
   "name": "python",
   "nbconvert_exporter": "python",
   "pygments_lexer": "ipython3",
   "version": "3.9.12"
  }
 },
 "nbformat": 4,
 "nbformat_minor": 1
}
