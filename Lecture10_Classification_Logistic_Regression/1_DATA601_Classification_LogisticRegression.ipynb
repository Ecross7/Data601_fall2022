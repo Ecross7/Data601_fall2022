{
 "cells": [
  {
   "cell_type": "markdown",
   "id": "224849b8",
   "metadata": {
    "colab_type": "text",
    "id": "view-in-github"
   },
   "source": [
    "<a href=\"https://colab.research.google.com/github/simsekergun/DATA601/blob/main/Lecture14_Logistic_Regression/DATA601_LogisticRegression.ipynb\" target=\"_parent\"><img src=\"https://colab.research.google.com/assets/colab-badge.svg\" alt=\"Open In Colab\"/></a>"
   ]
  },
  {
   "cell_type": "code",
   "execution_count": 1,
   "id": "7bdc4a62-3aa6-4360-a250-536fd1d43ea3",
   "metadata": {
    "id": "7bdc4a62-3aa6-4360-a250-536fd1d43ea3"
   },
   "outputs": [],
   "source": [
    "# Python\n",
    "import numpy as np\n",
    "import pandas as pd\n",
    "import matplotlib.pyplot as plt\n",
    "from matplotlib.pyplot import bar\n",
    "import seaborn as sns\n",
    "\n",
    "# sklearn\n",
    "# Confusion matrix, Accuracy, sensitivity and specificity\n",
    "from sklearn.metrics import r2_score, mean_absolute_error, confusion_matrix \n",
    "from sklearn.model_selection import train_test_split\n",
    "from sklearn.feature_selection import SelectKBest, chi2\n",
    "from sklearn.linear_model import LogisticRegression, SGDClassifier, Perceptron\n",
    "from sklearn.preprocessing import StandardScaler\n",
    "from sklearn.pipeline import make_pipeline\n",
    "from sklearn.neighbors import KNeighborsClassifier\n",
    "\n",
    "# Statsmodel\n",
    "import statsmodels.api as sm\n",
    "import statsmodels.formula.api as smf\n",
    "\n",
    "# TensorFlow\n",
    "# Install TensorFlow: Uncomment and run once.\n",
    "#pip install tensorflow \n",
    "#pip install tensorflow-gpu\n",
    "from tensorflow.keras.models import Sequential, Model\n",
    "from tensorflow.keras.layers import Dense, Input, Dense, Activation, Dropout, Normalization"
   ]
  },
  {
   "cell_type": "markdown",
   "id": "7cfbbf96-28b1-4019-8c93-22c8c4ac3264",
   "metadata": {
    "id": "7cfbbf96-28b1-4019-8c93-22c8c4ac3264"
   },
   "source": [
    "## Supervised Learning: Classification\n",
    "### Method: Logistic Regression\n",
    "Logistic Regression is one of the most commonly used for ML methods for predictive analytics and modeling, where the dependent variable is finite or categorical, e.g.\n",
    " * either A or B (binary regression) or \n",
    " * a range of finite options A, B, C or D (multinomial regression) <br>\n",
    "\n",
    "<b> Application Examples </b>\n",
    "* (Medicine) To predict the likelihood of disease or illness for a given population, which means that preventative care can be put in place. \n",
    "* (Businesses) To uncover patterns that lead to higher employee retention or create more profitable products by analyzing buyer behavior. \n",
    "* (Banking) Loan default prediction. Credit risk assessment.\n",
    "* (Sports Betting) Sport result prediction, e.g. team-A wins, team-B wins, draw"
   ]
  },
  {
   "cell_type": "markdown",
   "id": "4e1b8728-ef18-43aa-904a-0d49ca8e7bca",
   "metadata": {
    "id": "4e1b8728-ef18-43aa-904a-0d49ca8e7bca"
   },
   "source": [
    "### Logistic Function\n",
    "In its basic form, logistic regression uses a logistic function to model a binary dependent variable. <br>\n",
    "Consider a model with one predictor, $X$ and one binary (Bernoulli) response variable $Y$, which we denote $p=P(Y=1)$. We assume a linear relationship between the predictor variable and the log-odds (also called logit) of the event that $Y=1$. This linear relationship can be written in the following mathematical form (where $\\ell$ is the log-odds, $\\beta _{i}$ are parameters of the model):\n",
    "\n",
    "$$ \\ell = \\log \\bigg( \\dfrac{{p}} {1 - p} \\bigg) = \\beta_{0} + \\beta_{1}X  $$\n",
    "\n",
    "<br>\n",
    "We can recover the \"odds\" by exponentiating the log-odds \n",
    "$$ p = \\dfrac{e^{\\beta_{0} + \\beta_{1}X}} {1 + e^{\\beta_{0} + \\beta_{1}X} } $$\n",
    "\n",
    "\n",
    "The above formula shows that once $\\beta _{i}$ are fixed, we can easily compute either the log-odds that $Y=1$ for a given observation, or the probability that $Y=1$ for a given observation. <br>\n",
    "The main use-case of a logistic model is to be given an observation $X$ and estimate the probability $p$ that $Y=1$.\n",
    "\n",
    "\n",
    "<br>\n",
    "Note that the above can be changed for multiple logisitic regression for the linear compination of independent variables $\\beta_{0} + \\beta_{1}X_{1} + \\beta_{2}X_{2} + \\dotso + \\beta_{k}X_{k } $ <br>\n",
    "\n",
    "\n",
    "\n",
    " "
   ]
  },
  {
   "cell_type": "code",
   "execution_count": 2,
   "id": "d100e13d-26a6-40f4-8934-97cf9e6a2f8c",
   "metadata": {
    "colab": {
     "base_uri": "https://localhost:8080/",
     "height": 282
    },
    "id": "d100e13d-26a6-40f4-8934-97cf9e6a2f8c",
    "outputId": "4e994c68-e929-4325-dfcf-522988a7fd21"
   },
   "outputs": [
    {
     "data": {
      "image/png": "[encoded data removed]",
      "text/plain": [
       "<Figure size 432x288 with 1 Axes>"
      ]
     },
     "metadata": {
      "needs_background": "light"
     },
     "output_type": "display_data"
    }
   ],
   "source": [
    "# let's look at these \\ell and p functions\n",
    "p_x = np.arange(0.0001,0.999999999,0.0001)\n",
    "r_y = [np.log(i/(1-i)) for i in p_x]\n",
    "plt.scatter(p_x,r_y)\n",
    "plt.xlabel('p');\n",
    "plt.ylabel('$\\ell$');"
   ]
  },
  {
   "cell_type": "markdown",
   "id": "517cb174-ab46-40a0-a2fd-68bb37b46000",
   "metadata": {
    "id": "517cb174-ab46-40a0-a2fd-68bb37b46000"
   },
   "source": [
    "You can see that this function goes to to -inf and inf as we get close to 0 and 1, respectively. <br>\n",
    "<br>\n",
    "Visualizing the inverse logit:\n",
    "$$ logit^{-1}(a) = \\dfrac{e^{a} } {1 + e^{a}}  $$\n",
    "where $a = \\beta_{0} + \\beta_{1}X$"
   ]
  },
  {
   "cell_type": "code",
   "execution_count": 3,
   "id": "01fe0306-3cb9-4c48-8f32-e96483aab076",
   "metadata": {
    "colab": {
     "base_uri": "https://localhost:8080/",
     "height": 296
    },
    "id": "01fe0306-3cb9-4c48-8f32-e96483aab076",
    "outputId": "c8915c12-ac8a-428b-e0cf-060b7af5c26b"
   },
   "outputs": [
    {
     "data": {
      "text/plain": [
       "Text(0, 0.5, 'p')"
      ]
     },
     "execution_count": 3,
     "metadata": {},
     "output_type": "execute_result"
    },
    {
     "data": {
      "image/png": "[encoded data removed]",
      "text/plain": [
       "<Figure size 432x288 with 1 Axes>"
      ]
     },
     "metadata": {
      "needs_background": "light"
     },
     "output_type": "display_data"
    }
   ],
   "source": [
    "# We can rearrange and invert the axes.\n",
    "x = np.arange(-10,10,0.001)\n",
    "y = [np.exp(i)/(1+np.exp(i)) for i in x]\n",
    "plt.plot(x,y)\n",
    "plt.xlabel('a')\n",
    "plt.ylabel('p')"
   ]
  },
  {
   "cell_type": "markdown",
   "id": "4990c9f7-122e-47ed-9798-b467a25df43f",
   "metadata": {
    "id": "4990c9f7-122e-47ed-9798-b467a25df43f"
   },
   "source": [
    "## A Simple Example\n",
    "* Lets say we are an individual applying for a loan in an Icelandic bank and want to know the probability of our creditscore getting us a loan at the bank. \n",
    "* We have our individual credit scores and their categorical binary value.\n",
    "* Data for each applicant:\n",
    "  * x-axis: Icelandic credit score points ranging 100(bad credit score) to 400(excellent)\n",
    "  * y-axis: Approved as 1 or 0"
   ]
  },
  {
   "cell_type": "code",
   "execution_count": 4,
   "id": "7147a936-8966-4dba-8ac4-8f88612e1a22",
   "metadata": {
    "colab": {
     "base_uri": "https://localhost:8080/",
     "height": 206
    },
    "id": "7147a936-8966-4dba-8ac4-8f88612e1a22",
    "outputId": "1efc502b-b76f-4605-d053-35f88e5da76f"
   },
   "outputs": [
    {
     "data": {
      "text/html": [
       "<div>\n",
       "<style scoped>\n",
       "    .dataframe tbody tr th:only-of-type {\n",
       "        vertical-align: middle;\n",
       "    }\n",
       "\n",
       "    .dataframe tbody tr th {\n",
       "        vertical-align: top;\n",
       "    }\n",
       "\n",
       "    .dataframe thead th {\n",
       "        text-align: right;\n",
       "    }\n",
       "</style>\n",
       "<table border=\"1\" class=\"dataframe\">\n",
       "  <thead>\n",
       "    <tr style=\"text-align: right;\">\n",
       "      <th></th>\n",
       "      <th>accepted</th>\n",
       "      <th>creditscore</th>\n",
       "      <th>amount</th>\n",
       "      <th>age</th>\n",
       "      <th>marital</th>\n",
       "      <th>health_ins</th>\n",
       "      <th>creditgrade</th>\n",
       "    </tr>\n",
       "  </thead>\n",
       "  <tbody>\n",
       "    <tr>\n",
       "      <th>14995</th>\n",
       "      <td>1</td>\n",
       "      <td>101</td>\n",
       "      <td>990461</td>\n",
       "      <td>37</td>\n",
       "      <td>1</td>\n",
       "      <td>1</td>\n",
       "      <td>E</td>\n",
       "    </tr>\n",
       "    <tr>\n",
       "      <th>14996</th>\n",
       "      <td>1</td>\n",
       "      <td>139</td>\n",
       "      <td>10543269</td>\n",
       "      <td>52</td>\n",
       "      <td>1</td>\n",
       "      <td>1</td>\n",
       "      <td>E</td>\n",
       "    </tr>\n",
       "    <tr>\n",
       "      <th>14997</th>\n",
       "      <td>1</td>\n",
       "      <td>185</td>\n",
       "      <td>9827416</td>\n",
       "      <td>77</td>\n",
       "      <td>1</td>\n",
       "      <td>1</td>\n",
       "      <td>E</td>\n",
       "    </tr>\n",
       "    <tr>\n",
       "      <th>14998</th>\n",
       "      <td>1</td>\n",
       "      <td>235</td>\n",
       "      <td>2279692</td>\n",
       "      <td>35</td>\n",
       "      <td>0</td>\n",
       "      <td>1</td>\n",
       "      <td>E</td>\n",
       "    </tr>\n",
       "    <tr>\n",
       "      <th>14999</th>\n",
       "      <td>1</td>\n",
       "      <td>192</td>\n",
       "      <td>2814084</td>\n",
       "      <td>22</td>\n",
       "      <td>1</td>\n",
       "      <td>1</td>\n",
       "      <td>E</td>\n",
       "    </tr>\n",
       "  </tbody>\n",
       "</table>\n",
       "</div>"
      ],
      "text/plain": [
       "       accepted  creditscore    amount  age  marital  health_ins creditgrade\n",
       "14995         1          101    990461   37        1           1           E\n",
       "14996         1          139  10543269   52        1           1           E\n",
       "14997         1          185   9827416   77        1           1           E\n",
       "14998         1          235   2279692   35        0           1           E\n",
       "14999         1          192   2814084   22        1           1           E"
      ]
     },
     "execution_count": 4,
     "metadata": {},
     "output_type": "execute_result"
    }
   ],
   "source": [
    "# Read the data in the link.\n",
    "df = pd.read_csv(\"https://raw.githubusercontent.com/fgonzaleumbc/Data601_fall2022/main/Datasets/loans.csv\")\n",
    "df.tail()"
   ]
  },
  {
   "cell_type": "code",
   "execution_count": 5,
   "id": "f98ba02b-c246-42cc-b354-cb302f851789",
   "metadata": {
    "colab": {
     "base_uri": "https://localhost:8080/",
     "height": 300
    },
    "id": "f98ba02b-c246-42cc-b354-cb302f851789",
    "outputId": "e5870da8-4587-40db-e156-a7082099dbdd"
   },
   "outputs": [
    {
     "data": {
      "text/html": [
       "<div>\n",
       "<style scoped>\n",
       "    .dataframe tbody tr th:only-of-type {\n",
       "        vertical-align: middle;\n",
       "    }\n",
       "\n",
       "    .dataframe tbody tr th {\n",
       "        vertical-align: top;\n",
       "    }\n",
       "\n",
       "    .dataframe thead th {\n",
       "        text-align: right;\n",
       "    }\n",
       "</style>\n",
       "<table border=\"1\" class=\"dataframe\">\n",
       "  <thead>\n",
       "    <tr style=\"text-align: right;\">\n",
       "      <th></th>\n",
       "      <th>accepted</th>\n",
       "      <th>creditscore</th>\n",
       "      <th>amount</th>\n",
       "      <th>age</th>\n",
       "      <th>marital</th>\n",
       "      <th>health_ins</th>\n",
       "    </tr>\n",
       "  </thead>\n",
       "  <tbody>\n",
       "    <tr>\n",
       "      <th>count</th>\n",
       "      <td>15000.000000</td>\n",
       "      <td>15000.000000</td>\n",
       "      <td>1.500000e+04</td>\n",
       "      <td>15000.000000</td>\n",
       "      <td>15000.000000</td>\n",
       "      <td>15000.000000</td>\n",
       "    </tr>\n",
       "    <tr>\n",
       "      <th>mean</th>\n",
       "      <td>0.518600</td>\n",
       "      <td>287.329133</td>\n",
       "      <td>3.346065e+07</td>\n",
       "      <td>58.807333</td>\n",
       "      <td>0.490200</td>\n",
       "      <td>0.444467</td>\n",
       "    </tr>\n",
       "    <tr>\n",
       "      <th>std</th>\n",
       "      <td>0.499671</td>\n",
       "      <td>74.096185</td>\n",
       "      <td>2.887226e+07</td>\n",
       "      <td>20.860748</td>\n",
       "      <td>0.499921</td>\n",
       "      <td>0.496923</td>\n",
       "    </tr>\n",
       "    <tr>\n",
       "      <th>min</th>\n",
       "      <td>0.000000</td>\n",
       "      <td>100.000000</td>\n",
       "      <td>5.005890e+05</td>\n",
       "      <td>18.000000</td>\n",
       "      <td>0.000000</td>\n",
       "      <td>0.000000</td>\n",
       "    </tr>\n",
       "    <tr>\n",
       "      <th>25%</th>\n",
       "      <td>0.000000</td>\n",
       "      <td>246.000000</td>\n",
       "      <td>8.865364e+06</td>\n",
       "      <td>42.000000</td>\n",
       "      <td>0.000000</td>\n",
       "      <td>0.000000</td>\n",
       "    </tr>\n",
       "    <tr>\n",
       "      <th>50%</th>\n",
       "      <td>1.000000</td>\n",
       "      <td>299.000000</td>\n",
       "      <td>2.314822e+07</td>\n",
       "      <td>62.000000</td>\n",
       "      <td>0.000000</td>\n",
       "      <td>0.000000</td>\n",
       "    </tr>\n",
       "    <tr>\n",
       "      <th>75%</th>\n",
       "      <td>1.000000</td>\n",
       "      <td>345.000000</td>\n",
       "      <td>5.608367e+07</td>\n",
       "      <td>76.000000</td>\n",
       "      <td>1.000000</td>\n",
       "      <td>1.000000</td>\n",
       "    </tr>\n",
       "    <tr>\n",
       "      <th>max</th>\n",
       "      <td>1.000000</td>\n",
       "      <td>400.000000</td>\n",
       "      <td>9.999737e+07</td>\n",
       "      <td>90.000000</td>\n",
       "      <td>1.000000</td>\n",
       "      <td>1.000000</td>\n",
       "    </tr>\n",
       "  </tbody>\n",
       "</table>\n",
       "</div>"
      ],
      "text/plain": [
       "           accepted   creditscore        amount           age       marital  \\\n",
       "count  15000.000000  15000.000000  1.500000e+04  15000.000000  15000.000000   \n",
       "mean       0.518600    287.329133  3.346065e+07     58.807333      0.490200   \n",
       "std        0.499671     74.096185  2.887226e+07     20.860748      0.499921   \n",
       "min        0.000000    100.000000  5.005890e+05     18.000000      0.000000   \n",
       "25%        0.000000    246.000000  8.865364e+06     42.000000      0.000000   \n",
       "50%        1.000000    299.000000  2.314822e+07     62.000000      0.000000   \n",
       "75%        1.000000    345.000000  5.608367e+07     76.000000      1.000000   \n",
       "max        1.000000    400.000000  9.999737e+07     90.000000      1.000000   \n",
       "\n",
       "         health_ins  \n",
       "count  15000.000000  \n",
       "mean       0.444467  \n",
       "std        0.496923  \n",
       "min        0.000000  \n",
       "25%        0.000000  \n",
       "50%        0.000000  \n",
       "75%        1.000000  \n",
       "max        1.000000  "
      ]
     },
     "execution_count": 5,
     "metadata": {},
     "output_type": "execute_result"
    }
   ],
   "source": [
    "df.describe()"
   ]
  },
  {
   "cell_type": "code",
   "execution_count": 6,
   "id": "d195376c-3a1a-4ff6-ac8d-0716eb4c3fdd",
   "metadata": {
    "colab": {
     "base_uri": "https://localhost:8080/"
    },
    "id": "d195376c-3a1a-4ff6-ac8d-0716eb4c3fdd",
    "outputId": "1dcf2063-ceb8-4cb2-89f9-8030fc3f098f"
   },
   "outputs": [
    {
     "name": "stdout",
     "output_type": "stream",
     "text": [
      "1    7779\n",
      "0    7221\n",
      "Name: accepted, dtype: int64\n"
     ]
    }
   ],
   "source": [
    "print(df.accepted.value_counts())\n",
    "# Note that the dataset is pretty balanced almost 50/50.\n",
    "# There may be cases that the data is imbalanced and you will have to address such deficiency.\n",
    "# There are various methods for addressing data imbalance."
   ]
  },
  {
   "cell_type": "code",
   "execution_count": 7,
   "id": "ea815f22-fc8b-4a6b-8d86-7513f69911b3",
   "metadata": {
    "colab": {
     "base_uri": "https://localhost:8080/",
     "height": 607
    },
    "id": "ea815f22-fc8b-4a6b-8d86-7513f69911b3",
    "outputId": "5a6d314c-18e7-4bb9-ff66-600c4d1f652e"
   },
   "outputs": [
    {
     "data": {
      "image/png": "[encoded data removed]",
      "text/plain": [
       "<Figure size 720x720 with 6 Axes>"
      ]
     },
     "metadata": {
      "needs_background": "light"
     },
     "output_type": "display_data"
    }
   ],
   "source": [
    "df.hist(layout=(3,2), figsize=(10,10))\n",
    "plt.show()"
   ]
  },
  {
   "cell_type": "code",
   "execution_count": 8,
   "id": "7c68e100-aa98-472b-88bf-1d6e7c92198e",
   "metadata": {
    "colab": {
     "base_uri": "https://localhost:8080/",
     "height": 282
    },
    "id": "7c68e100-aa98-472b-88bf-1d6e7c92198e",
    "outputId": "843d540b-bb4a-4e70-ac57-abf70bde8c6e",
    "scrolled": true
   },
   "outputs": [
    {
     "data": {
      "image/png": "[encoded data removed]",
      "text/plain": [
       "<Figure size 432x288 with 1 Axes>"
      ]
     },
     "metadata": {
      "needs_background": "light"
     },
     "output_type": "display_data"
    }
   ],
   "source": [
    "# We can plot the Accepte vs Creditscore values.\n",
    "x = df.creditscore.values\n",
    "y = df.accepted.values\n",
    "\n",
    "plt.scatter(x,y);"
   ]
  },
  {
   "cell_type": "markdown",
   "id": "OZJuWts6i-S_",
   "metadata": {
    "id": "OZJuWts6i-S_"
   },
   "source": [
    "The figure above is a little bit misleading and scary!!\n",
    "Let's plot creditscore histograms for approved and non-approved separately."
   ]
  },
  {
   "cell_type": "code",
   "execution_count": 9,
   "id": "542cb9fe",
   "metadata": {},
   "outputs": [
    {
     "data": {
      "image/png": "[encoded data removed]",
      "text/plain": [
       "<Figure size 432x288 with 1 Axes>"
      ]
     },
     "metadata": {
      "needs_background": "light"
     },
     "output_type": "display_data"
    }
   ],
   "source": [
    "# Plot of the data with a logistic regression.\n",
    "x = df['creditscore']\n",
    "y = df['accepted']\n",
    "\n",
    "#plot logistic regression curve\n",
    "sns.regplot(x=x, y=y, data=df, logistic=True, ci=None)\n",
    "plt.show();\n",
    "# In the logistic regression when the values of credit score  an accepted of 0.5 an have\n",
    "# In this case the creditscore is not the only feature that can be used to determine loan acceptance."
   ]
  },
  {
   "cell_type": "code",
   "execution_count": 10,
   "id": "05a7c5cc",
   "metadata": {},
   "outputs": [
    {
     "data": {
      "image/png": "[encoded data removed]",
      "text/plain": [
       "<Figure size 432x288 with 1 Axes>"
      ]
     },
     "metadata": {
      "needs_background": "light"
     },
     "output_type": "display_data"
    },
    {
     "data": {
      "image/png": "[encoded data removed]",
      "text/plain": [
       "<Figure size 432x288 with 1 Axes>"
      ]
     },
     "metadata": {
      "needs_background": "light"
     },
     "output_type": "display_data"
    }
   ],
   "source": [
    "# We can also explore how the data looks with other features.\n",
    "x = df['amount']\n",
    "y = df['accepted']\n",
    "# As expected the lower the amount the larger the probability of getting accepted.\n",
    "\n",
    "#plot logistic regression curve\n",
    "sns.regplot(x=x, y=y, data=df, logistic=True, ci=None)\n",
    "plt.show();\n",
    "\n",
    "x = df['marital']\n",
    "y = df['accepted']\n",
    "\n",
    "#plot logistic regression curve\n",
    "sns.regplot(x=x, y=y, data=df, logistic=True, ci=None)\n",
    "plt.show();\n",
    "\n",
    "# It is unfeasable in many cases to go feature by feature.\n",
    "# In this case logic will tell us that credit score may be one of the leading features in determining acceptance.\n",
    "# Let's continue to explore."
   ]
  },
  {
   "cell_type": "code",
   "execution_count": 11,
   "id": "KWedTRDqiZZB",
   "metadata": {
    "colab": {
     "base_uri": "https://localhost:8080/",
     "height": 513
    },
    "id": "KWedTRDqiZZB",
    "outputId": "334e1830-4044-4466-8b04-4a346bec116b"
   },
   "outputs": [
    {
     "data": {
      "image/png": "[encoded data removed]",
      "text/plain": [
       "<Figure size 432x288 with 1 Axes>"
      ]
     },
     "metadata": {
      "needs_background": "light"
     },
     "output_type": "display_data"
    },
    {
     "data": {
      "image/png": "[encoded data removed]",
      "text/plain": [
       "<Figure size 432x288 with 1 Axes>"
      ]
     },
     "metadata": {
      "needs_background": "light"
     },
     "output_type": "display_data"
    }
   ],
   "source": [
    "df.loc[df.accepted==1,'creditscore'].hist()\n",
    "plt.show()\n",
    "df.loc[df.accepted==0,'creditscore'].hist()\n",
    "plt.show()\n",
    "# This figures make a little more sense."
   ]
  },
  {
   "cell_type": "markdown",
   "id": "xPfFHl7ajPrx",
   "metadata": {
    "id": "xPfFHl7ajPrx"
   },
   "source": [
    "It loooks like credit score ~300 is the boundary for most approvals/denials."
   ]
  },
  {
   "cell_type": "code",
   "execution_count": 12,
   "id": "d84e9905",
   "metadata": {},
   "outputs": [],
   "source": [
    "# Let's only use creditscore to predict accepted.\n",
    "df = df.loc[:,('accepted','creditscore')]\n",
    "\n",
    "# Lets define our independent and dependent variables, x and y.\n",
    "x = df.creditscore.values\n",
    "y = df.accepted.values"
   ]
  },
  {
   "cell_type": "code",
   "execution_count": 13,
   "id": "9faae558-10ac-4422-bdf4-a207e0c33b1f",
   "metadata": {
    "id": "9faae558-10ac-4422-bdf4-a207e0c33b1f"
   },
   "outputs": [],
   "source": [
    "X_train, X_test, y_train, y_test = train_test_split(x, y, test_size=0.2, random_state=1)\n",
    "# As previously mentioned we could aslo do a manual test/train split but using the function is better practice."
   ]
  },
  {
   "cell_type": "code",
   "execution_count": 14,
   "id": "0e9528ef",
   "metadata": {},
   "outputs": [
    {
     "data": {
      "text/plain": [
       "array([265, 292, 302, ..., 317, 334, 287], dtype=int64)"
      ]
     },
     "execution_count": 14,
     "metadata": {},
     "output_type": "execute_result"
    }
   ],
   "source": [
    "# Note that the outputs of train_test_split is an array.\n",
    "X_train"
   ]
  },
  {
   "cell_type": "code",
   "execution_count": 15,
   "id": "23678124",
   "metadata": {},
   "outputs": [
    {
     "data": {
      "text/plain": [
       "array([[265],\n",
       "       [292],\n",
       "       [302],\n",
       "       ...,\n",
       "       [317],\n",
       "       [334],\n",
       "       [287]], dtype=int64)"
      ]
     },
     "execution_count": 15,
     "metadata": {},
     "output_type": "execute_result"
    }
   ],
   "source": [
    "X_train.reshape(-1,1)\n",
    "# Input to the fit function requires the form as follows."
   ]
  },
  {
   "cell_type": "code",
   "execution_count": 16,
   "id": "7e2917d9-81cb-4d6f-94ab-f576688bb0c8",
   "metadata": {
    "colab": {
     "base_uri": "https://localhost:8080/"
    },
    "id": "7e2917d9-81cb-4d6f-94ab-f576688bb0c8",
    "outputId": "07c7fb93-a5f2-42d6-b7f3-940f2710e1a1"
   },
   "outputs": [
    {
     "data": {
      "text/plain": [
       "LogisticRegression()"
      ]
     },
     "execution_count": 16,
     "metadata": {},
     "output_type": "execute_result"
    }
   ],
   "source": [
    "logreg = LogisticRegression()\n",
    "logreg.fit(X_train.reshape(-1,1), y_train)"
   ]
  },
  {
   "cell_type": "code",
   "execution_count": 17,
   "id": "05ced57d-54d8-49bb-89d2-bc5cd75525a0",
   "metadata": {
    "id": "05ced57d-54d8-49bb-89d2-bc5cd75525a0"
   },
   "outputs": [
    {
     "data": {
      "text/plain": [
       "array([1, 1, 0, ..., 0, 1, 1], dtype=int64)"
      ]
     },
     "execution_count": 17,
     "metadata": {},
     "output_type": "execute_result"
    }
   ],
   "source": [
    "y_predict = logreg.predict(X_test.reshape(-1,1))\n",
    "y_predict\n",
    "# y_predict"
   ]
  },
  {
   "cell_type": "code",
   "execution_count": 18,
   "id": "8f5af96d-3840-4221-8d15-525283882e3d",
   "metadata": {
    "colab": {
     "base_uri": "https://localhost:8080/"
    },
    "id": "8f5af96d-3840-4221-8d15-525283882e3d",
    "outputId": "57cf1d58-555e-4729-ccd9-f19f6b85a598"
   },
   "outputs": [
    {
     "data": {
      "text/plain": [
       "0.8066666666666666"
      ]
     },
     "execution_count": 18,
     "metadata": {},
     "output_type": "execute_result"
    }
   ],
   "source": [
    "logreg.score(X_test.reshape(-1,1) , y_test)\n",
    "# This accuracy score means that 80% of the prediction matched the test data labeling."
   ]
  },
  {
   "cell_type": "markdown",
   "id": "9dc84aLjqru-",
   "metadata": {
    "id": "9dc84aLjqru-"
   },
   "source": [
    "## Confusion Matrix\n",
    "![image.png](data:image/png;base64,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)"
   ]
  },
  {
   "cell_type": "markdown",
   "id": "5E45bsnBq4cp",
   "metadata": {
    "id": "5E45bsnBq4cp"
   },
   "source": [
    "From our confusion matrix, we can calculate five different metrics measuring the validity of our model. <br>\n",
    "1. Accuracy (all correct / all) = (TP + TN) / (TP + TN + FP + FN)\n",
    "2. Misclassification (all incorrect / all) = 1 - Accuracy \n",
    "3. Precision (true positives / predicted positives) = TP / (TP + FP)\n",
    "4. Sensitivity aka Recall (true positives / all actual positives) = TP / (TP + FN)\n",
    "5. Specificity (true negatives / all actual negatives) =TN / (TN + FP)"
   ]
  },
  {
   "cell_type": "markdown",
   "id": "VSlbUZUNrFCX",
   "metadata": {
    "id": "VSlbUZUNrFCX"
   },
   "source": [
    "* Sensitivity and Specificity are extremely crucial for health DS. <br>\n",
    "  * <b>Sensitivity</b>: how often a test correctly generates a positive result for people who have the condition that’s being tested for. \n",
    "  * <b>Specificity</b>: how often a test correctly generates a <b>negative</b> result for people who <b>doesn't</b> have the condition that’s being tested for. <br>\n",
    "<br>\n",
    "\n",
    "* <b>Recall</b> measures the ability of a model to find all the relevant cases within a data set. For example <br>\n",
    "\n",
    "$$ \\frac{\\mathrm{Spam \\ emails \\ correctly \\ labeled \\ as \\ spam}}{\\mathrm{Spam \\ emails \\ correctly \\ labeled \\ as \\ spam} \\ + {\\mathrm{Spam \\ emails \\ incorrectly \\ labeled \\ as \\ not \\ spam}}} $$ \n",
    "\n",
    "<br>\n",
    "\n",
    "* <b>Precision</b> expresses the proportion of the data points our model says existed in the relevant class that were indeed relevant. <br>\n",
    "\n",
    "$$ \\frac{\\mathrm{Spam \\ emails \\ correctly \\ labeled \\ as \\ spam}}{\\mathrm{Spam \\ emails \\ correctly \\ labeled \\ as \\ spam} \\ + {\\mathrm{Normal \\ emails \\ incorrectly \\ labeled \\ spam}}} $$ \n",
    "<br>"
   ]
  },
  {
   "cell_type": "markdown",
   "id": "4ulDgkC9vwS3",
   "metadata": {
    "id": "4ulDgkC9vwS3"
   },
   "source": [
    "### F1 Score\n",
    "In some situations, we might know we want to maximize either recall or precision at the expense of the other metric. For example, in preliminary disease screening of patients for follow-up examinations, we would probably want a recall near 1.0—we want to find all patients who actually have the disease—and we can accept a low precision - we accidentally find some patients have the disease who actually don’t have it - if the cost of the follow-up examination isn’t high. However, in cases where we want to find an optimal blend of precision and recall, we can combine the two metrics using the F1 score.\n",
    "\n",
    "\n",
    "* The <b>F1 score</b> is the harmonic mean of precision and recall, taking both metrics into account in the following equation:\n",
    "\n",
    "$$ F_1 = 2 \\times \\frac{\\mathrm{precision}\\times \\mathrm{recall}}{\\mathrm{precision}+\\mathrm{recall}} $$"
   ]
  },
  {
   "cell_type": "markdown",
   "id": "o2Su21_OwYus",
   "metadata": {
    "id": "o2Su21_OwYus"
   },
   "source": [
    " ### ROC Curve\n",
    "ROC = Receiver Operating Characteristic. <br>\n",
    "* ROC is one of the most fundamental visualization techniques for showing the performance of a classification model.\n",
    "* ROC shows how the recall vs. precision relationship changes <b>as we vary the threshold</b> for identifying a positive data point in our model.\n",
    "* The threshold represents the value above which we consider a data point in the positive class. \n",
    "\n",
    "A typical ROC curve looks like this: \n",
    "\n",
    "![image.png](data:image/png;base64,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)"
   ]
  },
  {
   "cell_type": "markdown",
   "id": "BMjF1hejxQfr",
   "metadata": {
    "id": "BMjF1hejxQfr"
   },
   "source": [
    "* We can quantify a model’s ROC curve by calculating the total Area Under the Curve (AUC), a metric that falls between zero and one with a higher number indicating better classification performance. \n",
    "* In the graph above, the AUC for the blue curve will be greater than that for the red curve, meaning the blue model is better at achieving a blend of precision and recall. \n",
    "* A random classifier (the black line) achieves an AUC of 0.5."
   ]
  },
  {
   "cell_type": "code",
   "execution_count": 19,
   "id": "f01e050d",
   "metadata": {},
   "outputs": [
    {
     "data": {
      "text/plain": [
       "array([1, 1, 0, ..., 0, 1, 1], dtype=int64)"
      ]
     },
     "execution_count": 19,
     "metadata": {},
     "output_type": "execute_result"
    }
   ],
   "source": [
    "y_predict # Prediction of test data."
   ]
  },
  {
   "cell_type": "code",
   "execution_count": 20,
   "id": "b614116d",
   "metadata": {},
   "outputs": [
    {
     "name": "stdout",
     "output_type": "stream",
     "text": [
      "[0 1]\n",
      "[1375 1625]\n"
     ]
    }
   ],
   "source": [
    "unique, counts = np.unique(y_predict, return_counts=True)\n",
    "print(unique)\n",
    "print(counts)"
   ]
  },
  {
   "cell_type": "code",
   "execution_count": 21,
   "id": "d4b31b72",
   "metadata": {},
   "outputs": [
    {
     "data": {
      "text/plain": [
       "array([1, 1, 0, ..., 1, 1, 1], dtype=int64)"
      ]
     },
     "execution_count": 21,
     "metadata": {},
     "output_type": "execute_result"
    }
   ],
   "source": [
    "y_test # Test data label."
   ]
  },
  {
   "cell_type": "code",
   "execution_count": 22,
   "id": "9ec0e2c2",
   "metadata": {},
   "outputs": [
    {
     "name": "stdout",
     "output_type": "stream",
     "text": [
      "[0 1]\n",
      "[1431 1569]\n"
     ]
    }
   ],
   "source": [
    "unique, counts = np.unique(y_test, return_counts=True)\n",
    "print(unique)\n",
    "print(counts)"
   ]
  },
  {
   "cell_type": "code",
   "execution_count": 23,
   "id": "HmdQEOoCoyBd",
   "metadata": {
    "colab": {
     "base_uri": "https://localhost:8080/"
    },
    "id": "HmdQEOoCoyBd",
    "outputId": "b5c7faf5-52d4-4e2c-8842-57beaf1b3733"
   },
   "outputs": [
    {
     "name": "stdout",
     "output_type": "stream",
     "text": [
      "Confusion Matrix : \n",
      " [[1113  318]\n",
      " [ 262 1307]]\n"
     ]
    },
    {
     "data": {
      "text/plain": [
       "1375"
      ]
     },
     "execution_count": 23,
     "metadata": {},
     "output_type": "execute_result"
    }
   ],
   "source": [
    "cm1 = confusion_matrix(y_test,y_predict)\n",
    "print('Confusion Matrix : \\n', cm1)\n",
    "cm1[:,0].sum() # Adds first column of the confusion_matrix array."
   ]
  },
  {
   "cell_type": "code",
   "execution_count": 24,
   "id": "705d9d4e",
   "metadata": {},
   "outputs": [
    {
     "data": {
      "image/png": "[encoded data removed]",
      "text/plain": [
       "<Figure size 432x288 with 2 Axes>"
      ]
     },
     "metadata": {
      "needs_background": "light"
     },
     "output_type": "display_data"
    }
   ],
   "source": [
    "ax= plt.subplot()\n",
    "sns.heatmap(cm1, annot=True, fmt='g', ax=ax);  #annot=True to annotate cells, ftm='g' to disable scientific notation\n",
    "\n",
    "# labels, title and ticks\n",
    "ax.set_xlabel('Predicted labels');ax.set_ylabel('True labels'); \n",
    "ax.set_title('Confusion Matrix'); \n",
    "ax.xaxis.set_ticklabels(['0', '1']); ax.yaxis.set_ticklabels(['0', '1']);"
   ]
  },
  {
   "cell_type": "code",
   "execution_count": 25,
   "id": "3becf5ab",
   "metadata": {},
   "outputs": [
    {
     "data": {
      "text/plain": [
       "<AxesSubplot:>"
      ]
     },
     "execution_count": 25,
     "metadata": {},
     "output_type": "execute_result"
    },
    {
     "data": {
      "image/png": "[encoded data removed]",
      "text/plain": [
       "<Figure size 432x288 with 2 Axes>"
      ]
     },
     "metadata": {
      "needs_background": "light"
     },
     "output_type": "display_data"
    }
   ],
   "source": [
    "sns.heatmap(cm1/np.sum(cm1), annot=True, fmt='.2%') # Confusion matrix as a percentage."
   ]
  },
  {
   "cell_type": "code",
   "execution_count": 26,
   "id": "84df6f6f",
   "metadata": {},
   "outputs": [
    {
     "data": {
      "text/plain": [
       "<AxesSubplot:>"
      ]
     },
     "execution_count": 26,
     "metadata": {},
     "output_type": "execute_result"
    },
    {
     "data": {
      "image/png": "[encoded data removed]",
      "text/plain": [
       "<Figure size 432x288 with 2 Axes>"
      ]
     },
     "metadata": {
      "needs_background": "light"
     },
     "output_type": "display_data"
    }
   ],
   "source": [
    "group_names = ['True Neg','False Pos','False Neg','True Pos']\n",
    "group_counts = ['{0:0.0f}'.format(value) for value in cm1.flatten()]\n",
    "group_percentages = ['{0:.2%}'.format(value) for value in cm1.flatten()/np.sum(cm1)]\n",
    "labels = [f'{v1}\\n{v2}\\n{v3}' for v1, v2, v3 in zip(group_names,group_counts,group_percentages)]\n",
    "labels = np.asarray(labels).reshape(2,2)\n",
    "sns.heatmap(cm1, annot=labels, fmt='')"
   ]
  },
  {
   "cell_type": "code",
   "execution_count": 27,
   "id": "yKpKziqwpA7B",
   "metadata": {
    "colab": {
     "base_uri": "https://localhost:8080/"
    },
    "id": "yKpKziqwpA7B",
    "outputId": "f766a48b-59cf-49a7-c3f6-d7371041e84d"
   },
   "outputs": [
    {
     "name": "stdout",
     "output_type": "stream",
     "text": [
      "Accuracy :  0.8066666666666666\n",
      "Sensitivity :  0.7777777777777778\n",
      "Specificity :  0.8330146590184832\n"
     ]
    }
   ],
   "source": [
    "total1=sum(sum(cm1))\n",
    "#####from confusion matrix calculate accuracy\n",
    "accuracy1=(cm1[0,0]+cm1[1,1])/total1\n",
    "print ('Accuracy : ', accuracy1)\n",
    "\n",
    "sensitivity1 = cm1[0,0]/(cm1[0,0]+cm1[0,1])\n",
    "print('Sensitivity : ', sensitivity1 )\n",
    "\n",
    "specificity1 = cm1[1,1]/(cm1[1,0]+cm1[1,1])\n",
    "print('Specificity : ', specificity1)"
   ]
  },
  {
   "cell_type": "code",
   "execution_count": 28,
   "id": "7a40b53c-8189-42a9-95aa-ee757708417d",
   "metadata": {
    "colab": {
     "base_uri": "https://localhost:8080/"
    },
    "id": "7a40b53c-8189-42a9-95aa-ee757708417d",
    "outputId": "ca9e0939-1777-4e6a-ec0c-7310765e99ec"
   },
   "outputs": [
    {
     "name": "stdout",
     "output_type": "stream",
     "text": [
      "[[0.03229255]] [-9.40314326]\n"
     ]
    }
   ],
   "source": [
    "print(logreg.coef_, logreg.intercept_) # Coefficient and intercept of the logreg model."
   ]
  },
  {
   "cell_type": "markdown",
   "id": "69d08bec-2596-415e-af78-09ef3080f568",
   "metadata": {
    "id": "69d08bec-2596-415e-af78-09ef3080f568"
   },
   "source": [
    "From our output we get a positive coefficient slope for the credit score. <br>\n",
    "\n",
    "That means that the probability of getting a loan increases as we get a higher credit score.<br>\n",
    "\n",
    "If we have P>|z| value of 0.000 which is higher then 0.001 and then that indipendent variable is significant.\n",
    "\n",
    "Now we can put the coefficients into the estimated regression equation"
   ]
  },
  {
   "cell_type": "code",
   "execution_count": 29,
   "id": "9c6d99f7-063f-45eb-abcb-c90207a45341",
   "metadata": {
    "colab": {
     "base_uri": "https://localhost:8080/"
    },
    "id": "9c6d99f7-063f-45eb-abcb-c90207a45341",
    "outputId": "889942b5-1e46-44ae-fbc4-8ea66e892a82"
   },
   "outputs": [
    {
     "data": {
      "text/plain": [
       "array([0], dtype=int64)"
      ]
     },
     "execution_count": 29,
     "metadata": {},
     "output_type": "execute_result"
    }
   ],
   "source": [
    "test_x = np.array([230])\n",
    "logreg.predict(test_x.reshape(-1, 1))"
   ]
  },
  {
   "cell_type": "code",
   "execution_count": 30,
   "id": "ea52d43d-e4e3-409c-96d1-64bf0225f06b",
   "metadata": {
    "colab": {
     "base_uri": "https://localhost:8080/"
    },
    "id": "ea52d43d-e4e3-409c-96d1-64bf0225f06b",
    "outputId": "40841b5e-c1a9-4b3a-cadc-eb49e5c2532a"
   },
   "outputs": [
    {
     "name": "stdout",
     "output_type": "stream",
     "text": [
      "[[0.12176125]]\n"
     ]
    }
   ],
   "source": [
    "a = logreg.intercept_ + test_x*logreg.coef_\n",
    "p = np.exp(a)/(1 + np.exp(a))\n",
    "print(p)"
   ]
  },
  {
   "cell_type": "markdown",
   "id": "5cbbb706-9fde-4987-b462-e45610acdbb2",
   "metadata": {
    "id": "5cbbb706-9fde-4987-b462-e45610acdbb2"
   },
   "source": [
    "Someone with a credit score of [230] has an estimated probabilty of 12.16 % to get a loan."
   ]
  },
  {
   "cell_type": "code",
   "execution_count": 31,
   "id": "4415e098-199c-46b1-8a23-a4d622d426fc",
   "metadata": {
    "colab": {
     "base_uri": "https://localhost:8080/"
    },
    "id": "4415e098-199c-46b1-8a23-a4d622d426fc",
    "outputId": "0160fff5-dda7-4df8-c471-817477f44bbc"
   },
   "outputs": [
    {
     "data": {
      "text/plain": [
       "array([1], dtype=int64)"
      ]
     },
     "execution_count": 31,
     "metadata": {},
     "output_type": "execute_result"
    }
   ],
   "source": [
    "test_x = np.array([370])\n",
    "logreg.predict(test_x.reshape(-1, 1))"
   ]
  },
  {
   "cell_type": "code",
   "execution_count": 32,
   "id": "91b7b601-918a-499f-8bf9-34fc5b1244b3",
   "metadata": {
    "colab": {
     "base_uri": "https://localhost:8080/"
    },
    "id": "91b7b601-918a-499f-8bf9-34fc5b1244b3",
    "outputId": "3058d60d-4c12-4ad0-8341-156aa2f29491"
   },
   "outputs": [
    {
     "name": "stdout",
     "output_type": "stream",
     "text": [
      "[[0.9272437]]\n"
     ]
    }
   ],
   "source": [
    "a = logreg.intercept_ + test_x*logreg.coef_\n",
    "p = np.exp(a)/(1 + np.exp(a))\n",
    "print(p)"
   ]
  },
  {
   "cell_type": "markdown",
   "id": "5ab1931b-87c3-4a68-ac32-177631dccae9",
   "metadata": {
    "id": "5ab1931b-87c3-4a68-ac32-177631dccae9"
   },
   "source": [
    "Someone with a credit score of 370 has an estimated probabilty of 92.72 % to get a loan."
   ]
  },
  {
   "cell_type": "code",
   "execution_count": 33,
   "id": "3906107b-93b8-4694-b490-06970f21c7ff",
   "metadata": {
    "colab": {
     "base_uri": "https://localhost:8080/",
     "height": 282
    },
    "id": "3906107b-93b8-4694-b490-06970f21c7ff",
    "outputId": "a66b9efa-952a-4584-c7e0-df766e1bea88"
   },
   "outputs": [
    {
     "data": {
      "text/plain": [
       "[<matplotlib.lines.Line2D at 0x11b67471d30>]"
      ]
     },
     "execution_count": 33,
     "metadata": {},
     "output_type": "execute_result"
    },
    {
     "data": {
      "image/png": "[encoded data removed]",
      "text/plain": [
       "<Figure size 432x288 with 1 Axes>"
      ]
     },
     "metadata": {
      "needs_background": "light"
     },
     "output_type": "display_data"
    }
   ],
   "source": [
    "test_x = np.arange(100,400)\n",
    "test_y = logreg.predict(test_x.reshape(-1, 1))\n",
    "\n",
    "a = logreg.intercept_ + test_x*logreg.coef_\n",
    "p = np.exp(a)/(1 + np.exp(a))\n",
    "plt.scatter(test_x,test_y)\n",
    "plt.plot(test_x,np.squeeze(p),'r')"
   ]
  },
  {
   "cell_type": "markdown",
   "id": "084a1b5f-c148-4709-8506-3f1c94f7a9b7",
   "metadata": {
    "id": "084a1b5f-c148-4709-8506-3f1c94f7a9b7"
   },
   "source": [
    "## Multiple Logistic Regression:\n",
    "* What is the probability for someone getting a loan with:\n",
    "    * credit_score = 300.\n",
    "    * loan_amount = 30,000,000\n",
    "    * age = 80\n",
    "    * marital = 0\n",
    "    * health_insurance = 0"
   ]
  },
  {
   "cell_type": "code",
   "execution_count": 34,
   "id": "062a815f-0015-4a1a-b46e-4d0e72a7451e",
   "metadata": {
    "id": "062a815f-0015-4a1a-b46e-4d0e72a7451e"
   },
   "outputs": [],
   "source": [
    "dfm = pd.read_csv(\"https://raw.githubusercontent.com/fgonzaleumbc/Data601_fall2022/main/Datasets/loans.csv\")"
   ]
  },
  {
   "cell_type": "code",
   "execution_count": 35,
   "id": "cZzh25hI2ez8",
   "metadata": {
    "colab": {
     "base_uri": "https://localhost:8080/",
     "height": 206
    },
    "id": "cZzh25hI2ez8",
    "outputId": "e25382dd-e697-4924-e718-8d18a52ce51e"
   },
   "outputs": [
    {
     "data": {
      "text/html": [
       "<div>\n",
       "<style scoped>\n",
       "    .dataframe tbody tr th:only-of-type {\n",
       "        vertical-align: middle;\n",
       "    }\n",
       "\n",
       "    .dataframe tbody tr th {\n",
       "        vertical-align: top;\n",
       "    }\n",
       "\n",
       "    .dataframe thead th {\n",
       "        text-align: right;\n",
       "    }\n",
       "</style>\n",
       "<table border=\"1\" class=\"dataframe\">\n",
       "  <thead>\n",
       "    <tr style=\"text-align: right;\">\n",
       "      <th></th>\n",
       "      <th>accepted</th>\n",
       "      <th>creditscore</th>\n",
       "      <th>amount</th>\n",
       "      <th>age</th>\n",
       "      <th>marital</th>\n",
       "      <th>health_ins</th>\n",
       "      <th>creditgrade</th>\n",
       "    </tr>\n",
       "  </thead>\n",
       "  <tbody>\n",
       "    <tr>\n",
       "      <th>0</th>\n",
       "      <td>0</td>\n",
       "      <td>394</td>\n",
       "      <td>96120915</td>\n",
       "      <td>38</td>\n",
       "      <td>0</td>\n",
       "      <td>1</td>\n",
       "      <td>A</td>\n",
       "    </tr>\n",
       "    <tr>\n",
       "      <th>1</th>\n",
       "      <td>0</td>\n",
       "      <td>400</td>\n",
       "      <td>14323452</td>\n",
       "      <td>46</td>\n",
       "      <td>1</td>\n",
       "      <td>0</td>\n",
       "      <td>A</td>\n",
       "    </tr>\n",
       "    <tr>\n",
       "      <th>2</th>\n",
       "      <td>0</td>\n",
       "      <td>399</td>\n",
       "      <td>63120669</td>\n",
       "      <td>64</td>\n",
       "      <td>0</td>\n",
       "      <td>0</td>\n",
       "      <td>A</td>\n",
       "    </tr>\n",
       "    <tr>\n",
       "      <th>3</th>\n",
       "      <td>0</td>\n",
       "      <td>379</td>\n",
       "      <td>15155047</td>\n",
       "      <td>49</td>\n",
       "      <td>0</td>\n",
       "      <td>0</td>\n",
       "      <td>A</td>\n",
       "    </tr>\n",
       "    <tr>\n",
       "      <th>4</th>\n",
       "      <td>0</td>\n",
       "      <td>356</td>\n",
       "      <td>79540877</td>\n",
       "      <td>55</td>\n",
       "      <td>1</td>\n",
       "      <td>0</td>\n",
       "      <td>A</td>\n",
       "    </tr>\n",
       "  </tbody>\n",
       "</table>\n",
       "</div>"
      ],
      "text/plain": [
       "   accepted  creditscore    amount  age  marital  health_ins creditgrade\n",
       "0         0          394  96120915   38        0           1           A\n",
       "1         0          400  14323452   46        1           0           A\n",
       "2         0          399  63120669   64        0           0           A\n",
       "3         0          379  15155047   49        0           0           A\n",
       "4         0          356  79540877   55        1           0           A"
      ]
     },
     "execution_count": 35,
     "metadata": {},
     "output_type": "execute_result"
    }
   ],
   "source": [
    "dfm.head()"
   ]
  },
  {
   "cell_type": "code",
   "execution_count": 36,
   "id": "2223c15f-d843-44ad-9251-a3117508e1ff",
   "metadata": {
    "colab": {
     "base_uri": "https://localhost:8080/",
     "height": 300
    },
    "id": "2223c15f-d843-44ad-9251-a3117508e1ff",
    "outputId": "5bd713d8-8a49-4357-84c2-dbbcb22f138a"
   },
   "outputs": [
    {
     "data": {
      "text/html": [
       "<div>\n",
       "<style scoped>\n",
       "    .dataframe tbody tr th:only-of-type {\n",
       "        vertical-align: middle;\n",
       "    }\n",
       "\n",
       "    .dataframe tbody tr th {\n",
       "        vertical-align: top;\n",
       "    }\n",
       "\n",
       "    .dataframe thead th {\n",
       "        text-align: right;\n",
       "    }\n",
       "</style>\n",
       "<table border=\"1\" class=\"dataframe\">\n",
       "  <thead>\n",
       "    <tr style=\"text-align: right;\">\n",
       "      <th></th>\n",
       "      <th>accepted</th>\n",
       "      <th>creditscore</th>\n",
       "      <th>amount</th>\n",
       "      <th>age</th>\n",
       "      <th>marital</th>\n",
       "      <th>health_ins</th>\n",
       "    </tr>\n",
       "  </thead>\n",
       "  <tbody>\n",
       "    <tr>\n",
       "      <th>count</th>\n",
       "      <td>15000.000000</td>\n",
       "      <td>15000.000000</td>\n",
       "      <td>1.500000e+04</td>\n",
       "      <td>15000.000000</td>\n",
       "      <td>15000.000000</td>\n",
       "      <td>15000.000000</td>\n",
       "    </tr>\n",
       "    <tr>\n",
       "      <th>mean</th>\n",
       "      <td>0.518600</td>\n",
       "      <td>287.329133</td>\n",
       "      <td>3.346065e+07</td>\n",
       "      <td>58.807333</td>\n",
       "      <td>0.490200</td>\n",
       "      <td>0.444467</td>\n",
       "    </tr>\n",
       "    <tr>\n",
       "      <th>std</th>\n",
       "      <td>0.499671</td>\n",
       "      <td>74.096185</td>\n",
       "      <td>2.887226e+07</td>\n",
       "      <td>20.860748</td>\n",
       "      <td>0.499921</td>\n",
       "      <td>0.496923</td>\n",
       "    </tr>\n",
       "    <tr>\n",
       "      <th>min</th>\n",
       "      <td>0.000000</td>\n",
       "      <td>100.000000</td>\n",
       "      <td>5.005890e+05</td>\n",
       "      <td>18.000000</td>\n",
       "      <td>0.000000</td>\n",
       "      <td>0.000000</td>\n",
       "    </tr>\n",
       "    <tr>\n",
       "      <th>25%</th>\n",
       "      <td>0.000000</td>\n",
       "      <td>246.000000</td>\n",
       "      <td>8.865364e+06</td>\n",
       "      <td>42.000000</td>\n",
       "      <td>0.000000</td>\n",
       "      <td>0.000000</td>\n",
       "    </tr>\n",
       "    <tr>\n",
       "      <th>50%</th>\n",
       "      <td>1.000000</td>\n",
       "      <td>299.000000</td>\n",
       "      <td>2.314822e+07</td>\n",
       "      <td>62.000000</td>\n",
       "      <td>0.000000</td>\n",
       "      <td>0.000000</td>\n",
       "    </tr>\n",
       "    <tr>\n",
       "      <th>75%</th>\n",
       "      <td>1.000000</td>\n",
       "      <td>345.000000</td>\n",
       "      <td>5.608367e+07</td>\n",
       "      <td>76.000000</td>\n",
       "      <td>1.000000</td>\n",
       "      <td>1.000000</td>\n",
       "    </tr>\n",
       "    <tr>\n",
       "      <th>max</th>\n",
       "      <td>1.000000</td>\n",
       "      <td>400.000000</td>\n",
       "      <td>9.999737e+07</td>\n",
       "      <td>90.000000</td>\n",
       "      <td>1.000000</td>\n",
       "      <td>1.000000</td>\n",
       "    </tr>\n",
       "  </tbody>\n",
       "</table>\n",
       "</div>"
      ],
      "text/plain": [
       "           accepted   creditscore        amount           age       marital  \\\n",
       "count  15000.000000  15000.000000  1.500000e+04  15000.000000  15000.000000   \n",
       "mean       0.518600    287.329133  3.346065e+07     58.807333      0.490200   \n",
       "std        0.499671     74.096185  2.887226e+07     20.860748      0.499921   \n",
       "min        0.000000    100.000000  5.005890e+05     18.000000      0.000000   \n",
       "25%        0.000000    246.000000  8.865364e+06     42.000000      0.000000   \n",
       "50%        1.000000    299.000000  2.314822e+07     62.000000      0.000000   \n",
       "75%        1.000000    345.000000  5.608367e+07     76.000000      1.000000   \n",
       "max        1.000000    400.000000  9.999737e+07     90.000000      1.000000   \n",
       "\n",
       "         health_ins  \n",
       "count  15000.000000  \n",
       "mean       0.444467  \n",
       "std        0.496923  \n",
       "min        0.000000  \n",
       "25%        0.000000  \n",
       "50%        0.000000  \n",
       "75%        1.000000  \n",
       "max        1.000000  "
      ]
     },
     "execution_count": 36,
     "metadata": {},
     "output_type": "execute_result"
    }
   ],
   "source": [
    "dfm.describe()"
   ]
  },
  {
   "cell_type": "code",
   "execution_count": 37,
   "id": "ZOOuONR83GUP",
   "metadata": {
    "id": "ZOOuONR83GUP"
   },
   "outputs": [],
   "source": [
    "x = dfm.loc[:,['creditscore','amount','age','marital','health_ins']].values\n",
    "y = dfm.loc[:,'accepted'].values"
   ]
  },
  {
   "cell_type": "code",
   "execution_count": 38,
   "id": "d6e23055-7c80-4fb7-ad24-a46f7a42546c",
   "metadata": {
    "colab": {
     "base_uri": "https://localhost:8080/"
    },
    "id": "d6e23055-7c80-4fb7-ad24-a46f7a42546c",
    "outputId": "220a703f-3b1d-43e3-cded-733e50f06163"
   },
   "outputs": [
    {
     "data": {
      "text/plain": [
       "0.477"
      ]
     },
     "execution_count": 38,
     "metadata": {},
     "output_type": "execute_result"
    }
   ],
   "source": [
    "X_train, X_test, y_train, y_test = train_test_split(x, y, test_size=0.2, random_state=1)\n",
    "logreg = LogisticRegression()\n",
    "logreg.fit(X_train, y_train)\n",
    "logreg.score(X_test, y_test)"
   ]
  },
  {
   "cell_type": "markdown",
   "id": "LCXWa-wl6PM4",
   "metadata": {
    "id": "LCXWa-wl6PM4"
   },
   "source": [
    "This is extremely low!!! What's going on? <br>\n",
    "Let's check the confusion matrix"
   ]
  },
  {
   "cell_type": "code",
   "execution_count": 39,
   "id": "b1d17DHB2D7L",
   "metadata": {
    "colab": {
     "base_uri": "https://localhost:8080/"
    },
    "id": "b1d17DHB2D7L",
    "outputId": "0f645893-4655-441f-a237-97ab796c1374"
   },
   "outputs": [
    {
     "name": "stdout",
     "output_type": "stream",
     "text": [
      "Confusion Matrix : \n",
      " [[1431    0]\n",
      " [1569    0]]\n"
     ]
    }
   ],
   "source": [
    "y_predict = logreg.predict(X_test)\n",
    "cm1 = confusion_matrix(y_test,y_predict)\n",
    "print('Confusion Matrix : \\n', cm1)"
   ]
  },
  {
   "cell_type": "markdown",
   "id": "Tz5dYjvr6juZ",
   "metadata": {
    "id": "Tz5dYjvr6juZ"
   },
   "source": [
    "I think I know what's going on.. Watch this."
   ]
  },
  {
   "cell_type": "code",
   "execution_count": 40,
   "id": "OoYeSxmZ2WTC",
   "metadata": {
    "colab": {
     "base_uri": "https://localhost:8080/"
    },
    "id": "OoYeSxmZ2WTC",
    "outputId": "cef58dbe-080b-4f29-fae6-02d33def79e5"
   },
   "outputs": [
    {
     "data": {
      "text/html": [
       "<div>\n",
       "<style scoped>\n",
       "    .dataframe tbody tr th:only-of-type {\n",
       "        vertical-align: middle;\n",
       "    }\n",
       "\n",
       "    .dataframe tbody tr th {\n",
       "        vertical-align: top;\n",
       "    }\n",
       "\n",
       "    .dataframe thead th {\n",
       "        text-align: right;\n",
       "    }\n",
       "</style>\n",
       "<table border=\"1\" class=\"dataframe\">\n",
       "  <thead>\n",
       "    <tr style=\"text-align: right;\">\n",
       "      <th></th>\n",
       "      <th>accepted</th>\n",
       "      <th>creditscore</th>\n",
       "      <th>amount</th>\n",
       "      <th>age</th>\n",
       "      <th>marital</th>\n",
       "      <th>health_ins</th>\n",
       "      <th>creditgrade</th>\n",
       "    </tr>\n",
       "  </thead>\n",
       "  <tbody>\n",
       "    <tr>\n",
       "      <th>0</th>\n",
       "      <td>0</td>\n",
       "      <td>394</td>\n",
       "      <td>7.982818</td>\n",
       "      <td>38</td>\n",
       "      <td>0</td>\n",
       "      <td>1</td>\n",
       "      <td>A</td>\n",
       "    </tr>\n",
       "    <tr>\n",
       "      <th>1</th>\n",
       "      <td>0</td>\n",
       "      <td>400</td>\n",
       "      <td>7.156048</td>\n",
       "      <td>46</td>\n",
       "      <td>1</td>\n",
       "      <td>0</td>\n",
       "      <td>A</td>\n",
       "    </tr>\n",
       "    <tr>\n",
       "      <th>2</th>\n",
       "      <td>0</td>\n",
       "      <td>399</td>\n",
       "      <td>7.800172</td>\n",
       "      <td>64</td>\n",
       "      <td>0</td>\n",
       "      <td>0</td>\n",
       "      <td>A</td>\n",
       "    </tr>\n",
       "    <tr>\n",
       "      <th>3</th>\n",
       "      <td>0</td>\n",
       "      <td>379</td>\n",
       "      <td>7.180557</td>\n",
       "      <td>49</td>\n",
       "      <td>0</td>\n",
       "      <td>0</td>\n",
       "      <td>A</td>\n",
       "    </tr>\n",
       "    <tr>\n",
       "      <th>4</th>\n",
       "      <td>0</td>\n",
       "      <td>356</td>\n",
       "      <td>7.900590</td>\n",
       "      <td>55</td>\n",
       "      <td>1</td>\n",
       "      <td>0</td>\n",
       "      <td>A</td>\n",
       "    </tr>\n",
       "  </tbody>\n",
       "</table>\n",
       "</div>"
      ],
      "text/plain": [
       "   accepted  creditscore    amount  age  marital  health_ins creditgrade\n",
       "0         0          394  7.982818   38        0           1           A\n",
       "1         0          400  7.156048   46        1           0           A\n",
       "2         0          399  7.800172   64        0           0           A\n",
       "3         0          379  7.180557   49        0           0           A\n",
       "4         0          356  7.900590   55        1           0           A"
      ]
     },
     "execution_count": 40,
     "metadata": {},
     "output_type": "execute_result"
    }
   ],
   "source": [
    "df = dfm.copy()\n",
    "df.amount = np.log10(df.amount) # Value of Amount features was too large and needed to be normalized or scaled.\n",
    "# Scaling can make significantly improve the model performance as shown in this example..\n",
    "df.head()"
   ]
  },
  {
   "cell_type": "code",
   "execution_count": 41,
   "id": "c4920e97",
   "metadata": {},
   "outputs": [
    {
     "data": {
      "text/html": [
       "<div>\n",
       "<style scoped>\n",
       "    .dataframe tbody tr th:only-of-type {\n",
       "        vertical-align: middle;\n",
       "    }\n",
       "\n",
       "    .dataframe tbody tr th {\n",
       "        vertical-align: top;\n",
       "    }\n",
       "\n",
       "    .dataframe thead th {\n",
       "        text-align: right;\n",
       "    }\n",
       "</style>\n",
       "<table border=\"1\" class=\"dataframe\">\n",
       "  <thead>\n",
       "    <tr style=\"text-align: right;\">\n",
       "      <th></th>\n",
       "      <th>accepted</th>\n",
       "      <th>creditscore</th>\n",
       "      <th>amount</th>\n",
       "      <th>age</th>\n",
       "      <th>marital</th>\n",
       "      <th>health_ins</th>\n",
       "    </tr>\n",
       "  </thead>\n",
       "  <tbody>\n",
       "    <tr>\n",
       "      <th>count</th>\n",
       "      <td>15000.000000</td>\n",
       "      <td>15000.000000</td>\n",
       "      <td>15000.000000</td>\n",
       "      <td>15000.000000</td>\n",
       "      <td>15000.000000</td>\n",
       "      <td>15000.000000</td>\n",
       "    </tr>\n",
       "    <tr>\n",
       "      <th>mean</th>\n",
       "      <td>0.518600</td>\n",
       "      <td>287.329133</td>\n",
       "      <td>7.294472</td>\n",
       "      <td>58.807333</td>\n",
       "      <td>0.490200</td>\n",
       "      <td>0.444467</td>\n",
       "    </tr>\n",
       "    <tr>\n",
       "      <th>std</th>\n",
       "      <td>0.499671</td>\n",
       "      <td>74.096185</td>\n",
       "      <td>0.511020</td>\n",
       "      <td>20.860748</td>\n",
       "      <td>0.499921</td>\n",
       "      <td>0.496923</td>\n",
       "    </tr>\n",
       "    <tr>\n",
       "      <th>min</th>\n",
       "      <td>0.000000</td>\n",
       "      <td>100.000000</td>\n",
       "      <td>5.699481</td>\n",
       "      <td>18.000000</td>\n",
       "      <td>0.000000</td>\n",
       "      <td>0.000000</td>\n",
       "    </tr>\n",
       "    <tr>\n",
       "      <th>25%</th>\n",
       "      <td>0.000000</td>\n",
       "      <td>246.000000</td>\n",
       "      <td>6.947697</td>\n",
       "      <td>42.000000</td>\n",
       "      <td>0.000000</td>\n",
       "      <td>0.000000</td>\n",
       "    </tr>\n",
       "    <tr>\n",
       "      <th>50%</th>\n",
       "      <td>1.000000</td>\n",
       "      <td>299.000000</td>\n",
       "      <td>7.364518</td>\n",
       "      <td>62.000000</td>\n",
       "      <td>0.000000</td>\n",
       "      <td>0.000000</td>\n",
       "    </tr>\n",
       "    <tr>\n",
       "      <th>75%</th>\n",
       "      <td>1.000000</td>\n",
       "      <td>345.000000</td>\n",
       "      <td>7.748836</td>\n",
       "      <td>76.000000</td>\n",
       "      <td>1.000000</td>\n",
       "      <td>1.000000</td>\n",
       "    </tr>\n",
       "    <tr>\n",
       "      <th>max</th>\n",
       "      <td>1.000000</td>\n",
       "      <td>400.000000</td>\n",
       "      <td>7.999989</td>\n",
       "      <td>90.000000</td>\n",
       "      <td>1.000000</td>\n",
       "      <td>1.000000</td>\n",
       "    </tr>\n",
       "  </tbody>\n",
       "</table>\n",
       "</div>"
      ],
      "text/plain": [
       "           accepted   creditscore        amount           age       marital  \\\n",
       "count  15000.000000  15000.000000  15000.000000  15000.000000  15000.000000   \n",
       "mean       0.518600    287.329133      7.294472     58.807333      0.490200   \n",
       "std        0.499671     74.096185      0.511020     20.860748      0.499921   \n",
       "min        0.000000    100.000000      5.699481     18.000000      0.000000   \n",
       "25%        0.000000    246.000000      6.947697     42.000000      0.000000   \n",
       "50%        1.000000    299.000000      7.364518     62.000000      0.000000   \n",
       "75%        1.000000    345.000000      7.748836     76.000000      1.000000   \n",
       "max        1.000000    400.000000      7.999989     90.000000      1.000000   \n",
       "\n",
       "         health_ins  \n",
       "count  15000.000000  \n",
       "mean       0.444467  \n",
       "std        0.496923  \n",
       "min        0.000000  \n",
       "25%        0.000000  \n",
       "50%        0.000000  \n",
       "75%        1.000000  \n",
       "max        1.000000  "
      ]
     },
     "execution_count": 41,
     "metadata": {},
     "output_type": "execute_result"
    }
   ],
   "source": [
    "df.describe()"
   ]
  },
  {
   "cell_type": "code",
   "execution_count": 42,
   "id": "98f15b42",
   "metadata": {},
   "outputs": [
    {
     "data": {
      "text/plain": [
       "0.9593333333333334"
      ]
     },
     "execution_count": 42,
     "metadata": {},
     "output_type": "execute_result"
    }
   ],
   "source": [
    "x = df.loc[:,['creditscore','amount','age','marital','health_ins']].values\n",
    "X_train, X_test, y_train, y_test = train_test_split(x, y, test_size=0.2, random_state=1)\n",
    "logreg = LogisticRegression()\n",
    "logreg.fit(X_train, y_train)\n",
    "logreg.score(X_test, y_test)"
   ]
  },
  {
   "cell_type": "code",
   "execution_count": 43,
   "id": "jxVqhJas5VOW",
   "metadata": {
    "colab": {
     "base_uri": "https://localhost:8080/"
    },
    "id": "jxVqhJas5VOW",
    "outputId": "0740b15c-1a2b-44d7-93c4-fb2476b21a3a"
   },
   "outputs": [
    {
     "name": "stdout",
     "output_type": "stream",
     "text": [
      "Confusion Matrix : \n",
      " [[1359   72]\n",
      " [  50 1519]]\n",
      "Accuracy :  0.9593333333333334\n",
      "Sensitivity :  0.949685534591195\n",
      "Specificity :  0.9681325685149776\n"
     ]
    }
   ],
   "source": [
    "y_predict = logreg.predict(X_test)\n",
    "cm1 = confusion_matrix(y_test,y_predict)\n",
    "print('Confusion Matrix : \\n', cm1)\n",
    "\n",
    "total1=sum(sum(cm1))\n",
    "#####from confusion matrix calculate accuracy\n",
    "accuracy1=(cm1[0,0]+cm1[1,1])/total1\n",
    "print ('Accuracy : ', accuracy1)\n",
    "\n",
    "sensitivity1 = cm1[0,0]/(cm1[0,0]+cm1[0,1])\n",
    "print('Sensitivity : ', sensitivity1 )\n",
    "\n",
    "specificity1 = cm1[1,1]/(cm1[1,0]+cm1[1,1])\n",
    "print('Specificity : ', specificity1)"
   ]
  },
  {
   "cell_type": "code",
   "execution_count": 44,
   "id": "1beda7f9-02e8-4ed1-81da-a569f1d402e7",
   "metadata": {
    "colab": {
     "base_uri": "https://localhost:8080/"
    },
    "id": "1beda7f9-02e8-4ed1-81da-a569f1d402e7",
    "outputId": "ae5a1965-9025-4080-df24-2439fa1bb17d"
   },
   "outputs": [
    {
     "data": {
      "text/plain": [
       "array([0], dtype=int64)"
      ]
     },
     "execution_count": 44,
     "metadata": {},
     "output_type": "execute_result"
    }
   ],
   "source": [
    "test_info = np.array([300,\n",
    "                      np.log10(30000000),\n",
    "                      80,\n",
    "                      0,\n",
    "                      0]) # Using the model to predict person loan.\n",
    "logreg.predict(test_info.reshape((1,5)))"
   ]
  },
  {
   "cell_type": "markdown",
   "id": "CjhHZh3R7Hle",
   "metadata": {
    "id": "CjhHZh3R7Hle"
   },
   "source": [
    "It looks like this person won't get the loan. <br>\n",
    "What was the probability of him getting the loan?"
   ]
  },
  {
   "cell_type": "code",
   "execution_count": 45,
   "id": "69a8789f-ea96-409f-88ef-aa8ce03c1db8",
   "metadata": {
    "colab": {
     "base_uri": "https://localhost:8080/"
    },
    "id": "69a8789f-ea96-409f-88ef-aa8ce03c1db8",
    "outputId": "05d53f33-d1ff-4ea4-f38b-ea387ef8709d"
   },
   "outputs": [
    {
     "name": "stdout",
     "output_type": "stream",
     "text": [
      "[[ 3.37064521e-02 -3.04558624e+00 -3.14040861e-03  2.12860341e+00\n",
      "   4.63192267e+00]] [9.35347929]\n"
     ]
    }
   ],
   "source": [
    "print(logreg.coef_, logreg.intercept_)"
   ]
  },
  {
   "cell_type": "code",
   "execution_count": 46,
   "id": "15fd6d3f-132e-43c2-b02d-1b0d96635b64",
   "metadata": {
    "colab": {
     "base_uri": "https://localhost:8080/"
    },
    "id": "15fd6d3f-132e-43c2-b02d-1b0d96635b64",
    "outputId": "c6221f72-5552-4a19-97d0-969c821c16bd"
   },
   "outputs": [
    {
     "name": "stdout",
     "output_type": "stream",
     "text": [
      "[0.0277053]\n"
     ]
    }
   ],
   "source": [
    "a = logreg.coef_[0,0]*test_info[0]+logreg.coef_[0,1]*test_info[1]+logreg.coef_[0,2]*test_info[2]+logreg.coef_[0,3]*test_info[3]+logreg.coef_[0,4]*test_info[4]+logreg.intercept_\n",
    "p = np.exp(a)/(1 + np.exp(a))\n",
    "print(p)"
   ]
  },
  {
   "cell_type": "code",
   "execution_count": 47,
   "id": "c17b01a3-0019-4ca8-9f93-9cc76ea6e996",
   "metadata": {
    "colab": {
     "base_uri": "https://localhost:8080/"
    },
    "id": "c17b01a3-0019-4ca8-9f93-9cc76ea6e996",
    "outputId": "bb541b7b-fe2d-4166-a3bc-ae674d65e64a"
   },
   "outputs": [
    {
     "name": "stdout",
     "output_type": "stream",
     "text": [
      "[0.0277053]\n"
     ]
    }
   ],
   "source": [
    "a = logreg.intercept_ \n",
    "for i in range(0,5):\n",
    "  a = a+logreg.coef_[0,i]*test_info[i]\n",
    "p = np.exp(a)/(1 + np.exp(a))\n",
    "print(p)"
   ]
  },
  {
   "cell_type": "markdown",
   "id": "JMgDhYDG7VC8",
   "metadata": {
    "id": "JMgDhYDG7VC8"
   },
   "source": [
    "Ouch! 2.77% only. No way he can get a loan!"
   ]
  },
  {
   "cell_type": "markdown",
   "id": "59c7d124",
   "metadata": {},
   "source": [
    "We can use the input function to test the functionality of the classification model. This would be a demonstration of the type of questions a deployed model could ask a loan applicant."
   ]
  },
  {
   "cell_type": "code",
   "execution_count": 62,
   "id": "a5785734",
   "metadata": {},
   "outputs": [
    {
     "name": "stdout",
     "output_type": "stream",
     "text": [
      "Input your credit score (100-400): 300\n",
      "What amount of loan would you like (Positive value): 40000\n",
      "What is your age (18-150): 18\n",
      "Marital Status (0 or 1): 0\n",
      "Health Insurance (0 or 1): 0\n",
      "Congratulations you will get a loan.\n"
     ]
    }
   ],
   "source": [
    "crd_score = pd.to_numeric(input('Input your credit score (100-400): '))\n",
    "amnt_requested = pd.to_numeric(input('What amount of loan would you like (Positive value, no commas): '))\n",
    "your_age = pd.to_numeric(input('What is your age (18-150): '))\n",
    "mart_status = pd.to_numeric(input('Marital Status (0 or 1): '))\n",
    "hlth_insurance = pd.to_numeric(input('Health Insurance (0 or 1): '))\n",
    "\n",
    "# Conditional statements. Will only enter the prediction model if the format for input is correct.\n",
    "# Otherwise will print that input the data in correct format.\n",
    "if(((100 <= crd_score) and (crd_score <= 400)) and # Credit score can only be between 100 and 400.\n",
    "    (amnt_requested > 0) and # Amount requested can only be positive else there is an error.\n",
    "    ((18 <= your_age) and (your_age <= 150)) and # Age can only be greater than 18 or less than 130 for sure .\n",
    "    ((mart_status == 0) or (mart_status == 1)) and # Marital status has to be 1 or 0\n",
    "    ((hlth_insurance == 0) or (hlth_insurance == 1))): # Health insurance has to be 1 or 0\n",
    "        \n",
    "    test_info = np.array([crd_score,\n",
    "                          np.log10(int(amnt_requested)),\n",
    "                          your_age,\n",
    "                          mart_status,\n",
    "                          hlth_insurance]) \n",
    "        \n",
    "    # Using the model to predict loan approval with person details.\n",
    "    logreg.predict(test_info.reshape((1,5)))\n",
    "\n",
    "    if logreg.predict(test_info.reshape((1,5)))[0] == 0:\n",
    "        print(f'Sorry no loan for you.')\n",
    "    if logreg.predict(test_info.reshape((1,5)))[0] == 1:\n",
    "        print(f'Congratulations you will get a loan.')\n",
    "else:\n",
    "    # If there are errors in the input data it will print this messge.\n",
    "    print('Please fix the input or format error(s).')"
   ]
  },
  {
   "cell_type": "markdown",
   "id": "C0-9wvsARZjm",
   "metadata": {
    "id": "C0-9wvsARZjm"
   },
   "source": [
    "##  ScikitLearn has many other Machine Learning Algorithms\n",
    "Note that defining the model (or algorithms) is the same if not very similar and typically involves the following steps:\n",
    "- Defining values of the independent variable or variables (x)\n",
    "- Defining values of the dependent variable or variable to be predicted (y)\n",
    "- Scaling/normalization if needed\n",
    "- Train/Test Split (Typically 80/20)\n",
    "- Fitting the training data to the model\n",
    "- Calculate predictions using the testing data \n",
    "- Calculating metrics, predicting, using the model, etc.\n",
    "- Deploy and use the model. "
   ]
  },
  {
   "cell_type": "code",
   "execution_count": 49,
   "id": "192aea11",
   "metadata": {},
   "outputs": [
    {
     "data": {
      "text/html": [
       "<div>\n",
       "<style scoped>\n",
       "    .dataframe tbody tr th:only-of-type {\n",
       "        vertical-align: middle;\n",
       "    }\n",
       "\n",
       "    .dataframe tbody tr th {\n",
       "        vertical-align: top;\n",
       "    }\n",
       "\n",
       "    .dataframe thead th {\n",
       "        text-align: right;\n",
       "    }\n",
       "</style>\n",
       "<table border=\"1\" class=\"dataframe\">\n",
       "  <thead>\n",
       "    <tr style=\"text-align: right;\">\n",
       "      <th></th>\n",
       "      <th>accepted</th>\n",
       "      <th>creditscore</th>\n",
       "      <th>amount</th>\n",
       "      <th>age</th>\n",
       "      <th>marital</th>\n",
       "      <th>health_ins</th>\n",
       "      <th>creditgrade</th>\n",
       "    </tr>\n",
       "  </thead>\n",
       "  <tbody>\n",
       "    <tr>\n",
       "      <th>0</th>\n",
       "      <td>0</td>\n",
       "      <td>394</td>\n",
       "      <td>7.982818</td>\n",
       "      <td>38</td>\n",
       "      <td>0</td>\n",
       "      <td>1</td>\n",
       "      <td>A</td>\n",
       "    </tr>\n",
       "    <tr>\n",
       "      <th>1</th>\n",
       "      <td>0</td>\n",
       "      <td>400</td>\n",
       "      <td>7.156048</td>\n",
       "      <td>46</td>\n",
       "      <td>1</td>\n",
       "      <td>0</td>\n",
       "      <td>A</td>\n",
       "    </tr>\n",
       "    <tr>\n",
       "      <th>2</th>\n",
       "      <td>0</td>\n",
       "      <td>399</td>\n",
       "      <td>7.800172</td>\n",
       "      <td>64</td>\n",
       "      <td>0</td>\n",
       "      <td>0</td>\n",
       "      <td>A</td>\n",
       "    </tr>\n",
       "    <tr>\n",
       "      <th>3</th>\n",
       "      <td>0</td>\n",
       "      <td>379</td>\n",
       "      <td>7.180557</td>\n",
       "      <td>49</td>\n",
       "      <td>0</td>\n",
       "      <td>0</td>\n",
       "      <td>A</td>\n",
       "    </tr>\n",
       "    <tr>\n",
       "      <th>4</th>\n",
       "      <td>0</td>\n",
       "      <td>356</td>\n",
       "      <td>7.900590</td>\n",
       "      <td>55</td>\n",
       "      <td>1</td>\n",
       "      <td>0</td>\n",
       "      <td>A</td>\n",
       "    </tr>\n",
       "  </tbody>\n",
       "</table>\n",
       "</div>"
      ],
      "text/plain": [
       "   accepted  creditscore    amount  age  marital  health_ins creditgrade\n",
       "0         0          394  7.982818   38        0           1           A\n",
       "1         0          400  7.156048   46        1           0           A\n",
       "2         0          399  7.800172   64        0           0           A\n",
       "3         0          379  7.180557   49        0           0           A\n",
       "4         0          356  7.900590   55        1           0           A"
      ]
     },
     "execution_count": 49,
     "metadata": {},
     "output_type": "execute_result"
    }
   ],
   "source": [
    "df = dfm.copy()\n",
    "df.amount = np.log10(df.amount)\n",
    "df.head()"
   ]
  },
  {
   "cell_type": "code",
   "execution_count": 50,
   "id": "39cc35b2",
   "metadata": {},
   "outputs": [],
   "source": [
    "x = df.loc[:,['creditscore','amount','age','marital','health_ins']].values\n",
    "y = df.loc[:,'accepted'].values\n",
    "\n",
    "X_train, X_test, y_train, y_test = train_test_split(x, y, test_size=0.2, random_state=1)"
   ]
  },
  {
   "cell_type": "markdown",
   "id": "aa3e1c80",
   "metadata": {},
   "source": [
    "### k-Nearest Neighbors\n",
    "\n",
    "https://scikit-learn.org/stable/modules/generated/sklearn.neighbors.KNeighborsClassifier.html\n",
    "https://scikit-learn.org/stable/modules/neighbors.html#classification"
   ]
  },
  {
   "cell_type": "code",
   "execution_count": 51,
   "id": "teH5aQihR3-p",
   "metadata": {
    "colab": {
     "base_uri": "https://localhost:8080/"
    },
    "id": "teH5aQihR3-p",
    "outputId": "00dc5a81-0bbc-4b2f-f4ee-25bc3752fa62"
   },
   "outputs": [
    {
     "name": "stdout",
     "output_type": "stream",
     "text": [
      "Confusion Matrix : \n",
      " [[1337   94]\n",
      " [ 237 1332]]\n",
      "Accuracy :  0.8896666666666667\n",
      "Sensitivity :  0.9343116701607268\n",
      "Specificity :  0.8489483747609943\n"
     ]
    }
   ],
   "source": [
    "neigh = KNeighborsClassifier(n_neighbors=2)\n",
    "neigh.fit(X_train, y_train)\n",
    "y_predict = neigh.predict(X_test)\n",
    "\n",
    "cm1 = confusion_matrix(y_test,y_predict)\n",
    "print('Confusion Matrix : \\n', cm1)\n",
    "total1=sum(sum(cm1))\n",
    "#neigh.score(X_test, y_test) # Accuracy from the .score function.\n",
    "#####from confusion matrix calculate accuracy\n",
    "accuracy1=(cm1[0,0]+cm1[1,1])/total1\n",
    "print ('Accuracy : ', accuracy1)\n",
    "\n",
    "sensitivity1 = cm1[0,0]/(cm1[0,0]+cm1[0,1])\n",
    "print('Sensitivity : ', sensitivity1 )\n",
    "\n",
    "specificity1 = cm1[1,1]/(cm1[1,0]+cm1[1,1])\n",
    "print('Specificity : ', specificity1)"
   ]
  },
  {
   "cell_type": "markdown",
   "id": "XFHIc9MzTjZZ",
   "metadata": {
    "id": "XFHIc9MzTjZZ"
   },
   "source": [
    "### Perceptron\n",
    "https://scikit-learn.org/stable/modules/generated/sklearn.linear_model.Perceptron.html\n",
    "https://scikit-learn.org/stable/modules/linear_model.html#perceptron"
   ]
  },
  {
   "cell_type": "code",
   "execution_count": 52,
   "id": "DIsSlslASklO",
   "metadata": {
    "colab": {
     "base_uri": "https://localhost:8080/"
    },
    "id": "DIsSlslASklO",
    "outputId": "4e584987-1dfd-4f06-a998-e9af318c0eb3"
   },
   "outputs": [
    {
     "name": "stdout",
     "output_type": "stream",
     "text": [
      "Confusion Matrix : \n",
      " [[1361   70]\n",
      " [  67 1502]]\n",
      "Accuracy :  0.9543333333333334\n",
      "Sensitivity :  0.9510831586303284\n",
      "Specificity :  0.9572976418100702\n"
     ]
    }
   ],
   "source": [
    "clf = Perceptron(tol=1e-3, random_state=0)\n",
    "clf.fit(X_train, y_train)\n",
    "#clf.score(X_test, y_test)\n",
    "y_predict = clf.predict(X_test)\n",
    "\n",
    "cm1 = confusion_matrix(y_test,y_predict)\n",
    "print('Confusion Matrix : \\n', cm1)\n",
    "total1=sum(sum(cm1))\n",
    "#clf.score(X_test, y_test) # Accuracy from the .score function.\n",
    "#####from confusion matrix calculate accuracy\n",
    "accuracy1=(cm1[0,0]+cm1[1,1])/total1\n",
    "print ('Accuracy : ', accuracy1)\n",
    "\n",
    "sensitivity1 = cm1[0,0]/(cm1[0,0]+cm1[0,1])\n",
    "print('Sensitivity : ', sensitivity1 )\n",
    "\n",
    "specificity1 = cm1[1,1]/(cm1[1,0]+cm1[1,1])\n",
    "print('Specificity : ', specificity1)"
   ]
  },
  {
   "cell_type": "markdown",
   "id": "D0WixpUEUHpi",
   "metadata": {
    "id": "D0WixpUEUHpi"
   },
   "source": [
    " ### SGD Classifier\n",
    " Regularized linear models with stochastic gradient descent (SGD) learning.\n",
    " https://scikit-learn.org/stable/modules/generated/sklearn.linear_model.SGDClassifier.html\n",
    " https://scikit-learn.org/stable/modules/sgd.html#sgd"
   ]
  },
  {
   "cell_type": "code",
   "execution_count": 53,
   "id": "hlJmRut-TO7m",
   "metadata": {
    "colab": {
     "base_uri": "https://localhost:8080/"
    },
    "id": "hlJmRut-TO7m",
    "outputId": "192e7b13-39a8-44a3-a949-96fe4fc5f5ad"
   },
   "outputs": [
    {
     "name": "stdout",
     "output_type": "stream",
     "text": [
      "Confusion Matrix : \n",
      " [[1352   79]\n",
      " [  37 1532]]\n",
      "Accuracy :  0.9613333333333334\n",
      "Sensitivity :  0.9447938504542278\n",
      "Specificity :  0.9764181007010835\n"
     ]
    }
   ],
   "source": [
    "clf = make_pipeline(StandardScaler(),SGDClassifier(max_iter=1000, tol=1e-3))\n",
    "clf.fit(X_train, y_train)\n",
    "y_predict = clf.predict(X_test)\n",
    "\n",
    "cm1 = confusion_matrix(y_test,y_predict)\n",
    "print('Confusion Matrix : \\n', cm1)\n",
    "total1=sum(sum(cm1))\n",
    "#clf.score(X_test, y_test) # Accuracy from the .score function.\n",
    "#####from confusion matrix calculate accuracy\n",
    "accuracy1=(cm1[0,0]+cm1[1,1])/total1\n",
    "print ('Accuracy : ', accuracy1)\n",
    "\n",
    "sensitivity1 = cm1[0,0]/(cm1[0,0]+cm1[0,1])\n",
    "print('Sensitivity : ', sensitivity1 )\n",
    "\n",
    "specificity1 = cm1[1,1]/(cm1[1,0]+cm1[1,1])\n",
    "print('Specificity : ', specificity1)"
   ]
  },
  {
   "cell_type": "markdown",
   "id": "OGAHWr5woDYE",
   "metadata": {
    "id": "OGAHWr5woDYE"
   },
   "source": [
    "### Artificial Neural Network\n",
    "Tensorflow Sequential Model\n",
    "https://www.tensorflow.org/guide/keras/sequential_model\n",
    "\n",
    "#### Artificial Neural Network (One Layer)"
   ]
  },
  {
   "cell_type": "code",
   "execution_count": 54,
   "id": "gK1inQfKUpXQ",
   "metadata": {
    "colab": {
     "base_uri": "https://localhost:8080/"
    },
    "id": "gK1inQfKUpXQ",
    "outputId": "03c41e72-0377-4734-f774-2fcb871cbbc8"
   },
   "outputs": [
    {
     "data": {
      "text/plain": [
       "<keras.callbacks.History at 0x11b67372ee0>"
      ]
     },
     "execution_count": 54,
     "metadata": {},
     "output_type": "execute_result"
    }
   ],
   "source": [
    "number_of_classes = 1\n",
    "number_of_features = 5\n",
    "model = Sequential()\n",
    "model.add(Dense(number_of_classes, activation = 'sigmoid', input_dim = number_of_features))\n",
    "model.compile(optimizer='adam', loss='binary_crossentropy')\n",
    "model.fit(X_train, y_train, epochs=100, verbose=0, validation_data=(X_test, y_test))"
   ]
  },
  {
   "cell_type": "code",
   "execution_count": 55,
   "id": "WywUvE5FVUbo",
   "metadata": {
    "colab": {
     "base_uri": "https://localhost:8080/"
    },
    "id": "WywUvE5FVUbo",
    "outputId": "205ba756-d5e8-4229-b4b7-ad59f513d466"
   },
   "outputs": [
    {
     "name": "stdout",
     "output_type": "stream",
     "text": [
      "Model: \"sequential\"\n",
      "_________________________________________________________________\n",
      " Layer (type)                Output Shape              Param #   \n",
      "=================================================================\n",
      " dense (Dense)               (None, 1)                 6         \n",
      "                                                                 \n",
      "=================================================================\n",
      "Total params: 6\n",
      "Trainable params: 6\n",
      "Non-trainable params: 0\n",
      "_________________________________________________________________\n"
     ]
    }
   ],
   "source": [
    "model.summary()"
   ]
  },
  {
   "cell_type": "code",
   "execution_count": 56,
   "id": "mpa109RRWKiH",
   "metadata": {
    "colab": {
     "base_uri": "https://localhost:8080/"
    },
    "id": "mpa109RRWKiH",
    "outputId": "02a38dcb-6397-4693-e1c2-7d7d7c549501"
   },
   "outputs": [
    {
     "name": "stdout",
     "output_type": "stream",
     "text": [
      "94/94 [==============================] - 0s 1ms/step\n",
      "Confusion Matrix : \n",
      " [[1360   71]\n",
      " [  33 1536]]\n",
      "Accuracy :  0.9653333333333334\n",
      "Sensitivity :  0.9503843466107617\n",
      "Specificity :  0.9789674952198852\n"
     ]
    }
   ],
   "source": [
    "y_predict = model.predict(X_test)\n",
    "y_predict[y_predict>=0.5] = 1\n",
    "y_predict[y_predict<0.5] = 0\n",
    "\n",
    "cm1 = confusion_matrix(y_test,y_predict)\n",
    "print('Confusion Matrix : \\n', cm1)\n",
    "total1=sum(sum(cm1))\n",
    "#####from confusion matrix calculate accuracy\n",
    "accuracy1=(cm1[0,0]+cm1[1,1])/total1\n",
    "print ('Accuracy : ', accuracy1)\n",
    "\n",
    "sensitivity1 = cm1[0,0]/(cm1[0,0]+cm1[0,1])\n",
    "print('Sensitivity : ', sensitivity1 )\n",
    "\n",
    "specificity1 = cm1[1,1]/(cm1[1,0]+cm1[1,1])\n",
    "print('Specificity : ', specificity1)"
   ]
  },
  {
   "cell_type": "markdown",
   "id": "lQpUEgdpoQ58",
   "metadata": {
    "id": "lQpUEgdpoQ58"
   },
   "source": [
    "#### Artificial Neural Network (Three Layers)"
   ]
  },
  {
   "cell_type": "code",
   "execution_count": 57,
   "id": "rt4XhsUuXLlv",
   "metadata": {
    "id": "rt4XhsUuXLlv"
   },
   "outputs": [],
   "source": [
    "input_layer = Input(shape=(X_train.shape[1],))\n",
    "dense_layer_1 = Dense(6, activation='sigmoid')(input_layer)\n",
    "dense_layer_2 = Dense(6, activation='sigmoid')(dense_layer_1)\n",
    "output = Dense(1, activation='sigmoid')(dense_layer_2)"
   ]
  },
  {
   "cell_type": "code",
   "execution_count": 58,
   "id": "qFA402c9g-hc",
   "metadata": {
    "colab": {
     "base_uri": "https://localhost:8080/"
    },
    "id": "qFA402c9g-hc",
    "outputId": "fc6182fe-a3dd-4122-db9a-c552936df4b1"
   },
   "outputs": [
    {
     "name": "stdout",
     "output_type": "stream",
     "text": [
      "Model: \"model\"\n",
      "_________________________________________________________________\n",
      " Layer (type)                Output Shape              Param #   \n",
      "=================================================================\n",
      " input_1 (InputLayer)        [(None, 5)]               0         \n",
      "                                                                 \n",
      " dense_1 (Dense)             (None, 6)                 36        \n",
      "                                                                 \n",
      " dense_2 (Dense)             (None, 6)                 42        \n",
      "                                                                 \n",
      " dense_3 (Dense)             (None, 1)                 7         \n",
      "                                                                 \n",
      "=================================================================\n",
      "Total params: 85\n",
      "Trainable params: 85\n",
      "Non-trainable params: 0\n",
      "_________________________________________________________________\n",
      "None\n"
     ]
    }
   ],
   "source": [
    "model = Model(inputs=input_layer, outputs=output)\n",
    "model.compile(optimizer='adam', loss='binary_crossentropy')\n",
    "print(model.summary())"
   ]
  },
  {
   "cell_type": "code",
   "execution_count": 59,
   "id": "biy_KoNJjM6T",
   "metadata": {
    "id": "biy_KoNJjM6T"
   },
   "outputs": [],
   "source": [
    "layer = Normalization(axis=-1)\n",
    "layer.adapt(X_train)\n",
    "X_train_n = layer(X_train)\n",
    "X_test_n = layer(X_test)"
   ]
  },
  {
   "cell_type": "code",
   "execution_count": 60,
   "id": "F7ZRBqwblMkO",
   "metadata": {
    "colab": {
     "base_uri": "https://localhost:8080/"
    },
    "id": "F7ZRBqwblMkO",
    "outputId": "e580539a-5185-45b0-b8c7-d6851b54353b"
   },
   "outputs": [
    {
     "name": "stdout",
     "output_type": "stream",
     "text": [
      "94/94 [==============================] - 0s 1ms/step\n",
      "Confusion Matrix : \n",
      " [[1389   42]\n",
      " [  10 1559]]\n",
      "Accuracy :  0.9826666666666667\n",
      "Sensitivity :  0.9706498951781971\n",
      "Specificity :  0.9936265137029955\n"
     ]
    }
   ],
   "source": [
    "history = model.fit(X_train_n, y_train, epochs=50, verbose=0, validation_data=(X_test_n, y_test))\n",
    "\n",
    "y_predict = model.predict(X_test_n)\n",
    "y_predict[y_predict>=0.5] = 1\n",
    "y_predict[y_predict<0.5] = 0\n",
    "\n",
    "cm1 = confusion_matrix(y_test,y_predict)\n",
    "print('Confusion Matrix : \\n', cm1)\n",
    "total1=sum(sum(cm1))\n",
    "#####from confusion matrix calculate accuracy\n",
    "accuracy1=(cm1[0,0]+cm1[1,1])/total1\n",
    "print ('Accuracy : ', accuracy1)\n",
    "\n",
    "sensitivity1 = cm1[0,0]/(cm1[0,0]+cm1[0,1])\n",
    "print('Sensitivity : ', sensitivity1 )\n",
    "\n",
    "specificity1 = cm1[1,1]/(cm1[1,0]+cm1[1,1])\n",
    "print('Specificity : ', specificity1)"
   ]
  },
  {
   "cell_type": "markdown",
   "id": "59b3b1f0",
   "metadata": {},
   "source": [
    "### SKLearn Neural Networks\n",
    "https://scikit-learn.org/stable/modules/neural_networks_supervised.html"
   ]
  },
  {
   "cell_type": "markdown",
   "id": "17abb394",
   "metadata": {},
   "source": [
    "# Notebook End"
   ]
  },
  {
   "cell_type": "code",
   "execution_count": null,
   "id": "ba380100",
   "metadata": {},
   "outputs": [],
   "source": []
  },
  {
   "cell_type": "code",
   "execution_count": null,
   "id": "00f086c8",
   "metadata": {},
   "outputs": [],
   "source": []
  },
  {
   "cell_type": "code",
   "execution_count": null,
   "id": "HSDnVGu-W2Nk",
   "metadata": {
    "id": "HSDnVGu-W2Nk"
   },
   "outputs": [],
   "source": []
  }
 ],
 "metadata": {
  "colab": {
   "collapsed_sections": [],
   "include_colab_link": true,
   "name": "DATA601_LogisticRegression.ipynb",
   "provenance": []
  },
  "kernelspec": {
   "display_name": "Python 3 (ipykernel)",
   "language": "python",
   "name": "python3"
  },
  "language_info": {
   "codemirror_mode": {
    "name": "ipython",
    "version": 3
   },
   "file_extension": ".py",
   "mimetype": "text/x-python",
   "name": "python",
   "nbconvert_exporter": "python",
   "pygments_lexer": "ipython3",
   "version": "3.9.12"
  }
 },
 "nbformat": 4,
 "nbformat_minor": 5
}
