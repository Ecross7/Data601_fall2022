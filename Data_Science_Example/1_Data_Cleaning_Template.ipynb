{
 "cells": [
  {
   "cell_type": "markdown",
   "id": "18c7e3a0",
   "metadata": {},
   "source": [
    "<div class=\"alert alert-block alert-info\">\n",
    "Notebook Author:<br>Felix Gonzalez, P.E. <br> Adjunct Instructor, <br> Division of Professional Studies <br> Computer Science and Electrical Engineering <br> University of Maryland Baltimore County <br> fgonzale@umbc.edu\n",
    "</div>"
   ]
  },
  {
   "cell_type": "markdown",
   "id": "f867845e",
   "metadata": {},
   "source": [
    "<div class=\"alert alert-block alert-info\">\n",
    "Acknowledgements:<br>\n",
    "This dataset was generated from The Movie Database API (https://www.kaggle.com/datasets/tmdb/themoviedb.org). This product uses the TMDb API but is not endorsed or certified by TMDb. Their API also provides access to data on many additional movies, actors and actresses, crew members, and TV shows. You can try it for yourself here: https://www.themoviedb.org/documentation/api.\n",
    "</div>"
   ]
  },
  {
   "cell_type": "markdown",
   "id": "9b2ac0d8",
   "metadata": {},
   "source": [
    "# Data Cleaning Template\n",
    "This notebook can be used as a template for performing data cleaning of any data. Once the data is loaded as a dataframe (DF), most functions can be used as is with minimal modifications. Only functions that call a feature or column name would need to be modified as appropriate. "
   ]
  },
  {
   "cell_type": "markdown",
   "id": "7f6fca13",
   "metadata": {},
   "source": [
    "# Analysis Goal\n",
    "This dataset was selected as an example because it included a various data types including various forms of nominal, qualitative, quantitative and continous data types in the features. For example, the dataset includes examples of structured data such as currency related features (e.g., budget, revenue), categorical features (e.g., genre, original language), numerical features (e.g., runtime), dates (e.g., release dates), entity/organization features (e.g., production company, production country), as well as unstructured data (e.g., title, overview). Other example data types that are NOT in this dataset include geographical information (e.g., coordinates such as latitude and longitude), audio, speech, video, and pictures.\n",
    "\n",
    "All of these can be used to perform various analytical tasks from calculating new derived features, simple visualizations to ML classification. For example:\n",
    "- Could use budget and revenue to calculate a revenue/budget ratio. If the revenue = box_office_earning-budget we can calculate the box_office_earnings = revenue+budget. Other derived features that may be of interest and could be calculated wiht the data could be Return of Investment. These would be derived (i.e., calculated) features. A subject matter expert (SME) familiar with the data may be able to provide further advice on which metrics would be useful. \n",
    "- Could use the release dates and revenue (or budget) to trend the revenue per year. Note that the date does not seem to provide information if the currency data is adjusted for inflation. Adjusting for inflation may be addressed by obtaining historical inflation and adjusting the dataset.\n",
    "- Could use the unstructured data to create a classification system and classify the genre of a new movie (i.e., by reading its overview). This would be similar to a new email being classified as SPAM or HAM.\n",
    "- The unstructued data could be used to perform topic analysis including but not limited to wordclouds, text clustering, topic modeling (e.g., LDA)\n",
    "\n",
    "The example in this Jupyter Notebook take into consideration all of the potential applications above when performing the data cleaning and addressing common or typical data issues. Common typical data issues include but is not limited to:\n",
    "- Duplicate values\n",
    "- Null values\n",
    "- Data entry errors\n",
    "    - Missclassifications\n",
    "    - Wrong values\n",
    "    - Negative values where only positive values should exist\n",
    "    - String values where numerical values should exist (and viceversa)\n",
    "    - Errors were data may be orders of magnitude above/below expected\n",
    "\n",
    "Examples of these errors and issues are further explored in this notebook. \n",
    "\n",
    "Some data entry errors can be minimized during the data entry stage and system user interface. For example, in a data entry system, if we have a field on 'person age', we can design the system to only accept values between 0 and 150. This range should  cover all known age ranges, minimize errors in that feature and increase the quality of the data."
   ]
  },
  {
   "cell_type": "markdown",
   "id": "65c15915",
   "metadata": {},
   "source": [
    "# Source Data Description\n",
    "The original dataset and full detail of the description can be found at https://www.kaggle.com/datasets/tmdb/tmdb-movie-metadata (Last accessed 10/5/2022). \n",
    "\n",
    "Kaggle The Movie Database (TMDb) uploaded in accordance with their terms of use. TMDb movie dataset notes:\n",
    "- The original dataset is from The Movie Database (TMDb). The terms of use can be found at https://www.themoviedb.org/documentation/api/terms-of-use. Their application programming interface (API) can be found at https://www.themoviedb.org/documentation/api/.\n",
    "- Actor and actresses seem to be listed in the order they appear in the credits.\n",
    "- There seems to be a few movies that did not port correctly.\n",
    "- Several columns contain json. \n",
    "- Due to the different amount of movie versions (e.g., theater release, directors cut, etc.) there may be differences in runtime between this movie dataset and others.\n",
    "- All fields are filled out by users and there is the potential for disagreement or missclassification in keywords, genres, ratings, or the like.\n",
    "\n",
    "There are a few open questions in the dataset that include:\n",
    "- Are the budgets and revenues all in US dollars? Do they consistently show the global revenues?\n",
    "- This dataset hasn't yet gone through a data quality analysis. For example, in the previous version of the movie dataset (i.e., from IMDb), it was necessary to treat values of zero in the budget field as missing. It's probably a good idea to keep treating zeros as missing, with the caveat that missing budgets much more likely to have been from small budget films in the first place.\n",
    "\n",
    "\n",
    "Acknowledgements\n",
    "This dataset was generated from The Movie Database API (https://www.kaggle.com/datasets/tmdb/themoviedb.org). This product uses the TMDb API but is not endorsed or certified by TMDb. Their API also provides access to data on many additional movies, actors and actresses, crew members, and TV shows. You can try it for yourself here: https://www.themoviedb.org/documentation/api.\n"
   ]
  },
  {
   "cell_type": "markdown",
   "id": "b5ac88df",
   "metadata": {},
   "source": [
    "# Source Data Modifications: For Educational Purpses\n",
    "The source data was slightly modified for educational purposes. Many datasets found online tend to be relatively clean, with good naming conventions in the features and not many errors in the dataset. This probably is due to the dataset been through some level of data cleaning. In practice, databases and datasets may not be as clean of errors and issues.The modifications below provide other examples of data issues that can be typically found in databases and this notebook provides examples on how to identify and resolve them.\n",
    "\n",
    "For educational purposes the following errors were introduced in the source data:\n",
    "- Line 60, ID 5174, modified the budget from 1.4E8 to -1.4E8 to introduce a negatie error in the budget feature. A negative budget would be impossible and this would be an example of a potential data entry error.\n",
    "- Line 71, ID 44826, modified the runtime from 126 to NAN. A nan value is a missing value. \n",
    "- Line 4213, ID 74084, modified id from 74084 to 118340. The new ID also belongs to another movie. This is an example where a unique ID has a duplicate which by definition should not be possible. Note the title in this movie is giberish as well. User may need to decide and document if deleting both or keeping one. \n",
    "- Line 102, ID 4922, created a full duplicate of all values and inserted in as line 112.\n",
    "- Line 134, ID 19585, modifed runtime from 88 to 888. This would represent an error on the runtime. This may represent a data entry error.\n",
    "- Line 3115, ID 53953, modified runtime to string 'three'. This would represent a data entry error as this should be a number  (integer or float). In many cases the data entry user interface may have limits or a routine that checks that it uses the correct data type but in some other cases it does not.\n",
    "- Line 3672, ID 113406, modified runtime from 0 -124 to introduce a negative number error in the runtime feature. This may represent a data entry error."
   ]
  },
  {
   "cell_type": "markdown",
   "id": "66eccef9",
   "metadata": {},
   "source": [
    "# Library Loading"
   ]
  },
  {
   "cell_type": "code",
   "execution_count": 1,
   "id": "9003105f",
   "metadata": {},
   "outputs": [],
   "source": [
    "import pandas as pd\n",
    "import numpy as np\n",
    "from datetime import datetime\n",
    "\n",
    "import seaborn as sns\n",
    "import json\n",
    "\n",
    "from IPython.display import clear_output # Clears output in functions and Jupyter Notebook Interface.\n",
    "\n",
    "# Natural Language Processing (NLP) libraries\n",
    "# Used in the section on Text Normalization\n",
    "import nltk # NLP Library\n",
    "from nltk.stem import wordnet, WordNetLemmatizer, PorterStemmer # Word stemming and lematization\n",
    "from nltk.tokenize import RegexpTokenizer # Tokenizer\n",
    "from nltk.stem.snowball import SnowballStemmer # Word stemming\n",
    "from nltk import pos_tag # For parts of speech\n",
    "from nltk import word_tokenize # To create tokens\n",
    "from nltk.corpus import wordnet, stopwords # For stop words\n",
    "\n",
    "# One time downloads. Remove hashtag and run once.\n",
    "#nltk.download('wordnet') # One time downlaod for NLTK 'wordnet'\n",
    "#nltk.download('stopwords') # One time downlaod for NLTK 'stopwords'.\n",
    "#nltk.download('averaged_perceptron_tagger') # One time download for NLTK 'average_perceptron_tagger'.\n",
    "#nltk.download('punkt') # One time download for NLTK 'punkt'. Remove the hashtag and run once.\n",
    "#nltk.download('omw-1.4') # One time download for NLTK 'omw-1.4'. Remove the hashtag and run once."
   ]
  },
  {
   "cell_type": "code",
   "execution_count": 2,
   "id": "da7b92c0",
   "metadata": {},
   "outputs": [
    {
     "name": "stdout",
     "output_type": "stream",
     "text": [
      "Date: Oct/09/2022 \n",
      "Current Time: 09:47:38\n"
     ]
    }
   ],
   "source": [
    "print('Date: {:%b/%d/%Y} \\nCurrent Time: {}'.format(datetime.now(), \n",
    "                                                    datetime.now().strftime(\"%H:%M:%S\")))"
   ]
  },
  {
   "cell_type": "markdown",
   "id": "5b6f801b",
   "metadata": {},
   "source": [
    "# Default Jupyter Notebook Settings"
   ]
  },
  {
   "cell_type": "code",
   "execution_count": 3,
   "id": "bf87f52b",
   "metadata": {},
   "outputs": [],
   "source": [
    "pd.set_option('display.max_colwidth', None) # PD has a limit of 50 characters.  Removes limit and uses the full text.\n",
    "pd.options.display.float_format = \"{:.4f}\".format # Sets PD to displays float numbers as 4 decimal places."
   ]
  },
  {
   "cell_type": "markdown",
   "id": "46f4b698",
   "metadata": {},
   "source": [
    "# Generic Functions"
   ]
  },
  {
   "cell_type": "code",
   "execution_count": 4,
   "id": "0fb06851",
   "metadata": {},
   "outputs": [],
   "source": [
    "# Progress Bar Function. Used in loops.\n",
    "def progress_status(step, total_steps):\n",
    "    #Progress Status\n",
    "    clear_output(wait=True)\n",
    "    print(f\"Currently processing step: {step} of {total_steps}.\")"
   ]
  },
  {
   "cell_type": "code",
   "execution_count": 5,
   "id": "35bb8aba",
   "metadata": {},
   "outputs": [],
   "source": [
    "def get_features_df(data): # Extracts the features as a dataframe\n",
    "    global dfcolumns_index\n",
    "    # Column selection for selecting columns in loops used in the data cleaning, visualization and model functions below.\n",
    "    dfcolumns = list(data.columns.values)\n",
    "    dfcolumns_index = pd.DataFrame(dfcolumns, columns=['column'])\n",
    "    pd.set_option('display.max_rows', None)\n",
    "    return dfcolumns_index"
   ]
  },
  {
   "cell_type": "markdown",
   "id": "3f1b5d0a",
   "metadata": {},
   "source": [
    "#### Conversion of Multi-Class features/columns to one-hot-encoding.\n",
    "\n",
    "Parameters\n",
    "- df_name = Variable name of dataframe.\n",
    "- item_to_search = class_dict['feature'][i] # Relies on dictionary with unique classes. May also use a list of unique values.\n",
    "- col_to_search = 'original_feature' # Name of the feature in the original dataframe.\n",
    "- new_col_value = code_dict['feature'][i] # Creates new column with name of class and boolean (1 or 0) values."
   ]
  },
  {
   "cell_type": "code",
   "execution_count": 6,
   "id": "d9ae579c",
   "metadata": {},
   "outputs": [],
   "source": [
    "# Function to create a one-hot-encoding columns for a class.\n",
    "def to_one_hot_encoding(df_name, item_to_search, col_to_search, new_col_value):\n",
    "    for i in range(len(df_name)): # Iterates thru the rows of the dataframe.\n",
    "         # Searches the value of interest (i.e., item_to_search) in the cell of interest.\n",
    "        if item_to_search in df_name.at[i, col_to_search]:\n",
    "            df_name.loc[i, new_col_value] = 1 # If the value is found in the column assigns 1.\n",
    "        else:\n",
    "            df_name.loc[i, new_col_value] = 0 # If the value is not found in the column assigns 0.\n",
    "    df_name[new_col_value] = df_name[new_col_value].astype('int') # Converts new column to integer."
   ]
  },
  {
   "cell_type": "code",
   "execution_count": 7,
   "id": "607a1d34",
   "metadata": {
    "scrolled": true
   },
   "outputs": [],
   "source": [
    "# LOADING CSV FILE\n",
    "# Na_values may need to be reviewed as some datasets may include an accronym.\n",
    "# For example, 'NA' may be an abbreviation for 'North America'.\n",
    "df_data = pd.read_csv('./input_data/TMDB_5000_movies/tmdb_5000_movies-Modified.csv', \n",
    "                      encoding = \"utf-8-sig\",\n",
    "                      parse_dates=['release_date'],\n",
    "                      keep_default_na=False,\n",
    "                      na_values=['', '-1.#IND', '1.#QNAN', '1.#IND', '-1.#QNAN', '#N/A','N/A', '#NA', 'NULL', 'NaN', '-NaN', 'nan', '-nan']) \n",
    "\n",
    "# IF LOADING EXCEL FILE: use pd.read_excel.\n",
    "#df_data = pd.read_excel('.\\input_data\\FILE_NAME.xlsx', parse_dates=['Date', 'Final Date'])\n",
    "\n",
    "# Encoding \"cp1252\" or \"utf-8-sig\" used so that Excel does not create special characters. Standard Python is utf-8.\n",
    "# See reference for explanation https://stackoverflow.com/questions/57061645/why-is-%C3%82-printed-in-front-of-%C2%B1-when-code-is-run"
   ]
  },
  {
   "cell_type": "markdown",
   "id": "546f520d",
   "metadata": {},
   "source": [
    "# Exploring DF Overall Statistics"
   ]
  },
  {
   "cell_type": "markdown",
   "id": "55c8b23d",
   "metadata": {},
   "source": [
    "# Data Loading"
   ]
  },
  {
   "cell_type": "code",
   "execution_count": 8,
   "id": "78e8bbae",
   "metadata": {},
   "outputs": [
    {
     "data": {
      "text/html": [
       "<div>\n",
       "<style scoped>\n",
       "    .dataframe tbody tr th:only-of-type {\n",
       "        vertical-align: middle;\n",
       "    }\n",
       "\n",
       "    .dataframe tbody tr th {\n",
       "        vertical-align: top;\n",
       "    }\n",
       "\n",
       "    .dataframe thead th {\n",
       "        text-align: right;\n",
       "    }\n",
       "</style>\n",
       "<table border=\"1\" class=\"dataframe\">\n",
       "  <thead>\n",
       "    <tr style=\"text-align: right;\">\n",
       "      <th></th>\n",
       "      <th>budget</th>\n",
       "      <th>genres</th>\n",
       "      <th>homepage</th>\n",
       "      <th>id</th>\n",
       "      <th>keywords</th>\n",
       "      <th>original_language</th>\n",
       "      <th>original_title</th>\n",
       "      <th>overview</th>\n",
       "      <th>popularity</th>\n",
       "      <th>production_companies</th>\n",
       "      <th>production_countries</th>\n",
       "      <th>release_date</th>\n",
       "      <th>revenue</th>\n",
       "      <th>runtime</th>\n",
       "      <th>spoken_languages</th>\n",
       "      <th>status</th>\n",
       "      <th>tagline</th>\n",
       "      <th>title</th>\n",
       "      <th>vote_average</th>\n",
       "      <th>vote_count</th>\n",
       "    </tr>\n",
       "  </thead>\n",
       "  <tbody>\n",
       "    <tr>\n",
       "      <th>0</th>\n",
       "      <td>237000000</td>\n",
       "      <td>[{\"id\": 28, \"name\": \"Action\"}, {\"id\": 12, \"name\": \"Adventure\"}, {\"id\": 14, \"name\": \"Fantasy\"}, {\"id\": 878, \"name\": \"Science Fiction\"}]</td>\n",
       "      <td>http://www.avatarmovie.com/</td>\n",
       "      <td>19995</td>\n",
       "      <td>[{\"id\": 1463, \"name\": \"culture clash\"}, {\"id\": 2964, \"name\": \"future\"}, {\"id\": 3386, \"name\": \"space war\"}, {\"id\": 3388, \"name\": \"space colony\"}, {\"id\": 3679, \"name\": \"society\"}, {\"id\": 3801, \"name\": \"space travel\"}, {\"id\": 9685, \"name\": \"futuristic\"}, {\"id\": 9840, \"name\": \"romance\"}, {\"id\": 9882, \"name\": \"space\"}, {\"id\": 9951, \"name\": \"alien\"}, {\"id\": 10148, \"name\": \"tribe\"}, {\"id\": 10158, \"name\": \"alien planet\"}, {\"id\": 10987, \"name\": \"cgi\"}, {\"id\": 11399, \"name\": \"marine\"}, {\"id\": 13065, \"name\": \"soldier\"}, {\"id\": 14643, \"name\": \"battle\"}, {\"id\": 14720, \"name\": \"love affair\"}, {\"id\": 165431, \"name\": \"anti war\"}, {\"id\": 193554, \"name\": \"power relations\"}, {\"id\": 206690, \"name\": \"mind and soul\"}, {\"id\": 209714, \"name\": \"3d\"}]</td>\n",
       "      <td>en</td>\n",
       "      <td>Avatar</td>\n",
       "      <td>In the 22nd century, a paraplegic Marine is dispatched to the moon Pandora on a unique mission, but becomes torn between following orders and protecting an alien civilization.</td>\n",
       "      <td>150.4376</td>\n",
       "      <td>[{\"name\": \"Ingenious Film Partners\", \"id\": 289}, {\"name\": \"Twentieth Century Fox Film Corporation\", \"id\": 306}, {\"name\": \"Dune Entertainment\", \"id\": 444}, {\"name\": \"Lightstorm Entertainment\", \"id\": 574}]</td>\n",
       "      <td>[{\"iso_3166_1\": \"US\", \"name\": \"United States of America\"}, {\"iso_3166_1\": \"GB\", \"name\": \"United Kingdom\"}]</td>\n",
       "      <td>2009-12-10</td>\n",
       "      <td>2787965087</td>\n",
       "      <td>162</td>\n",
       "      <td>[{\"iso_639_1\": \"en\", \"name\": \"English\"}, {\"iso_639_1\": \"es\", \"name\": \"Espa\\u00f1ol\"}]</td>\n",
       "      <td>Released</td>\n",
       "      <td>Enter the World of Pandora.</td>\n",
       "      <td>Avatar</td>\n",
       "      <td>7.2000</td>\n",
       "      <td>11800</td>\n",
       "    </tr>\n",
       "  </tbody>\n",
       "</table>\n",
       "</div>"
      ],
      "text/plain": [
       "      budget  \\\n",
       "0  237000000   \n",
       "\n",
       "                                                                                                                                   genres  \\\n",
       "0  [{\"id\": 28, \"name\": \"Action\"}, {\"id\": 12, \"name\": \"Adventure\"}, {\"id\": 14, \"name\": \"Fantasy\"}, {\"id\": 878, \"name\": \"Science Fiction\"}]   \n",
       "\n",
       "                      homepage     id  \\\n",
       "0  http://www.avatarmovie.com/  19995   \n",
       "\n",
       "                                                                                                                                                                                                                                                                                                                                                                                                                                                                                                                                                                                                                                                                                                                                                          keywords  \\\n",
       "0  [{\"id\": 1463, \"name\": \"culture clash\"}, {\"id\": 2964, \"name\": \"future\"}, {\"id\": 3386, \"name\": \"space war\"}, {\"id\": 3388, \"name\": \"space colony\"}, {\"id\": 3679, \"name\": \"society\"}, {\"id\": 3801, \"name\": \"space travel\"}, {\"id\": 9685, \"name\": \"futuristic\"}, {\"id\": 9840, \"name\": \"romance\"}, {\"id\": 9882, \"name\": \"space\"}, {\"id\": 9951, \"name\": \"alien\"}, {\"id\": 10148, \"name\": \"tribe\"}, {\"id\": 10158, \"name\": \"alien planet\"}, {\"id\": 10987, \"name\": \"cgi\"}, {\"id\": 11399, \"name\": \"marine\"}, {\"id\": 13065, \"name\": \"soldier\"}, {\"id\": 14643, \"name\": \"battle\"}, {\"id\": 14720, \"name\": \"love affair\"}, {\"id\": 165431, \"name\": \"anti war\"}, {\"id\": 193554, \"name\": \"power relations\"}, {\"id\": 206690, \"name\": \"mind and soul\"}, {\"id\": 209714, \"name\": \"3d\"}]   \n",
       "\n",
       "  original_language original_title  \\\n",
       "0                en         Avatar   \n",
       "\n",
       "                                                                                                                                                                          overview  \\\n",
       "0  In the 22nd century, a paraplegic Marine is dispatched to the moon Pandora on a unique mission, but becomes torn between following orders and protecting an alien civilization.   \n",
       "\n",
       "   popularity  \\\n",
       "0    150.4376   \n",
       "\n",
       "                                                                                                                                                                                          production_companies  \\\n",
       "0  [{\"name\": \"Ingenious Film Partners\", \"id\": 289}, {\"name\": \"Twentieth Century Fox Film Corporation\", \"id\": 306}, {\"name\": \"Dune Entertainment\", \"id\": 444}, {\"name\": \"Lightstorm Entertainment\", \"id\": 574}]   \n",
       "\n",
       "                                                                                         production_countries  \\\n",
       "0  [{\"iso_3166_1\": \"US\", \"name\": \"United States of America\"}, {\"iso_3166_1\": \"GB\", \"name\": \"United Kingdom\"}]   \n",
       "\n",
       "  release_date     revenue runtime  \\\n",
       "0   2009-12-10  2787965087     162   \n",
       "\n",
       "                                                                        spoken_languages  \\\n",
       "0  [{\"iso_639_1\": \"en\", \"name\": \"English\"}, {\"iso_639_1\": \"es\", \"name\": \"Espa\\u00f1ol\"}]   \n",
       "\n",
       "     status                      tagline   title  vote_average  vote_count  \n",
       "0  Released  Enter the World of Pandora.  Avatar        7.2000       11800  "
      ]
     },
     "execution_count": 8,
     "metadata": {},
     "output_type": "execute_result"
    }
   ],
   "source": [
    "df_data.head(1)"
   ]
  },
  {
   "cell_type": "code",
   "execution_count": 9,
   "id": "e4230b67",
   "metadata": {},
   "outputs": [
    {
     "name": "stdout",
     "output_type": "stream",
     "text": [
      "The dataframe (DF) has 4804 rows and 20 features or columns.\n"
     ]
    }
   ],
   "source": [
    "print(f'The dataframe (DF) has {df_data.shape[0]} rows and {df_data.shape[1]} features or columns.')"
   ]
  },
  {
   "cell_type": "code",
   "execution_count": 10,
   "id": "6b0de8f1",
   "metadata": {},
   "outputs": [
    {
     "name": "stdout",
     "output_type": "stream",
     "text": [
      "<class 'pandas.core.frame.DataFrame'>\n",
      "RangeIndex: 4804 entries, 0 to 4803\n",
      "Data columns (total 20 columns):\n",
      " #   Column                Non-Null Count  Dtype         \n",
      "---  ------                --------------  -----         \n",
      " 0   budget                4804 non-null   int64         \n",
      " 1   genres                4804 non-null   object        \n",
      " 2   homepage              1713 non-null   object        \n",
      " 3   id                    4804 non-null   int64         \n",
      " 4   keywords              4804 non-null   object        \n",
      " 5   original_language     4804 non-null   object        \n",
      " 6   original_title        4804 non-null   object        \n",
      " 7   overview              4801 non-null   object        \n",
      " 8   popularity            4804 non-null   float64       \n",
      " 9   production_companies  4804 non-null   object        \n",
      " 10  production_countries  4804 non-null   object        \n",
      " 11  release_date          4803 non-null   datetime64[ns]\n",
      " 12  revenue               4804 non-null   int64         \n",
      " 13  runtime               4801 non-null   object        \n",
      " 14  spoken_languages      4804 non-null   object        \n",
      " 15  status                4804 non-null   object        \n",
      " 16  tagline               3960 non-null   object        \n",
      " 17  title                 4804 non-null   object        \n",
      " 18  vote_average          4804 non-null   float64       \n",
      " 19  vote_count            4804 non-null   int64         \n",
      "dtypes: datetime64[ns](1), float64(2), int64(4), object(13)\n",
      "memory usage: 750.8+ KB\n"
     ]
    }
   ],
   "source": [
    "#.info() function provides DF information including column name, number of non-nulls, and DType.\n",
    "df_data.info()"
   ]
  },
  {
   "cell_type": "code",
   "execution_count": 11,
   "id": "18eb0141",
   "metadata": {},
   "outputs": [],
   "source": [
    "# Notes on the above statistics:\n",
    "# Total of 4804 entries or records.\n",
    "# Homepage and tagline features have the most null values (i.e., least non-null).\n",
    "# Note that runtime is loaded as an object datatype.\n",
    "# Would have expected that movie runtime would be a number. We will need to explore this during data cleaning below.\n",
    "# Typically this may be caused by a data entry error where a string was used instead of a int or float.\n",
    "# There are two title related features \"original_title\" and \"title\". Let's explore below if we can drop one feature."
   ]
  },
  {
   "cell_type": "code",
   "execution_count": 12,
   "id": "f6542ebc",
   "metadata": {},
   "outputs": [
    {
     "data": {
      "text/plain": [
       "Index(['budget', 'genres', 'homepage', 'id', 'keywords', 'original_language',\n",
       "       'original_title', 'overview', 'popularity', 'production_companies',\n",
       "       'production_countries', 'release_date', 'revenue', 'runtime',\n",
       "       'spoken_languages', 'status', 'tagline', 'title', 'vote_average',\n",
       "       'vote_count'],\n",
       "      dtype='object')"
      ]
     },
     "execution_count": 12,
     "metadata": {},
     "output_type": "execute_result"
    }
   ],
   "source": [
    "# Column values.\n",
    "df_data.columns"
   ]
  },
  {
   "cell_type": "code",
   "execution_count": 13,
   "id": "1c751a91",
   "metadata": {},
   "outputs": [
    {
     "data": {
      "text/html": [
       "<div>\n",
       "<style scoped>\n",
       "    .dataframe tbody tr th:only-of-type {\n",
       "        vertical-align: middle;\n",
       "    }\n",
       "\n",
       "    .dataframe tbody tr th {\n",
       "        vertical-align: top;\n",
       "    }\n",
       "\n",
       "    .dataframe thead th {\n",
       "        text-align: right;\n",
       "    }\n",
       "</style>\n",
       "<table border=\"1\" class=\"dataframe\">\n",
       "  <thead>\n",
       "    <tr style=\"text-align: right;\">\n",
       "      <th></th>\n",
       "      <th>column</th>\n",
       "    </tr>\n",
       "  </thead>\n",
       "  <tbody>\n",
       "    <tr>\n",
       "      <th>0</th>\n",
       "      <td>budget</td>\n",
       "    </tr>\n",
       "    <tr>\n",
       "      <th>1</th>\n",
       "      <td>genres</td>\n",
       "    </tr>\n",
       "    <tr>\n",
       "      <th>2</th>\n",
       "      <td>homepage</td>\n",
       "    </tr>\n",
       "    <tr>\n",
       "      <th>3</th>\n",
       "      <td>id</td>\n",
       "    </tr>\n",
       "    <tr>\n",
       "      <th>4</th>\n",
       "      <td>keywords</td>\n",
       "    </tr>\n",
       "    <tr>\n",
       "      <th>5</th>\n",
       "      <td>original_language</td>\n",
       "    </tr>\n",
       "    <tr>\n",
       "      <th>6</th>\n",
       "      <td>original_title</td>\n",
       "    </tr>\n",
       "    <tr>\n",
       "      <th>7</th>\n",
       "      <td>overview</td>\n",
       "    </tr>\n",
       "    <tr>\n",
       "      <th>8</th>\n",
       "      <td>popularity</td>\n",
       "    </tr>\n",
       "    <tr>\n",
       "      <th>9</th>\n",
       "      <td>production_companies</td>\n",
       "    </tr>\n",
       "    <tr>\n",
       "      <th>10</th>\n",
       "      <td>production_countries</td>\n",
       "    </tr>\n",
       "    <tr>\n",
       "      <th>11</th>\n",
       "      <td>release_date</td>\n",
       "    </tr>\n",
       "    <tr>\n",
       "      <th>12</th>\n",
       "      <td>revenue</td>\n",
       "    </tr>\n",
       "    <tr>\n",
       "      <th>13</th>\n",
       "      <td>runtime</td>\n",
       "    </tr>\n",
       "    <tr>\n",
       "      <th>14</th>\n",
       "      <td>spoken_languages</td>\n",
       "    </tr>\n",
       "    <tr>\n",
       "      <th>15</th>\n",
       "      <td>status</td>\n",
       "    </tr>\n",
       "    <tr>\n",
       "      <th>16</th>\n",
       "      <td>tagline</td>\n",
       "    </tr>\n",
       "    <tr>\n",
       "      <th>17</th>\n",
       "      <td>title</td>\n",
       "    </tr>\n",
       "    <tr>\n",
       "      <th>18</th>\n",
       "      <td>vote_average</td>\n",
       "    </tr>\n",
       "    <tr>\n",
       "      <th>19</th>\n",
       "      <td>vote_count</td>\n",
       "    </tr>\n",
       "  </tbody>\n",
       "</table>\n",
       "</div>"
      ],
      "text/plain": [
       "                  column\n",
       "0                 budget\n",
       "1                 genres\n",
       "2               homepage\n",
       "3                     id\n",
       "4               keywords\n",
       "5      original_language\n",
       "6         original_title\n",
       "7               overview\n",
       "8             popularity\n",
       "9   production_companies\n",
       "10  production_countries\n",
       "11          release_date\n",
       "12               revenue\n",
       "13               runtime\n",
       "14      spoken_languages\n",
       "15                status\n",
       "16               tagline\n",
       "17                 title\n",
       "18          vote_average\n",
       "19            vote_count"
      ]
     },
     "execution_count": 13,
     "metadata": {},
     "output_type": "execute_result"
    }
   ],
   "source": [
    "# DF of Columns with Index. \n",
    "# If Creating new derived features you may need to rerun this cell to add the new features prior to using it.\n",
    "# I typically use the DF of columns with index for selecting columns in loops.\n",
    "# Especially during data cleaning, derivation of features, visualization and model functions.\n",
    "get_features_df(data = df_data)"
   ]
  },
  {
   "cell_type": "markdown",
   "id": "1ddfa03c",
   "metadata": {},
   "source": [
    "# Data Cleaning\n",
    "The purpose of the data cleaning is to prepare the data for input to visualizations, analysis, machine learning, and other activities. There are easy to identify errors that can be easy to correct. There are other types of errors that may be harder to identify and address during the data cleaning stage and may require input from a subject matter expert (SME) that is familiar with the dataset that can provide advise on how to identify other types of errors and how to handle during the data cleaning.\n",
    "\n",
    "In many of the examples here we will be droping features and rows. Depending on your use cases you will need to evaluate if it is appropriate to drop the data. I am a strong believer that if an error is found, the source data should be fixed in the database rather than cleaning stage. If it is not fixed there is always the possibility that either us as data scientist may use the data in the future or some other analyst using the source data may not find the error and their analysis outputs and results may be skewed or worst be wrong."
   ]
  },
  {
   "cell_type": "markdown",
   "id": "43be34db",
   "metadata": {},
   "source": [
    "### Runtime Feature: Object vs. Should be a Number Issue\n",
    "As noted above, the runtime feature seemed to be detected as object data type by Pandas. Would have expected a number data type (e.g., integer or float)."
   ]
  },
  {
   "cell_type": "code",
   "execution_count": 14,
   "id": "38b4ba75",
   "metadata": {},
   "outputs": [],
   "source": [
    "# Initially may try to force Python to convert feature to a integer. \n",
    "#df_data['runtime'].astype(int) # This gives the following error \"cannot convert float NaN to integer\"\n",
    "# This is caused by potential of having np.nan as values. \n",
    "# Comment out this cell."
   ]
  },
  {
   "cell_type": "code",
   "execution_count": 15,
   "id": "20c3f016",
   "metadata": {},
   "outputs": [],
   "source": [
    "# I may try to force Python to convert feature to a float.\n",
    "#df_data['runtime'].astype(float) # This gives the following error \"could not convert string to float: 'three'\"\n",
    "# These means that there is at least one string in the column (e.g., 'three')\n",
    "# Comment out this cell."
   ]
  },
  {
   "cell_type": "code",
   "execution_count": 16,
   "id": "2a0546df",
   "metadata": {},
   "outputs": [
    {
     "data": {
      "text/plain": [
       "NaN      3\n",
       "three    1\n",
       "Name: runtime, dtype: int64"
      ]
     },
     "execution_count": 16,
     "metadata": {},
     "output_type": "execute_result"
    }
   ],
   "source": [
    "# The first part of the line below converts runtime column to numeric and when there is an error leaves the value as null.\n",
    "# Then select the runtime feature and does a value_count.\n",
    "df_data[pd.to_numeric(df_data['runtime'], errors = 'coerce').isnull()]['runtime'].value_counts(dropna = False)\n",
    "# We can see that there is one count where the word three is used instead of a numeric value.\n",
    "# We can also see that there are three NaN or null values.\n",
    "# We need to remove these 4 rows."
   ]
  },
  {
   "cell_type": "code",
   "execution_count": 17,
   "id": "c23b8cf6",
   "metadata": {},
   "outputs": [],
   "source": [
    "# There are a few ways to remove rows in this case.\n",
    "# The approach below is best as it will remove any row that has a non-numeric value in the runtime.\n",
    "# If the data is updated in the future and used as input in this notebook this will work.\n",
    "# We can use the function above and select only those records or rows where there is no error as follows.\n",
    "df_data = df_data[pd.to_numeric(df_data['runtime'], errors = 'coerce').notnull()]\n",
    "# Then we want to specify to Python that this column is an integer.\n",
    "df_data['runtime'] = df_data['runtime'].astype(np.int64)"
   ]
  },
  {
   "cell_type": "code",
   "execution_count": 18,
   "id": "29c87bff",
   "metadata": {},
   "outputs": [
    {
     "name": "stdout",
     "output_type": "stream",
     "text": [
      "<class 'pandas.core.frame.DataFrame'>\n",
      "Int64Index: 4800 entries, 0 to 4803\n",
      "Data columns (total 20 columns):\n",
      " #   Column                Non-Null Count  Dtype         \n",
      "---  ------                --------------  -----         \n",
      " 0   budget                4800 non-null   int64         \n",
      " 1   genres                4800 non-null   object        \n",
      " 2   homepage              1712 non-null   object        \n",
      " 3   id                    4800 non-null   int64         \n",
      " 4   keywords              4800 non-null   object        \n",
      " 5   original_language     4800 non-null   object        \n",
      " 6   original_title        4800 non-null   object        \n",
      " 7   overview              4799 non-null   object        \n",
      " 8   popularity            4800 non-null   float64       \n",
      " 9   production_companies  4800 non-null   object        \n",
      " 10  production_countries  4800 non-null   object        \n",
      " 11  release_date          4799 non-null   datetime64[ns]\n",
      " 12  revenue               4800 non-null   int64         \n",
      " 13  runtime               4800 non-null   int64         \n",
      " 14  spoken_languages      4800 non-null   object        \n",
      " 15  status                4800 non-null   object        \n",
      " 16  tagline               3958 non-null   object        \n",
      " 17  title                 4800 non-null   object        \n",
      " 18  vote_average          4800 non-null   float64       \n",
      " 19  vote_count            4800 non-null   int64         \n",
      "dtypes: datetime64[ns](1), float64(2), int64(5), object(12)\n",
      "memory usage: 787.5+ KB\n"
     ]
    }
   ],
   "source": [
    "df_data.info() # We can check again the .info() in the data.\n",
    "# Confirm that runtime is now an integer data type."
   ]
  },
  {
   "cell_type": "code",
   "execution_count": 19,
   "id": "34edbf6d",
   "metadata": {},
   "outputs": [],
   "source": [
    "# Note that there are now 4800 entries with the index from 0 to 4803. \n",
    "# Whenever dropping records should consider resetting the index of the dataframe.\n",
    "# In some cases not reseting the index may cause issues.\n",
    "# For example, when using ML algorihtms, a new DF with new information may be created that relies on indexes.\n",
    "# The new DF will start the index at 0.\n",
    "# If the index is not reset and you want to merge DF's the indexes will not match.\n",
    "df_data = df_data.reset_index(drop=True)"
   ]
  },
  {
   "cell_type": "markdown",
   "id": "856173e1",
   "metadata": {},
   "source": [
    "### Title Features:\n",
    "There seem to be two title features. There may be reasons to keep both depending on the dataset and the goal but for our purpose it may be worth simplyfing to only one if we can."
   ]
  },
  {
   "cell_type": "code",
   "execution_count": 20,
   "id": "20c65bd8",
   "metadata": {},
   "outputs": [
    {
     "data": {
      "text/plain": [
       "True     4539\n",
       "False     261\n",
       "dtype: int64"
      ]
     },
     "execution_count": 20,
     "metadata": {},
     "output_type": "execute_result"
    }
   ],
   "source": [
    "# Let's explore how many titles are equal.\n",
    "(df_data['original_title'] == df_data['title']).value_counts()\n",
    "# Of all the values, a huge amount is the same.\n",
    "# One option, we could explore the differences.\n",
    "# There are so many titles that are the same to the original that will opt to drop one of the features."
   ]
  },
  {
   "cell_type": "code",
   "execution_count": 21,
   "id": "3478c6c9",
   "metadata": {},
   "outputs": [
    {
     "name": "stdout",
     "output_type": "stream",
     "text": [
      "(4800, 20)\n",
      "(4800, 19)\n"
     ]
    }
   ],
   "source": [
    "# Printing the shape of the DF will help confirm the dropped feature.\n",
    "print(df_data.shape)\n",
    "# Let's drop title feature. I typically use comment blocks like this to document the reason for droping items.\n",
    "df_data = df_data.drop(columns=['title'])\n",
    "print(df_data.shape) # Verifying that the second element dropped from 20 to 18 features."
   ]
  },
  {
   "cell_type": "markdown",
   "id": "8eed4f6d",
   "metadata": {},
   "source": [
    "### Duplicated Values: Statistics and Cleaning\n",
    "Some datasets may have full duplicates (i.e., the full row repeated) or there may be unique values that are duplicated for some reason. The later may or may not be an issue."
   ]
  },
  {
   "cell_type": "code",
   "execution_count": 22,
   "id": "5da450ab",
   "metadata": {},
   "outputs": [
    {
     "name": "stdout",
     "output_type": "stream",
     "text": [
      "There are 2 records were all features are duplicate.\n"
     ]
    },
    {
     "data": {
      "text/html": [
       "<div>\n",
       "<style scoped>\n",
       "    .dataframe tbody tr th:only-of-type {\n",
       "        vertical-align: middle;\n",
       "    }\n",
       "\n",
       "    .dataframe tbody tr th {\n",
       "        vertical-align: top;\n",
       "    }\n",
       "\n",
       "    .dataframe thead th {\n",
       "        text-align: right;\n",
       "    }\n",
       "</style>\n",
       "<table border=\"1\" class=\"dataframe\">\n",
       "  <thead>\n",
       "    <tr style=\"text-align: right;\">\n",
       "      <th></th>\n",
       "      <th>budget</th>\n",
       "      <th>genres</th>\n",
       "      <th>homepage</th>\n",
       "      <th>id</th>\n",
       "      <th>keywords</th>\n",
       "      <th>original_language</th>\n",
       "      <th>original_title</th>\n",
       "      <th>overview</th>\n",
       "      <th>popularity</th>\n",
       "      <th>production_companies</th>\n",
       "      <th>production_countries</th>\n",
       "      <th>release_date</th>\n",
       "      <th>revenue</th>\n",
       "      <th>runtime</th>\n",
       "      <th>spoken_languages</th>\n",
       "      <th>status</th>\n",
       "      <th>tagline</th>\n",
       "      <th>vote_average</th>\n",
       "      <th>vote_count</th>\n",
       "    </tr>\n",
       "  </thead>\n",
       "  <tbody>\n",
       "    <tr>\n",
       "      <th>99</th>\n",
       "      <td>150000000</td>\n",
       "      <td>[{\"id\": 14, \"name\": \"Fantasy\"}, {\"id\": 18, \"name\": \"Drama\"}, {\"id\": 53, \"name\": \"Thriller\"}, {\"id\": 9648, \"name\": \"Mystery\"}, {\"id\": 10749, \"name\": \"Romance\"}]</td>\n",
       "      <td>http://www.benjaminbutton.com/</td>\n",
       "      <td>4922</td>\n",
       "      <td>[{\"id\": 2913, \"name\": \"diary\"}, {\"id\": 3588, \"name\": \"navy\"}, {\"id\": 3739, \"name\": \"funeral\"}, {\"id\": 4262, \"name\": \"tea\"}, {\"id\": 9935, \"name\": \"travel\"}, {\"id\": 11612, \"name\": \"hospital\"}]</td>\n",
       "      <td>en</td>\n",
       "      <td>The Curious Case of Benjamin Button</td>\n",
       "      <td>Tells the story of Benjamin Button, a man who starts aging backwards with bizarre consequences.</td>\n",
       "      <td>60.2693</td>\n",
       "      <td>[{\"name\": \"Paramount Pictures\", \"id\": 4}, {\"name\": \"Warner Bros.\", \"id\": 6194}, {\"name\": \"Kennedy/Marshall Company, The\", \"id\": 7383}]</td>\n",
       "      <td>[{\"iso_3166_1\": \"US\", \"name\": \"United States of America\"}]</td>\n",
       "      <td>2008-11-24</td>\n",
       "      <td>333932083</td>\n",
       "      <td>166</td>\n",
       "      <td>[{\"iso_639_1\": \"en\", \"name\": \"English\"}]</td>\n",
       "      <td>Released</td>\n",
       "      <td>Life isn't measured in minutes, but in moments.</td>\n",
       "      <td>7.3000</td>\n",
       "      <td>3292</td>\n",
       "    </tr>\n",
       "  </tbody>\n",
       "</table>\n",
       "</div>"
      ],
      "text/plain": [
       "       budget  \\\n",
       "99  150000000   \n",
       "\n",
       "                                                                                                                                                             genres  \\\n",
       "99  [{\"id\": 14, \"name\": \"Fantasy\"}, {\"id\": 18, \"name\": \"Drama\"}, {\"id\": 53, \"name\": \"Thriller\"}, {\"id\": 9648, \"name\": \"Mystery\"}, {\"id\": 10749, \"name\": \"Romance\"}]   \n",
       "\n",
       "                          homepage    id  \\\n",
       "99  http://www.benjaminbutton.com/  4922   \n",
       "\n",
       "                                                                                                                                                                                          keywords  \\\n",
       "99  [{\"id\": 2913, \"name\": \"diary\"}, {\"id\": 3588, \"name\": \"navy\"}, {\"id\": 3739, \"name\": \"funeral\"}, {\"id\": 4262, \"name\": \"tea\"}, {\"id\": 9935, \"name\": \"travel\"}, {\"id\": 11612, \"name\": \"hospital\"}]   \n",
       "\n",
       "   original_language                       original_title  \\\n",
       "99                en  The Curious Case of Benjamin Button   \n",
       "\n",
       "                                                                                           overview  \\\n",
       "99  Tells the story of Benjamin Button, a man who starts aging backwards with bizarre consequences.   \n",
       "\n",
       "    popularity  \\\n",
       "99     60.2693   \n",
       "\n",
       "                                                                                                                      production_companies  \\\n",
       "99  [{\"name\": \"Paramount Pictures\", \"id\": 4}, {\"name\": \"Warner Bros.\", \"id\": 6194}, {\"name\": \"Kennedy/Marshall Company, The\", \"id\": 7383}]   \n",
       "\n",
       "                                          production_countries release_date  \\\n",
       "99  [{\"iso_3166_1\": \"US\", \"name\": \"United States of America\"}]   2008-11-24   \n",
       "\n",
       "      revenue  runtime                          spoken_languages    status  \\\n",
       "99  333932083      166  [{\"iso_639_1\": \"en\", \"name\": \"English\"}]  Released   \n",
       "\n",
       "                                            tagline  vote_average  vote_count  \n",
       "99  Life isn't measured in minutes, but in moments.        7.3000        3292  "
      ]
     },
     "execution_count": 22,
     "metadata": {},
     "output_type": "execute_result"
    }
   ],
   "source": [
    "# Creates dataframe of records that are full duplicates.\n",
    "duplicates = df_data[df_data.duplicated(keep = False)].sort_values(by = 'id', ascending=True).copy() \n",
    "print(f'There are {duplicates.shape[0]} records were all features are duplicate.')\n",
    "duplicates.head(1) # Shows the duplicate values."
   ]
  },
  {
   "cell_type": "code",
   "execution_count": 23,
   "id": "2d7aa66f",
   "metadata": {},
   "outputs": [
    {
     "name": "stdout",
     "output_type": "stream",
     "text": [
      "(4800, 19)\n",
      "(4799, 19)\n"
     ]
    }
   ],
   "source": [
    "# Comparing the shape of the data pre/post dropping duplicates allows to determine how many records were dropped. \n",
    "print(df_data.shape)\n",
    "# Drop duplicates, keeps the first record and reset index.\n",
    "df_data = df_data.drop_duplicates(keep = 'first').reset_index(drop=True)\n",
    "print(df_data.shape)"
   ]
  },
  {
   "cell_type": "code",
   "execution_count": 24,
   "id": "21db2c82",
   "metadata": {},
   "outputs": [
    {
     "name": "stdout",
     "output_type": "stream",
     "text": [
      "There are 2 records were the ID is a duplicate.\n"
     ]
    },
    {
     "data": {
      "text/html": [
       "<div>\n",
       "<style scoped>\n",
       "    .dataframe tbody tr th:only-of-type {\n",
       "        vertical-align: middle;\n",
       "    }\n",
       "\n",
       "    .dataframe tbody tr th {\n",
       "        vertical-align: top;\n",
       "    }\n",
       "\n",
       "    .dataframe thead th {\n",
       "        text-align: right;\n",
       "    }\n",
       "</style>\n",
       "<table border=\"1\" class=\"dataframe\">\n",
       "  <thead>\n",
       "    <tr style=\"text-align: right;\">\n",
       "      <th></th>\n",
       "      <th>budget</th>\n",
       "      <th>genres</th>\n",
       "      <th>homepage</th>\n",
       "      <th>id</th>\n",
       "      <th>keywords</th>\n",
       "      <th>original_language</th>\n",
       "      <th>original_title</th>\n",
       "      <th>overview</th>\n",
       "      <th>popularity</th>\n",
       "      <th>production_companies</th>\n",
       "      <th>production_countries</th>\n",
       "      <th>release_date</th>\n",
       "      <th>revenue</th>\n",
       "      <th>runtime</th>\n",
       "      <th>spoken_languages</th>\n",
       "      <th>status</th>\n",
       "      <th>tagline</th>\n",
       "      <th>vote_average</th>\n",
       "      <th>vote_count</th>\n",
       "    </tr>\n",
       "  </thead>\n",
       "  <tbody>\n",
       "    <tr>\n",
       "      <th>93</th>\n",
       "      <td>170000000</td>\n",
       "      <td>[{\"id\": 28, \"name\": \"Action\"}, {\"id\": 878, \"name\": \"Science Fiction\"}, {\"id\": 12, \"name\": \"Adventure\"}]</td>\n",
       "      <td>http://marvel.com/guardians</td>\n",
       "      <td>118340</td>\n",
       "      <td>[{\"id\": 8828, \"name\": \"marvel comic\"}, {\"id\": 9831, \"name\": \"spaceship\"}, {\"id\": 9882, \"name\": \"space\"}, {\"id\": 12405, \"name\": \"outer space\"}, {\"id\": 13014, \"name\": \"orphan\"}, {\"id\": 175428, \"name\": \"adventurer\"}, {\"id\": 179430, \"name\": \"aftercreditsstinger\"}, {\"id\": 179431, \"name\": \"duringcreditsstinger\"}, {\"id\": 180547, \"name\": \"marvel cinematic universe\"}]</td>\n",
       "      <td>en</td>\n",
       "      <td>Guardians of the Galaxy</td>\n",
       "      <td>Light years from Earth, 26 years after being abducted, Peter Quill finds himself the prime target of a manhunt after discovering an orb wanted by Ronan the Accuser.</td>\n",
       "      <td>481.0986</td>\n",
       "      <td>[{\"name\": \"Marvel Studios\", \"id\": 420}, {\"name\": \"Moving Picture Company (MPC)\", \"id\": 20478}, {\"name\": \"Bulletproof Cupid\", \"id\": 54850}, {\"name\": \"Revolution Sun Studios\", \"id\": 76043}]</td>\n",
       "      <td>[{\"iso_3166_1\": \"GB\", \"name\": \"United Kingdom\"}, {\"iso_3166_1\": \"US\", \"name\": \"United States of America\"}]</td>\n",
       "      <td>2014-07-30</td>\n",
       "      <td>773328629</td>\n",
       "      <td>121</td>\n",
       "      <td>[{\"iso_639_1\": \"en\", \"name\": \"English\"}]</td>\n",
       "      <td>Released</td>\n",
       "      <td>All heroes start somewhere.</td>\n",
       "      <td>7.9000</td>\n",
       "      <td>9742</td>\n",
       "    </tr>\n",
       "    <tr>\n",
       "      <th>4206</th>\n",
       "      <td>0</td>\n",
       "      <td>[{\"id\": 10749, \"name\": \"Romance\"}]</td>\n",
       "      <td>NaN</td>\n",
       "      <td>118340</td>\n",
       "      <td>[]</td>\n",
       "      <td>hi</td>\n",
       "      <td>दिल जो भी कहे</td>\n",
       "      <td>During the British rule in India, several Indians were lured by the British to travel to distant Mauritius where they would have a better life. Upon reaching this island, the Indians were enslaved, tortured and made to labor in what is now known as the \"Coolie Ghat\". After the British left India, the Indians in Mauritius decided to continue to live there along with other nationals from different countries.</td>\n",
       "      <td>0.1227</td>\n",
       "      <td>[{\"name\": \"Entertainment One Pvt. Ltd.\", \"id\": 3650}]</td>\n",
       "      <td>[{\"iso_3166_1\": \"IN\", \"name\": \"India\"}]</td>\n",
       "      <td>2006-12-07</td>\n",
       "      <td>0</td>\n",
       "      <td>0</td>\n",
       "      <td>[{\"iso_639_1\": \"en\", \"name\": \"English\"}, {\"iso_639_1\": \"hi\", \"name\": \"\\u0939\\u093f\\u0928\\u094d\\u0926\\u0940\"}]</td>\n",
       "      <td>Released</td>\n",
       "      <td>NaN</td>\n",
       "      <td>0.0000</td>\n",
       "      <td>0</td>\n",
       "    </tr>\n",
       "  </tbody>\n",
       "</table>\n",
       "</div>"
      ],
      "text/plain": [
       "         budget  \\\n",
       "93    170000000   \n",
       "4206          0   \n",
       "\n",
       "                                                                                                       genres  \\\n",
       "93    [{\"id\": 28, \"name\": \"Action\"}, {\"id\": 878, \"name\": \"Science Fiction\"}, {\"id\": 12, \"name\": \"Adventure\"}]   \n",
       "4206                                                                       [{\"id\": 10749, \"name\": \"Romance\"}]   \n",
       "\n",
       "                         homepage      id  \\\n",
       "93    http://marvel.com/guardians  118340   \n",
       "4206                          NaN  118340   \n",
       "\n",
       "                                                                                                                                                                                                                                                                                                                                                                       keywords  \\\n",
       "93    [{\"id\": 8828, \"name\": \"marvel comic\"}, {\"id\": 9831, \"name\": \"spaceship\"}, {\"id\": 9882, \"name\": \"space\"}, {\"id\": 12405, \"name\": \"outer space\"}, {\"id\": 13014, \"name\": \"orphan\"}, {\"id\": 175428, \"name\": \"adventurer\"}, {\"id\": 179430, \"name\": \"aftercreditsstinger\"}, {\"id\": 179431, \"name\": \"duringcreditsstinger\"}, {\"id\": 180547, \"name\": \"marvel cinematic universe\"}]   \n",
       "4206                                                                                                                                                                                                                                                                                                                                                                         []   \n",
       "\n",
       "     original_language           original_title  \\\n",
       "93                  en  Guardians of the Galaxy   \n",
       "4206                hi            दिल जो भी कहे   \n",
       "\n",
       "                                                                                                                                                                                                                                                                                                                                                                                                                       overview  \\\n",
       "93                                                                                                                                                                                                                                                         Light years from Earth, 26 years after being abducted, Peter Quill finds himself the prime target of a manhunt after discovering an orb wanted by Ronan the Accuser.   \n",
       "4206  During the British rule in India, several Indians were lured by the British to travel to distant Mauritius where they would have a better life. Upon reaching this island, the Indians were enslaved, tortured and made to labor in what is now known as the \"Coolie Ghat\". After the British left India, the Indians in Mauritius decided to continue to live there along with other nationals from different countries.   \n",
       "\n",
       "      popularity  \\\n",
       "93      481.0986   \n",
       "4206      0.1227   \n",
       "\n",
       "                                                                                                                                                                             production_companies  \\\n",
       "93    [{\"name\": \"Marvel Studios\", \"id\": 420}, {\"name\": \"Moving Picture Company (MPC)\", \"id\": 20478}, {\"name\": \"Bulletproof Cupid\", \"id\": 54850}, {\"name\": \"Revolution Sun Studios\", \"id\": 76043}]   \n",
       "4206                                                                                                                                        [{\"name\": \"Entertainment One Pvt. Ltd.\", \"id\": 3650}]   \n",
       "\n",
       "                                                                                            production_countries  \\\n",
       "93    [{\"iso_3166_1\": \"GB\", \"name\": \"United Kingdom\"}, {\"iso_3166_1\": \"US\", \"name\": \"United States of America\"}]   \n",
       "4206                                                                     [{\"iso_3166_1\": \"IN\", \"name\": \"India\"}]   \n",
       "\n",
       "     release_date    revenue  runtime  \\\n",
       "93     2014-07-30  773328629      121   \n",
       "4206   2006-12-07          0        0   \n",
       "\n",
       "                                                                                                   spoken_languages  \\\n",
       "93                                                                         [{\"iso_639_1\": \"en\", \"name\": \"English\"}]   \n",
       "4206  [{\"iso_639_1\": \"en\", \"name\": \"English\"}, {\"iso_639_1\": \"hi\", \"name\": \"\\u0939\\u093f\\u0928\\u094d\\u0926\\u0940\"}]   \n",
       "\n",
       "        status                      tagline  vote_average  vote_count  \n",
       "93    Released  All heroes start somewhere.        7.9000        9742  \n",
       "4206  Released                          NaN        0.0000           0  "
      ]
     },
     "execution_count": 24,
     "metadata": {},
     "output_type": "execute_result"
    }
   ],
   "source": [
    "# Creates duplicates and sorts it by ID.\n",
    "duplicate_ids = df_data[df_data['id'].duplicated(keep = False)].sort_values(by = 'id', ascending=True).copy() \n",
    "print(f'There are {duplicate_ids.shape[0]} records were the ID is a duplicate.')\n",
    "duplicate_ids.head(4) # Shows the duplicate values."
   ]
  },
  {
   "cell_type": "code",
   "execution_count": 25,
   "id": "8915fb4f",
   "metadata": {},
   "outputs": [
    {
     "name": "stdout",
     "output_type": "stream",
     "text": [
      "(4799, 19)\n",
      "(4798, 19)\n"
     ]
    }
   ],
   "source": [
    "print(df_data.shape)\n",
    "# Drop duplicate based on 'id'. Keeps the first record and reset index.\n",
    "df_data = df_data.drop_duplicates(subset=['id'], keep = 'first').reset_index(drop=True)\n",
    "print(df_data.shape)\n",
    "df_data = df_data.reset_index(drop=True)"
   ]
  },
  {
   "cell_type": "markdown",
   "id": "ec91b038",
   "metadata": {},
   "source": [
    "### Null Values: Statistics and Cleaning"
   ]
  },
  {
   "cell_type": "code",
   "execution_count": 26,
   "id": "43ac8bcc",
   "metadata": {},
   "outputs": [
    {
     "data": {
      "text/plain": [
       "budget                     0\n",
       "genres                     0\n",
       "homepage                3087\n",
       "id                         0\n",
       "keywords                   0\n",
       "original_language          0\n",
       "original_title             0\n",
       "overview                   1\n",
       "popularity                 0\n",
       "production_companies       0\n",
       "production_countries       0\n",
       "release_date               1\n",
       "revenue                    0\n",
       "runtime                    0\n",
       "spoken_languages           0\n",
       "status                     0\n",
       "tagline                  841\n",
       "vote_average               0\n",
       "vote_count                 0\n",
       "dtype: int64"
      ]
     },
     "execution_count": 26,
     "metadata": {},
     "output_type": "execute_result"
    }
   ],
   "source": [
    "# Explores the total of null values in the dataframe.\n",
    "# There may be columsn we don't need and we may want to drop.\n",
    "df_data.isnull().sum()"
   ]
  },
  {
   "cell_type": "code",
   "execution_count": 27,
   "id": "2761fdf6",
   "metadata": {},
   "outputs": [],
   "source": [
    "# Note that in many cases databases and datasets may not have as clean naming convention as the features in this data.\n",
    "# The feature names in this dataset is using 'snake case' where the words have a underscore.\n",
    "# To rename a column you could use the following.\n",
    "df_data.rename(columns={'homepage':'homepage_link',\n",
    "                        'tagline':'tagline_renamed',\n",
    "                        }, inplace=True)"
   ]
  },
  {
   "cell_type": "code",
   "execution_count": 28,
   "id": "50af06da",
   "metadata": {},
   "outputs": [
    {
     "name": "stdout",
     "output_type": "stream",
     "text": [
      "(4798, 19)\n",
      "(4798, 16)\n"
     ]
    }
   ],
   "source": [
    "# For our purpsoses, we don't need 'homepage' (now 'homepage_link') nor 'tagline' (now 'tagline_renamed') features.\n",
    "# We also may not need the 'keywords' feature.\n",
    "# Typically keywords may be used for information retrieval.\n",
    "# Performing information retrieval with a similarity search approach typically results in better outputs.\n",
    "# Similarity search will be demonstrated in the NLP notebook.\n",
    "# Let's drop them. I typically use comment blocks like this to document the reason for droping items.\n",
    "# Printing the shape of the DF will help confirm the two dropped featuers.\n",
    "print(df_data.shape)\n",
    "df_data = df_data.drop(columns=['homepage_link','tagline_renamed', 'keywords'])\n",
    "print(df_data.shape) # Verifying that the second element dropped from 20 to 18 features."
   ]
  },
  {
   "cell_type": "code",
   "execution_count": 29,
   "id": "f4fe5929",
   "metadata": {},
   "outputs": [
    {
     "name": "stdout",
     "output_type": "stream",
     "text": [
      "The overview data has 1 null values.\n"
     ]
    },
    {
     "data": {
      "text/html": [
       "<div>\n",
       "<style scoped>\n",
       "    .dataframe tbody tr th:only-of-type {\n",
       "        vertical-align: middle;\n",
       "    }\n",
       "\n",
       "    .dataframe tbody tr th {\n",
       "        vertical-align: top;\n",
       "    }\n",
       "\n",
       "    .dataframe thead th {\n",
       "        text-align: right;\n",
       "    }\n",
       "</style>\n",
       "<table border=\"1\" class=\"dataframe\">\n",
       "  <thead>\n",
       "    <tr style=\"text-align: right;\">\n",
       "      <th></th>\n",
       "      <th>budget</th>\n",
       "      <th>genres</th>\n",
       "      <th>id</th>\n",
       "      <th>original_language</th>\n",
       "      <th>original_title</th>\n",
       "      <th>overview</th>\n",
       "      <th>popularity</th>\n",
       "      <th>production_companies</th>\n",
       "      <th>production_countries</th>\n",
       "      <th>release_date</th>\n",
       "      <th>revenue</th>\n",
       "      <th>runtime</th>\n",
       "      <th>spoken_languages</th>\n",
       "      <th>status</th>\n",
       "      <th>vote_average</th>\n",
       "      <th>vote_count</th>\n",
       "    </tr>\n",
       "  </thead>\n",
       "  <tbody>\n",
       "    <tr>\n",
       "      <th>4426</th>\n",
       "      <td>913000</td>\n",
       "      <td>[{\"id\": 99, \"name\": \"Documentary\"}]</td>\n",
       "      <td>292539</td>\n",
       "      <td>de</td>\n",
       "      <td>Food Chains</td>\n",
       "      <td>NaN</td>\n",
       "      <td>0.7957</td>\n",
       "      <td>[]</td>\n",
       "      <td>[]</td>\n",
       "      <td>2014-04-26</td>\n",
       "      <td>0</td>\n",
       "      <td>83</td>\n",
       "      <td>[{\"iso_639_1\": \"en\", \"name\": \"English\"}]</td>\n",
       "      <td>Released</td>\n",
       "      <td>7.4000</td>\n",
       "      <td>8</td>\n",
       "    </tr>\n",
       "  </tbody>\n",
       "</table>\n",
       "</div>"
      ],
      "text/plain": [
       "      budget                               genres      id original_language  \\\n",
       "4426  913000  [{\"id\": 99, \"name\": \"Documentary\"}]  292539                de   \n",
       "\n",
       "     original_title overview  popularity production_companies  \\\n",
       "4426    Food Chains      NaN      0.7957                   []   \n",
       "\n",
       "     production_countries release_date  revenue  runtime  \\\n",
       "4426                   []   2014-04-26        0       83   \n",
       "\n",
       "                              spoken_languages    status  vote_average  \\\n",
       "4426  [{\"iso_639_1\": \"en\", \"name\": \"English\"}]  Released        7.4000   \n",
       "\n",
       "      vote_count  \n",
       "4426           8  "
      ]
     },
     "execution_count": 29,
     "metadata": {},
     "output_type": "execute_result"
    }
   ],
   "source": [
    "# 'overview' feature has 3 null values. Let's explore.\n",
    "print(f\"The overview data has {df_data[df_data['overview'].isnull()].shape[0]} null values.\")\n",
    "df_data[df_data['overview'].isnull()].head(2)"
   ]
  },
  {
   "cell_type": "code",
   "execution_count": 30,
   "id": "d6d06ac4",
   "metadata": {},
   "outputs": [
    {
     "data": {
      "text/html": [
       "<div>\n",
       "<style scoped>\n",
       "    .dataframe tbody tr th:only-of-type {\n",
       "        vertical-align: middle;\n",
       "    }\n",
       "\n",
       "    .dataframe tbody tr th {\n",
       "        vertical-align: top;\n",
       "    }\n",
       "\n",
       "    .dataframe thead th {\n",
       "        text-align: right;\n",
       "    }\n",
       "</style>\n",
       "<table border=\"1\" class=\"dataframe\">\n",
       "  <thead>\n",
       "    <tr style=\"text-align: right;\">\n",
       "      <th></th>\n",
       "      <th>budget</th>\n",
       "      <th>genres</th>\n",
       "      <th>id</th>\n",
       "      <th>original_language</th>\n",
       "      <th>original_title</th>\n",
       "      <th>overview</th>\n",
       "      <th>popularity</th>\n",
       "      <th>production_companies</th>\n",
       "      <th>production_countries</th>\n",
       "      <th>release_date</th>\n",
       "      <th>revenue</th>\n",
       "      <th>runtime</th>\n",
       "      <th>spoken_languages</th>\n",
       "      <th>status</th>\n",
       "      <th>vote_average</th>\n",
       "      <th>vote_count</th>\n",
       "    </tr>\n",
       "  </thead>\n",
       "  <tbody>\n",
       "    <tr>\n",
       "      <th>4548</th>\n",
       "      <td>0</td>\n",
       "      <td>[]</td>\n",
       "      <td>380097</td>\n",
       "      <td>en</td>\n",
       "      <td>America Is Still the Place</td>\n",
       "      <td>1971 post civil rights San Francisco seemed like the perfect place for a black Korean War veteran and his family to realize their dream of economic independence and his own chance to be his a \"boss\". Charlie Walker would soon find out how naive he was. In a city full of impostors and naysayers, he refused to take \"No\" for an answer. Until a catastrophic disaster opened a door that had never been open to a black man before. This is a story about what happened when he stepped through that door, with both feet!.</td>\n",
       "      <td>0.0000</td>\n",
       "      <td>[]</td>\n",
       "      <td>[]</td>\n",
       "      <td>NaT</td>\n",
       "      <td>0</td>\n",
       "      <td>0</td>\n",
       "      <td>[]</td>\n",
       "      <td>Released</td>\n",
       "      <td>0.0000</td>\n",
       "      <td>0</td>\n",
       "    </tr>\n",
       "  </tbody>\n",
       "</table>\n",
       "</div>"
      ],
      "text/plain": [
       "      budget genres      id original_language              original_title  \\\n",
       "4548       0     []  380097                en  America Is Still the Place   \n",
       "\n",
       "                                                                                                                                                                                                                                                                                                                                                                                                                                                                                                                                overview  \\\n",
       "4548  1971 post civil rights San Francisco seemed like the perfect place for a black Korean War veteran and his family to realize their dream of economic independence and his own chance to be his a \"boss\". Charlie Walker would soon find out how naive he was. In a city full of impostors and naysayers, he refused to take \"No\" for an answer. Until a catastrophic disaster opened a door that had never been open to a black man before. This is a story about what happened when he stepped through that door, with both feet!.   \n",
       "\n",
       "      popularity production_companies production_countries release_date  \\\n",
       "4548      0.0000                   []                   []          NaT   \n",
       "\n",
       "      revenue  runtime spoken_languages    status  vote_average  vote_count  \n",
       "4548        0        0               []  Released        0.0000           0  "
      ]
     },
     "execution_count": 30,
     "metadata": {},
     "output_type": "execute_result"
    }
   ],
   "source": [
    "# Alternative way of calling the 'overview' feature whcih has 3 null values. Let's explore.\n",
    "df_data[df_data.release_date.isnull()].head(2) # Note different way to call the feature.\n",
    "# This would not work if the data had spaces and would had to convert to snake case."
   ]
  },
  {
   "cell_type": "code",
   "execution_count": 31,
   "id": "84737874",
   "metadata": {},
   "outputs": [
    {
     "data": {
      "text/html": [
       "<div>\n",
       "<style scoped>\n",
       "    .dataframe tbody tr th:only-of-type {\n",
       "        vertical-align: middle;\n",
       "    }\n",
       "\n",
       "    .dataframe tbody tr th {\n",
       "        vertical-align: top;\n",
       "    }\n",
       "\n",
       "    .dataframe thead th {\n",
       "        text-align: right;\n",
       "    }\n",
       "</style>\n",
       "<table border=\"1\" class=\"dataframe\">\n",
       "  <thead>\n",
       "    <tr style=\"text-align: right;\">\n",
       "      <th></th>\n",
       "      <th>budget</th>\n",
       "      <th>genres</th>\n",
       "      <th>id</th>\n",
       "      <th>original_language</th>\n",
       "      <th>original_title</th>\n",
       "      <th>overview</th>\n",
       "      <th>popularity</th>\n",
       "      <th>production_companies</th>\n",
       "      <th>production_countries</th>\n",
       "      <th>release_date</th>\n",
       "      <th>revenue</th>\n",
       "      <th>runtime</th>\n",
       "      <th>spoken_languages</th>\n",
       "      <th>status</th>\n",
       "      <th>vote_average</th>\n",
       "      <th>vote_count</th>\n",
       "    </tr>\n",
       "  </thead>\n",
       "  <tbody>\n",
       "  </tbody>\n",
       "</table>\n",
       "</div>"
      ],
      "text/plain": [
       "Empty DataFrame\n",
       "Columns: [budget, genres, id, original_language, original_title, overview, popularity, production_companies, production_countries, release_date, revenue, runtime, spoken_languages, status, vote_average, vote_count]\n",
       "Index: []"
      ]
     },
     "execution_count": 31,
     "metadata": {},
     "output_type": "execute_result"
    }
   ],
   "source": [
    "# Exploring null values could be strings in unstructured data features.\n",
    "df_data[df_data['overview'] == 'N/A'].head()\n",
    "# There may be cases where the entry is a string (e.g., 'N/A', 'Not Applicable', etc.) instead of np.nan.\n",
    "# Sometimes I have missed things like this and found out when analyzing data.\n",
    "# For example, clustering most probably will finds a group of reports with such string.\n",
    "# In one case the data entry team was putting an entry that read \"Nothing to report in this year.\"\n",
    "# The data had thousands of records and it was not until I did the clustering of reports that I noticed.\n",
    "# There is no purpose on including a record like taht in the data analysis. \n",
    "# Had to go back to the data cleaning notebook. \n",
    "# I added a cell to clean out those records, document the finding and reran the whole notebook. "
   ]
  },
  {
   "cell_type": "code",
   "execution_count": 32,
   "id": "2470e0a6",
   "metadata": {},
   "outputs": [
    {
     "name": "stdout",
     "output_type": "stream",
     "text": [
      "(4798, 16)\n",
      "(4797, 16)\n",
      "(4796, 16)\n"
     ]
    }
   ],
   "source": [
    "print(df_data.shape) # Initial shape of the data.\n",
    "# We will use the 'overview' text for NLP. Since these are null values we will drop these records.\n",
    "df_data = df_data[df_data['overview'].notnull()]\n",
    "print(df_data.shape) # Shape of the data after droping in previous line.\n",
    "# We will also use the release data for calculating trends and will drop records with null values in this feature.\n",
    "df_data = df_data[df_data.release_date.notnull()]\n",
    "print(df_data.shape) # Shape of the data after droping in previous line.\n",
    "\n",
    "# We can also reset the index separately instead of the line above.\n",
    "df_data = df_data.reset_index(drop=True)"
   ]
  },
  {
   "cell_type": "markdown",
   "id": "84196111",
   "metadata": {},
   "source": [
    "### Numerical Features: Statistics and Cleaning\n",
    "There are a few ways to explore the feature statistics in order to identify and decide which features to clean. We can use various functions including the .describe(), .hist() and sns.pairplot(). SNS Pairplot documentation at: https://seaborn.pydata.org/generated/seaborn.pairplot.html"
   ]
  },
  {
   "cell_type": "code",
   "execution_count": 33,
   "id": "23cda4bb",
   "metadata": {},
   "outputs": [
    {
     "data": {
      "image/png": "[encoded data removed]",
      "text/plain": [
       "<Figure size 864x864 with 9 Axes>"
      ]
     },
     "metadata": {
      "needs_background": "light"
     },
     "output_type": "display_data"
    }
   ],
   "source": [
    "# The .hist() or histogram function shows the distribution for eadh of the numerical features.\n",
    "# X-axis is the values in the feature and y-axis is how many or the counts.\n",
    "df_data.hist(figsize = [12, 12]);\n",
    "# A few observations:\n",
    "# A larg amount of entries close to the 0 budget.\n",
    "# Note on the range that the .hist() function is using for the x-values. \n",
    "# Release_date: most data is post 1980.\n",
    "# The x-axis of the runtime goes up to 800."
   ]
  },
  {
   "cell_type": "code",
   "execution_count": 34,
   "id": "f88e530e",
   "metadata": {},
   "outputs": [
    {
     "data": {
      "image/png": "[encoded data removed]",
      "text/plain": [
       "<Figure size 1260x1260 with 56 Axes>"
      ]
     },
     "metadata": {
      "needs_background": "light"
     },
     "output_type": "display_data"
    }
   ],
   "source": [
    "# The sns.pairplot() plots the relationship between any-two features. See documentation for other useful parameters.\n",
    "# This can be used also for selecting which features may provide useful clusters or may be correlated.\n",
    "# Note that if there are too many numberical features may be difficult to visualize. \n",
    "sns.pairplot(df_data);\n",
    "# A few notes:\n",
    "# Initially may be easier to evaluate the feature only on the y-axis and identify outliers.\n",
    "# Budget row seems to show negative value that do not make sense regardless of the column.\n",
    "# Popularity seems to have a few outliers with very large values.\n",
    "# Revenue seems to show one large value that is outside of the cluster.\n",
    "# Runtime row seems to show one very large value and negative values that are outside of the cluster."
   ]
  },
  {
   "cell_type": "code",
   "execution_count": 35,
   "id": "4916292f",
   "metadata": {},
   "outputs": [
    {
     "data": {
      "text/html": [
       "<div>\n",
       "<style scoped>\n",
       "    .dataframe tbody tr th:only-of-type {\n",
       "        vertical-align: middle;\n",
       "    }\n",
       "\n",
       "    .dataframe tbody tr th {\n",
       "        vertical-align: top;\n",
       "    }\n",
       "\n",
       "    .dataframe thead th {\n",
       "        text-align: right;\n",
       "    }\n",
       "</style>\n",
       "<table border=\"1\" class=\"dataframe\">\n",
       "  <thead>\n",
       "    <tr style=\"text-align: right;\">\n",
       "      <th></th>\n",
       "      <th>budget</th>\n",
       "      <th>id</th>\n",
       "      <th>popularity</th>\n",
       "      <th>revenue</th>\n",
       "      <th>runtime</th>\n",
       "      <th>vote_average</th>\n",
       "      <th>vote_count</th>\n",
       "    </tr>\n",
       "  </thead>\n",
       "  <tbody>\n",
       "    <tr>\n",
       "      <th>count</th>\n",
       "      <td>4796.0000</td>\n",
       "      <td>4796.0000</td>\n",
       "      <td>4796.0000</td>\n",
       "      <td>4796.0000</td>\n",
       "      <td>4796.0000</td>\n",
       "      <td>4796.0000</td>\n",
       "      <td>4796.0000</td>\n",
       "    </tr>\n",
       "    <tr>\n",
       "      <th>mean</th>\n",
       "      <td>28990286.3884</td>\n",
       "      <td>56901.9835</td>\n",
       "      <td>21.5165</td>\n",
       "      <td>82341967.7406</td>\n",
       "      <td>107.0847</td>\n",
       "      <td>6.0953</td>\n",
       "      <td>690.7738</td>\n",
       "    </tr>\n",
       "    <tr>\n",
       "      <th>std</th>\n",
       "      <td>40731679.1771</td>\n",
       "      <td>88263.3114</td>\n",
       "      <td>31.8307</td>\n",
       "      <td>162943075.3437</td>\n",
       "      <td>25.3053</td>\n",
       "      <td>1.1854</td>\n",
       "      <td>1235.0705</td>\n",
       "    </tr>\n",
       "    <tr>\n",
       "      <th>min</th>\n",
       "      <td>-140000000.0000</td>\n",
       "      <td>5.0000</td>\n",
       "      <td>0.0004</td>\n",
       "      <td>0.0000</td>\n",
       "      <td>-124.0000</td>\n",
       "      <td>0.0000</td>\n",
       "      <td>0.0000</td>\n",
       "    </tr>\n",
       "    <tr>\n",
       "      <th>25%</th>\n",
       "      <td>800000.0000</td>\n",
       "      <td>9011.2500</td>\n",
       "      <td>4.6971</td>\n",
       "      <td>0.0000</td>\n",
       "      <td>94.0000</td>\n",
       "      <td>5.6000</td>\n",
       "      <td>54.0000</td>\n",
       "    </tr>\n",
       "    <tr>\n",
       "      <th>50%</th>\n",
       "      <td>15000000.0000</td>\n",
       "      <td>14596.5000</td>\n",
       "      <td>12.9391</td>\n",
       "      <td>19194472.0000</td>\n",
       "      <td>104.0000</td>\n",
       "      <td>6.2000</td>\n",
       "      <td>236.0000</td>\n",
       "    </tr>\n",
       "    <tr>\n",
       "      <th>75%</th>\n",
       "      <td>40000000.0000</td>\n",
       "      <td>58446.2500</td>\n",
       "      <td>28.3506</td>\n",
       "      <td>92938861.0000</td>\n",
       "      <td>118.0000</td>\n",
       "      <td>6.8000</td>\n",
       "      <td>737.2500</td>\n",
       "    </tr>\n",
       "    <tr>\n",
       "      <th>max</th>\n",
       "      <td>380000000.0000</td>\n",
       "      <td>447027.0000</td>\n",
       "      <td>875.5813</td>\n",
       "      <td>2787965087.0000</td>\n",
       "      <td>888.0000</td>\n",
       "      <td>10.0000</td>\n",
       "      <td>13752.0000</td>\n",
       "    </tr>\n",
       "  </tbody>\n",
       "</table>\n",
       "</div>"
      ],
      "text/plain": [
       "               budget          id  popularity         revenue   runtime  \\\n",
       "count       4796.0000   4796.0000   4796.0000       4796.0000 4796.0000   \n",
       "mean    28990286.3884  56901.9835     21.5165   82341967.7406  107.0847   \n",
       "std     40731679.1771  88263.3114     31.8307  162943075.3437   25.3053   \n",
       "min   -140000000.0000      5.0000      0.0004          0.0000 -124.0000   \n",
       "25%       800000.0000   9011.2500      4.6971          0.0000   94.0000   \n",
       "50%     15000000.0000  14596.5000     12.9391   19194472.0000  104.0000   \n",
       "75%     40000000.0000  58446.2500     28.3506   92938861.0000  118.0000   \n",
       "max    380000000.0000 447027.0000    875.5813 2787965087.0000  888.0000   \n",
       "\n",
       "       vote_average  vote_count  \n",
       "count     4796.0000   4796.0000  \n",
       "mean         6.0953    690.7738  \n",
       "std          1.1854   1235.0705  \n",
       "min          0.0000      0.0000  \n",
       "25%          5.6000     54.0000  \n",
       "50%          6.2000    236.0000  \n",
       "75%          6.8000    737.2500  \n",
       "max         10.0000  13752.0000  "
      ]
     },
     "execution_count": 35,
     "metadata": {},
     "output_type": "execute_result"
    }
   ],
   "source": [
    "df_data.describe() # Statistics only for numerical features.\n",
    "# If we had run the .describe prior to addressing the runtime feature string issue, runtime would not have been included.\\"
   ]
  },
  {
   "cell_type": "markdown",
   "id": "85b0f3b1",
   "metadata": {},
   "source": [
    "Notes on the statistics of the movie numerical feature:\n",
    "\n",
    "'ID' is a unique value for each movies and statistics are not useful. Note that by default describe() function will caluclate statistics for all numerical columns.\n",
    "\n",
    "Zero values: The source data mentions that many features have zero values and it may be appropriate to treat these values as missing or null values.\n",
    "\n",
    "Budget feature:\n",
    "- Has a negative values which should not be possible. We may want to drop records that have negative budget. We may want to explore threshold were positive numbers in the budget make sense. For example, do we want to keep movies with a $0 budget?\n",
    "\n",
    "Runtime feature:\n",
    "- There seem to have movies with negative runtime which are also not possible.\n",
    "- Max runtime of 888 also seems troublesome. It is much higher than 107 minutes average, way beyond standard deviation and most probably an error.\n",
    "\n",
    "Revenue feature:\n",
    "- There seemed to be at least one value with extremely high value.\n",
    "\n",
    "Other features and statistics:\n",
    "- There may be other issues (e.g., with popularity, vote_average or vote_count).\n",
    "- Since these are more difficult to understand we may need a subject matter expert familiar with the data to identify issues."
   ]
  },
  {
   "cell_type": "markdown",
   "id": "66128d0e",
   "metadata": {},
   "source": [
    "For the purposes of this data cleaning we will assume that Budget, Revenue and Runtime features values of 0 are missing values and negative values are errors.\n",
    "\n",
    "There may be a few ways to approach and handle this:\n",
    "1. We could leave the data with these null/missing values. If using it for later analysis, visualizations, trending or as training data for ML we can filter it out. This will allow using the other features that are not null with the caveat that the records or entries with missing values may not be useful in some applications.\n",
    "2. We can decide to remove them.\n",
    "\n",
    "For the purposes of this notebook we will remove them."
   ]
  },
  {
   "cell_type": "code",
   "execution_count": 36,
   "id": "c1147067",
   "metadata": {},
   "outputs": [
    {
     "data": {
      "text/plain": [
       "(-inf, 0.0]         32\n",
       "(0.0, 100.0]      2052\n",
       "(100.0, 200.0]    2696\n",
       "(200.0, 300.0]      14\n",
       "(300.0, inf]         2\n",
       "Name: runtime, dtype: int64"
      ]
     },
     "execution_count": 36,
     "metadata": {},
     "output_type": "execute_result"
    }
   ],
   "source": [
    "# Before filtering out the values less than 0. Let's explore the other identified issue of very large runtimes.\n",
    "# Lets do a value_counts but creating a few bins to be able to evaluate the range of the runtime values.\n",
    "# Note that including infinity in lower/upper bound may remove null values.\n",
    "# However, null values were evaluated previously and runtime feature had none.\n",
    "df_data['runtime'].value_counts(bins = [-np.inf, 0, 100, 200, 300, np.inf], sort = False, dropna = False) \n",
    "# Note that there are two entries that have runtime values larger than 300."
   ]
  },
  {
   "cell_type": "code",
   "execution_count": 37,
   "id": "f0168e15",
   "metadata": {},
   "outputs": [
    {
     "data": {
      "text/html": [
       "<div>\n",
       "<style scoped>\n",
       "    .dataframe tbody tr th:only-of-type {\n",
       "        vertical-align: middle;\n",
       "    }\n",
       "\n",
       "    .dataframe tbody tr th {\n",
       "        vertical-align: top;\n",
       "    }\n",
       "\n",
       "    .dataframe thead th {\n",
       "        text-align: right;\n",
       "    }\n",
       "</style>\n",
       "<table border=\"1\" class=\"dataframe\">\n",
       "  <thead>\n",
       "    <tr style=\"text-align: right;\">\n",
       "      <th></th>\n",
       "      <th>budget</th>\n",
       "      <th>genres</th>\n",
       "      <th>id</th>\n",
       "      <th>original_language</th>\n",
       "      <th>original_title</th>\n",
       "      <th>overview</th>\n",
       "      <th>popularity</th>\n",
       "      <th>production_companies</th>\n",
       "      <th>production_countries</th>\n",
       "      <th>release_date</th>\n",
       "      <th>revenue</th>\n",
       "      <th>runtime</th>\n",
       "      <th>spoken_languages</th>\n",
       "      <th>status</th>\n",
       "      <th>vote_average</th>\n",
       "      <th>vote_count</th>\n",
       "    </tr>\n",
       "  </thead>\n",
       "  <tbody>\n",
       "    <tr>\n",
       "      <th>130</th>\n",
       "      <td>150000000</td>\n",
       "      <td>[{\"id\": 14, \"name\": \"Fantasy\"}, {\"id\": 28, \"name\": \"Action\"}, {\"id\": 12, \"name\": \"Adventure\"}, {\"id\": 10751, \"name\": \"Family\"}, {\"id\": 35, \"name\": \"Comedy\"}]</td>\n",
       "      <td>19585</td>\n",
       "      <td>en</td>\n",
       "      <td>G-Force</td>\n",
       "      <td>A team of trained secret agent animals, guinea pigs Darwin, Juarez, Blaster, mole Speckles, and fly Mooch takes on a mission for the US government to stop evil Leonard Saber, who plans to destroy the world with household appliances. But the government shuts them down and they are sentenced to a pet shop. Can they escape to defeat the villain and save the world?</td>\n",
       "      <td>26.7104</td>\n",
       "      <td>[{\"name\": \"Walt Disney Pictures\", \"id\": 2}, {\"name\": \"Jerry Bruckheimer Films\", \"id\": 130}, {\"name\": \"Whamaphram Productions\", \"id\": 3639}]</td>\n",
       "      <td>[{\"iso_3166_1\": \"US\", \"name\": \"United States of America\"}]</td>\n",
       "      <td>2009-07-21</td>\n",
       "      <td>292817841</td>\n",
       "      <td>888</td>\n",
       "      <td>[{\"iso_639_1\": \"en\", \"name\": \"English\"}]</td>\n",
       "      <td>Released</td>\n",
       "      <td>5.1000</td>\n",
       "      <td>510</td>\n",
       "    </tr>\n",
       "    <tr>\n",
       "      <th>2383</th>\n",
       "      <td>18000000</td>\n",
       "      <td>[{\"id\": 80, \"name\": \"Crime\"}, {\"id\": 18, \"name\": \"Drama\"}, {\"id\": 53, \"name\": \"Thriller\"}, {\"id\": 36, \"name\": \"History\"}]</td>\n",
       "      <td>43434</td>\n",
       "      <td>en</td>\n",
       "      <td>Carlos</td>\n",
       "      <td>The story of Venezuelan revolutionary, Ilich Ramirez Sanchez, who founded a worldwide terrorist organization and raided the OPEC headquarters in 1975 before being caught by the French police.</td>\n",
       "      <td>1.1384</td>\n",
       "      <td>[{\"name\": \"Egoli Tossell Film AG\", \"id\": 2254}, {\"name\": \"Canal+\", \"id\": 5358}, {\"name\": \"Arte France\", \"id\": 6111}, {\"name\": \"Films en Stock\", \"id\": 11394}]</td>\n",
       "      <td>[{\"iso_3166_1\": \"FR\", \"name\": \"France\"}, {\"iso_3166_1\": \"DE\", \"name\": \"Germany\"}]</td>\n",
       "      <td>2010-05-19</td>\n",
       "      <td>871279</td>\n",
       "      <td>338</td>\n",
       "      <td>[{\"iso_639_1\": \"fr\", \"name\": \"Fran\\u00e7ais\"}, {\"iso_639_1\": \"de\", \"name\": \"Deutsch\"}, {\"iso_639_1\": \"en\", \"name\": \"English\"}, {\"iso_639_1\": \"es\", \"name\": \"Espa\\u00f1ol\"}, {\"iso_639_1\": \"ar\", \"name\": \"\\u0627\\u0644\\u0639\\u0631\\u0628\\u064a\\u0629\"}, {\"iso_639_1\": \"hu\", \"name\": \"Magyar\"}, {\"iso_639_1\": \"ja\", \"name\": \"\\u65e5\\u672c\\u8a9e\"}, {\"iso_639_1\": \"ru\", \"name\": \"P\\u0443\\u0441\\u0441\\u043a\\u0438\\u0439\"}]</td>\n",
       "      <td>Released</td>\n",
       "      <td>6.7000</td>\n",
       "      <td>50</td>\n",
       "    </tr>\n",
       "  </tbody>\n",
       "</table>\n",
       "</div>"
      ],
      "text/plain": [
       "         budget  \\\n",
       "130   150000000   \n",
       "2383   18000000   \n",
       "\n",
       "                                                                                                                                                             genres  \\\n",
       "130   [{\"id\": 14, \"name\": \"Fantasy\"}, {\"id\": 28, \"name\": \"Action\"}, {\"id\": 12, \"name\": \"Adventure\"}, {\"id\": 10751, \"name\": \"Family\"}, {\"id\": 35, \"name\": \"Comedy\"}]   \n",
       "2383                                      [{\"id\": 80, \"name\": \"Crime\"}, {\"id\": 18, \"name\": \"Drama\"}, {\"id\": 53, \"name\": \"Thriller\"}, {\"id\": 36, \"name\": \"History\"}]   \n",
       "\n",
       "         id original_language original_title  \\\n",
       "130   19585                en        G-Force   \n",
       "2383  43434                en         Carlos   \n",
       "\n",
       "                                                                                                                                                                                                                                                                                                                                                                         overview  \\\n",
       "130   A team of trained secret agent animals, guinea pigs Darwin, Juarez, Blaster, mole Speckles, and fly Mooch takes on a mission for the US government to stop evil Leonard Saber, who plans to destroy the world with household appliances. But the government shuts them down and they are sentenced to a pet shop. Can they escape to defeat the villain and save the world?   \n",
       "2383                                                                                                                                                                              The story of Venezuelan revolutionary, Ilich Ramirez Sanchez, who founded a worldwide terrorist organization and raided the OPEC headquarters in 1975 before being caught by the French police.   \n",
       "\n",
       "      popularity  \\\n",
       "130      26.7104   \n",
       "2383      1.1384   \n",
       "\n",
       "                                                                                                                                               production_companies  \\\n",
       "130                     [{\"name\": \"Walt Disney Pictures\", \"id\": 2}, {\"name\": \"Jerry Bruckheimer Films\", \"id\": 130}, {\"name\": \"Whamaphram Productions\", \"id\": 3639}]   \n",
       "2383  [{\"name\": \"Egoli Tossell Film AG\", \"id\": 2254}, {\"name\": \"Canal+\", \"id\": 5358}, {\"name\": \"Arte France\", \"id\": 6111}, {\"name\": \"Films en Stock\", \"id\": 11394}]   \n",
       "\n",
       "                                                                   production_countries  \\\n",
       "130                          [{\"iso_3166_1\": \"US\", \"name\": \"United States of America\"}]   \n",
       "2383  [{\"iso_3166_1\": \"FR\", \"name\": \"France\"}, {\"iso_3166_1\": \"DE\", \"name\": \"Germany\"}]   \n",
       "\n",
       "     release_date    revenue  runtime  \\\n",
       "130    2009-07-21  292817841      888   \n",
       "2383   2010-05-19     871279      338   \n",
       "\n",
       "                                                                                                                                                                                                                                                                                                                                                                                                            spoken_languages  \\\n",
       "130                                                                                                                                                                                                                                                                                                                                                                                 [{\"iso_639_1\": \"en\", \"name\": \"English\"}]   \n",
       "2383  [{\"iso_639_1\": \"fr\", \"name\": \"Fran\\u00e7ais\"}, {\"iso_639_1\": \"de\", \"name\": \"Deutsch\"}, {\"iso_639_1\": \"en\", \"name\": \"English\"}, {\"iso_639_1\": \"es\", \"name\": \"Espa\\u00f1ol\"}, {\"iso_639_1\": \"ar\", \"name\": \"\\u0627\\u0644\\u0639\\u0631\\u0628\\u064a\\u0629\"}, {\"iso_639_1\": \"hu\", \"name\": \"Magyar\"}, {\"iso_639_1\": \"ja\", \"name\": \"\\u65e5\\u672c\\u8a9e\"}, {\"iso_639_1\": \"ru\", \"name\": \"P\\u0443\\u0441\\u0441\\u043a\\u0438\\u0439\"}]   \n",
       "\n",
       "        status  vote_average  vote_count  \n",
       "130   Released        5.1000         510  \n",
       "2383  Released        6.7000          50  "
      ]
     },
     "execution_count": 37,
     "metadata": {},
     "output_type": "execute_result"
    }
   ],
   "source": [
    "# We can individually evaluate entries with runtime larger than 300 filetering data as follows.\n",
    "df_data[df_data['runtime'] > 300]\n",
    "# We can try to search the runtime to make sure it is correct.\n",
    "# Or we can decide that these are outliers that are not needed for our tasks.\n",
    "# In the case of the runtime = 888 this seems to be an error as is more than twice the value of the second highest value.\n",
    "# Lets remove any values that go beyond 350 minutes runtime."
   ]
  },
  {
   "cell_type": "code",
   "execution_count": 38,
   "id": "54a97f04",
   "metadata": {},
   "outputs": [
    {
     "data": {
      "text/plain": [
       "(-inf, 0.0]                     1421\n",
       "(0.0, 20000000.0]               1008\n",
       "(20000000.0, 100000000.0]       1242\n",
       "(100000000.0, 1000000000.0]     1104\n",
       "(1000000000.0, 1500000000.0]      16\n",
       "(1500000000.0, 2000000000.0]       4\n",
       "(2000000000.0, 3000000000.0]       1\n",
       "(3000000000.0, inf]                0\n",
       "Name: revenue, dtype: int64"
      ]
     },
     "execution_count": 38,
     "metadata": {},
     "output_type": "execute_result"
    }
   ],
   "source": [
    "# Before filtering out the values let's evaluate the values of revenue as there seemed to be one very large value.\n",
    "# Initial bins were developed using the 25 and 75 percentiles and max values for revenue. \n",
    "df_data['revenue'].value_counts(bins = [-np.inf, 0, 2e7, 1e8, 1e9, 1.5e9, 2e9, 3e9, np.inf], \n",
    "                                sort = False, \n",
    "                                dropna = False)\n",
    "# Notes:\n",
    "# Even though graphically there was one potential extreme outlier, it does not seem as extreme when expressed numerically. "
   ]
  },
  {
   "cell_type": "code",
   "execution_count": 39,
   "id": "6b1d135c",
   "metadata": {},
   "outputs": [
    {
     "data": {
      "text/html": [
       "<div>\n",
       "<style scoped>\n",
       "    .dataframe tbody tr th:only-of-type {\n",
       "        vertical-align: middle;\n",
       "    }\n",
       "\n",
       "    .dataframe tbody tr th {\n",
       "        vertical-align: top;\n",
       "    }\n",
       "\n",
       "    .dataframe thead th {\n",
       "        text-align: right;\n",
       "    }\n",
       "</style>\n",
       "<table border=\"1\" class=\"dataframe\">\n",
       "  <thead>\n",
       "    <tr style=\"text-align: right;\">\n",
       "      <th></th>\n",
       "      <th>budget</th>\n",
       "      <th>genres</th>\n",
       "      <th>id</th>\n",
       "      <th>original_language</th>\n",
       "      <th>original_title</th>\n",
       "      <th>overview</th>\n",
       "      <th>popularity</th>\n",
       "      <th>production_companies</th>\n",
       "      <th>production_countries</th>\n",
       "      <th>release_date</th>\n",
       "      <th>revenue</th>\n",
       "      <th>runtime</th>\n",
       "      <th>spoken_languages</th>\n",
       "      <th>status</th>\n",
       "      <th>vote_average</th>\n",
       "      <th>vote_count</th>\n",
       "    </tr>\n",
       "  </thead>\n",
       "  <tbody>\n",
       "    <tr>\n",
       "      <th>0</th>\n",
       "      <td>237000000</td>\n",
       "      <td>[{\"id\": 28, \"name\": \"Action\"}, {\"id\": 12, \"name\": \"Adventure\"}, {\"id\": 14, \"name\": \"Fantasy\"}, {\"id\": 878, \"name\": \"Science Fiction\"}]</td>\n",
       "      <td>19995</td>\n",
       "      <td>en</td>\n",
       "      <td>Avatar</td>\n",
       "      <td>In the 22nd century, a paraplegic Marine is dispatched to the moon Pandora on a unique mission, but becomes torn between following orders and protecting an alien civilization.</td>\n",
       "      <td>150.4376</td>\n",
       "      <td>[{\"name\": \"Ingenious Film Partners\", \"id\": 289}, {\"name\": \"Twentieth Century Fox Film Corporation\", \"id\": 306}, {\"name\": \"Dune Entertainment\", \"id\": 444}, {\"name\": \"Lightstorm Entertainment\", \"id\": 574}]</td>\n",
       "      <td>[{\"iso_3166_1\": \"US\", \"name\": \"United States of America\"}, {\"iso_3166_1\": \"GB\", \"name\": \"United Kingdom\"}]</td>\n",
       "      <td>2009-12-10</td>\n",
       "      <td>2787965087</td>\n",
       "      <td>162</td>\n",
       "      <td>[{\"iso_639_1\": \"en\", \"name\": \"English\"}, {\"iso_639_1\": \"es\", \"name\": \"Espa\\u00f1ol\"}]</td>\n",
       "      <td>Released</td>\n",
       "      <td>7.2000</td>\n",
       "      <td>11800</td>\n",
       "    </tr>\n",
       "  </tbody>\n",
       "</table>\n",
       "</div>"
      ],
      "text/plain": [
       "      budget  \\\n",
       "0  237000000   \n",
       "\n",
       "                                                                                                                                   genres  \\\n",
       "0  [{\"id\": 28, \"name\": \"Action\"}, {\"id\": 12, \"name\": \"Adventure\"}, {\"id\": 14, \"name\": \"Fantasy\"}, {\"id\": 878, \"name\": \"Science Fiction\"}]   \n",
       "\n",
       "      id original_language original_title  \\\n",
       "0  19995                en         Avatar   \n",
       "\n",
       "                                                                                                                                                                          overview  \\\n",
       "0  In the 22nd century, a paraplegic Marine is dispatched to the moon Pandora on a unique mission, but becomes torn between following orders and protecting an alien civilization.   \n",
       "\n",
       "   popularity  \\\n",
       "0    150.4376   \n",
       "\n",
       "                                                                                                                                                                                          production_companies  \\\n",
       "0  [{\"name\": \"Ingenious Film Partners\", \"id\": 289}, {\"name\": \"Twentieth Century Fox Film Corporation\", \"id\": 306}, {\"name\": \"Dune Entertainment\", \"id\": 444}, {\"name\": \"Lightstorm Entertainment\", \"id\": 574}]   \n",
       "\n",
       "                                                                                         production_countries  \\\n",
       "0  [{\"iso_3166_1\": \"US\", \"name\": \"United States of America\"}, {\"iso_3166_1\": \"GB\", \"name\": \"United Kingdom\"}]   \n",
       "\n",
       "  release_date     revenue  runtime  \\\n",
       "0   2009-12-10  2787965087      162   \n",
       "\n",
       "                                                                        spoken_languages  \\\n",
       "0  [{\"iso_639_1\": \"en\", \"name\": \"English\"}, {\"iso_639_1\": \"es\", \"name\": \"Espa\\u00f1ol\"}]   \n",
       "\n",
       "     status  vote_average  vote_count  \n",
       "0  Released        7.2000       11800  "
      ]
     },
     "execution_count": 39,
     "metadata": {},
     "output_type": "execute_result"
    }
   ],
   "source": [
    "# Let's filter for the max revenue item.\n",
    "df_data[df_data['revenue'] == df_data['revenue'].max()]\n",
    "# I am not a movie SME but do know the movie Avatar may be in the top highest grossing movies.\n",
    "# Will  not remove this datapoint."
   ]
  },
  {
   "cell_type": "code",
   "execution_count": 40,
   "id": "f46e231f",
   "metadata": {},
   "outputs": [
    {
     "name": "stdout",
     "output_type": "stream",
     "text": [
      "(4796, 16)\n",
      "(3226, 16)\n"
     ]
    }
   ],
   "source": [
    "# Lets use a data filtering approach to filter out the values that were determined to be dropped.\n",
    "print(df_data.shape)\n",
    "df_data = df_data.loc[(df_data['budget'] > 0) &\n",
    "                      (df_data['revenue'] > 0) &\n",
    "                      (df_data['runtime'] > 0) &\n",
    "                      (df_data['runtime'] <= 350)\n",
    "                     ].reset_index(drop=True)\n",
    "print(df_data.shape)\n",
    "# This will drop the dataframe from 4798 entries to 3226."
   ]
  },
  {
   "cell_type": "markdown",
   "id": "181442cd",
   "metadata": {},
   "source": [
    "### Non-Numerical Categorical Features\n",
    "This dataset has non-numerical categorical features in two formats. First, some features (e.g., original language, status) only have a single value. In others features an entry may have multiple values that may be applicable. In this dataset, these features with multiple values (e.g., genres, keywords, production_companies, production_countries and spoken_language) use a JSON or dictionary like format to capture the values.\n",
    "\n",
    "For the purposes of this notebook the statistics and cleaning will be separated in their own sections as the preparation and data manipulation will be different."
   ]
  },
  {
   "cell_type": "code",
   "execution_count": 41,
   "id": "ea81e00b",
   "metadata": {},
   "outputs": [
    {
     "data": {
      "text/plain": [
       "Index(['budget', 'genres', 'id', 'original_language', 'original_title',\n",
       "       'overview', 'popularity', 'production_companies',\n",
       "       'production_countries', 'release_date', 'revenue', 'runtime',\n",
       "       'spoken_languages', 'status', 'vote_average', 'vote_count'],\n",
       "      dtype='object')"
      ]
     },
     "execution_count": 41,
     "metadata": {},
     "output_type": "execute_result"
    }
   ],
   "source": [
    "# Review the columns.\n",
    "df_data.columns"
   ]
  },
  {
   "cell_type": "markdown",
   "id": "2937de9f",
   "metadata": {},
   "source": [
    "#### Non-Numerical Categorical Features: One-Hot-Encoding\n",
    "In some cases it may be beneficial to convert a data feature to one-hot-encoding format. Typically, a feature that has categorical values (e.g., genres, original language) can be converted to one-hot-encoding. The following sections explores cleaning of non-numerical categorical feataures and where appropriate convert to one-hot-encoding. The decision on which column to convert to one-hot-encoding comes with experience. One of the main reasons to convert to one-hot-encoding format is in preparation for features that will be used as part of post data cleaning analyses (e.g., classification tasks)."
   ]
  },
  {
   "cell_type": "markdown",
   "id": "940964f4",
   "metadata": {},
   "source": [
    "#### Non-Numerical Categorical Features: Statistics and Cleaning\n",
    "This section looks at those non-numerical categorical features that only have one value per entry. These include status and original_language."
   ]
  },
  {
   "cell_type": "code",
   "execution_count": 42,
   "id": "5f2d7c95",
   "metadata": {},
   "outputs": [
    {
     "data": {
      "text/plain": [
       "Post Production       1\n",
       "Released           3225\n",
       "Name: status, dtype: int64"
      ]
     },
     "execution_count": 42,
     "metadata": {},
     "output_type": "execute_result"
    }
   ],
   "source": [
    "df_data['status'].value_counts(normalize = False, sort = True, ascending = True, dropna = False).head(5)\n",
    "# Only one movie in post production and the rest are in released status.\n",
    "# Post production is clearly underrepresented.\n",
    "# The original data had a few more movies as post production and rumored but those entries were dropped in previous steps.\n",
    "# Since this is a feature that does not provide much information lets first drop this record and then the feature."
   ]
  },
  {
   "cell_type": "code",
   "execution_count": 43,
   "id": "0bb2115d",
   "metadata": {},
   "outputs": [
    {
     "name": "stdout",
     "output_type": "stream",
     "text": [
      "(3226, 16)\n",
      "(3225, 16)\n"
     ]
    }
   ],
   "source": [
    "print(df_data.shape)\n",
    "df_data = df_data[df_data.status != 'Post Production'] # Dropping rows different than 'Post Production'\n",
    "print(df_data.shape)\n",
    "\n",
    "# Remember when droping rows to reset index.\n",
    "df_data = df_data.reset_index(drop=True)"
   ]
  },
  {
   "cell_type": "code",
   "execution_count": 44,
   "id": "b9434aa8",
   "metadata": {},
   "outputs": [
    {
     "name": "stdout",
     "output_type": "stream",
     "text": [
      "(3225, 16)\n",
      "(3225, 15)\n"
     ]
    }
   ],
   "source": [
    "# Now let's drop the 'status' feature since it only has movies that have been released.\n",
    "print(df_data.shape)\n",
    "df_data = df_data.drop(columns=['status'])\n",
    "print(df_data.shape)"
   ]
  },
  {
   "cell_type": "markdown",
   "id": "66608c44",
   "metadata": {},
   "source": [
    "#### Non-Numerica Categorical Features JSON Like Format: Statistics and Cleaning\n",
    "\n",
    "Extract genre information as a feature or features. Note the dictionary has the id and the name. There may be a few ways to do this. Create a list of all the location 3 in the dictionary, then create all this list as columns and when contains put a 1. Extract List and Dictionary Data (note this may be similar with the multiple SPO). https://stackoverflow.com/questions/65544954/pandas-extract-values-from-a-column-with-multiple-list-of-dictionaries-and-spli\n"
   ]
  },
  {
   "cell_type": "code",
   "execution_count": 45,
   "id": "fbfaee43",
   "metadata": {},
   "outputs": [
    {
     "name": "stdout",
     "output_type": "stream",
     "text": [
      "Currently processing step: 3224 of 3224.\n"
     ]
    }
   ],
   "source": [
    "unique_genres = [] # Initiate empty list\n",
    "\n",
    "# Iterates thru every row.\n",
    "for row in range(len(df_data)):\n",
    "    # Progress status. Will not make difference in these as processing a few thousand records is fast.\n",
    "    progress_status(step = row, total_steps = len(df_data)-1)\n",
    "    \n",
    "    cell_contents = json.loads(df_data.iloc[row]['genres']) # Loads cell data as json data.\n",
    "    # Consolidate new list with old list and remove duplicates with list(set())).\n",
    "    unique_genres = list(set((unique_genres + [item.get('name') for item in cell_contents])))\n",
    "    unique_genres.sort() # Sort list alphabetically"
   ]
  },
  {
   "cell_type": "code",
   "execution_count": 46,
   "id": "a88b54b7",
   "metadata": {},
   "outputs": [
    {
     "name": "stdout",
     "output_type": "stream",
     "text": [
      "There are a total of 19 unique genres: \n",
      "['Action', 'Adventure', 'Animation', 'Comedy', 'Crime', 'Documentary', 'Drama', 'Family', 'Fantasy', 'Foreign', 'History', 'Horror', 'Music', 'Mystery', 'Romance', 'Science Fiction', 'Thriller', 'War', 'Western'].\n"
     ]
    }
   ],
   "source": [
    "print(f'There are a total of {len(unique_genres)} unique genres: \\n{unique_genres}.')"
   ]
  },
  {
   "cell_type": "code",
   "execution_count": 47,
   "id": "fc6ec224",
   "metadata": {},
   "outputs": [
    {
     "name": "stdout",
     "output_type": "stream",
     "text": [
      "Currently processing step: 18 of 18.\n"
     ]
    }
   ],
   "source": [
    "# Iterate thru the values of the unique_genres in order to create a column for each genre and the one hot encoding. \n",
    "for element in unique_genres:\n",
    "    # Progress status. This loop takes about a dozen seconds so you will see teh process increasing below.\n",
    "    progress_status(step = unique_genres.index(element), total_steps = len(unique_genres)-1)\n",
    "    \n",
    "    to_one_hot_encoding(df_name = df_data, \n",
    "                        item_to_search = element, \n",
    "                        col_to_search = 'genres', \n",
    "                        new_col_value = element)"
   ]
  },
  {
   "cell_type": "code",
   "execution_count": 48,
   "id": "ab073ba9",
   "metadata": {},
   "outputs": [
    {
     "data": {
      "text/html": [
       "<div>\n",
       "<style scoped>\n",
       "    .dataframe tbody tr th:only-of-type {\n",
       "        vertical-align: middle;\n",
       "    }\n",
       "\n",
       "    .dataframe tbody tr th {\n",
       "        vertical-align: top;\n",
       "    }\n",
       "\n",
       "    .dataframe thead th {\n",
       "        text-align: right;\n",
       "    }\n",
       "</style>\n",
       "<table border=\"1\" class=\"dataframe\">\n",
       "  <thead>\n",
       "    <tr style=\"text-align: right;\">\n",
       "      <th></th>\n",
       "      <th>genres</th>\n",
       "      <th>Action</th>\n",
       "      <th>Adventure</th>\n",
       "      <th>Animation</th>\n",
       "      <th>Comedy</th>\n",
       "      <th>Crime</th>\n",
       "      <th>Documentary</th>\n",
       "      <th>Drama</th>\n",
       "      <th>Family</th>\n",
       "      <th>Fantasy</th>\n",
       "      <th>Foreign</th>\n",
       "      <th>History</th>\n",
       "      <th>Horror</th>\n",
       "      <th>Music</th>\n",
       "      <th>Mystery</th>\n",
       "      <th>Romance</th>\n",
       "      <th>Science Fiction</th>\n",
       "      <th>Thriller</th>\n",
       "      <th>War</th>\n",
       "      <th>Western</th>\n",
       "    </tr>\n",
       "  </thead>\n",
       "  <tbody>\n",
       "    <tr>\n",
       "      <th>48</th>\n",
       "      <td>[{\"id\": 28, \"name\": \"Action\"}, {\"id\": 10751, \"name\": \"Family\"}, {\"id\": 14, \"name\": \"Fantasy\"}]</td>\n",
       "      <td>1</td>\n",
       "      <td>0</td>\n",
       "      <td>0</td>\n",
       "      <td>0</td>\n",
       "      <td>0</td>\n",
       "      <td>0</td>\n",
       "      <td>0</td>\n",
       "      <td>1</td>\n",
       "      <td>1</td>\n",
       "      <td>0</td>\n",
       "      <td>0</td>\n",
       "      <td>0</td>\n",
       "      <td>0</td>\n",
       "      <td>0</td>\n",
       "      <td>0</td>\n",
       "      <td>0</td>\n",
       "      <td>0</td>\n",
       "      <td>0</td>\n",
       "      <td>0</td>\n",
       "    </tr>\n",
       "    <tr>\n",
       "      <th>2759</th>\n",
       "      <td>[{\"id\": 18, \"name\": \"Drama\"}, {\"id\": 36, \"name\": \"History\"}]</td>\n",
       "      <td>0</td>\n",
       "      <td>0</td>\n",
       "      <td>0</td>\n",
       "      <td>0</td>\n",
       "      <td>0</td>\n",
       "      <td>0</td>\n",
       "      <td>1</td>\n",
       "      <td>0</td>\n",
       "      <td>0</td>\n",
       "      <td>0</td>\n",
       "      <td>1</td>\n",
       "      <td>0</td>\n",
       "      <td>0</td>\n",
       "      <td>0</td>\n",
       "      <td>0</td>\n",
       "      <td>0</td>\n",
       "      <td>0</td>\n",
       "      <td>0</td>\n",
       "      <td>0</td>\n",
       "    </tr>\n",
       "  </tbody>\n",
       "</table>\n",
       "</div>"
      ],
      "text/plain": [
       "                                                                                              genres  \\\n",
       "48    [{\"id\": 28, \"name\": \"Action\"}, {\"id\": 10751, \"name\": \"Family\"}, {\"id\": 14, \"name\": \"Fantasy\"}]   \n",
       "2759                                    [{\"id\": 18, \"name\": \"Drama\"}, {\"id\": 36, \"name\": \"History\"}]   \n",
       "\n",
       "      Action  Adventure  Animation  Comedy  Crime  Documentary  Drama  Family  \\\n",
       "48         1          0          0       0      0            0      0       1   \n",
       "2759       0          0          0       0      0            0      1       0   \n",
       "\n",
       "      Fantasy  Foreign  History  Horror  Music  Mystery  Romance  \\\n",
       "48          1        0        0       0      0        0        0   \n",
       "2759        0        0        1       0      0        0        0   \n",
       "\n",
       "      Science Fiction  Thriller  War  Western  \n",
       "48                  0         0    0        0  \n",
       "2759                0         0    0        0  "
      ]
     },
     "execution_count": 48,
     "metadata": {},
     "output_type": "execute_result"
    }
   ],
   "source": [
    "# Lets do a sampling of the dataframe with genres column and the unique_genres columns. \n",
    "# This will allow to do a few manual spot checks on the one-hot-encoding.\n",
    "df_data.loc[:,['genres']+unique_genres].sample(n = 2)"
   ]
  },
  {
   "cell_type": "markdown",
   "id": "8e21f09f",
   "metadata": {},
   "source": [
    "# Derived Features: Date Related\n",
    "For deriving date related features to work, the date feature (e.g., release_date) needs to be parsed as dates in either in the data loading step or afterwards setting the data type as date. "
   ]
  },
  {
   "cell_type": "code",
   "execution_count": 49,
   "id": "2c68669f",
   "metadata": {},
   "outputs": [
    {
     "data": {
      "text/plain": [
       "Index(['budget', 'genres', 'id', 'original_language', 'original_title',\n",
       "       'overview', 'popularity', 'production_companies',\n",
       "       'production_countries', 'release_date', 'revenue', 'runtime',\n",
       "       'spoken_languages', 'vote_average', 'vote_count', 'Action', 'Adventure',\n",
       "       'Animation', 'Comedy', 'Crime', 'Documentary', 'Drama', 'Family',\n",
       "       'Fantasy', 'Foreign', 'History', 'Horror', 'Music', 'Mystery',\n",
       "       'Romance', 'Science Fiction', 'Thriller', 'War', 'Western'],\n",
       "      dtype='object')"
      ]
     },
     "execution_count": 49,
     "metadata": {},
     "output_type": "execute_result"
    }
   ],
   "source": [
    "df_data.columns"
   ]
  },
  {
   "cell_type": "code",
   "execution_count": 50,
   "id": "81d07368",
   "metadata": {},
   "outputs": [
    {
     "name": "stdout",
     "output_type": "stream",
     "text": [
      "Date range is 04/09/1916 to 09/09/2016\n"
     ]
    }
   ],
   "source": [
    "# Show max() and min() date ranges.\n",
    "print('Date range is {:%d/%m/%Y} to {:%d/%m/%Y}'.format(df_data['release_date'].min(), df_data['release_date'].max()))\n",
    "# Because the date range is so large, I typically find it easier to evaluate issues with the year or month individually.\n",
    "# This helps find high level issues and limitations.\n",
    "# Trying to evaluate every single day individually may not be plausible.\n",
    "# The goal is to quickly identify potential data limitations and suppor cleaning."
   ]
  },
  {
   "cell_type": "markdown",
   "id": "7e3f9b16",
   "metadata": {},
   "source": [
    "### Derived Feature: Release Calendar Year (release_cy)"
   ]
  },
  {
   "cell_type": "code",
   "execution_count": 51,
   "id": "61f0cec0",
   "metadata": {},
   "outputs": [],
   "source": [
    "df_data['release_cy'] = df_data['release_date'].dt.to_period('Y')"
   ]
  },
  {
   "cell_type": "code",
   "execution_count": 52,
   "id": "127f5317",
   "metadata": {},
   "outputs": [
    {
     "data": {
      "text/plain": [
       "2016     72\n",
       "2015    121\n",
       "2014    135\n",
       "2013    152\n",
       "2012    137\n",
       "2011    166\n",
       "2010    162\n",
       "2009    153\n",
       "2008    145\n",
       "2007    124\n",
       "Freq: A-DEC, Name: release_cy, dtype: int64"
      ]
     },
     "execution_count": 52,
     "metadata": {},
     "output_type": "execute_result"
    }
   ],
   "source": [
    "df_data['release_cy'].value_counts(dropna = False).sort_index(ascending = False).head(10)"
   ]
  },
  {
   "cell_type": "code",
   "execution_count": 53,
   "id": "645928d3",
   "metadata": {},
   "outputs": [
    {
     "data": {
      "text/plain": [
       "1916    1\n",
       "1925    1\n",
       "1927    1\n",
       "1929    1\n",
       "1930    1\n",
       "1932    1\n",
       "1933    2\n",
       "1934    1\n",
       "1935    1\n",
       "1936    2\n",
       "Freq: A-DEC, Name: release_cy, dtype: int64"
      ]
     },
     "execution_count": 53,
     "metadata": {},
     "output_type": "execute_result"
    }
   ],
   "source": [
    "df_data['release_cy'].value_counts(dropna = False).sort_index().head(10)\n",
    "# There seem to be years not represented for example between 1917 to 1924 and 1928, 1931.\n",
    "# There are various ways to address these missing years if we would be calculating trends or forecasting.\n",
    "# This include but not limited to taking the average data of adjacent years. \n",
    "# For example lets say we wanted to calculate the revenue of 1928. We could use the average of 1927 and 1929.\n",
    "# We could also use forecasting using a regression and use the forecasted values for those years."
   ]
  },
  {
   "cell_type": "markdown",
   "id": "0050405d",
   "metadata": {},
   "source": [
    "### Derived Feature: Release Calendar Year Quarter (release_cy_quarter)"
   ]
  },
  {
   "cell_type": "code",
   "execution_count": 54,
   "id": "ea27d72b",
   "metadata": {},
   "outputs": [],
   "source": [
    "df_data['release_cy_quarter'] = pd.PeriodIndex(df_data.release_date, freq = 'Q')\n",
    "\n",
    "# Alternative way to convert is using the approach of the CY.\n",
    "#df_data['release_cy_quarter'] = df_data['release_cy_quarter'].dt.to_period('Q')"
   ]
  },
  {
   "cell_type": "code",
   "execution_count": 55,
   "id": "0a27e4c7",
   "metadata": {},
   "outputs": [
    {
     "data": {
      "text/plain": [
       "2016Q3    13\n",
       "2016Q2    28\n",
       "2016Q1    31\n",
       "2015Q4    30\n",
       "2015Q3    39\n",
       "2015Q2    26\n",
       "2015Q1    26\n",
       "2014Q4    43\n",
       "2014Q3    35\n",
       "2014Q2    24\n",
       "Freq: Q-DEC, Name: release_cy_quarter, dtype: int64"
      ]
     },
     "execution_count": 55,
     "metadata": {},
     "output_type": "execute_result"
    }
   ],
   "source": [
    "df_data['release_cy_quarter'].value_counts(dropna = False).sort_index(ascending = False).head(10)"
   ]
  },
  {
   "cell_type": "code",
   "execution_count": 56,
   "id": "eb277f19",
   "metadata": {},
   "outputs": [
    {
     "data": {
      "text/plain": [
       "1916Q3    1\n",
       "1925Q4    1\n",
       "1927Q1    1\n",
       "1929Q1    1\n",
       "1930Q4    1\n",
       "1932Q4    1\n",
       "1933Q1    2\n",
       "1934Q1    1\n",
       "1935Q3    1\n",
       "1936Q1    1\n",
       "Freq: Q-DEC, Name: release_cy_quarter, dtype: int64"
      ]
     },
     "execution_count": 56,
     "metadata": {},
     "output_type": "execute_result"
    }
   ],
   "source": [
    "df_data['release_cy_quarter'].value_counts(dropna = False).sort_index().head(10)\n",
    "# Expect the same issue as the CY were there will be quarters that are not represented."
   ]
  },
  {
   "cell_type": "markdown",
   "id": "3a05eb47",
   "metadata": {},
   "source": [
    "### Derived Feature: Release Calendar Year Month (release_cy_month)"
   ]
  },
  {
   "cell_type": "code",
   "execution_count": 57,
   "id": "1faca3a2",
   "metadata": {},
   "outputs": [],
   "source": [
    "df_data['release_cy_month'] = pd.PeriodIndex(df_data.release_date, freq = 'M')\n",
    "\n",
    "# Alternative way to convert is using the approach of the CY.\n",
    "#df_data['release_cy_month'] = df_data['release_cy_month'].dt.to_period('M')"
   ]
  },
  {
   "cell_type": "code",
   "execution_count": 58,
   "id": "40bafbf8",
   "metadata": {},
   "outputs": [
    {
     "data": {
      "text/plain": [
       "2016-09     1\n",
       "2016-08     3\n",
       "2016-07     9\n",
       "2016-06    12\n",
       "2016-05     8\n",
       "2016-04     8\n",
       "2016-03     7\n",
       "2016-02    11\n",
       "2016-01    13\n",
       "2015-12     8\n",
       "Freq: M, Name: release_cy_month, dtype: int64"
      ]
     },
     "execution_count": 58,
     "metadata": {},
     "output_type": "execute_result"
    }
   ],
   "source": [
    "df_data['release_cy_month'].value_counts(dropna = False).sort_index(ascending = False).head(10)"
   ]
  },
  {
   "cell_type": "code",
   "execution_count": 59,
   "id": "c1b54d1d",
   "metadata": {},
   "outputs": [
    {
     "data": {
      "text/plain": [
       "1916-09    1\n",
       "1925-11    1\n",
       "1927-01    1\n",
       "1929-02    1\n",
       "1930-11    1\n",
       "1932-12    1\n",
       "1933-02    2\n",
       "1934-02    1\n",
       "1935-09    1\n",
       "1936-02    1\n",
       "Freq: M, Name: release_cy_month, dtype: int64"
      ]
     },
     "execution_count": 59,
     "metadata": {},
     "output_type": "execute_result"
    }
   ],
   "source": [
    "df_data['release_cy_month'].value_counts(dropna = False).sort_index().head(10)\n",
    "# Expect the same issue as the CY were there will be quarters that are not represented."
   ]
  },
  {
   "cell_type": "markdown",
   "id": "4d4395b6",
   "metadata": {},
   "source": [
    "### Derived Feature: Fiscal Years \n",
    "To create Fiscal Year it is the same as above but adjust the period as follows:\n",
    "\n",
    "df_data['FY'] = df_data['DATE_FEATURE'].dt.to_period('A-SEP') # Annual-FY starting in September.\n",
    "\n",
    "Since movie releases do not have fiscal years there is no point on creating a 'release_fy' feature. However, for business data you may want to change. FY quarters would change the 'A-SEP' to 'Q-SEP'. Reading the datetime.to_period documentation will provide documentation on how to address."
   ]
  },
  {
   "cell_type": "markdown",
   "id": "1eb379ce",
   "metadata": {},
   "source": [
    "# Derived Feature: Box Office Earning: Revenue Plus Budget\n",
    "As explained in the analysis goals above, could use budget and revenue to calculate box office earnings. Per definition the  box_office_earnings seem to be equal to revenue plus budget. A subject matter expert (SME) familiar with the data may be able to provide further advice on which metrics would be useful. "
   ]
  },
  {
   "cell_type": "code",
   "execution_count": 60,
   "id": "caaa9071",
   "metadata": {},
   "outputs": [],
   "source": [
    "# Creates the derived box_office_earnings column from the addition of budget and revenue.\n",
    "df_data['box_office_earning'] = df_data['budget'] + df_data['revenue']"
   ]
  },
  {
   "cell_type": "code",
   "execution_count": 61,
   "id": "5cd92a63",
   "metadata": {},
   "outputs": [
    {
     "data": {
      "text/plain": [
       "count         3225.0000\n",
       "mean     161726281.9243\n",
       "std      219880791.3737\n",
       "min             12.0000\n",
       "25%       34737911.0000\n",
       "50%       88100000.0000\n",
       "75%      196000000.0000\n",
       "max     3024965087.0000\n",
       "Name: box_office_earning, dtype: float64"
      ]
     },
     "execution_count": 61,
     "metadata": {},
     "output_type": "execute_result"
    }
   ],
   "source": [
    "df_data['box_office_earning'].describe() \n",
    "# Note the minimum is very small which may mean that there are numbers in budget and revenue that may not be correct.\n",
    "# Determining a threshold on what is a credible box_office_earning would need to be determined by an SME.\n",
    "# Will not drop anymore entries."
   ]
  },
  {
   "cell_type": "markdown",
   "id": "3dd447b2",
   "metadata": {},
   "source": [
    "# Derived Feature: Revenue Budget Ratio\n",
    "As explained in the analysis goals above, could use revenue and budget to calculate a revenue/budget ratio. A subject matter expert (SME) familiar with the data may be able to provide further advice on which metrics would be useful. "
   ]
  },
  {
   "cell_type": "code",
   "execution_count": 62,
   "id": "b05c1722",
   "metadata": {},
   "outputs": [],
   "source": [
    "# Creates the derived box_office_earnings column from the addition of budget and revenue.\n",
    "df_data['revenue_budget_ratio'] = df_data['revenue']/df_data['budget']"
   ]
  },
  {
   "cell_type": "code",
   "execution_count": 63,
   "id": "02358895",
   "metadata": {},
   "outputs": [
    {
     "data": {
      "text/plain": [
       "count      3225.0000\n",
       "mean       2958.4857\n",
       "std      150703.4648\n",
       "min           0.0000\n",
       "25%           1.0225\n",
       "50%           2.3016\n",
       "75%           4.4211\n",
       "max     8500000.0000\n",
       "Name: revenue_budget_ratio, dtype: float64"
      ]
     },
     "execution_count": 63,
     "metadata": {},
     "output_type": "execute_result"
    }
   ],
   "source": [
    "df_data['revenue_budget_ratio'].describe()\n",
    "# A revenue_budget_ratio of 0 makes sense only if the revenue is 0.\n",
    "# Determining a threshold on what is a credible revenue to budget ratio would need to be determined by an SME.\n",
    "# Will not drop anymore entries."
   ]
  },
  {
   "cell_type": "markdown",
   "id": "bbbc3d84",
   "metadata": {},
   "source": [
    "### Non-Numerical Text Features: Statistics and Cleaning\n",
    "This section is to evaluate non-numerical text features and try to identify issues and errors. This is a little more difficult as these calculations and statistics may have to be developed. Some things that may be worthwhile to include:\n",
    "- Calculating the statistics of the lenghts (by word or characters) of text features (e.g., title and overviews). Evaluate if  there any extreme values (e.g., short overviews) that don't provide useful information and may be worth dropping?\n",
    "- Could try to find special characters within title and overview of the entries? This could imply that the wrong encoding was used when loading the data or potential errors in the data? \n",
    "\n",
    "Same or further analysis can be done after text normalization. There is also the potential to identify some issues during natural language processing analysis (e.g., wordcloud, text clustering, topic modeling) that may identify other entries that may be worth droping.\n",
    "\n",
    "In order to accomplish this we will do the following:\n",
    "- Let's create a new dataframe that includes some text statistics.\n",
    "- Calcualte word statistic include the number of words for title and for overview features\n",
    "- Calculate characters statistics include the number of characters for title and overview features\n",
    "- Can then use the \n",
    "- If need be can merge this new dataframe into the old one. Note that this is an example of where the reset_index will make a difference and could cause issues and be explained below."
   ]
  },
  {
   "cell_type": "code",
   "execution_count": 64,
   "id": "bf41666a",
   "metadata": {},
   "outputs": [
    {
     "data": {
      "text/html": [
       "<div>\n",
       "<style scoped>\n",
       "    .dataframe tbody tr th:only-of-type {\n",
       "        vertical-align: middle;\n",
       "    }\n",
       "\n",
       "    .dataframe tbody tr th {\n",
       "        vertical-align: top;\n",
       "    }\n",
       "\n",
       "    .dataframe thead th {\n",
       "        text-align: right;\n",
       "    }\n",
       "</style>\n",
       "<table border=\"1\" class=\"dataframe\">\n",
       "  <thead>\n",
       "    <tr style=\"text-align: right;\">\n",
       "      <th></th>\n",
       "    </tr>\n",
       "  </thead>\n",
       "  <tbody>\n",
       "  </tbody>\n",
       "</table>\n",
       "</div>"
      ],
      "text/plain": [
       "Empty DataFrame\n",
       "Columns: []\n",
       "Index: []"
      ]
     },
     "execution_count": 64,
     "metadata": {},
     "output_type": "execute_result"
    }
   ],
   "source": [
    "# Let's create an empty dataframe for the statistics.\n",
    "df_data_text_stats = pd.DataFrame()\n",
    "df_data_text_stats.head() # Returns empty DF"
   ]
  },
  {
   "cell_type": "code",
   "execution_count": 65,
   "id": "2da6e874",
   "metadata": {},
   "outputs": [],
   "source": [
    "# Creates features for the character counts.\n",
    "# Applies a lambda function to develop the character count using the lenght of the string.\n",
    "df_data_text_stats['title_char_count'] = df_data['original_title'].apply(lambda x: len(str(x)))\n",
    "df_data_text_stats['overview_char_count'] = df_data['overview'].apply(lambda x: len(str(x)))\n",
    "\n",
    "# Creates features for the word counts.\n",
    "# There may be a few ways to do this. In this case we count the number of spaces.\n",
    "# If there is a cell with no spaces it means it has 1 word as we do not have null values in these two features.\n",
    "df_data_text_stats['title_word_count'] = df_data['original_title'].str.count(' ') + 1\n",
    "df_data_text_stats['overview_word_count'] = df_data['overview'].str.count(' ') + 1"
   ]
  },
  {
   "cell_type": "code",
   "execution_count": 66,
   "id": "e6b18558",
   "metadata": {},
   "outputs": [
    {
     "data": {
      "text/html": [
       "<div>\n",
       "<style scoped>\n",
       "    .dataframe tbody tr th:only-of-type {\n",
       "        vertical-align: middle;\n",
       "    }\n",
       "\n",
       "    .dataframe tbody tr th {\n",
       "        vertical-align: top;\n",
       "    }\n",
       "\n",
       "    .dataframe thead th {\n",
       "        text-align: right;\n",
       "    }\n",
       "</style>\n",
       "<table border=\"1\" class=\"dataframe\">\n",
       "  <thead>\n",
       "    <tr style=\"text-align: right;\">\n",
       "      <th></th>\n",
       "      <th>title_char_count</th>\n",
       "      <th>overview_char_count</th>\n",
       "      <th>title_word_count</th>\n",
       "      <th>overview_word_count</th>\n",
       "    </tr>\n",
       "  </thead>\n",
       "  <tbody>\n",
       "    <tr>\n",
       "      <th>3220</th>\n",
       "      <td>6</td>\n",
       "      <td>245</td>\n",
       "      <td>1</td>\n",
       "      <td>40</td>\n",
       "    </tr>\n",
       "    <tr>\n",
       "      <th>3221</th>\n",
       "      <td>14</td>\n",
       "      <td>241</td>\n",
       "      <td>2</td>\n",
       "      <td>36</td>\n",
       "    </tr>\n",
       "    <tr>\n",
       "      <th>3222</th>\n",
       "      <td>3</td>\n",
       "      <td>337</td>\n",
       "      <td>1</td>\n",
       "      <td>58</td>\n",
       "    </tr>\n",
       "    <tr>\n",
       "      <th>3223</th>\n",
       "      <td>6</td>\n",
       "      <td>405</td>\n",
       "      <td>1</td>\n",
       "      <td>64</td>\n",
       "    </tr>\n",
       "    <tr>\n",
       "      <th>3224</th>\n",
       "      <td>11</td>\n",
       "      <td>338</td>\n",
       "      <td>2</td>\n",
       "      <td>62</td>\n",
       "    </tr>\n",
       "  </tbody>\n",
       "</table>\n",
       "</div>"
      ],
      "text/plain": [
       "      title_char_count  overview_char_count  title_word_count  \\\n",
       "3220                 6                  245                 1   \n",
       "3221                14                  241                 2   \n",
       "3222                 3                  337                 1   \n",
       "3223                 6                  405                 1   \n",
       "3224                11                  338                 2   \n",
       "\n",
       "      overview_word_count  \n",
       "3220                   40  \n",
       "3221                   36  \n",
       "3222                   58  \n",
       "3223                   64  \n",
       "3224                   62  "
      ]
     },
     "execution_count": 66,
     "metadata": {},
     "output_type": "execute_result"
    }
   ],
   "source": [
    "df_data_text_stats.tail() # DF of characters and word counts. Showing the tail of DF."
   ]
  },
  {
   "cell_type": "code",
   "execution_count": 67,
   "id": "8c1df8e5",
   "metadata": {},
   "outputs": [
    {
     "data": {
      "text/html": [
       "<div>\n",
       "<style scoped>\n",
       "    .dataframe tbody tr th:only-of-type {\n",
       "        vertical-align: middle;\n",
       "    }\n",
       "\n",
       "    .dataframe tbody tr th {\n",
       "        vertical-align: top;\n",
       "    }\n",
       "\n",
       "    .dataframe thead th {\n",
       "        text-align: right;\n",
       "    }\n",
       "</style>\n",
       "<table border=\"1\" class=\"dataframe\">\n",
       "  <thead>\n",
       "    <tr style=\"text-align: right;\">\n",
       "      <th></th>\n",
       "      <th>title_char_count</th>\n",
       "      <th>overview_char_count</th>\n",
       "      <th>title_word_count</th>\n",
       "      <th>overview_word_count</th>\n",
       "    </tr>\n",
       "  </thead>\n",
       "  <tbody>\n",
       "    <tr>\n",
       "      <th>count</th>\n",
       "      <td>3225.0000</td>\n",
       "      <td>3225.0000</td>\n",
       "      <td>3225.0000</td>\n",
       "      <td>3225.0000</td>\n",
       "    </tr>\n",
       "    <tr>\n",
       "      <th>mean</th>\n",
       "      <td>15.1423</td>\n",
       "      <td>303.1212</td>\n",
       "      <td>2.7445</td>\n",
       "      <td>51.8127</td>\n",
       "    </tr>\n",
       "    <tr>\n",
       "      <th>std</th>\n",
       "      <td>8.4695</td>\n",
       "      <td>151.8330</td>\n",
       "      <td>1.6324</td>\n",
       "      <td>26.1007</td>\n",
       "    </tr>\n",
       "    <tr>\n",
       "      <th>min</th>\n",
       "      <td>1.0000</td>\n",
       "      <td>41.0000</td>\n",
       "      <td>1.0000</td>\n",
       "      <td>6.0000</td>\n",
       "    </tr>\n",
       "    <tr>\n",
       "      <th>5%</th>\n",
       "      <td>5.0000</td>\n",
       "      <td>113.2000</td>\n",
       "      <td>1.0000</td>\n",
       "      <td>19.0000</td>\n",
       "    </tr>\n",
       "    <tr>\n",
       "      <th>25%</th>\n",
       "      <td>9.0000</td>\n",
       "      <td>185.0000</td>\n",
       "      <td>2.0000</td>\n",
       "      <td>32.0000</td>\n",
       "    </tr>\n",
       "    <tr>\n",
       "      <th>50%</th>\n",
       "      <td>13.0000</td>\n",
       "      <td>287.0000</td>\n",
       "      <td>2.0000</td>\n",
       "      <td>48.0000</td>\n",
       "    </tr>\n",
       "    <tr>\n",
       "      <th>75%</th>\n",
       "      <td>19.0000</td>\n",
       "      <td>389.0000</td>\n",
       "      <td>3.0000</td>\n",
       "      <td>66.0000</td>\n",
       "    </tr>\n",
       "    <tr>\n",
       "      <th>max</th>\n",
       "      <td>83.0000</td>\n",
       "      <td>1000.0000</td>\n",
       "      <td>13.0000</td>\n",
       "      <td>175.0000</td>\n",
       "    </tr>\n",
       "  </tbody>\n",
       "</table>\n",
       "</div>"
      ],
      "text/plain": [
       "       title_char_count  overview_char_count  title_word_count  \\\n",
       "count         3225.0000            3225.0000         3225.0000   \n",
       "mean            15.1423             303.1212            2.7445   \n",
       "std              8.4695             151.8330            1.6324   \n",
       "min              1.0000              41.0000            1.0000   \n",
       "5%               5.0000             113.2000            1.0000   \n",
       "25%              9.0000             185.0000            2.0000   \n",
       "50%             13.0000             287.0000            2.0000   \n",
       "75%             19.0000             389.0000            3.0000   \n",
       "max             83.0000            1000.0000           13.0000   \n",
       "\n",
       "       overview_word_count  \n",
       "count            3225.0000  \n",
       "mean               51.8127  \n",
       "std                26.1007  \n",
       "min                 6.0000  \n",
       "5%                 19.0000  \n",
       "25%                32.0000  \n",
       "50%                48.0000  \n",
       "75%                66.0000  \n",
       "max               175.0000  "
      ]
     },
     "execution_count": 67,
     "metadata": {},
     "output_type": "execute_result"
    }
   ],
   "source": [
    "df_data_text_stats.describe(percentiles = [0.05, 0.25, 0.5, 0.75]) \n",
    "# Using the describe function with additional 5% percentile to evaluate stats of the text data.\n",
    "# In this case, very low numbers may be worth evaluating.\n",
    "# Depending on the dataset the thresholds to evaluate may change.\n",
    "# Determining the threshols should be an SME familiar with the dataset."
   ]
  },
  {
   "cell_type": "code",
   "execution_count": 68,
   "id": "0c91e449",
   "metadata": {},
   "outputs": [],
   "source": [
    "# Title Character Stats:\n",
    "# Expect the titles to be short. The min number of characters in the title is 1.\n",
    "# The loest 5th percentile has 5 characters. \n",
    "# We may want to evaluate by filtering the lowest 5th percentile, sort ascending and see if there is any with errors.\n",
    "\n",
    "# Overview Character Stats:\n",
    "# We can see that the minimum character count in the overview is 41 characters.\n",
    "# The mean is 303 characters.\n",
    "# The lowest 5th percentile has 41 characters which although short seems plausible.\n",
    "\n",
    "# Title Character Stats:\n",
    "# Expect titles to have only one word.\n",
    "\n",
    "# Overview Word Stats:\n",
    "# Min word lenght in an overview is 6 words. This may be one we may want to check.\n",
    "# We may want to check all entries with an overview shorter than 10 words.\n",
    "# Note that we will have another opportunity to explore the normalized overview text data later. \n",
    "\n",
    "# Since we have already cleaned out many entries we may have already achieved a good dataset.\n",
    "# There may not be many errors in the last features we are evaluating."
   ]
  },
  {
   "cell_type": "code",
   "execution_count": 69,
   "id": "515ffed8",
   "metadata": {},
   "outputs": [],
   "source": [
    "# Considerations for concatenating the df_data_text_stats and add these features to the df_data: \n",
    "# We need to make sure indexes match.\n",
    "# This is one example where the reset_index needs to be used, otherwise the indexes may not match.\n",
    "# Concatenating one DF with the other will result in matching the wrong entries with the wrong data."
   ]
  },
  {
   "cell_type": "code",
   "execution_count": 70,
   "id": "35c03a8e",
   "metadata": {},
   "outputs": [
    {
     "name": "stdout",
     "output_type": "stream",
     "text": [
      "df_data\n",
      "3225 rows \n",
      "RangeIndex(start=0, stop=3225, step=1).\n",
      "____________________________________________\n",
      "df_data_text_stats\n",
      "3225 rows \n",
      "RangeIndex(start=0, stop=3225, step=1).\n"
     ]
    }
   ],
   "source": [
    "# Let's make sure that our data matches.\n",
    "print('df_data') \n",
    "print(f'{df_data.shape[0]} rows \\n{df_data.index}.')\n",
    "print('____________________________________________')\n",
    "print('df_data_text_stats')\n",
    "print(f'{df_data_text_stats.shape[0]} rows \\n{df_data_text_stats.index}.')\n",
    "\n",
    "# Let's use an If statement: If the rows or the index stop do not match the Warning will be printed.\n",
    "if (df_data.shape[0] != \n",
    "    df_data_text_stats.shape[0]) or (df_data.index[1] != \n",
    "                                     df_data_text_stats.index[1]):\n",
    "    print('WARNING! WARNING! WARNING! INDEXES OF A DF MAY NEED RESETTING')"
   ]
  },
  {
   "cell_type": "code",
   "execution_count": 71,
   "id": "1d64e9e6",
   "metadata": {},
   "outputs": [],
   "source": [
    "# Concatenating the two dataframes will allow us to filter the main dataframe with word/character statistic values.\n",
    "# Concatenates the two dataframes. Adds the two df_data_text_stats as columns in the end.\n",
    "df_data = pd.concat([df_data, df_data_text_stats], axis = 1, ignore_index=False)\n",
    "# Could also use the .insert() function.\n",
    "# Copy the columns of interest from df_data_text_stats and insert them into the df_data."
   ]
  },
  {
   "cell_type": "code",
   "execution_count": 72,
   "id": "8d3c6e91",
   "metadata": {},
   "outputs": [
    {
     "data": {
      "text/html": [
       "<div>\n",
       "<style scoped>\n",
       "    .dataframe tbody tr th:only-of-type {\n",
       "        vertical-align: middle;\n",
       "    }\n",
       "\n",
       "    .dataframe tbody tr th {\n",
       "        vertical-align: top;\n",
       "    }\n",
       "\n",
       "    .dataframe thead th {\n",
       "        text-align: right;\n",
       "    }\n",
       "</style>\n",
       "<table border=\"1\" class=\"dataframe\">\n",
       "  <thead>\n",
       "    <tr style=\"text-align: right;\">\n",
       "      <th></th>\n",
       "      <th>original_title</th>\n",
       "      <th>overview</th>\n",
       "      <th>title_char_count</th>\n",
       "      <th>overview_char_count</th>\n",
       "      <th>title_word_count</th>\n",
       "      <th>overview_word_count</th>\n",
       "    </tr>\n",
       "  </thead>\n",
       "  <tbody>\n",
       "    <tr>\n",
       "      <th>1623</th>\n",
       "      <td>Ride Along</td>\n",
       "      <td>For the past two years, high-school security guard Ben has been trying to show decorated APD detective James that he's more than just a video-game junkie who's unworthy of James' sister, Angela. When Ben finally gets accepted into the academy, he thinks he's earned the seasoned policeman's respect and asks for his blessing to marry Angela. Knowing that a ride along will demonstrate if Ben has what it takes to take care of his sister, James invites him on a shift designed to scare the hell out of the trainee. But when the wild night leads them to the most notorious criminal in the city, James will find that his new partner's rapid-fire mouth is just as dangerous as the bullets speeding at it.</td>\n",
       "      <td>10</td>\n",
       "      <td>700</td>\n",
       "      <td>2</td>\n",
       "      <td>124</td>\n",
       "    </tr>\n",
       "    <tr>\n",
       "      <th>2139</th>\n",
       "      <td>Wag the Dog</td>\n",
       "      <td>During the final weeks of a presidential race, the President is accused of sexual misconduct. To distract the public until the election, the President's adviser hires a Hollywood producer to help him stage a fake war.</td>\n",
       "      <td>11</td>\n",
       "      <td>217</td>\n",
       "      <td>3</td>\n",
       "      <td>36</td>\n",
       "    </tr>\n",
       "    <tr>\n",
       "      <th>1781</th>\n",
       "      <td>Underworld</td>\n",
       "      <td>Vampires and werewolves have waged a nocturnal war against each other for centuries. But all bets are off when a female vampire warrior named Selene, who's famous for her strength and werewolf-hunting prowess, becomes smitten with a peace-loving male werewolf, Michael, who wants to end the war.</td>\n",
       "      <td>10</td>\n",
       "      <td>295</td>\n",
       "      <td>1</td>\n",
       "      <td>47</td>\n",
       "    </tr>\n",
       "  </tbody>\n",
       "</table>\n",
       "</div>"
      ],
      "text/plain": [
       "     original_title  \\\n",
       "1623     Ride Along   \n",
       "2139    Wag the Dog   \n",
       "1781     Underworld   \n",
       "\n",
       "                                                                                                                                                                                                                                                                                                                                                                                                                                                                                                                                                                                                                                                                                                                          overview  \\\n",
       "1623  For the past two years, high-school security guard Ben has been trying to show decorated APD detective James that he's more than just a video-game junkie who's unworthy of James' sister, Angela. When Ben finally gets accepted into the academy, he thinks he's earned the seasoned policeman's respect and asks for his blessing to marry Angela. Knowing that a ride along will demonstrate if Ben has what it takes to take care of his sister, James invites him on a shift designed to scare the hell out of the trainee. But when the wild night leads them to the most notorious criminal in the city, James will find that his new partner's rapid-fire mouth is just as dangerous as the bullets speeding at it.   \n",
       "2139                                                                                                                                                                                                                                                                                                                                                                                                                                                                                                     During the final weeks of a presidential race, the President is accused of sexual misconduct. To distract the public until the election, the President's adviser hires a Hollywood producer to help him stage a fake war.   \n",
       "1781                                                                                                                                                                                                                                                                                                                                                                                                                       Vampires and werewolves have waged a nocturnal war against each other for centuries. But all bets are off when a female vampire warrior named Selene, who's famous for her strength and werewolf-hunting prowess, becomes smitten with a peace-loving male werewolf, Michael, who wants to end the war.   \n",
       "\n",
       "      title_char_count  overview_char_count  title_word_count  \\\n",
       "1623                10                  700                 2   \n",
       "2139                11                  217                 3   \n",
       "1781                10                  295                 1   \n",
       "\n",
       "      overview_word_count  \n",
       "1623                  124  \n",
       "2139                   36  \n",
       "1781                   47  "
      ]
     },
     "execution_count": 72,
     "metadata": {},
     "output_type": "execute_result"
    }
   ],
   "source": [
    "# Visualize the data of the four features and spot check.\n",
    "df_data.loc[:,['original_title', 'overview']+df_data_text_stats.columns.to_list()].sample(n = 3)\n",
    "# The .samle() function is similar to the .head but randomly selects rows.\n",
    "# This allows us to do random spot checks in 5 rows in this case."
   ]
  },
  {
   "cell_type": "code",
   "execution_count": 73,
   "id": "1976fafe",
   "metadata": {},
   "outputs": [
    {
     "name": "stdout",
     "output_type": "stream",
     "text": [
      "There are 6 entries with overview less than 10 words.\n"
     ]
    },
    {
     "data": {
      "text/html": [
       "<div>\n",
       "<style scoped>\n",
       "    .dataframe tbody tr th:only-of-type {\n",
       "        vertical-align: middle;\n",
       "    }\n",
       "\n",
       "    .dataframe tbody tr th {\n",
       "        vertical-align: top;\n",
       "    }\n",
       "\n",
       "    .dataframe thead th {\n",
       "        text-align: right;\n",
       "    }\n",
       "</style>\n",
       "<table border=\"1\" class=\"dataframe\">\n",
       "  <thead>\n",
       "    <tr style=\"text-align: right;\">\n",
       "      <th></th>\n",
       "      <th>budget</th>\n",
       "      <th>genres</th>\n",
       "      <th>id</th>\n",
       "      <th>original_language</th>\n",
       "      <th>original_title</th>\n",
       "      <th>overview</th>\n",
       "      <th>popularity</th>\n",
       "      <th>production_companies</th>\n",
       "      <th>production_countries</th>\n",
       "      <th>release_date</th>\n",
       "      <th>...</th>\n",
       "      <th>Western</th>\n",
       "      <th>release_cy</th>\n",
       "      <th>release_cy_quarter</th>\n",
       "      <th>release_cy_month</th>\n",
       "      <th>box_office_earning</th>\n",
       "      <th>revenue_budget_ratio</th>\n",
       "      <th>title_char_count</th>\n",
       "      <th>overview_char_count</th>\n",
       "      <th>title_word_count</th>\n",
       "      <th>overview_word_count</th>\n",
       "    </tr>\n",
       "  </thead>\n",
       "  <tbody>\n",
       "    <tr>\n",
       "      <th>1264</th>\n",
       "      <td>34000000</td>\n",
       "      <td>[{\"id\": 18, \"name\": \"Drama\"}, {\"id\": 36, \"name\": \"History\"}]</td>\n",
       "      <td>1883</td>\n",
       "      <td>en</td>\n",
       "      <td>Malcolm X</td>\n",
       "      <td>The biopic of the controversial and influential Black Nationalist leader.</td>\n",
       "      <td>19.8228</td>\n",
       "      <td>[{\"name\": \"JVC Entertainment\", \"id\": 182}, {\"name\": \"40 Acres &amp; A Mule Filmworks\", \"id\": 4319}, {\"name\": \"Warner Bros.\", \"id\": 6194}]</td>\n",
       "      <td>[{\"iso_3166_1\": \"US\", \"name\": \"United States of America\"}]</td>\n",
       "      <td>1992-11-18</td>\n",
       "      <td>...</td>\n",
       "      <td>0</td>\n",
       "      <td>1992</td>\n",
       "      <td>1992Q4</td>\n",
       "      <td>1992-11</td>\n",
       "      <td>82169908</td>\n",
       "      <td>1.4168</td>\n",
       "      <td>9</td>\n",
       "      <td>73</td>\n",
       "      <td>2</td>\n",
       "      <td>10</td>\n",
       "    </tr>\n",
       "    <tr>\n",
       "      <th>1310</th>\n",
       "      <td>35000000</td>\n",
       "      <td>[{\"id\": 35, \"name\": \"Comedy\"}, {\"id\": 10402, \"name\": \"Music\"}]</td>\n",
       "      <td>6575</td>\n",
       "      <td>en</td>\n",
       "      <td>Walk Hard: The Dewey Cox Story</td>\n",
       "      <td>Singer Dewey Cox overcomes adversity to become a musical legend.</td>\n",
       "      <td>10.7352</td>\n",
       "      <td>[{\"name\": \"Columbia Pictures Corporation\", \"id\": 441}, {\"name\": \"Apatow Productions\", \"id\": 10105}]</td>\n",
       "      <td>[{\"iso_3166_1\": \"US\", \"name\": \"United States of America\"}]</td>\n",
       "      <td>2007-12-21</td>\n",
       "      <td>...</td>\n",
       "      <td>0</td>\n",
       "      <td>2007</td>\n",
       "      <td>2007Q4</td>\n",
       "      <td>2007-12</td>\n",
       "      <td>53317151</td>\n",
       "      <td>0.5233</td>\n",
       "      <td>30</td>\n",
       "      <td>64</td>\n",
       "      <td>6</td>\n",
       "      <td>10</td>\n",
       "    </tr>\n",
       "    <tr>\n",
       "      <th>1515</th>\n",
       "      <td>28000000</td>\n",
       "      <td>[{\"id\": 35, \"name\": \"Comedy\"}, {\"id\": 18, \"name\": \"Drama\"}]</td>\n",
       "      <td>318846</td>\n",
       "      <td>en</td>\n",
       "      <td>The Big Short</td>\n",
       "      <td>The men who made millions from a global economic meltdown.</td>\n",
       "      <td>57.5185</td>\n",
       "      <td>[{\"name\": \"Paramount Pictures\", \"id\": 4}, {\"name\": \"Plan B Entertainment\", \"id\": 81}, {\"name\": \"Regency Enterprises\", \"id\": 508}]</td>\n",
       "      <td>[{\"iso_3166_1\": \"US\", \"name\": \"United States of America\"}]</td>\n",
       "      <td>2015-12-11</td>\n",
       "      <td>...</td>\n",
       "      <td>0</td>\n",
       "      <td>2015</td>\n",
       "      <td>2015Q4</td>\n",
       "      <td>2015-12</td>\n",
       "      <td>161346506</td>\n",
       "      <td>4.7624</td>\n",
       "      <td>13</td>\n",
       "      <td>58</td>\n",
       "      <td>3</td>\n",
       "      <td>10</td>\n",
       "    </tr>\n",
       "    <tr>\n",
       "      <th>1910</th>\n",
       "      <td>20000000</td>\n",
       "      <td>[{\"id\": 18, \"name\": \"Drama\"}, {\"id\": 36, \"name\": \"History\"}]</td>\n",
       "      <td>2428</td>\n",
       "      <td>en</td>\n",
       "      <td>The Greatest Story Ever Told</td>\n",
       "      <td>All-star epic retelling of Christ's life.</td>\n",
       "      <td>3.0112</td>\n",
       "      <td>[{\"name\": \"George Stevens Productions\", \"id\": 13579}]</td>\n",
       "      <td>[{\"iso_3166_1\": \"US\", \"name\": \"United States of America\"}]</td>\n",
       "      <td>1965-02-15</td>\n",
       "      <td>...</td>\n",
       "      <td>0</td>\n",
       "      <td>1965</td>\n",
       "      <td>1965Q1</td>\n",
       "      <td>1965-02</td>\n",
       "      <td>35473333</td>\n",
       "      <td>0.7737</td>\n",
       "      <td>28</td>\n",
       "      <td>41</td>\n",
       "      <td>5</td>\n",
       "      <td>6</td>\n",
       "    </tr>\n",
       "    <tr>\n",
       "      <th>3017</th>\n",
       "      <td>2000000</td>\n",
       "      <td>[{\"id\": 18, \"name\": \"Drama\"}, {\"id\": 10749, \"name\": \"Romance\"}]</td>\n",
       "      <td>33667</td>\n",
       "      <td>en</td>\n",
       "      <td>Gentleman's Agreement</td>\n",
       "      <td>A magazine writer poses as a Jew to expose anti-Semitism.</td>\n",
       "      <td>5.3815</td>\n",
       "      <td>[{\"name\": \"Twentieth Century Fox Film Corporation\", \"id\": 306}]</td>\n",
       "      <td>[{\"iso_3166_1\": \"US\", \"name\": \"United States of America\"}]</td>\n",
       "      <td>1947-11-11</td>\n",
       "      <td>...</td>\n",
       "      <td>0</td>\n",
       "      <td>1947</td>\n",
       "      <td>1947Q4</td>\n",
       "      <td>1947-11</td>\n",
       "      <td>9800000</td>\n",
       "      <td>3.9000</td>\n",
       "      <td>21</td>\n",
       "      <td>57</td>\n",
       "      <td>2</td>\n",
       "      <td>10</td>\n",
       "    </tr>\n",
       "    <tr>\n",
       "      <th>3115</th>\n",
       "      <td>1000000</td>\n",
       "      <td>[{\"id\": 18, \"name\": \"Drama\"}, {\"id\": 28, \"name\": \"Action\"}, {\"id\": 37, \"name\": \"Western\"}, {\"id\": 10402, \"name\": \"Music\"}, {\"id\": 10749, \"name\": \"Romance\"}]</td>\n",
       "      <td>39833</td>\n",
       "      <td>en</td>\n",
       "      <td>Love Me Tender</td>\n",
       "      <td>Elvis Prestley's first film is a Civil War drama.</td>\n",
       "      <td>1.4443</td>\n",
       "      <td>[{\"name\": \"Twentieth Century Fox Film Corporation\", \"id\": 306}]</td>\n",
       "      <td>[{\"iso_3166_1\": \"US\", \"name\": \"United States of America\"}]</td>\n",
       "      <td>1956-11-15</td>\n",
       "      <td>...</td>\n",
       "      <td>1</td>\n",
       "      <td>1956</td>\n",
       "      <td>1956Q4</td>\n",
       "      <td>1956-11</td>\n",
       "      <td>10000000</td>\n",
       "      <td>9.0000</td>\n",
       "      <td>14</td>\n",
       "      <td>49</td>\n",
       "      <td>3</td>\n",
       "      <td>9</td>\n",
       "    </tr>\n",
       "  </tbody>\n",
       "</table>\n",
       "<p>6 rows × 43 columns</p>\n",
       "</div>"
      ],
      "text/plain": [
       "        budget  \\\n",
       "1264  34000000   \n",
       "1310  35000000   \n",
       "1515  28000000   \n",
       "1910  20000000   \n",
       "3017   2000000   \n",
       "3115   1000000   \n",
       "\n",
       "                                                                                                                                                            genres  \\\n",
       "1264                                                                                                  [{\"id\": 18, \"name\": \"Drama\"}, {\"id\": 36, \"name\": \"History\"}]   \n",
       "1310                                                                                                [{\"id\": 35, \"name\": \"Comedy\"}, {\"id\": 10402, \"name\": \"Music\"}]   \n",
       "1515                                                                                                   [{\"id\": 35, \"name\": \"Comedy\"}, {\"id\": 18, \"name\": \"Drama\"}]   \n",
       "1910                                                                                                  [{\"id\": 18, \"name\": \"Drama\"}, {\"id\": 36, \"name\": \"History\"}]   \n",
       "3017                                                                                               [{\"id\": 18, \"name\": \"Drama\"}, {\"id\": 10749, \"name\": \"Romance\"}]   \n",
       "3115  [{\"id\": 18, \"name\": \"Drama\"}, {\"id\": 28, \"name\": \"Action\"}, {\"id\": 37, \"name\": \"Western\"}, {\"id\": 10402, \"name\": \"Music\"}, {\"id\": 10749, \"name\": \"Romance\"}]   \n",
       "\n",
       "          id original_language                  original_title  \\\n",
       "1264    1883                en                       Malcolm X   \n",
       "1310    6575                en  Walk Hard: The Dewey Cox Story   \n",
       "1515  318846                en                   The Big Short   \n",
       "1910    2428                en    The Greatest Story Ever Told   \n",
       "3017   33667                en           Gentleman's Agreement   \n",
       "3115   39833                en                  Love Me Tender   \n",
       "\n",
       "                                                                       overview  \\\n",
       "1264  The biopic of the controversial and influential Black Nationalist leader.   \n",
       "1310           Singer Dewey Cox overcomes adversity to become a musical legend.   \n",
       "1515                 The men who made millions from a global economic meltdown.   \n",
       "1910                                  All-star epic retelling of Christ's life.   \n",
       "3017                  A magazine writer poses as a Jew to expose anti-Semitism.   \n",
       "3115                          Elvis Prestley's first film is a Civil War drama.   \n",
       "\n",
       "      popularity  \\\n",
       "1264     19.8228   \n",
       "1310     10.7352   \n",
       "1515     57.5185   \n",
       "1910      3.0112   \n",
       "3017      5.3815   \n",
       "3115      1.4443   \n",
       "\n",
       "                                                                                                                       production_companies  \\\n",
       "1264  [{\"name\": \"JVC Entertainment\", \"id\": 182}, {\"name\": \"40 Acres & A Mule Filmworks\", \"id\": 4319}, {\"name\": \"Warner Bros.\", \"id\": 6194}]   \n",
       "1310                                    [{\"name\": \"Columbia Pictures Corporation\", \"id\": 441}, {\"name\": \"Apatow Productions\", \"id\": 10105}]   \n",
       "1515      [{\"name\": \"Paramount Pictures\", \"id\": 4}, {\"name\": \"Plan B Entertainment\", \"id\": 81}, {\"name\": \"Regency Enterprises\", \"id\": 508}]   \n",
       "1910                                                                                  [{\"name\": \"George Stevens Productions\", \"id\": 13579}]   \n",
       "3017                                                                        [{\"name\": \"Twentieth Century Fox Film Corporation\", \"id\": 306}]   \n",
       "3115                                                                        [{\"name\": \"Twentieth Century Fox Film Corporation\", \"id\": 306}]   \n",
       "\n",
       "                                            production_countries release_date  \\\n",
       "1264  [{\"iso_3166_1\": \"US\", \"name\": \"United States of America\"}]   1992-11-18   \n",
       "1310  [{\"iso_3166_1\": \"US\", \"name\": \"United States of America\"}]   2007-12-21   \n",
       "1515  [{\"iso_3166_1\": \"US\", \"name\": \"United States of America\"}]   2015-12-11   \n",
       "1910  [{\"iso_3166_1\": \"US\", \"name\": \"United States of America\"}]   1965-02-15   \n",
       "3017  [{\"iso_3166_1\": \"US\", \"name\": \"United States of America\"}]   1947-11-11   \n",
       "3115  [{\"iso_3166_1\": \"US\", \"name\": \"United States of America\"}]   1956-11-15   \n",
       "\n",
       "      ...  Western  release_cy release_cy_quarter  release_cy_month  \\\n",
       "1264  ...        0        1992             1992Q4           1992-11   \n",
       "1310  ...        0        2007             2007Q4           2007-12   \n",
       "1515  ...        0        2015             2015Q4           2015-12   \n",
       "1910  ...        0        1965             1965Q1           1965-02   \n",
       "3017  ...        0        1947             1947Q4           1947-11   \n",
       "3115  ...        1        1956             1956Q4           1956-11   \n",
       "\n",
       "      box_office_earning  revenue_budget_ratio  title_char_count  \\\n",
       "1264            82169908                1.4168                 9   \n",
       "1310            53317151                0.5233                30   \n",
       "1515           161346506                4.7624                13   \n",
       "1910            35473333                0.7737                28   \n",
       "3017             9800000                3.9000                21   \n",
       "3115            10000000                9.0000                14   \n",
       "\n",
       "      overview_char_count  title_word_count  overview_word_count  \n",
       "1264                   73                 2                   10  \n",
       "1310                   64                 6                   10  \n",
       "1515                   58                 3                   10  \n",
       "1910                   41                 5                    6  \n",
       "3017                   57                 2                   10  \n",
       "3115                   49                 3                    9  \n",
       "\n",
       "[6 rows x 43 columns]"
      ]
     },
     "execution_count": 73,
     "metadata": {},
     "output_type": "execute_result"
    }
   ],
   "source": [
    "print(f\"There are {df_data[df_data['overview_word_count'] <= 10].shape[0]} entries with overview less than 10 words.\")\n",
    "df_data[df_data['overview_word_count'] <= 10].head(10)\n",
    "# Checking these overview narratives even though short may still be acceptable.\n",
    "# Will not drop any entries."
   ]
  },
  {
   "cell_type": "markdown",
   "id": "334caf99",
   "metadata": {},
   "source": [
    "# Text Data Normalization"
   ]
  },
  {
   "cell_type": "markdown",
   "id": "f719e02d",
   "metadata": {},
   "source": [
    "### Derived Feature: Combination of Original Title and Overview\n",
    "Before we perform text data normalization we will combine the text of the 'original_title' and the text of the 'overview'. This will result in a narrative that will read \"Title of the movie: Overview\". We can then use this composite text to do analytics later on."
   ]
  },
  {
   "cell_type": "code",
   "execution_count": 74,
   "id": "f5b0a6f9",
   "metadata": {},
   "outputs": [],
   "source": [
    "df_data['original_title_overview'] = df_data['original_title'] + ': ' + df_data['overview']"
   ]
  },
  {
   "cell_type": "code",
   "execution_count": 75,
   "id": "f841820c",
   "metadata": {},
   "outputs": [
    {
     "data": {
      "text/html": [
       "<div>\n",
       "<style scoped>\n",
       "    .dataframe tbody tr th:only-of-type {\n",
       "        vertical-align: middle;\n",
       "    }\n",
       "\n",
       "    .dataframe tbody tr th {\n",
       "        vertical-align: top;\n",
       "    }\n",
       "\n",
       "    .dataframe thead th {\n",
       "        text-align: right;\n",
       "    }\n",
       "</style>\n",
       "<table border=\"1\" class=\"dataframe\">\n",
       "  <thead>\n",
       "    <tr style=\"text-align: right;\">\n",
       "      <th></th>\n",
       "      <th>original_title</th>\n",
       "      <th>overview</th>\n",
       "      <th>original_title_overview</th>\n",
       "    </tr>\n",
       "  </thead>\n",
       "  <tbody>\n",
       "    <tr>\n",
       "      <th>1229</th>\n",
       "      <td>Reindeer Games</td>\n",
       "      <td>After assuming his dead cellmate's identity to get with his girlfriend, an ex-con finds himself the reluctant participant in a casino heist.</td>\n",
       "      <td>Reindeer Games: After assuming his dead cellmate's identity to get with his girlfriend, an ex-con finds himself the reluctant participant in a casino heist.</td>\n",
       "    </tr>\n",
       "    <tr>\n",
       "      <th>1207</th>\n",
       "      <td>Virgin Territory</td>\n",
       "      <td>The film is set in Tuscany during the Black Death. As in the Decameron, ten young Florentines take refuge from the plague. But instead of telling stories, they have lusty adventures, bawdy exchanges, romance and swordplay. There are randy nuns, Saracen pirates, and a sexy cow.</td>\n",
       "      <td>Virgin Territory: The film is set in Tuscany during the Black Death. As in the Decameron, ten young Florentines take refuge from the plague. But instead of telling stories, they have lusty adventures, bawdy exchanges, romance and swordplay. There are randy nuns, Saracen pirates, and a sexy cow.</td>\n",
       "    </tr>\n",
       "  </tbody>\n",
       "</table>\n",
       "</div>"
      ],
      "text/plain": [
       "        original_title  \\\n",
       "1229    Reindeer Games   \n",
       "1207  Virgin Territory   \n",
       "\n",
       "                                                                                                                                                                                                                                                                                   overview  \\\n",
       "1229                                                                                                                                           After assuming his dead cellmate's identity to get with his girlfriend, an ex-con finds himself the reluctant participant in a casino heist.   \n",
       "1207  The film is set in Tuscany during the Black Death. As in the Decameron, ten young Florentines take refuge from the plague. But instead of telling stories, they have lusty adventures, bawdy exchanges, romance and swordplay. There are randy nuns, Saracen pirates, and a sexy cow.   \n",
       "\n",
       "                                                                                                                                                                                                                                                                                      original_title_overview  \n",
       "1229                                                                                                                                             Reindeer Games: After assuming his dead cellmate's identity to get with his girlfriend, an ex-con finds himself the reluctant participant in a casino heist.  \n",
       "1207  Virgin Territory: The film is set in Tuscany during the Black Death. As in the Decameron, ten young Florentines take refuge from the plague. But instead of telling stories, they have lusty adventures, bawdy exchanges, romance and swordplay. There are randy nuns, Saracen pirates, and a sexy cow.  "
      ]
     },
     "execution_count": 75,
     "metadata": {},
     "output_type": "execute_result"
    }
   ],
   "source": [
    "# Let's spot check a few samples.\n",
    "df_data[['original_title', 'overview', 'original_title_overview']].sample(n = 2)"
   ]
  },
  {
   "cell_type": "markdown",
   "id": "b9ff0af0",
   "metadata": {},
   "source": [
    "# Text Normalization\n",
    "This part may be considered part of Natural Language Processing (NLP). However, since I am creating a derived feature with normalized text I typically include this as part of my data cleaning, data wrangling, data transformation and data preparation. This step on text normalization includes deriving a feature with the lemmatized text and the stemmed text. Both, lemmatization and stemming are techniques to reduce words to their roots. Also, part of the text normalization step, there are stop words that are removed.\n",
    "\n",
    "This new features can be used for wordcloud, Bag of Word models which can be used in text clustering, similarity searching and other NLP tasks."
   ]
  },
  {
   "cell_type": "code",
   "execution_count": 76,
   "id": "39c5101d",
   "metadata": {},
   "outputs": [],
   "source": [
    "# Stopwords to add need to be developed by a SME familiar with the corpus.\n",
    "# These stopwords_to_add are added in pre-processing as part of the text normalization function.\n",
    "stopwords_to_add = [''] # If you wanted to add a corpus related stopword list add them here.\n",
    "\n",
    "# NLTK library stopwords\n",
    "stopwords_custom = stopwords.words('english') + [x.lower() for x in stopwords_to_add]\n",
    "\n",
    "# In some cases you want to consider 2-grams especially with the word 'no', 'not', 'nor'.\n",
    "# For example 'no fire'.  Removing the word 'no' from the stopwords list allows this to occur.\n",
    "remove_as_stopword = ['no', 'not', 'nor']\n",
    "stopwords_custom = list(filter(lambda w: w not in remove_as_stopword, stopwords_custom))"
   ]
  },
  {
   "cell_type": "code",
   "execution_count": 77,
   "id": "75f8eb13",
   "metadata": {},
   "outputs": [
    {
     "name": "stdout",
     "output_type": "stream",
     "text": [
      "['i', 'me', 'my', 'myself', 'we', 'our', 'ours', 'ourselves', 'you', \"you're\", \"you've\", \"you'll\", \"you'd\", 'your', 'yours', 'yourself', 'yourselves', 'he', 'him', 'his', 'himself', 'she', \"she's\", 'her', 'hers', 'herself', 'it', \"it's\", 'its', 'itself', 'they', 'them', 'their', 'theirs', 'themselves', 'what', 'which', 'who', 'whom', 'this', 'that', \"that'll\", 'these', 'those', 'am', 'is', 'are', 'was', 'were', 'be', 'been', 'being', 'have', 'has', 'had', 'having', 'do', 'does', 'did', 'doing', 'a', 'an', 'the', 'and', 'but', 'if', 'or', 'because', 'as', 'until', 'while', 'of', 'at', 'by', 'for', 'with', 'about', 'against', 'between', 'into', 'through', 'during', 'before', 'after', 'above', 'below', 'to', 'from', 'up', 'down', 'in', 'out', 'on', 'off', 'over', 'under', 'again', 'further', 'then', 'once', 'here', 'there', 'when', 'where', 'why', 'how', 'all', 'any', 'both', 'each', 'few', 'more', 'most', 'other', 'some', 'such', 'only', 'own', 'same', 'so', 'than', 'too', 'very', 's', 't', 'can', 'will', 'just', 'don', \"don't\", 'should', \"should've\", 'now', 'd', 'll', 'm', 'o', 're', 've', 'y', 'ain', 'aren', \"aren't\", 'couldn', \"couldn't\", 'didn', \"didn't\", 'doesn', \"doesn't\", 'hadn', \"hadn't\", 'hasn', \"hasn't\", 'haven', \"haven't\", 'isn', \"isn't\", 'ma', 'mightn', \"mightn't\", 'mustn', \"mustn't\", 'needn', \"needn't\", 'shan', \"shan't\", 'shouldn', \"shouldn't\", 'wasn', \"wasn't\", 'weren', \"weren't\", 'won', \"won't\", 'wouldn', \"wouldn't\", '']\n"
     ]
    }
   ],
   "source": [
    "print(stopwords_custom) # Comment out to see list of stopwords_custom.\n",
    "# You can find these in the NLTK stopwords documentation as well."
   ]
  },
  {
   "cell_type": "code",
   "execution_count": 78,
   "id": "e70a216f",
   "metadata": {},
   "outputs": [],
   "source": [
    "# Normalization of text. \n",
    "def text_normalization(text, word_reduction_method):\n",
    "    text = str(text) # Convert narrative to string.\n",
    "    df = pd.DataFrame({'': [text]}) # Converts narrative to a dataframe format use replace functions.\n",
    "    df[''] = df[''].str.lower() # Covert narrative to lower case.\n",
    "    df[''] = df[''].str.replace(\"\\d+\", \" \", regex = True) # Remove numbers\n",
    "    df[''] = df[''].str.replace(\"[^\\w\\s]\", \" \", regex = True) # Remove special characters\n",
    "    df[''] = df[''].str.replace(\"_\", \" \", regex = True) # Remove underscores characters\n",
    "    df[''] = df[''].str.replace('\\s+', ' ', regex = True) # Replace multiple spaces with single\n",
    "    text = str(df[0:1]) # Extracts narrative from dataframe.\n",
    "    tokenizer = RegexpTokenizer(r'\\w+') # Tokenizer.\n",
    "    tokens = tokenizer.tokenize(text) # Tokenize words.\n",
    "    filtered_words = [w for w in tokens if len(w) > 1 if not w in stopwords_custom] # Note remove words of 1 letter only. Can increase to higher value as needed.\n",
    "    if word_reduction_method == 'Lemmatization':\n",
    "        lemmatizer = WordNetLemmatizer()\n",
    "        reduced_words=[lemmatizer.lemmatize(w, get_wordnet_pos(w)) for w in filtered_words] # Lemmatization.  The second argument is the POS tag.\n",
    "    if word_reduction_method == 'Stemming':\n",
    "        stemmer = PorterStemmer() # Stemming also could make the word unreadable but is faster than lemmatization.\n",
    "        reduced_words=[stemmer.stem(w) for w in filtered_words]\n",
    "    return \" \".join(reduced_words) # Join words with space.\n",
    "\n",
    "def get_wordnet_pos(word): # Reference: https://www.machinelearningplus.com/nlp/lemmatization-examples-python/#wordnetlemmatizer\n",
    "    #\"\"\"Map POS tag to first character lemmatize() accepts\"\"\"\n",
    "    tag = nltk.pos_tag([word])[0][1][0].upper()\n",
    "    tag_dict = {\"J\": wordnet.ADJ,\n",
    "                \"N\": wordnet.NOUN,\n",
    "                \"V\": wordnet.VERB,\n",
    "                \"R\": wordnet.ADV}\n",
    "    return tag_dict.get(tag, wordnet.NOUN)"
   ]
  },
  {
   "cell_type": "code",
   "execution_count": 79,
   "id": "d533e5ea",
   "metadata": {},
   "outputs": [
    {
     "name": "stdout",
     "output_type": "stream",
     "text": [
      "2022-10-09 09:48:09.425780\n",
      "2022-10-09 09:49:58.213256\n"
     ]
    }
   ],
   "source": [
    "# This cell may take awhile to run depending on the number of entries and lenght of entries being normalized.\n",
    "# In this dataset takes about 3 minutes.\n",
    "# It reads the data in the \"original_title_overview\" and normalizes the text using lemmatization.\n",
    "# It creates a new feature called norm_text_lemma.\n",
    "print(datetime.now())\n",
    "df_data['norm_text_lemma'] = df_data['original_title_overview'].apply(text_normalization, \n",
    "                                                                      word_reduction_method = 'Lemmatization')\n",
    "print(datetime.now())"
   ]
  },
  {
   "cell_type": "code",
   "execution_count": 80,
   "id": "51370cbe",
   "metadata": {},
   "outputs": [
    {
     "name": "stdout",
     "output_type": "stream",
     "text": [
      "2022-10-09 09:49:58.232483\n",
      "2022-10-09 09:50:12.142947\n"
     ]
    }
   ],
   "source": [
    "# This cell may take awhile to run depending on the number of entries and lenght of entries being normalized.\n",
    "# In this dataset takes about 1 minutes. Note that stemming is much faster than lemmatization.\n",
    "# It reads the data in the \"original_title_overview\" and normalizes the text using stemming.\n",
    "# It creates a new feature called norm_text_stem.\n",
    "print(datetime.now())\n",
    "df_data['norm_text_stem'] = df_data['original_title_overview'].apply(text_normalization, \n",
    "                                                                      word_reduction_method = 'Stemming')\n",
    "print(datetime.now())"
   ]
  },
  {
   "cell_type": "markdown",
   "id": "622625d1",
   "metadata": {},
   "source": [
    "# Export Final DataFrame\n",
    "Exporting the final cleaned dataframe which can then be used as input into the other notebooks or shared with other stakeholders."
   ]
  },
  {
   "cell_type": "code",
   "execution_count": 81,
   "id": "7ca6238d",
   "metadata": {},
   "outputs": [],
   "source": [
    "# TO EXPORT AS EXCEL\n",
    "#df_data.to_excel (r'.\\output_data\\df_data_clean.xlsx', index = False, header=True) "
   ]
  },
  {
   "cell_type": "code",
   "execution_count": 82,
   "id": "0110279f",
   "metadata": {},
   "outputs": [],
   "source": [
    "# TO EXPORT AS CSV\n",
    "df_data.to_csv (r'.\\output_data\\df_data_clean.csv', encoding='utf-8-sig', index = False, header=True) "
   ]
  },
  {
   "cell_type": "markdown",
   "id": "17a01720",
   "metadata": {},
   "source": [
    "# Notebook End"
   ]
  },
  {
   "cell_type": "code",
   "execution_count": null,
   "id": "801cc353",
   "metadata": {},
   "outputs": [],
   "source": []
  },
  {
   "cell_type": "code",
   "execution_count": null,
   "id": "f8041805",
   "metadata": {},
   "outputs": [],
   "source": []
  },
  {
   "cell_type": "code",
   "execution_count": null,
   "id": "d2eddd81",
   "metadata": {},
   "outputs": [],
   "source": []
  }
 ],
 "metadata": {
  "kernelspec": {
   "display_name": "Python 3 (ipykernel)",
   "language": "python",
   "name": "python3"
  },
  "language_info": {
   "codemirror_mode": {
    "name": "ipython",
    "version": 3
   },
   "file_extension": ".py",
   "mimetype": "text/x-python",
   "name": "python",
   "nbconvert_exporter": "python",
   "pygments_lexer": "ipython3",
   "version": "3.9.12"
  }
 },
 "nbformat": 4,
 "nbformat_minor": 5
}
