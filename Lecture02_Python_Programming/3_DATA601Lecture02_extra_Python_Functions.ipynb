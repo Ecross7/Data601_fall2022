{
 "cells": [
  {
   "cell_type": "markdown",
   "metadata": {
    "colab_type": "text",
    "id": "view-in-github"
   },
   "source": [
    "<a href=\"https://colab.research.google.com/github/simsekergun/DATA601/blob/main/2021Fall/Lecture02/DATA601Lecture02_extra1_Python_Functions.ipynb\" target=\"_parent\"><img src=\"https://colab.research.google.com/assets/colab-badge.svg\" alt=\"Open In Colab\"/></a>"
   ]
  },
  {
   "cell_type": "markdown",
   "metadata": {
    "id": "dwAx1mXrtczG"
   },
   "source": [
    "# Functions\n",
    "So far we've been using functions from the builtin module. In this lecture, we'll learn how to write our own functions, how to call them, etc."
   ]
  },
  {
   "cell_type": "code",
   "execution_count": 1,
   "metadata": {
    "id": "N3fNfDMZtczJ",
    "outputId": "9e2198a4-56ab-4c07-de35-ee52d46ab915"
   },
   "outputs": [
    {
     "name": "stdout",
     "output_type": "stream",
     "text": [
      "0.8520037726765454\n"
     ]
    }
   ],
   "source": [
    "# Occasionally we've accessed functions in other modules using import. For example\n",
    "import random\n",
    "a = random.random()\n",
    "print(a)"
   ]
  },
  {
   "cell_type": "markdown",
   "metadata": {
    "id": "zkb8IRRYtczL"
   },
   "source": [
    "### Basic function"
   ]
  },
  {
   "cell_type": "code",
   "execution_count": 2,
   "metadata": {
    "id": "pz_xi3vmtczL"
   },
   "outputs": [],
   "source": [
    "# Functions are a block begun with a function declaration or header:\n",
    "def printit():\n",
    "    print(\"Hello UMBC\")"
   ]
  },
  {
   "cell_type": "code",
   "execution_count": 3,
   "metadata": {
    "id": "i_dIxNE_tczL",
    "outputId": "88e61a38-2337-4d97-f0db-c1eb0eacec69"
   },
   "outputs": [
    {
     "name": "stdout",
     "output_type": "stream",
     "text": [
      "Hello UMBC\n"
     ]
    }
   ],
   "source": [
    "# To call this function, we simply write\n",
    "printit()"
   ]
  },
  {
   "cell_type": "code",
   "execution_count": 4,
   "metadata": {
    "id": "cFrxoYB7tczM"
   },
   "outputs": [],
   "source": [
    "# In a standard script, functions need to be defined before you use them. For example\n",
    "def printit(text):\n",
    "    print('You wrote:', text)"
   ]
  },
  {
   "cell_type": "code",
   "execution_count": 5,
   "metadata": {
    "id": "UjCOMhTQtczM",
    "outputId": "8926ba84-4910-41c7-e293-3c4d1cedbb64"
   },
   "outputs": [
    {
     "name": "stdout",
     "output_type": "stream",
     "text": [
      "You wrote: Hi\n",
      "You wrote: How are you?\n"
     ]
    }
   ],
   "source": [
    "# You can call a function as many times as you like\n",
    "printit(\"Hi\")\n",
    "printit(\"How are you?\")"
   ]
  },
  {
   "cell_type": "code",
   "execution_count": 6,
   "metadata": {
    "id": "y9jkEUTgtczN"
   },
   "outputs": [],
   "source": [
    "# For mutable variables, changes inside the function change the variable outside:\n",
    "def printit(text):\n",
    "    text = text + \", Pikachu\" # New text variable created.\n",
    "    print(text)"
   ]
  },
  {
   "cell_type": "code",
   "execution_count": 7,
   "metadata": {
    "id": "7CpB5ZO0tczN",
    "outputId": "8462ae74-c617-488a-c309-459edfb00676"
   },
   "outputs": [
    {
     "name": "stdout",
     "output_type": "stream",
     "text": [
      "I choose you, Pikachu\n"
     ]
    }
   ],
   "source": [
    "a = \"I choose you\"\n",
    "printit(a)"
   ]
  },
  {
   "cell_type": "code",
   "execution_count": 8,
   "metadata": {
    "id": "0O_yscAHtczO"
   },
   "outputs": [],
   "source": [
    "# As text is immutable, the value in the list outside the method \n",
    "# is still  \"I choose you\"."
   ]
  },
  {
   "cell_type": "markdown",
   "metadata": {
    "id": "EXxJsBAgtczO"
   },
   "source": [
    "### Passing info in"
   ]
  },
  {
   "cell_type": "code",
   "execution_count": 9,
   "metadata": {
    "id": "QA-5rOirtczO"
   },
   "outputs": [],
   "source": [
    "# Python (unlike many languages) doesn't worry about the type passed in\n",
    "def printit(var):\n",
    "    print(str(var))"
   ]
  },
  {
   "cell_type": "code",
   "execution_count": 10,
   "metadata": {
    "id": "SeOsGHtFtczP",
    "outputId": "38d97d24-02aa-4385-ad16-dbb64a4b4dad"
   },
   "outputs": [
    {
     "name": "stdout",
     "output_type": "stream",
     "text": [
      "hello world\n",
      "430\n",
      "430.0\n"
     ]
    }
   ],
   "source": [
    "printit(\"hello world\")\n",
    "printit(430)\n",
    "printit(430.0)"
   ]
  },
  {
   "cell_type": "markdown",
   "metadata": {
    "id": "sNuxRh8etczP"
   },
   "source": [
    "### Getting values back"
   ]
  },
  {
   "cell_type": "code",
   "execution_count": 11,
   "metadata": {
    "id": "ig2C-MZrtczP"
   },
   "outputs": [],
   "source": [
    "# By default, functions invisibly return None (you can do so explicitly, \n",
    "# as is sometimes useful).\n",
    "# But you can pass values back:\n",
    "#\n",
    "def get_pi():\n",
    "    return 3.14159265359"
   ]
  },
  {
   "cell_type": "code",
   "execution_count": 12,
   "metadata": {
    "id": "6qa-PiljtczP",
    "outputId": "f1c812b9-0e23-48bb-df3b-156991861ca4"
   },
   "outputs": [
    {
     "name": "stdout",
     "output_type": "stream",
     "text": [
      "3.14159265359\n"
     ]
    }
   ],
   "source": [
    "pi = get_pi()\n",
    "print(pi)"
   ]
  },
  {
   "cell_type": "code",
   "execution_count": 13,
   "metadata": {
    "id": "DLSEV_M_tczQ",
    "outputId": "fd4781e7-a221-4e36-d260-f92250aef950"
   },
   "outputs": [
    {
     "data": {
      "text/plain": [
       "float"
      ]
     },
     "execution_count": 13,
     "metadata": {},
     "output_type": "execute_result"
    }
   ],
   "source": [
    "type(pi)"
   ]
  },
  {
   "cell_type": "markdown",
   "metadata": {
    "id": "5OOmUy07tczQ"
   },
   "source": [
    "### Multiple in, Single out"
   ]
  },
  {
   "cell_type": "code",
   "execution_count": 14,
   "metadata": {
    "id": "t6kJ-4eptczQ"
   },
   "outputs": [],
   "source": [
    "def add(num1, num2):\n",
    "    return num1 + num2"
   ]
  },
  {
   "cell_type": "code",
   "execution_count": 15,
   "metadata": {
    "colab": {
     "base_uri": "https://localhost:8080/"
    },
    "id": "Y8v2YyJNtczQ",
    "outputId": "54805e06-58eb-4140-f063-3a7e66ffdfe2"
   },
   "outputs": [
    {
     "data": {
      "text/plain": [
       "50"
      ]
     },
     "execution_count": 15,
     "metadata": {},
     "output_type": "execute_result"
    }
   ],
   "source": [
    "answer = add(20,30)\n",
    "answer"
   ]
  },
  {
   "cell_type": "markdown",
   "metadata": {
    "id": "_N8JTJpkxjrd"
   },
   "source": [
    "for multiple outputs, there are multiple options\n",
    "use tuples, lists, or dictionaries as outputs\n",
    "or use classes"
   ]
  },
  {
   "cell_type": "markdown",
   "metadata": {
    "id": "Rwvz5OXWtczQ"
   },
   "source": [
    "### Defaults"
   ]
  },
  {
   "cell_type": "code",
   "execution_count": 16,
   "metadata": {
    "id": "k4EY0S1wtczR"
   },
   "outputs": [],
   "source": [
    "# You can set up default values if a parameter is missing:\n",
    "def add(num1 = 0, num2 = 0):\n",
    "    return num1 + num2"
   ]
  },
  {
   "cell_type": "code",
   "execution_count": 17,
   "metadata": {
    "id": "-8IEJ3iptczR",
    "outputId": "92ca2f32-789f-4a2d-978a-a36e8ba9b1bc"
   },
   "outputs": [
    {
     "name": "stdout",
     "output_type": "stream",
     "text": [
      "3\n"
     ]
    }
   ],
   "source": [
    "print(add(3))\n",
    "# With this type of parameter, positional arguments are allocated left to right, \n",
    "# so here, num1 is 3, and num2 is nothing."
   ]
  },
  {
   "cell_type": "markdown",
   "metadata": {
    "id": "-mDpojD4tczR"
   },
   "source": [
    "### Keyword arguments"
   ]
  },
  {
   "cell_type": "code",
   "execution_count": 18,
   "metadata": {
    "id": "tjOykguitczR"
   },
   "outputs": [],
   "source": [
    "# You can also name arguments, these are called keyword arguments or kwargs. \n",
    "def funct1(num1, num2):\n",
    "    return 2*num1 + num2"
   ]
  },
  {
   "cell_type": "code",
   "execution_count": 19,
   "metadata": {
    "id": "IwX_kG3stczR",
    "outputId": "4059829f-96d6-4ff7-e892-f1d5fa002535"
   },
   "outputs": [
    {
     "name": "stdout",
     "output_type": "stream",
     "text": [
      "130\n"
     ]
    }
   ],
   "source": [
    "# Here we will swapp the order of the positional arguments \n",
    "# by naming the parameters to assign their values to.\n",
    "print(funct1(num2 = 30, num1 = 50))"
   ]
  },
  {
   "cell_type": "markdown",
   "metadata": {
    "id": "rv6ITF5etczR"
   },
   "source": [
    "### Flexible parameterisation: *ARGS"
   ]
  },
  {
   "cell_type": "code",
   "execution_count": 20,
   "metadata": {
    "id": "hOr1knhmtczS"
   },
   "outputs": [],
   "source": [
    "# You can allow for more positional arguments than you have parameters using *tuple_name\n",
    "def sum (num1, num2, *others):\n",
    "    sum = num1\n",
    "    sum += num2\n",
    "    for num in others:\n",
    "        sum += num\n",
    "    return sum"
   ]
  },
  {
   "cell_type": "code",
   "execution_count": 21,
   "metadata": {
    "id": "nZfX7c19tczS",
    "outputId": "0e47334b-52dd-4d99-c73d-a37f911d877a"
   },
   "outputs": [
    {
     "name": "stdout",
     "output_type": "stream",
     "text": [
      "28\n"
     ]
    }
   ],
   "source": [
    "print(sum(1,2,3,4,5,6,7))"
   ]
  },
  {
   "cell_type": "markdown",
   "metadata": {
    "id": "IN6DSZidtczS"
   },
   "source": [
    "### Iterable unpacking"
   ]
  },
  {
   "cell_type": "code",
   "execution_count": 22,
   "metadata": {
    "id": "jqaRna0OtczS"
   },
   "outputs": [],
   "source": [
    "# You can equally use the * operator with lists or tuples to generate parameters.\n",
    "#\n",
    "# The * operator is an unpacking operator that will unpack the values \n",
    "# from any iterable object, such as lists, tuples, strings, et\n",
    "def sum(*nums):\n",
    "    sum = 0\n",
    "    for num in nums:\n",
    "        sum += num\n",
    "    return sum"
   ]
  },
  {
   "cell_type": "code",
   "execution_count": 23,
   "metadata": {
    "id": "qHyLurXetczS",
    "outputId": "c53ac372-7ee0-4fee-b8a2-34aeb4c36537"
   },
   "outputs": [
    {
     "name": "stdout",
     "output_type": "stream",
     "text": [
      "11\n"
     ]
    }
   ],
   "source": [
    "a = [1, 2, 3, 5]\n",
    "print(sum(*a))"
   ]
  },
  {
   "cell_type": "code",
   "execution_count": 24,
   "metadata": {
    "id": "SYzJMqxztczS",
    "outputId": "e64f296a-fc5a-47b0-d71a-b12597ef5c66"
   },
   "outputs": [
    {
     "name": "stdout",
     "output_type": "stream",
     "text": [
      "[1, 2, 3, 4, 5]\n"
     ]
    }
   ],
   "source": [
    "# How does * operator work? Read the following example\n",
    "num_list = [1,2,3,4,5]\n",
    "print(num_list)"
   ]
  },
  {
   "cell_type": "code",
   "execution_count": 25,
   "metadata": {
    "id": "OQ3Ts4IMtczS",
    "outputId": "1267a141-80ab-4256-f78a-1b281c03b27f"
   },
   "outputs": [
    {
     "name": "stdout",
     "output_type": "stream",
     "text": [
      "1 2 3 4 5\n"
     ]
    }
   ],
   "source": [
    "print(*num_list)"
   ]
  },
  {
   "cell_type": "code",
   "execution_count": 26,
   "metadata": {
    "id": "4w0WQC89tczT",
    "outputId": "a5ca7482-0c5b-4005-9e87-0845a03e12f3"
   },
   "outputs": [
    {
     "name": "stdout",
     "output_type": "stream",
     "text": [
      "[[1, 2, 3, 4, 5], [6, 7, 8]]\n"
     ]
    }
   ],
   "source": [
    "# * operator makes merging example. First try this\n",
    "num_list2 = [6,7,8]\n",
    "new_list = [num_list,num_list2] # won't work\n",
    "print(new_list)"
   ]
  },
  {
   "cell_type": "code",
   "execution_count": 27,
   "metadata": {
    "id": "c-_-zFDbtczT",
    "outputId": "289f3a68-c1b4-44af-aa36-ba459e6533d6"
   },
   "outputs": [
    {
     "name": "stdout",
     "output_type": "stream",
     "text": [
      "[1, 2, 3, 4, 5, 6, 7, 8]\n"
     ]
    }
   ],
   "source": [
    "new_list = [*num_list, *num_list2]\n",
    "print(new_list)"
   ]
  },
  {
   "cell_type": "code",
   "execution_count": 28,
   "metadata": {
    "id": "s8q59tXDtczT",
    "outputId": "bc520a3f-7dd3-43e0-c84d-bb8d7e8c1048"
   },
   "outputs": [
    {
     "name": "stdout",
     "output_type": "stream",
     "text": [
      "['Michael', 'John', 'Nancy']\n"
     ]
    }
   ],
   "source": [
    "# Packing with * Operator:\n",
    "# We can also use the * operator to pack multiple values into a single variable\n",
    "*names, = 'Michael', 'John', 'Nancy'\n",
    "print(names)\n",
    "# note the comma after \"*names\""
   ]
  },
  {
   "cell_type": "code",
   "execution_count": 29,
   "metadata": {
    "id": "hSsdtwnCtczT"
   },
   "outputs": [],
   "source": [
    "# To define functions that can receive a varying number of arguments\n",
    "# we use *args and **kwargs"
   ]
  },
  {
   "cell_type": "code",
   "execution_count": 30,
   "metadata": {
    "id": "OmwaSquhtczT"
   },
   "outputs": [],
   "source": [
    "def names_tuple(*args):\n",
    "    return args\n",
    "# No matter what number of positional arguments we pass in \n",
    "# when we call the names_tuple function, the *args argument \n",
    "# will pack the positional arguments into a tuple"
   ]
  },
  {
   "cell_type": "code",
   "execution_count": 31,
   "metadata": {
    "id": "HRGM7EBhtczU",
    "outputId": "7580c251-b546-4c4f-d2a4-6c7406bd2988"
   },
   "outputs": [
    {
     "data": {
      "text/plain": [
       "('Michael', 'John', 'Nancy')"
      ]
     },
     "execution_count": 31,
     "metadata": {},
     "output_type": "execute_result"
    }
   ],
   "source": [
    "names_tuple('Michael', 'John', 'Nancy')"
   ]
  },
  {
   "cell_type": "code",
   "execution_count": 32,
   "metadata": {
    "id": "pMPItRg5tczU",
    "outputId": "0d7adb11-dec2-4e99-e7bc-ffcd39bee538"
   },
   "outputs": [
    {
     "data": {
      "text/plain": [
       "('Jennifer', 'Nancy')"
      ]
     },
     "execution_count": 32,
     "metadata": {},
     "output_type": "execute_result"
    }
   ],
   "source": [
    "names_tuple('Jennifer', 'Nancy')"
   ]
  },
  {
   "cell_type": "markdown",
   "metadata": {
    "id": "OsYrTsDztczU"
   },
   "source": [
    "### Flexible parameterisation: *KWARGS"
   ]
  },
  {
   "cell_type": "code",
   "execution_count": 33,
   "metadata": {
    "id": "Pe95m-FwtczU"
   },
   "outputs": [],
   "source": [
    "# The same can be done with **dict_name (** is the dictionary unpacking operator), \n",
    "# which will make a dictionary from unallocated kwargs\n",
    "def print_details (a, **details):\n",
    "    first = details[\"first\"]\n",
    "    surname = details[\"surname\"]\n",
    "    print (first + \" \" + surname + \" has \" + a + \" pounds of gold\")"
   ]
  },
  {
   "cell_type": "code",
   "execution_count": 34,
   "metadata": {
    "colab": {
     "base_uri": "https://localhost:8080/"
    },
    "id": "_Sgn6CPetczV",
    "outputId": "e5630895-fe19-494b-99c1-37741d20226a"
   },
   "outputs": [
    {
     "name": "stdout",
     "output_type": "stream",
     "text": [
      "George Formby has 5 pounds of gold\n"
     ]
    }
   ],
   "source": [
    "print_details(\"5\", first=\"George\", surname=\"Formby\", age = \"28\")"
   ]
  },
  {
   "cell_type": "code",
   "execution_count": 35,
   "metadata": {
    "id": "sQjzWsbLtczV"
   },
   "outputs": [],
   "source": [
    "# You can also use ** to create keyword arguments:\n",
    "def print_details(a, first, surname):\n",
    "    print (first + \" \" + surname + \" has \" + a + \" pounds of apple!\")"
   ]
  },
  {
   "cell_type": "code",
   "execution_count": 36,
   "metadata": {
    "colab": {
     "base_uri": "https://localhost:8080/"
    },
    "id": "A8aMWgEMtczV",
    "outputId": "94f81265-58c1-4108-9ffe-3cc5fb44c6a1"
   },
   "outputs": [
    {
     "name": "stdout",
     "output_type": "stream",
     "text": [
      "George Formby has 5 pounds of apple!\n"
     ]
    }
   ],
   "source": [
    "d = {\"first\":\"George\",\"surname\":\"Formby\"}\n",
    "print_details(\"5\",**d)"
   ]
  },
  {
   "cell_type": "code",
   "execution_count": 37,
   "metadata": {
    "id": "IyaVPDrqtczV"
   },
   "outputs": [],
   "source": [
    "# We can use the ** operator dictionary applications, e.g.\n",
    "# let's assume we have a dictionary of bills\n",
    "Ergun_Bills = {'Electricity': 100, 'Gas': 120, 'Internet': 90,'Water': 30}\n",
    "Joe_Bills = {'Electricity': 140, 'Gas': 220, 'Internet': 80,'Water': 50}"
   ]
  },
  {
   "cell_type": "code",
   "execution_count": 38,
   "metadata": {
    "id": "IYNlaIdCtczV"
   },
   "outputs": [],
   "source": [
    "def monthly_total(Electricity,Gas,Internet,Water):\n",
    "    return Electricity+Gas+Internet+Water"
   ]
  },
  {
   "cell_type": "code",
   "execution_count": 39,
   "metadata": {
    "id": "hfw2LPBvtczV",
    "outputId": "fbf348ec-8bfd-4cdc-ffbc-07d408e29a39"
   },
   "outputs": [
    {
     "data": {
      "text/plain": [
       "340"
      ]
     },
     "execution_count": 39,
     "metadata": {},
     "output_type": "execute_result"
    }
   ],
   "source": [
    "# monthly_total(Ergun_Bills) ==> FAIL\n",
    "# The correct method is using kwargs\n",
    "monthly_total(**Ergun_Bills)"
   ]
  },
  {
   "cell_type": "code",
   "execution_count": 40,
   "metadata": {
    "id": "MX32NGEZtczV",
    "outputId": "22bfc2b3-a38e-4004-ad06-3b46b778b62d"
   },
   "outputs": [
    {
     "data": {
      "text/plain": [
       "490"
      ]
     },
     "execution_count": 40,
     "metadata": {},
     "output_type": "execute_result"
    }
   ],
   "source": [
    "monthly_total(**Joe_Bills)"
   ]
  },
  {
   "cell_type": "code",
   "execution_count": 41,
   "metadata": {
    "id": "wk53V3DWtczW",
    "outputId": "bf8e3a4c-dd3c-45da-eed6-ec3e4049962b"
   },
   "outputs": [
    {
     "name": "stdout",
     "output_type": "stream",
     "text": [
      "{'Mon': 'Lunedi', 'Tue': 'Martedi', 'Wed': 'Mercelodi', 'Thu': 'Jovedi', 'Fri': 'Venerdi', 'Sat': 'Sabato', 'Sun': 'Domenica'}\n"
     ]
    }
   ],
   "source": [
    "# you can merge dictionaries with **\n",
    "weekdays = {'Mon':'Lunedi','Tue':'Martedi','Wed':'Mercelodi','Thu':'Jovedi','Fri':'Venerdi'}\n",
    "weekendays = {'Sat':'Sabato','Sun':'Domenica'}\n",
    "days = {**weekdays,**weekendays}\n",
    "print(days)"
   ]
  },
  {
   "cell_type": "markdown",
   "metadata": {
    "id": "v6kfjH7UtczW"
   },
   "source": [
    "## Nested functions"
   ]
  },
  {
   "cell_type": "code",
   "execution_count": 42,
   "metadata": {
    "id": "d8tulX9FtczW"
   },
   "outputs": [],
   "source": [
    "# we can create functions within functions:\n",
    "def a():\n",
    "    print(\"1\")\n",
    "    def b():\n",
    "        print(\"2\")\n",
    "    b()"
   ]
  },
  {
   "cell_type": "code",
   "execution_count": 43,
   "metadata": {
    "id": "isU2IpumtczW",
    "outputId": "c811431f-b33e-41ab-9237-8cce202f8b14"
   },
   "outputs": [
    {
     "name": "stdout",
     "output_type": "stream",
     "text": [
      "1\n",
      "2\n"
     ]
    }
   ],
   "source": [
    "a()"
   ]
  },
  {
   "cell_type": "code",
   "execution_count": 44,
   "metadata": {
    "id": "mOn9W8YytczW",
    "outputId": "6f8dbc2f-ee33-409e-8e24-e9efd1de9ad9"
   },
   "outputs": [
    {
     "name": "stdout",
     "output_type": "stream",
     "text": [
      "[1]\n",
      "[2]\n",
      "[3]\n",
      "[4]\n",
      "[4]\n",
      "4\n"
     ]
    }
   ],
   "source": [
    "a = [1] # \"a\" can be declared here\n",
    "for i in 1,2,3,4:\n",
    "    a = [1] # or here.\n",
    "    a[0] = i\n",
    "    print (a)  # 1 ,2 ,3 ,4\n",
    "print (a) # 4\n",
    "print (i)"
   ]
  },
  {
   "cell_type": "code",
   "execution_count": 46,
   "metadata": {
    "id": "hwvrACbGtczW",
    "outputId": "1dd7cc04-1235-424c-d8bd-d45a1dc9f7f7"
   },
   "outputs": [
    {
     "name": "stdout",
     "output_type": "stream",
     "text": [
      "10\n"
     ]
    },
    {
     "ename": "NameError",
     "evalue": "name 'b' is not defined",
     "output_type": "error",
     "traceback": [
      "\u001b[1;31m---------------------------------------------------------------------------\u001b[0m",
      "\u001b[1;31mNameError\u001b[0m                                 Traceback (most recent call last)",
      "Input \u001b[1;32mIn [46]\u001b[0m, in \u001b[0;36m<cell line: 5>\u001b[1;34m()\u001b[0m\n\u001b[0;32m      3\u001b[0m     \u001b[38;5;28mprint\u001b[39m(b)\n\u001b[0;32m      4\u001b[0m a()\n\u001b[1;32m----> 5\u001b[0m \u001b[38;5;28mprint\u001b[39m(\u001b[43mb\u001b[49m)\n",
      "\u001b[1;31mNameError\u001b[0m: name 'b' is not defined"
     ]
    }
   ],
   "source": [
    "def a():\n",
    "    b = 10\n",
    "    print(b)\n",
    "a()\n",
    "print(b) # The second print() will fail."
   ]
  },
  {
   "cell_type": "code",
   "execution_count": 47,
   "metadata": {},
   "outputs": [
    {
     "name": "stdout",
     "output_type": "stream",
     "text": [
      "10\n",
      "10\n"
     ]
    }
   ],
   "source": [
    "# If you need this same function to work may need to define b as a global variable \n",
    "# Global variables can be called outside of the function)\n",
    "def a():\n",
    "    global b\n",
    "    b = 10\n",
    "    print(b)\n",
    "a()\n",
    "print(b) # Will fail. "
   ]
  },
  {
   "cell_type": "code",
   "execution_count": 48,
   "metadata": {
    "id": "-OanOqU-tczW"
   },
   "outputs": [],
   "source": [
    "b = 10\n",
    "def a ():\n",
    "    print(b)"
   ]
  },
  {
   "cell_type": "code",
   "execution_count": 49,
   "metadata": {
    "id": "RR46TqjLtczX",
    "outputId": "f2f76f05-a38b-4695-e8b0-3a1c1075a651"
   },
   "outputs": [
    {
     "name": "stdout",
     "output_type": "stream",
     "text": [
      "10\n",
      "10\n"
     ]
    }
   ],
   "source": [
    "# guess what will happen\n",
    "a()\n",
    "print(b)"
   ]
  },
  {
   "cell_type": "code",
   "execution_count": 50,
   "metadata": {
    "id": "Z_0NLWYDtczX"
   },
   "outputs": [],
   "source": [
    "b = 10\n",
    "def a ():\n",
    "    b = 20\n",
    "    print(b) "
   ]
  },
  {
   "cell_type": "code",
   "execution_count": 51,
   "metadata": {
    "id": "C_8E65aFtczX",
    "outputId": "521392fb-81fd-4261-fcf5-c4b6e9d78b92"
   },
   "outputs": [
    {
     "name": "stdout",
     "output_type": "stream",
     "text": [
      "10\n",
      "20\n",
      "10\n"
     ]
    }
   ],
   "source": [
    "print(b)\n",
    "a()\n",
    "print(b)"
   ]
  },
  {
   "cell_type": "code",
   "execution_count": null,
   "metadata": {
    "id": "LLOsfmaTtczX"
   },
   "outputs": [],
   "source": [
    "# SUGGESTION: Just use different names \n",
    "# if you don't want to worry about current value of your variables"
   ]
  },
  {
   "cell_type": "markdown",
   "metadata": {
    "id": "HoLb6EpytczX"
   },
   "source": [
    "### Global and Nonlocal"
   ]
  },
  {
   "cell_type": "code",
   "execution_count": 52,
   "metadata": {
    "id": "hFefcVKotczX"
   },
   "outputs": [],
   "source": [
    "b = 10\n",
    "def a ():\n",
    "    global b\n",
    "    b = 20\n",
    "    print(b) "
   ]
  },
  {
   "cell_type": "code",
   "execution_count": 53,
   "metadata": {
    "id": "LGRLUM7vtczX",
    "outputId": "66cb6be7-893b-4c08-f9c7-82422de8f2d7"
   },
   "outputs": [
    {
     "name": "stdout",
     "output_type": "stream",
     "text": [
      "10\n",
      "20\n",
      "20\n"
     ]
    }
   ],
   "source": [
    "# what will happen now?\n",
    "print(b)\n",
    "a()\n",
    "print(b) # compare this to previous one"
   ]
  },
  {
   "cell_type": "code",
   "execution_count": 54,
   "metadata": {
    "id": "INVAm6vUtczX"
   },
   "outputs": [],
   "source": [
    "a = 1\n",
    "def f1():\n",
    "    a = 2\n",
    "    def f2():\n",
    "        a = 3\n",
    "        print(a) # Prints 3.\n",
    "    f2()\n",
    "    print(a) # Prints 2 - but we'd like 3."
   ]
  },
  {
   "cell_type": "code",
   "execution_count": 55,
   "metadata": {
    "id": "4Am11SmEtczX",
    "outputId": "0f27de57-3c6c-4bf8-e34f-e27bb6b15b19"
   },
   "outputs": [
    {
     "name": "stdout",
     "output_type": "stream",
     "text": [
      "3\n",
      "2\n",
      "1\n"
     ]
    }
   ],
   "source": [
    "# what will happen now?\n",
    "f1()\n",
    "print(a)"
   ]
  },
  {
   "cell_type": "code",
   "execution_count": 56,
   "metadata": {
    "id": "H3TTr4FttczY"
   },
   "outputs": [],
   "source": [
    "a = 1\n",
    "def f1():\n",
    "    a = 2\n",
    "    def f2():\n",
    "        nonlocal a\n",
    "        a = 3\n",
    "        print(a) # Prints 3.\n",
    "    f2()\n",
    "    print(a) # Prints 3."
   ]
  },
  {
   "cell_type": "code",
   "execution_count": 57,
   "metadata": {
    "id": "287dIULBtczY",
    "outputId": "6da40444-a802-413f-86f3-ee5068b94f23"
   },
   "outputs": [
    {
     "name": "stdout",
     "output_type": "stream",
     "text": [
      "3\n",
      "3\n",
      "1\n"
     ]
    }
   ],
   "source": [
    "f1()\n",
    "print(a)"
   ]
  },
  {
   "cell_type": "markdown",
   "metadata": {
    "id": "8RgvTdxUtczY"
   },
   "source": [
    "### PyDoc \n",
    "PyDoc is the documentation system distributed with Python. "
   ]
  },
  {
   "cell_type": "code",
   "execution_count": 58,
   "metadata": {
    "id": "eTBHhtV-tczY",
    "outputId": "6434aeb1-36db-4cc8-b6a0-bc40841bf641"
   },
   "outputs": [
    {
     "name": "stdout",
     "output_type": "stream",
     "text": [
      "Help on built-in function print in module builtins:\n",
      "\n",
      "print(...)\n",
      "    print(value, ..., sep=' ', end='\\n', file=sys.stdout, flush=False)\n",
      "    \n",
      "    Prints the values to a stream, or to sys.stdout by default.\n",
      "    Optional keyword arguments:\n",
      "    file:  a file-like object (stream); defaults to the current sys.stdout.\n",
      "    sep:   string inserted between values, default a space.\n",
      "    end:   string appended after the last value, default a newline.\n",
      "    flush: whether to forcibly flush the stream.\n",
      "\n"
     ]
    }
   ],
   "source": [
    "help(print)\n",
    "# Can also put the cursor in the function and type \"Shift+Tab\" to get function information."
   ]
  },
  {
   "cell_type": "code",
   "execution_count": 59,
   "metadata": {
    "id": "AtqVkiTGtczY",
    "outputId": "474e5360-74bc-458c-beb6-cea3bc919d9c"
   },
   "outputs": [
    {
     "name": "stdout",
     "output_type": "stream",
     "text": [
      "Return a new list containing all items from the iterable in ascending order.\n",
      "\n",
      "A custom key function can be supplied to customize the sort order, and the\n",
      "reverse flag can be set to request the result in descending order.\n"
     ]
    }
   ],
   "source": [
    "print(sorted.__doc__)"
   ]
  },
  {
   "cell_type": "markdown",
   "metadata": {
    "id": "5cWuplELtczY"
   },
   "source": [
    "# Notebook End"
   ]
  },
  {
   "cell_type": "code",
   "execution_count": null,
   "metadata": {},
   "outputs": [],
   "source": []
  },
  {
   "cell_type": "code",
   "execution_count": null,
   "metadata": {},
   "outputs": [],
   "source": []
  },
  {
   "cell_type": "code",
   "execution_count": null,
   "metadata": {},
   "outputs": [],
   "source": []
  },
  {
   "cell_type": "code",
   "execution_count": null,
   "metadata": {},
   "outputs": [],
   "source": []
  }
 ],
 "metadata": {
  "colab": {
   "collapsed_sections": [
    "5OOmUy07tczQ",
    "Rwvz5OXWtczQ",
    "-mDpojD4tczR",
    "rv6ITF5etczR",
    "IN6DSZidtczS",
    "OsYrTsDztczU",
    "HoLb6EpytczX",
    "8RgvTdxUtczY"
   ],
   "include_colab_link": true,
   "name": "DATA601Lecture02_extra1_Python_Functions.ipynb",
   "provenance": []
  },
  "kernelspec": {
   "display_name": "Python 3 (ipykernel)",
   "language": "python",
   "name": "python3"
  },
  "language_info": {
   "codemirror_mode": {
    "name": "ipython",
    "version": 3
   },
   "file_extension": ".py",
   "mimetype": "text/x-python",
   "name": "python",
   "nbconvert_exporter": "python",
   "pygments_lexer": "ipython3",
   "version": "3.9.12"
  }
 },
 "nbformat": 4,
 "nbformat_minor": 1
}
