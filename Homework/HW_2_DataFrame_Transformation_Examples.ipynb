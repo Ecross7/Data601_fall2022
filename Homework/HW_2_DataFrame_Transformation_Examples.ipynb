{
 "cells": [
  {
   "cell_type": "code",
   "execution_count": 1,
   "id": "181e8205",
   "metadata": {},
   "outputs": [],
   "source": [
    "import numpy as np\n",
    "import pandas as pd"
   ]
  },
  {
   "cell_type": "markdown",
   "id": "f6664592",
   "metadata": {},
   "source": [
    "# Working with Multiple Dataframes and Transforming"
   ]
  },
  {
   "cell_type": "code",
   "execution_count": 2,
   "id": "08098be6",
   "metadata": {},
   "outputs": [
    {
     "data": {
      "text/html": [
       "<div>\n",
       "<style scoped>\n",
       "    .dataframe tbody tr th:only-of-type {\n",
       "        vertical-align: middle;\n",
       "    }\n",
       "\n",
       "    .dataframe tbody tr th {\n",
       "        vertical-align: top;\n",
       "    }\n",
       "\n",
       "    .dataframe thead th {\n",
       "        text-align: right;\n",
       "    }\n",
       "</style>\n",
       "<table border=\"1\" class=\"dataframe\">\n",
       "  <thead>\n",
       "    <tr style=\"text-align: right;\">\n",
       "      <th></th>\n",
       "      <th>0</th>\n",
       "      <th>1</th>\n",
       "    </tr>\n",
       "  </thead>\n",
       "  <tbody>\n",
       "    <tr>\n",
       "      <th>0</th>\n",
       "      <td>500</td>\n",
       "      <td>24</td>\n",
       "    </tr>\n",
       "    <tr>\n",
       "      <th>1</th>\n",
       "      <td>1000</td>\n",
       "      <td>54</td>\n",
       "    </tr>\n",
       "    <tr>\n",
       "      <th>2</th>\n",
       "      <td>1500</td>\n",
       "      <td>56</td>\n",
       "    </tr>\n",
       "    <tr>\n",
       "      <th>3</th>\n",
       "      <td>2000</td>\n",
       "      <td>45</td>\n",
       "    </tr>\n",
       "  </tbody>\n",
       "</table>\n",
       "</div>"
      ],
      "text/plain": [
       "      0   1\n",
       "0   500  24\n",
       "1  1000  54\n",
       "2  1500  56\n",
       "3  2000  45"
      ]
     },
     "execution_count": 2,
     "metadata": {},
     "output_type": "execute_result"
    }
   ],
   "source": [
    "# Sample Dataframe 1.\n",
    "data1 = [[500, 24],[1000,54], [1500,56], [2000,45]]\n",
    "df_1_sample = pd.DataFrame(data = data1)\n",
    "df_1_sample\n",
    "# Note that if we don't specify column names it assigns an integers 0 and 1 (i.e., uses the column index for naming)."
   ]
  },
  {
   "cell_type": "code",
   "execution_count": 3,
   "id": "474e23ef",
   "metadata": {},
   "outputs": [
    {
     "data": {
      "text/html": [
       "<div>\n",
       "<style scoped>\n",
       "    .dataframe tbody tr th:only-of-type {\n",
       "        vertical-align: middle;\n",
       "    }\n",
       "\n",
       "    .dataframe tbody tr th {\n",
       "        vertical-align: top;\n",
       "    }\n",
       "\n",
       "    .dataframe thead th {\n",
       "        text-align: right;\n",
       "    }\n",
       "</style>\n",
       "<table border=\"1\" class=\"dataframe\">\n",
       "  <thead>\n",
       "    <tr style=\"text-align: right;\">\n",
       "      <th></th>\n",
       "      <th>0</th>\n",
       "      <th>1</th>\n",
       "    </tr>\n",
       "  </thead>\n",
       "  <tbody>\n",
       "    <tr>\n",
       "      <th>0</th>\n",
       "      <td>500</td>\n",
       "      <td>23</td>\n",
       "    </tr>\n",
       "    <tr>\n",
       "      <th>1</th>\n",
       "      <td>1000</td>\n",
       "      <td>34</td>\n",
       "    </tr>\n",
       "    <tr>\n",
       "      <th>2</th>\n",
       "      <td>1500</td>\n",
       "      <td>54</td>\n",
       "    </tr>\n",
       "    <tr>\n",
       "      <th>3</th>\n",
       "      <td>2000</td>\n",
       "      <td>32</td>\n",
       "    </tr>\n",
       "  </tbody>\n",
       "</table>\n",
       "</div>"
      ],
      "text/plain": [
       "      0   1\n",
       "0   500  23\n",
       "1  1000  34\n",
       "2  1500  54\n",
       "3  2000  32"
      ]
     },
     "execution_count": 3,
     "metadata": {},
     "output_type": "execute_result"
    }
   ],
   "source": [
    "# Sample Dataframe 2.\n",
    "data2 = [[500, 23],[1000,34], [1500,54], [2000,32]]\n",
    "df_2_sample = pd.DataFrame(data2)\n",
    "df_2_sample"
   ]
  },
  {
   "cell_type": "code",
   "execution_count": 4,
   "id": "ccfefeab",
   "metadata": {},
   "outputs": [
    {
     "data": {
      "text/plain": [
       "[      0   1\n",
       " 0   500  24\n",
       " 1  1000  54\n",
       " 2  1500  56\n",
       " 3  2000  45,\n",
       "       0   1\n",
       " 0   500  23\n",
       " 1  1000  34\n",
       " 2  1500  54\n",
       " 3  2000  32]"
      ]
     },
     "execution_count": 4,
     "metadata": {},
     "output_type": "execute_result"
    }
   ],
   "source": [
    "# I can create a list of the dataframes.\n",
    "df_list = [df_1_sample, df_2_sample]\n",
    "df_list"
   ]
  },
  {
   "cell_type": "code",
   "execution_count": 5,
   "id": "3c7e4cc0",
   "metadata": {},
   "outputs": [
    {
     "data": {
      "text/html": [
       "<div>\n",
       "<style scoped>\n",
       "    .dataframe tbody tr th:only-of-type {\n",
       "        vertical-align: middle;\n",
       "    }\n",
       "\n",
       "    .dataframe tbody tr th {\n",
       "        vertical-align: top;\n",
       "    }\n",
       "\n",
       "    .dataframe thead th {\n",
       "        text-align: right;\n",
       "    }\n",
       "</style>\n",
       "<table border=\"1\" class=\"dataframe\">\n",
       "  <thead>\n",
       "    <tr style=\"text-align: right;\">\n",
       "      <th></th>\n",
       "      <th>0</th>\n",
       "      <th>1</th>\n",
       "    </tr>\n",
       "  </thead>\n",
       "  <tbody>\n",
       "    <tr>\n",
       "      <th>0</th>\n",
       "      <td>500</td>\n",
       "      <td>24</td>\n",
       "    </tr>\n",
       "    <tr>\n",
       "      <th>1</th>\n",
       "      <td>1000</td>\n",
       "      <td>54</td>\n",
       "    </tr>\n",
       "    <tr>\n",
       "      <th>2</th>\n",
       "      <td>1500</td>\n",
       "      <td>56</td>\n",
       "    </tr>\n",
       "    <tr>\n",
       "      <th>3</th>\n",
       "      <td>2000</td>\n",
       "      <td>45</td>\n",
       "    </tr>\n",
       "  </tbody>\n",
       "</table>\n",
       "</div>"
      ],
      "text/plain": [
       "      0   1\n",
       "0   500  24\n",
       "1  1000  54\n",
       "2  1500  56\n",
       "3  2000  45"
      ]
     },
     "execution_count": 5,
     "metadata": {},
     "output_type": "execute_result"
    }
   ],
   "source": [
    "df_list[0] # I can call the data from a dataframe in a list of dataframes."
   ]
  },
  {
   "cell_type": "code",
   "execution_count": 6,
   "id": "cb160d98",
   "metadata": {},
   "outputs": [
    {
     "data": {
      "text/html": [
       "<div>\n",
       "<style scoped>\n",
       "    .dataframe tbody tr th:only-of-type {\n",
       "        vertical-align: middle;\n",
       "    }\n",
       "\n",
       "    .dataframe tbody tr th {\n",
       "        vertical-align: top;\n",
       "    }\n",
       "\n",
       "    .dataframe thead th {\n",
       "        text-align: right;\n",
       "    }\n",
       "</style>\n",
       "<table border=\"1\" class=\"dataframe\">\n",
       "  <thead>\n",
       "    <tr style=\"text-align: right;\">\n",
       "      <th></th>\n",
       "      <th>0</th>\n",
       "      <th>1</th>\n",
       "      <th>col</th>\n",
       "    </tr>\n",
       "  </thead>\n",
       "  <tbody>\n",
       "    <tr>\n",
       "      <th>0</th>\n",
       "      <td>500</td>\n",
       "      <td>24</td>\n",
       "      <td>test50</td>\n",
       "    </tr>\n",
       "    <tr>\n",
       "      <th>1</th>\n",
       "      <td>1000</td>\n",
       "      <td>54</td>\n",
       "      <td>test10</td>\n",
       "    </tr>\n",
       "    <tr>\n",
       "      <th>2</th>\n",
       "      <td>1500</td>\n",
       "      <td>56</td>\n",
       "      <td>test15</td>\n",
       "    </tr>\n",
       "    <tr>\n",
       "      <th>3</th>\n",
       "      <td>2000</td>\n",
       "      <td>45</td>\n",
       "      <td>test20</td>\n",
       "    </tr>\n",
       "  </tbody>\n",
       "</table>\n",
       "</div>"
      ],
      "text/plain": [
       "      0   1     col\n",
       "0   500  24  test50\n",
       "1  1000  54  test10\n",
       "2  1500  56  test15\n",
       "3  2000  45  test20"
      ]
     },
     "execution_count": 6,
     "metadata": {},
     "output_type": "execute_result"
    }
   ],
   "source": [
    "# I can create a derived feature by combining data from one column and strings.\n",
    "df_1_sample['col'] = 'test'+df_1_sample[0].astype(str).str[:2]\n",
    "df_1_sample"
   ]
  },
  {
   "cell_type": "code",
   "execution_count": 7,
   "id": "fb0a5bde",
   "metadata": {},
   "outputs": [
    {
     "data": {
      "text/html": [
       "<div>\n",
       "<style scoped>\n",
       "    .dataframe tbody tr th:only-of-type {\n",
       "        vertical-align: middle;\n",
       "    }\n",
       "\n",
       "    .dataframe tbody tr th {\n",
       "        vertical-align: top;\n",
       "    }\n",
       "\n",
       "    .dataframe thead th {\n",
       "        text-align: right;\n",
       "    }\n",
       "</style>\n",
       "<table border=\"1\" class=\"dataframe\">\n",
       "  <thead>\n",
       "    <tr style=\"text-align: right;\">\n",
       "      <th></th>\n",
       "      <th>col</th>\n",
       "      <th>1</th>\n",
       "    </tr>\n",
       "  </thead>\n",
       "  <tbody>\n",
       "    <tr>\n",
       "      <th>0</th>\n",
       "      <td>test50</td>\n",
       "      <td>24</td>\n",
       "    </tr>\n",
       "    <tr>\n",
       "      <th>1</th>\n",
       "      <td>test10</td>\n",
       "      <td>54</td>\n",
       "    </tr>\n",
       "    <tr>\n",
       "      <th>2</th>\n",
       "      <td>test15</td>\n",
       "      <td>56</td>\n",
       "    </tr>\n",
       "    <tr>\n",
       "      <th>3</th>\n",
       "      <td>test20</td>\n",
       "      <td>45</td>\n",
       "    </tr>\n",
       "  </tbody>\n",
       "</table>\n",
       "</div>"
      ],
      "text/plain": [
       "      col   1\n",
       "0  test50  24\n",
       "1  test10  54\n",
       "2  test15  56\n",
       "3  test20  45"
      ]
     },
     "execution_count": 7,
     "metadata": {},
     "output_type": "execute_result"
    }
   ],
   "source": [
    "# I can drop a column and reorder by selecting specific columns in the order I want and redefining the dataframe variable.\n",
    "# Could also use the df.drop(columns=['col_to_drop']) \n",
    "df_1_sample = df_1_sample[['col', 1]]\n",
    "df_1_sample"
   ]
  },
  {
   "cell_type": "code",
   "execution_count": 8,
   "id": "ec383ff4",
   "metadata": {},
   "outputs": [
    {
     "data": {
      "text/plain": [
       "array(['test50', 'test10', 'test15', 'test20'], dtype=object)"
      ]
     },
     "execution_count": 8,
     "metadata": {},
     "output_type": "execute_result"
    }
   ],
   "source": [
    "# I can extract the column values as an array.\n",
    "df_1_sample['col'].values"
   ]
  },
  {
   "cell_type": "code",
   "execution_count": 9,
   "id": "edd6495c",
   "metadata": {},
   "outputs": [
    {
     "name": "stdout",
     "output_type": "stream",
     "text": [
      "['test50', 'test10', 'test15', 'test20']\n",
      "['test50' 'test10' 'test15' 'test20']\n"
     ]
    }
   ],
   "source": [
    "# I can extract the column values to a list.\n",
    "col_one_list = df_1_sample['col'].tolist()\n",
    "print(col_one_list)\n",
    "# I can extract the column values to a numpy array.\n",
    "col_one_arr = df_1_sample['col'].to_numpy()\n",
    "print(col_one_arr)"
   ]
  },
  {
   "cell_type": "code",
   "execution_count": 10,
   "id": "42c8d143",
   "metadata": {},
   "outputs": [
    {
     "data": {
      "text/html": [
       "<div>\n",
       "<style scoped>\n",
       "    .dataframe tbody tr th:only-of-type {\n",
       "        vertical-align: middle;\n",
       "    }\n",
       "\n",
       "    .dataframe tbody tr th {\n",
       "        vertical-align: top;\n",
       "    }\n",
       "\n",
       "    .dataframe thead th {\n",
       "        text-align: right;\n",
       "    }\n",
       "</style>\n",
       "<table border=\"1\" class=\"dataframe\">\n",
       "  <thead>\n",
       "    <tr style=\"text-align: right;\">\n",
       "      <th></th>\n",
       "      <th>col</th>\n",
       "      <th>1</th>\n",
       "    </tr>\n",
       "  </thead>\n",
       "  <tbody>\n",
       "    <tr>\n",
       "      <th>0</th>\n",
       "      <td>Hello</td>\n",
       "      <td>1</td>\n",
       "    </tr>\n",
       "    <tr>\n",
       "      <th>1</th>\n",
       "      <td>World</td>\n",
       "      <td>3</td>\n",
       "    </tr>\n",
       "    <tr>\n",
       "      <th>2</th>\n",
       "      <td>test50</td>\n",
       "      <td>24</td>\n",
       "    </tr>\n",
       "    <tr>\n",
       "      <th>3</th>\n",
       "      <td>test10</td>\n",
       "      <td>54</td>\n",
       "    </tr>\n",
       "    <tr>\n",
       "      <th>4</th>\n",
       "      <td>test15</td>\n",
       "      <td>56</td>\n",
       "    </tr>\n",
       "    <tr>\n",
       "      <th>5</th>\n",
       "      <td>test20</td>\n",
       "      <td>45</td>\n",
       "    </tr>\n",
       "  </tbody>\n",
       "</table>\n",
       "</div>"
      ],
      "text/plain": [
       "      col   1\n",
       "0   Hello   1\n",
       "1   World   3\n",
       "2  test50  24\n",
       "3  test10  54\n",
       "4  test15  56\n",
       "5  test20  45"
      ]
     },
     "execution_count": 10,
     "metadata": {},
     "output_type": "execute_result"
    }
   ],
   "source": [
    "# I can add new rows by concatenating two dataframes with the same column names.\n",
    "new_data_frame = pd.DataFrame({'col': ['Hello', 'World'],\n",
    "                               1: [1, 3]\n",
    "                              })\n",
    "df_1_sample = pd.concat([new_data_frame, df_1_sample], ignore_index = True)\n",
    "df_1_sample"
   ]
  },
  {
   "cell_type": "code",
   "execution_count": 11,
   "id": "209b0106",
   "metadata": {},
   "outputs": [
    {
     "data": {
      "text/html": [
       "<div>\n",
       "<style scoped>\n",
       "    .dataframe tbody tr th:only-of-type {\n",
       "        vertical-align: middle;\n",
       "    }\n",
       "\n",
       "    .dataframe tbody tr th {\n",
       "        vertical-align: top;\n",
       "    }\n",
       "\n",
       "    .dataframe thead th {\n",
       "        text-align: right;\n",
       "    }\n",
       "</style>\n",
       "<table border=\"1\" class=\"dataframe\">\n",
       "  <thead>\n",
       "    <tr style=\"text-align: right;\">\n",
       "      <th></th>\n",
       "      <th>0</th>\n",
       "      <th>1</th>\n",
       "      <th>2</th>\n",
       "      <th>3</th>\n",
       "      <th>4</th>\n",
       "      <th>5</th>\n",
       "    </tr>\n",
       "  </thead>\n",
       "  <tbody>\n",
       "    <tr>\n",
       "      <th>col</th>\n",
       "      <td>Hello</td>\n",
       "      <td>World</td>\n",
       "      <td>test50</td>\n",
       "      <td>test10</td>\n",
       "      <td>test15</td>\n",
       "      <td>test20</td>\n",
       "    </tr>\n",
       "    <tr>\n",
       "      <th>1</th>\n",
       "      <td>1</td>\n",
       "      <td>3</td>\n",
       "      <td>24</td>\n",
       "      <td>54</td>\n",
       "      <td>56</td>\n",
       "      <td>45</td>\n",
       "    </tr>\n",
       "  </tbody>\n",
       "</table>\n",
       "</div>"
      ],
      "text/plain": [
       "         0      1       2       3       4       5\n",
       "col  Hello  World  test50  test10  test15  test20\n",
       "1        1      3      24      54      56      45"
      ]
     },
     "execution_count": 11,
     "metadata": {},
     "output_type": "execute_result"
    }
   ],
   "source": [
    "df_1_sample.T # Transposing dataframe"
   ]
  },
  {
   "cell_type": "code",
   "execution_count": 12,
   "id": "e21a0d8d",
   "metadata": {},
   "outputs": [
    {
     "data": {
      "text/html": [
       "<div>\n",
       "<style scoped>\n",
       "    .dataframe tbody tr th:only-of-type {\n",
       "        vertical-align: middle;\n",
       "    }\n",
       "\n",
       "    .dataframe tbody tr th {\n",
       "        vertical-align: top;\n",
       "    }\n",
       "\n",
       "    .dataframe thead th {\n",
       "        text-align: right;\n",
       "    }\n",
       "</style>\n",
       "<table border=\"1\" class=\"dataframe\">\n",
       "  <thead>\n",
       "    <tr style=\"text-align: right;\">\n",
       "      <th></th>\n",
       "      <th>0</th>\n",
       "      <th>1</th>\n",
       "      <th>2</th>\n",
       "      <th>3</th>\n",
       "      <th>4</th>\n",
       "      <th>5</th>\n",
       "    </tr>\n",
       "  </thead>\n",
       "  <tbody>\n",
       "    <tr>\n",
       "      <th>0</th>\n",
       "      <td>Hello</td>\n",
       "      <td>World</td>\n",
       "      <td>test50</td>\n",
       "      <td>test10</td>\n",
       "      <td>test15</td>\n",
       "      <td>test20</td>\n",
       "    </tr>\n",
       "    <tr>\n",
       "      <th>1</th>\n",
       "      <td>1</td>\n",
       "      <td>3</td>\n",
       "      <td>24</td>\n",
       "      <td>54</td>\n",
       "      <td>56</td>\n",
       "      <td>45</td>\n",
       "    </tr>\n",
       "  </tbody>\n",
       "</table>\n",
       "</div>"
      ],
      "text/plain": [
       "       0      1       2       3       4       5\n",
       "0  Hello  World  test50  test10  test15  test20\n",
       "1      1      3      24      54      56      45"
      ]
     },
     "execution_count": 12,
     "metadata": {},
     "output_type": "execute_result"
    }
   ],
   "source": [
    "# I can resent index from the transposed dataframe\n",
    "df_1_sample = df_1_sample.T.reset_index(drop = True)\n",
    "df_1_sample"
   ]
  },
  {
   "cell_type": "code",
   "execution_count": 13,
   "id": "87a568ae",
   "metadata": {},
   "outputs": [
    {
     "data": {
      "text/html": [
       "<div>\n",
       "<style scoped>\n",
       "    .dataframe tbody tr th:only-of-type {\n",
       "        vertical-align: middle;\n",
       "    }\n",
       "\n",
       "    .dataframe tbody tr th {\n",
       "        vertical-align: top;\n",
       "    }\n",
       "\n",
       "    .dataframe thead th {\n",
       "        text-align: right;\n",
       "    }\n",
       "</style>\n",
       "<table border=\"1\" class=\"dataframe\">\n",
       "  <thead>\n",
       "    <tr style=\"text-align: right;\">\n",
       "      <th></th>\n",
       "      <th>Hello</th>\n",
       "      <th>World</th>\n",
       "      <th>test50</th>\n",
       "      <th>test10</th>\n",
       "      <th>test15</th>\n",
       "      <th>test20</th>\n",
       "    </tr>\n",
       "  </thead>\n",
       "  <tbody>\n",
       "    <tr>\n",
       "      <th>0</th>\n",
       "      <td>Hello</td>\n",
       "      <td>World</td>\n",
       "      <td>test50</td>\n",
       "      <td>test10</td>\n",
       "      <td>test15</td>\n",
       "      <td>test20</td>\n",
       "    </tr>\n",
       "    <tr>\n",
       "      <th>1</th>\n",
       "      <td>1</td>\n",
       "      <td>3</td>\n",
       "      <td>24</td>\n",
       "      <td>54</td>\n",
       "      <td>56</td>\n",
       "      <td>45</td>\n",
       "    </tr>\n",
       "  </tbody>\n",
       "</table>\n",
       "</div>"
      ],
      "text/plain": [
       "   Hello  World  test50  test10  test15  test20\n",
       "0  Hello  World  test50  test10  test15  test20\n",
       "1      1      3      24      54      56      45"
      ]
     },
     "execution_count": 13,
     "metadata": {},
     "output_type": "execute_result"
    }
   ],
   "source": [
    "# I can rename columns using data from a row.\n",
    "df_1_sample.rename(columns=df_1_sample.iloc[0], inplace = True) \n",
    "df_1_sample"
   ]
  },
  {
   "cell_type": "code",
   "execution_count": 14,
   "id": "c891a85d",
   "metadata": {},
   "outputs": [
    {
     "data": {
      "text/html": [
       "<div>\n",
       "<style scoped>\n",
       "    .dataframe tbody tr th:only-of-type {\n",
       "        vertical-align: middle;\n",
       "    }\n",
       "\n",
       "    .dataframe tbody tr th {\n",
       "        vertical-align: top;\n",
       "    }\n",
       "\n",
       "    .dataframe thead th {\n",
       "        text-align: right;\n",
       "    }\n",
       "</style>\n",
       "<table border=\"1\" class=\"dataframe\">\n",
       "  <thead>\n",
       "    <tr style=\"text-align: right;\">\n",
       "      <th></th>\n",
       "      <th>Hello</th>\n",
       "      <th>World</th>\n",
       "      <th>test50</th>\n",
       "      <th>test10</th>\n",
       "      <th>test15</th>\n",
       "      <th>test20</th>\n",
       "    </tr>\n",
       "  </thead>\n",
       "  <tbody>\n",
       "    <tr>\n",
       "      <th>0</th>\n",
       "      <td>1</td>\n",
       "      <td>3</td>\n",
       "      <td>24</td>\n",
       "      <td>54</td>\n",
       "      <td>56</td>\n",
       "      <td>45</td>\n",
       "    </tr>\n",
       "  </tbody>\n",
       "</table>\n",
       "</div>"
      ],
      "text/plain": [
       "  Hello World test50 test10 test15 test20\n",
       "0     1     3     24     54     56     45"
      ]
     },
     "execution_count": 14,
     "metadata": {},
     "output_type": "execute_result"
    }
   ],
   "source": [
    "# I can drop a row by selecting the other rows.\n",
    "df_1_sample = df_1_sample.iloc[1:].reset_index(drop = True)\n",
    "df_1_sample"
   ]
  },
  {
   "cell_type": "markdown",
   "id": "e83bc202",
   "metadata": {},
   "source": [
    "# Workign with Column Names in Dataframes"
   ]
  },
  {
   "cell_type": "code",
   "execution_count": 15,
   "id": "10984005",
   "metadata": {},
   "outputs": [
    {
     "data": {
      "text/html": [
       "<div>\n",
       "<style scoped>\n",
       "    .dataframe tbody tr th:only-of-type {\n",
       "        vertical-align: middle;\n",
       "    }\n",
       "\n",
       "    .dataframe tbody tr th {\n",
       "        vertical-align: top;\n",
       "    }\n",
       "\n",
       "    .dataframe thead th {\n",
       "        text-align: right;\n",
       "    }\n",
       "</style>\n",
       "<table border=\"1\" class=\"dataframe\">\n",
       "  <thead>\n",
       "    <tr style=\"text-align: right;\">\n",
       "      <th></th>\n",
       "      <th>Val1</th>\n",
       "      <th>Val2</th>\n",
       "      <th>VHS5</th>\n",
       "      <th>VHS6</th>\n",
       "      <th>VHS7</th>\n",
       "    </tr>\n",
       "  </thead>\n",
       "  <tbody>\n",
       "  </tbody>\n",
       "</table>\n",
       "</div>"
      ],
      "text/plain": [
       "Empty DataFrame\n",
       "Columns: [Val1, Val2, VHS5, VHS6, VHS7]\n",
       "Index: []"
      ]
     },
     "execution_count": 15,
     "metadata": {},
     "output_type": "execute_result"
    }
   ],
   "source": [
    "# Empty dataframe with specific columns.\n",
    "data_frame_cols = pd.DataFrame(columns = ['Val1', 'Val2', *['VHS' + str(i) for i in range(5, 8, 1)]])\n",
    "data_frame_cols"
   ]
  },
  {
   "cell_type": "code",
   "execution_count": 16,
   "id": "dd3ca76c",
   "metadata": {},
   "outputs": [
    {
     "data": {
      "text/plain": [
       "array(['Val1', 'Val2', 'VHS5', 'VHS6', 'VHS7'], dtype=object)"
      ]
     },
     "execution_count": 16,
     "metadata": {},
     "output_type": "execute_result"
    }
   ],
   "source": [
    "# Extracting column values from a dataframe.\n",
    "data_frame_cols.columns.values"
   ]
  },
  {
   "cell_type": "code",
   "execution_count": 17,
   "id": "be269a5f",
   "metadata": {},
   "outputs": [],
   "source": [
    "# Extracting column values or feature names.\n",
    "feature_names = data_frame_cols.columns.values"
   ]
  },
  {
   "cell_type": "code",
   "execution_count": 18,
   "id": "d54e34e7",
   "metadata": {},
   "outputs": [],
   "source": [
    "# Defining data values.\n",
    "data_values = ['Hello', 'World', 1, 3, 4]"
   ]
  },
  {
   "cell_type": "code",
   "execution_count": 19,
   "id": "8956dac0",
   "metadata": {},
   "outputs": [
    {
     "data": {
      "text/html": [
       "<div>\n",
       "<style scoped>\n",
       "    .dataframe tbody tr th:only-of-type {\n",
       "        vertical-align: middle;\n",
       "    }\n",
       "\n",
       "    .dataframe tbody tr th {\n",
       "        vertical-align: top;\n",
       "    }\n",
       "\n",
       "    .dataframe thead th {\n",
       "        text-align: right;\n",
       "    }\n",
       "</style>\n",
       "<table border=\"1\" class=\"dataframe\">\n",
       "  <thead>\n",
       "    <tr style=\"text-align: right;\">\n",
       "      <th></th>\n",
       "      <th>Val1</th>\n",
       "      <th>Val2</th>\n",
       "      <th>VHS5</th>\n",
       "      <th>VHS6</th>\n",
       "      <th>VHS7</th>\n",
       "    </tr>\n",
       "  </thead>\n",
       "  <tbody>\n",
       "    <tr>\n",
       "      <th>0</th>\n",
       "      <td>Hello</td>\n",
       "      <td>World</td>\n",
       "      <td>1</td>\n",
       "      <td>3</td>\n",
       "      <td>4</td>\n",
       "    </tr>\n",
       "  </tbody>\n",
       "</table>\n",
       "</div>"
      ],
      "text/plain": [
       "    Val1   Val2  VHS5  VHS6  VHS7\n",
       "0  Hello  World     1     3     4"
      ]
     },
     "execution_count": 19,
     "metadata": {},
     "output_type": "execute_result"
    }
   ],
   "source": [
    "# Creating a dataframe from a list of values \n",
    "data_frame = pd.DataFrame(data = [data_values], columns = feature_names)\n",
    "data_frame"
   ]
  },
  {
   "cell_type": "markdown",
   "id": "c2232116",
   "metadata": {},
   "source": [
    "# Working with Strings and Lists"
   ]
  },
  {
   "cell_type": "code",
   "execution_count": 20,
   "id": "4f075b9c",
   "metadata": {},
   "outputs": [
    {
     "data": {
      "text/plain": [
       "['df_1_sample33', 'df_2_sample33']"
      ]
     },
     "execution_count": 20,
     "metadata": {},
     "output_type": "execute_result"
    }
   ],
   "source": [
    "# Defining a list of strings.\n",
    "df_names = ['df_1_sample33', 'df_2_sample33']\n",
    "df_names"
   ]
  },
  {
   "cell_type": "code",
   "execution_count": 21,
   "id": "83fc70be",
   "metadata": {},
   "outputs": [
    {
     "data": {
      "text/plain": [
       "'df_2_sample33'"
      ]
     },
     "execution_count": 21,
     "metadata": {},
     "output_type": "execute_result"
    }
   ],
   "source": [
    "df_names[1] # Calling element in position 1 from a list of strings."
   ]
  },
  {
   "cell_type": "code",
   "execution_count": 26,
   "id": "e3fa0b07",
   "metadata": {},
   "outputs": [
    {
     "data": {
      "text/plain": [
       "['df', '1', 'sample33']"
      ]
     },
     "execution_count": 26,
     "metadata": {},
     "output_type": "execute_result"
    }
   ],
   "source": [
    "# Splitting an element from a list into another list using a delimiter.\n",
    "df_names_sections = df_names[0].split(\"_\")\n",
    "df_names_sections"
   ]
  },
  {
   "cell_type": "code",
   "execution_count": 23,
   "id": "3dbb0782",
   "metadata": {},
   "outputs": [
    {
     "data": {
      "text/plain": [
       "'1'"
      ]
     },
     "execution_count": 23,
     "metadata": {},
     "output_type": "execute_result"
    }
   ],
   "source": [
    "df_names_sections[1] # Calling a element of a list of strings."
   ]
  },
  {
   "cell_type": "code",
   "execution_count": 24,
   "id": "6cedcd7a",
   "metadata": {},
   "outputs": [
    {
     "data": {
      "text/plain": [
       "'mp'"
      ]
     },
     "execution_count": 24,
     "metadata": {},
     "output_type": "execute_result"
    }
   ],
   "source": [
    "df_names_sections[2][2:4] # Selecting partial string within element 2."
   ]
  },
  {
   "cell_type": "code",
   "execution_count": 25,
   "id": "2c942f5e",
   "metadata": {},
   "outputs": [
    {
     "data": {
      "text/plain": [
       "'33'"
      ]
     },
     "execution_count": 25,
     "metadata": {},
     "output_type": "execute_result"
    }
   ],
   "source": [
    "df_names_sections[2][-2:] # Selecting the last two characters from element 2."
   ]
  },
  {
   "cell_type": "markdown",
   "id": "b2f41948",
   "metadata": {},
   "source": [
    "# Notebook End"
   ]
  },
  {
   "cell_type": "code",
   "execution_count": null,
   "id": "2d0813f5",
   "metadata": {},
   "outputs": [],
   "source": []
  },
  {
   "cell_type": "code",
   "execution_count": null,
   "id": "cd4a349b",
   "metadata": {},
   "outputs": [],
   "source": []
  },
  {
   "cell_type": "code",
   "execution_count": null,
   "id": "aad9f206",
   "metadata": {},
   "outputs": [],
   "source": []
  }
 ],
 "metadata": {
  "kernelspec": {
   "display_name": "Python 3 (ipykernel)",
   "language": "python",
   "name": "python3"
  },
  "language_info": {
   "codemirror_mode": {
    "name": "ipython",
    "version": 3
   },
   "file_extension": ".py",
   "mimetype": "text/x-python",
   "name": "python",
   "nbconvert_exporter": "python",
   "pygments_lexer": "ipython3",
   "version": "3.9.12"
  }
 },
 "nbformat": 4,
 "nbformat_minor": 5
}
