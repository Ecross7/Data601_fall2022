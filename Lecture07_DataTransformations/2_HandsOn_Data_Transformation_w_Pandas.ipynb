{
 "cells": [
  {
   "cell_type": "markdown",
   "metadata": {
    "colab_type": "text",
    "id": "view-in-github"
   },
   "source": [
    "<a href=\"https://colab.research.google.com/github/simsekergun/DATA601/blob/main/Lecture08_DataTransformations/HandsOn_Data_Transformation_w_Pandas.ipynb\" target=\"_parent\"><img src=\"https://colab.research.google.com/assets/colab-badge.svg\" alt=\"Open In Colab\"/></a>"
   ]
  },
  {
   "cell_type": "code",
   "execution_count": null,
   "metadata": {
    "id": "J14SyUOA6ySg"
   },
   "outputs": [],
   "source": [
    "import pandas as pd\n",
    "import numpy as np\n",
    "import matplotlib.pyplot as plt"
   ]
  },
  {
   "cell_type": "markdown",
   "metadata": {
    "id": "9cAB8yJd648f"
   },
   "source": [
    "### NYC FLIGHTS DATASET\n",
    "- <b>year, month, day:</b> Date of departure.\n",
    "- <b>dep_time, arr_time:</b> Actual departure and arrival times (format HHMM or HMM), local tz.\n",
    "- <b>sched_dep_time, sched_arr_time:</b> Scheduled departure and arrival times (format HHMM or HMM), local time-zone.\n",
    "- <b>dep_delay, arr_delay:</b> Departure and arrival delays, in minutes. Negative times represent early departures/arrivals.\n",
    "- <b>carrier:</b> Two letter carrier abbreviation. \n",
    "- <b>flight:</b> Flight number.\n",
    "- <b>tailnum:</b> identification number of an aircraft painted on its tail\n",
    "- <b>origin, dest:</b> Origin and destination.\n",
    "- <b>air_time:</b> Amount of time spent in the air, in minutes.\n",
    "- <b>distance:</b> Distance between airports, in miles.\n",
    "- <b>hour, minute:</b> Time of scheduled departure broken into hour and minutes.\n",
    "- <b>time_hour:</b> Scheduled date and hour of the flight as a POSIXct date."
   ]
  },
  {
   "cell_type": "code",
   "execution_count": null,
   "metadata": {
    "id": "gm2YyenR62Ms"
   },
   "outputs": [],
   "source": [
    "flights = pd.read_csv('https://raw.githubusercontent.com/mguner/teaching/main/datasets/nyc_flights/nyc_flights.csv')"
   ]
  }
 ],
 "metadata": {
  "colab": {
   "authorship_tag": "ABX9TyN7GTr+pwhevE9UDXtsCUWg",
   "include_colab_link": true,
   "name": "HandsOn_Data_Transformation_w_Pandas.ipynb",
   "provenance": []
  },
  "kernelspec": {
   "display_name": "Python 3 (ipykernel)",
   "language": "python",
   "name": "python3"
  },
  "language_info": {
   "codemirror_mode": {
    "name": "ipython",
    "version": 3
   },
   "file_extension": ".py",
   "mimetype": "text/x-python",
   "name": "python",
   "nbconvert_exporter": "python",
   "pygments_lexer": "ipython3",
   "version": "3.9.12"
  }
 },
 "nbformat": 4,
 "nbformat_minor": 1
}
