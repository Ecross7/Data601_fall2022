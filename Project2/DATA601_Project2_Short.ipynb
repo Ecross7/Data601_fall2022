{
 "cells": [
  {
   "cell_type": "markdown",
   "id": "62b2ec75",
   "metadata": {
    "colab_type": "text",
    "id": "view-in-github"
   },
   "source": [
    "<a href=\"https://colab.research.google.com/github/simsekergun/DATA601/blob/main/Project2/DATA601_Project2.ipynb\" target=\"_parent\"><img src=\"https://colab.research.google.com/assets/colab-badge.svg\" alt=\"Open In Colab\"/></a>"
   ]
  },
  {
   "cell_type": "markdown",
   "id": "e9c9c488-f088-4c9f-88c1-456387d6d39f",
   "metadata": {
    "id": "e9c9c488-f088-4c9f-88c1-456387d6d39f"
   },
   "source": [
    "## DATA 601 Project-2\n",
    "Due date: TBD. 23:59 pm.<br>\n",
    "\n",
    "For your second project, you will be working on the flights dataset that we used earlier. <br>\n",
    "We have 5 csv files and 5 Excel files. You can learn more about the content of the csv files at <br>\n",
    "https://cran.r-project.org/web/packages/nycflights13/nycflights13.pdf\n",
    "<br>\n",
    "<br> FILES (See Project2 dataset folder) </b>\n",
    "* flights2DCMDVA.xlsx (Note that this is a smaller version of the original NYCflights13.csv data) <br>\n",
    "* airlines.csv <br>\n",
    "* airports.csv <br>\n",
    "* planes.csv <br>\n",
    "* weatherNYhourly.csv (NY daily weather)<br>\n",
    "* weatherMDdaily.xlsx (MD daily temperature/precip/snow data) <br>\n",
    "* weatherNYdaily.xlsx (NY daily temperature/precip/snow data) <br>\n",
    "* federal-holidays-2013.xlsx <br>\n",
    "* flights_test_data.xlsx (only needed for Q4 and Q5)<br>"
   ]
  },
  {
   "cell_type": "markdown",
   "id": "52e9209a-dc87-409c-b7cb-684e7c09b795",
   "metadata": {
    "id": "52e9209a-dc87-409c-b7cb-684e7c09b795"
   },
   "source": [
    "We are only interested in flights from NY to three local airports:\n",
    "* IAD: Dulles International Airport\n",
    "* BWI: Baltimore/Washington International Thurgood Marshall Airport\n",
    "* DCA: Ronald Reagan Washington National Airport"
   ]
  },
  {
   "cell_type": "markdown",
   "id": "0551513f-58a4-4412-b87f-8db1db0e8290",
   "metadata": {
    "id": "0551513f-58a4-4412-b87f-8db1db0e8290"
   },
   "source": [
    "After carrying out EDA, please work on the following questions. Use Markdown to create a report like Notebook. <br> \n",
    "\n",
    "The report should include\n",
    "* Names of the student, Title of the project (e.g. DATA 601 | Project 2| NY-DC/MD/VA Flights), and date\n",
    "* Table of Contents to introduction and each Question/Task.\n",
    "* A brief introduction\n",
    "* Clear answers to the questions including images as needed."
   ]
  },
  {
   "cell_type": "markdown",
   "id": "7ef2a0a4-56f1-4907-8087-ffb1965cbee1",
   "metadata": {
    "id": "7ef2a0a4-56f1-4907-8087-ffb1965cbee1"
   },
   "source": [
    "Answer the following questions or complete the tasks <br>\n",
    "\n",
    "#### Question/Task 1\n",
    "a. Calculate the total number of seats for all the planned flights for each destination separately? <br>\n",
    "b. What is the day of the year with the highest number of flights? <br>\n",
    "c. What is the day of the year with the highest number of seats available on that day? <br>\n",
    "\n",
    "#### Question/Task 2\n",
    "a. What day of the year most cancellations happened? <br>\n",
    "b. What is the total number of seats for the cancelled flights? If we assume the average flight price of $50, what is the total economis loss? <br>\n",
    "c. Determine the ratio of cancelled flights/planned flights for each airline company, list it, and determine the most and least reliable airline company (most reliable = the one that has the smallest ratio of cancelled/planned)<br>\n",
    "\n",
    "For the next group of questions/tasks, do not include the cancelled flights.\n",
    "\n",
    "#### Question/Task 3\n",
    "a. Calculate the average arrival delay for all the flights for each arrival airport (e.g. IAD, DCA, and BWI) and determine most and least reliables (most reliable = the one that has the shortest average delay)<br>\n",
    "b. Calculate the average arrival delay for all the airlines and determine most and least reliables (most reliable = the one that has the shortest average delay) <br>\n",
    "c. What day of the week we had the highest average delay?<br>\n",
    "\n",
    "#### Question/Task 4\n",
    "Build a linear regression model to estimate the arrival delay of the flights given in \"fligts_test_data.xlsx\". Note that you have the full autorithy to decide what columns, what datasets (among the given datasets) to work with. Please explain how you build the LR model and eloborate on its accuracy."
   ]
  },
  {
   "cell_type": "markdown",
   "id": "98d35982-92a8-4c6c-b0e2-00a660d2f85c",
   "metadata": {
    "id": "98d35982-92a8-4c6c-b0e2-00a660d2f85c"
   },
   "source": [
    "# Notebook End"
   ]
  },
  {
   "cell_type": "code",
   "execution_count": null,
   "id": "8f869087",
   "metadata": {},
   "outputs": [],
   "source": []
  },
  {
   "cell_type": "code",
   "execution_count": null,
   "id": "f78d6ae6",
   "metadata": {},
   "outputs": [],
   "source": []
  },
  {
   "cell_type": "code",
   "execution_count": null,
   "id": "6906b384",
   "metadata": {},
   "outputs": [],
   "source": []
  }
 ],
 "metadata": {
  "colab": {
   "include_colab_link": true,
   "name": "DATA601_Project2.ipynb",
   "provenance": []
  },
  "kernelspec": {
   "display_name": "Python 3 (ipykernel)",
   "language": "python",
   "name": "python3"
  },
  "language_info": {
   "codemirror_mode": {
    "name": "ipython",
    "version": 3
   },
   "file_extension": ".py",
   "mimetype": "text/x-python",
   "name": "python",
   "nbconvert_exporter": "python",
   "pygments_lexer": "ipython3",
   "version": "3.9.12"
  }
 },
 "nbformat": 4,
 "nbformat_minor": 5
}
