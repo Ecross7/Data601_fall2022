{
 "cells": [
  {
   "cell_type": "markdown",
   "metadata": {
    "colab_type": "text",
    "id": "view-in-github"
   },
   "source": [
    "<a href=\"https://colab.research.google.com/github/simsekergun/DATA601/blob/main/Lecture04_Pandas/DATA601_Pandas_Example.ipynb\" target=\"_parent\"><img src=\"https://colab.research.google.com/assets/colab-badge.svg\" alt=\"Open In Colab\"/></a>"
   ]
  },
  {
   "cell_type": "code",
   "execution_count": 1,
   "metadata": {
    "colab": {
     "base_uri": "https://localhost:8080/"
    },
    "id": "zbkZ1A8hcEj8",
    "outputId": "a3aee5c1-e7dc-4b79-fd74-9bf52ab6fcc5"
   },
   "outputs": [
    {
     "name": "stdout",
     "output_type": "stream",
     "text": [
      "Pandas 1.4.2\n"
     ]
    }
   ],
   "source": [
    "import pandas\n",
    "print('Pandas',pandas.__version__)"
   ]
  },
  {
   "cell_type": "code",
   "execution_count": 2,
   "metadata": {
    "colab": {
     "base_uri": "https://localhost:8080/"
    },
    "id": "HOrAypc-cEkA",
    "outputId": "a5adb15a-5ece-4e4a-8114-529830973355"
   },
   "outputs": [
    {
     "name": "stdout",
     "output_type": "stream",
     "text": [
      "  This data set is created from other datasets by selecting some random columns.  \\\n",
      "0                                               Date                               \n",
      "1                                            10/5/13                               \n",
      "2                                            10/9/13                               \n",
      "3                                            12/5/13                               \n",
      "4                                             1/2/14                               \n",
      "\n",
      "  Unnamed: 1     Unnamed: 2 Unnamed: 3 Unnamed: 4          Unnamed: 5  \\\n",
      "0       Time      FirstName   LastName        Sex    Favourite Artist   \n",
      "1    7:30 AM           John        Doe          M    \"Jack Nicholson\"   \n",
      "2    8:00 AM           Jack   McGinnis          M   \"Roberto Benigni\"   \n",
      "3    8:30 AM  John \"Da Man\"     Repici          M      \"Kevin Spacey\"   \n",
      "4    9:00 AM        Stephen      Tyler          M     \"Russell Crowe\"   \n",
      "\n",
      "   Unnamed: 6                       Unnamed: 7             Unnamed: 8  \\\n",
      "0         NaN               Fav. Park Location  Home Address (Street)   \n",
      "1         NaN  (40.9099922695, -73.2632063245)           3526 HIGH ST   \n",
      "2         NaN  (40.9099922695, -73.2632063245)            51 OMAHA CT   \n",
      "3         NaN  (40.9099922695, -73.2632063245)         2796 BRANCH ST   \n",
      "4         NaN  (43.3616709338, -76.4360441829)       2805 JANETTE WAY   \n",
      "\n",
      "  Unnamed: 9    Unnamed: 10 Unnamed: 11 Unnamed: 12 Unnamed: 13 Unnamed: 14  \\\n",
      "0     Region         \"City\"     \"State\"       \"Age\"    \"Weight\"       \"BMI\"   \n",
      "1          9   \"Youngstown\"          OH          60          59       22.02   \n",
      "2          9      \"Yankton\"          SD          12          86        19.7   \n",
      "3          9       \"Yakima\"          WA          41          69       24.09   \n",
      "4          5    \"Worcester\"          MA          22          88       26.97   \n",
      "\n",
      "  Unnamed: 15 Unnamed: 16  \n",
      "0    Complete        Type  \n",
      "1      85.50%           1  \n",
      "2      85.50%           1  \n",
      "3         73%           1  \n",
      "4         27%           1  \n"
     ]
    }
   ],
   "source": [
    "# local file ==> df = pandas.read_csv('sample_dataset.csv')\n",
    "url = 'https://raw.githubusercontent.com/fgonzaleumbc/Data601_fall2022/main/Datasets/sample_dataset.csv'\n",
    "df = pandas.read_csv(url)\n",
    "print(df.head(5))"
   ]
  },
  {
   "cell_type": "code",
   "execution_count": 3,
   "metadata": {
    "id": "u8N-WI54cEkA"
   },
   "outputs": [],
   "source": [
    "# If you get an error message simply because the CSV file was large\n",
    "# try reading that csv with the following command\n",
    "df = pandas.read_csv(url, low_memory=False)"
   ]
  },
  {
   "cell_type": "code",
   "execution_count": 4,
   "metadata": {
    "colab": {
     "base_uri": "https://localhost:8080/"
    },
    "id": "PKFADydRcEkB",
    "outputId": "92c7601a-b844-4f6f-9e4c-aa34596eadc1"
   },
   "outputs": [
    {
     "data": {
      "text/plain": [
       "(18, 17)"
      ]
     },
     "execution_count": 4,
     "metadata": {},
     "output_type": "execute_result"
    }
   ],
   "source": [
    "# dimensions of the dataset\n",
    "df.shape"
   ]
  },
  {
   "cell_type": "code",
   "execution_count": 5,
   "metadata": {
    "colab": {
     "base_uri": "https://localhost:8080/",
     "height": 600
    },
    "id": "N5jHkuy9cEkB",
    "outputId": "c75b1d1e-3232-43a3-8291-e1dbab85697a"
   },
   "outputs": [
    {
     "data": {
      "text/html": [
       "<div>\n",
       "<style scoped>\n",
       "    .dataframe tbody tr th:only-of-type {\n",
       "        vertical-align: middle;\n",
       "    }\n",
       "\n",
       "    .dataframe tbody tr th {\n",
       "        vertical-align: top;\n",
       "    }\n",
       "\n",
       "    .dataframe thead th {\n",
       "        text-align: right;\n",
       "    }\n",
       "</style>\n",
       "<table border=\"1\" class=\"dataframe\">\n",
       "  <thead>\n",
       "    <tr style=\"text-align: right;\">\n",
       "      <th></th>\n",
       "      <th>This data set is created from other datasets by selecting some random columns.</th>\n",
       "      <th>Unnamed: 1</th>\n",
       "      <th>Unnamed: 2</th>\n",
       "      <th>Unnamed: 3</th>\n",
       "      <th>Unnamed: 4</th>\n",
       "      <th>Unnamed: 5</th>\n",
       "      <th>Unnamed: 6</th>\n",
       "      <th>Unnamed: 7</th>\n",
       "      <th>Unnamed: 8</th>\n",
       "      <th>Unnamed: 9</th>\n",
       "      <th>Unnamed: 10</th>\n",
       "      <th>Unnamed: 11</th>\n",
       "      <th>Unnamed: 12</th>\n",
       "      <th>Unnamed: 13</th>\n",
       "      <th>Unnamed: 14</th>\n",
       "      <th>Unnamed: 15</th>\n",
       "      <th>Unnamed: 16</th>\n",
       "    </tr>\n",
       "  </thead>\n",
       "  <tbody>\n",
       "    <tr>\n",
       "      <th>0</th>\n",
       "      <td>Date</td>\n",
       "      <td>Time</td>\n",
       "      <td>FirstName</td>\n",
       "      <td>LastName</td>\n",
       "      <td>Sex</td>\n",
       "      <td>Favourite Artist</td>\n",
       "      <td>NaN</td>\n",
       "      <td>Fav. Park Location</td>\n",
       "      <td>Home Address (Street)</td>\n",
       "      <td>Region</td>\n",
       "      <td>\"City\"</td>\n",
       "      <td>\"State\"</td>\n",
       "      <td>\"Age\"</td>\n",
       "      <td>\"Weight\"</td>\n",
       "      <td>\"BMI\"</td>\n",
       "      <td>Complete</td>\n",
       "      <td>Type</td>\n",
       "    </tr>\n",
       "    <tr>\n",
       "      <th>1</th>\n",
       "      <td>10/5/13</td>\n",
       "      <td>7:30 AM</td>\n",
       "      <td>John</td>\n",
       "      <td>Doe</td>\n",
       "      <td>M</td>\n",
       "      <td>\"Jack Nicholson\"</td>\n",
       "      <td>NaN</td>\n",
       "      <td>(40.9099922695, -73.2632063245)</td>\n",
       "      <td>3526 HIGH ST</td>\n",
       "      <td>9</td>\n",
       "      <td>\"Youngstown\"</td>\n",
       "      <td>OH</td>\n",
       "      <td>60</td>\n",
       "      <td>59</td>\n",
       "      <td>22.02</td>\n",
       "      <td>85.50%</td>\n",
       "      <td>1</td>\n",
       "    </tr>\n",
       "    <tr>\n",
       "      <th>2</th>\n",
       "      <td>10/9/13</td>\n",
       "      <td>8:00 AM</td>\n",
       "      <td>Jack</td>\n",
       "      <td>McGinnis</td>\n",
       "      <td>M</td>\n",
       "      <td>\"Roberto Benigni\"</td>\n",
       "      <td>NaN</td>\n",
       "      <td>(40.9099922695, -73.2632063245)</td>\n",
       "      <td>51 OMAHA CT</td>\n",
       "      <td>9</td>\n",
       "      <td>\"Yankton\"</td>\n",
       "      <td>SD</td>\n",
       "      <td>12</td>\n",
       "      <td>86</td>\n",
       "      <td>19.7</td>\n",
       "      <td>85.50%</td>\n",
       "      <td>1</td>\n",
       "    </tr>\n",
       "    <tr>\n",
       "      <th>3</th>\n",
       "      <td>12/5/13</td>\n",
       "      <td>8:30 AM</td>\n",
       "      <td>John \"Da Man\"</td>\n",
       "      <td>Repici</td>\n",
       "      <td>M</td>\n",
       "      <td>\"Kevin Spacey\"</td>\n",
       "      <td>NaN</td>\n",
       "      <td>(40.9099922695, -73.2632063245)</td>\n",
       "      <td>2796 BRANCH ST</td>\n",
       "      <td>9</td>\n",
       "      <td>\"Yakima\"</td>\n",
       "      <td>WA</td>\n",
       "      <td>41</td>\n",
       "      <td>69</td>\n",
       "      <td>24.09</td>\n",
       "      <td>73%</td>\n",
       "      <td>1</td>\n",
       "    </tr>\n",
       "    <tr>\n",
       "      <th>4</th>\n",
       "      <td>1/2/14</td>\n",
       "      <td>9:00 AM</td>\n",
       "      <td>Stephen</td>\n",
       "      <td>Tyler</td>\n",
       "      <td>M</td>\n",
       "      <td>\"Russell Crowe\"</td>\n",
       "      <td>NaN</td>\n",
       "      <td>(43.3616709338, -76.4360441829)</td>\n",
       "      <td>2805 JANETTE WAY</td>\n",
       "      <td>5</td>\n",
       "      <td>\"Worcester\"</td>\n",
       "      <td>MA</td>\n",
       "      <td>22</td>\n",
       "      <td>88</td>\n",
       "      <td>26.97</td>\n",
       "      <td>27%</td>\n",
       "      <td>1</td>\n",
       "    </tr>\n",
       "  </tbody>\n",
       "</table>\n",
       "</div>"
      ],
      "text/plain": [
       "  This data set is created from other datasets by selecting some random columns.  \\\n",
       "0                                               Date                               \n",
       "1                                            10/5/13                               \n",
       "2                                            10/9/13                               \n",
       "3                                            12/5/13                               \n",
       "4                                             1/2/14                               \n",
       "\n",
       "  Unnamed: 1     Unnamed: 2 Unnamed: 3 Unnamed: 4          Unnamed: 5  \\\n",
       "0       Time      FirstName   LastName        Sex    Favourite Artist   \n",
       "1    7:30 AM           John        Doe          M    \"Jack Nicholson\"   \n",
       "2    8:00 AM           Jack   McGinnis          M   \"Roberto Benigni\"   \n",
       "3    8:30 AM  John \"Da Man\"     Repici          M      \"Kevin Spacey\"   \n",
       "4    9:00 AM        Stephen      Tyler          M     \"Russell Crowe\"   \n",
       "\n",
       "   Unnamed: 6                       Unnamed: 7             Unnamed: 8  \\\n",
       "0         NaN               Fav. Park Location  Home Address (Street)   \n",
       "1         NaN  (40.9099922695, -73.2632063245)           3526 HIGH ST   \n",
       "2         NaN  (40.9099922695, -73.2632063245)            51 OMAHA CT   \n",
       "3         NaN  (40.9099922695, -73.2632063245)         2796 BRANCH ST   \n",
       "4         NaN  (43.3616709338, -76.4360441829)       2805 JANETTE WAY   \n",
       "\n",
       "  Unnamed: 9    Unnamed: 10 Unnamed: 11 Unnamed: 12 Unnamed: 13 Unnamed: 14  \\\n",
       "0     Region         \"City\"     \"State\"       \"Age\"    \"Weight\"       \"BMI\"   \n",
       "1          9   \"Youngstown\"          OH          60          59       22.02   \n",
       "2          9      \"Yankton\"          SD          12          86        19.7   \n",
       "3          9       \"Yakima\"          WA          41          69       24.09   \n",
       "4          5    \"Worcester\"          MA          22          88       26.97   \n",
       "\n",
       "  Unnamed: 15 Unnamed: 16  \n",
       "0    Complete        Type  \n",
       "1      85.50%           1  \n",
       "2      85.50%           1  \n",
       "3         73%           1  \n",
       "4         27%           1  "
      ]
     },
     "execution_count": 5,
     "metadata": {},
     "output_type": "execute_result"
    }
   ],
   "source": [
    "# let's look at the first rows \n",
    "df.head()"
   ]
  },
  {
   "cell_type": "code",
   "execution_count": 6,
   "metadata": {
    "id": "OOXfbxVkcEkC"
   },
   "outputs": [],
   "source": [
    "# the first line is a comment. we need to skip data row.\n",
    "df = pandas.read_csv(url, skiprows=1, low_memory=False)"
   ]
  },
  {
   "cell_type": "code",
   "execution_count": 7,
   "metadata": {
    "colab": {
     "base_uri": "https://localhost:8080/"
    },
    "id": "0f1cmVX7cEkC",
    "outputId": "1d80032d-cb9f-4da4-cb22-e67c497a8502"
   },
   "outputs": [
    {
     "data": {
      "text/plain": [
       "(17, 17)"
      ]
     },
     "execution_count": 7,
     "metadata": {},
     "output_type": "execute_result"
    }
   ],
   "source": [
    "df.shape"
   ]
  },
  {
   "cell_type": "code",
   "execution_count": 8,
   "metadata": {
    "colab": {
     "base_uri": "https://localhost:8080/",
     "height": 443
    },
    "id": "XSqIJvaQcEkD",
    "outputId": "6d550e61-7a1d-480a-e22d-755b157a3380"
   },
   "outputs": [
    {
     "data": {
      "text/html": [
       "<div>\n",
       "<style scoped>\n",
       "    .dataframe tbody tr th:only-of-type {\n",
       "        vertical-align: middle;\n",
       "    }\n",
       "\n",
       "    .dataframe tbody tr th {\n",
       "        vertical-align: top;\n",
       "    }\n",
       "\n",
       "    .dataframe thead th {\n",
       "        text-align: right;\n",
       "    }\n",
       "</style>\n",
       "<table border=\"1\" class=\"dataframe\">\n",
       "  <thead>\n",
       "    <tr style=\"text-align: right;\">\n",
       "      <th></th>\n",
       "      <th>Date</th>\n",
       "      <th>Time</th>\n",
       "      <th>FirstName</th>\n",
       "      <th>LastName</th>\n",
       "      <th>Sex</th>\n",
       "      <th>Favourite Artist</th>\n",
       "      <th>Unnamed: 6</th>\n",
       "      <th>Fav. Park Location</th>\n",
       "      <th>Home Address (Street)</th>\n",
       "      <th>Region</th>\n",
       "      <th>\"City\"</th>\n",
       "      <th>\"State\"</th>\n",
       "      <th>\"Age\"</th>\n",
       "      <th>\"Weight\"</th>\n",
       "      <th>\"BMI\"</th>\n",
       "      <th>Complete</th>\n",
       "      <th>Type</th>\n",
       "    </tr>\n",
       "  </thead>\n",
       "  <tbody>\n",
       "    <tr>\n",
       "      <th>0</th>\n",
       "      <td>10/5/13</td>\n",
       "      <td>7:30 AM</td>\n",
       "      <td>John</td>\n",
       "      <td>Doe</td>\n",
       "      <td>M</td>\n",
       "      <td>\"Jack Nicholson\"</td>\n",
       "      <td>NaN</td>\n",
       "      <td>(40.9099922695, -73.2632063245)</td>\n",
       "      <td>3526 HIGH ST</td>\n",
       "      <td>9.0</td>\n",
       "      <td>\"Youngstown\"</td>\n",
       "      <td>OH</td>\n",
       "      <td>60.0</td>\n",
       "      <td>59.0</td>\n",
       "      <td>22.02</td>\n",
       "      <td>85.50%</td>\n",
       "      <td>1.0</td>\n",
       "    </tr>\n",
       "    <tr>\n",
       "      <th>1</th>\n",
       "      <td>10/9/13</td>\n",
       "      <td>8:00 AM</td>\n",
       "      <td>Jack</td>\n",
       "      <td>McGinnis</td>\n",
       "      <td>M</td>\n",
       "      <td>\"Roberto Benigni\"</td>\n",
       "      <td>NaN</td>\n",
       "      <td>(40.9099922695, -73.2632063245)</td>\n",
       "      <td>51 OMAHA CT</td>\n",
       "      <td>9.0</td>\n",
       "      <td>\"Yankton\"</td>\n",
       "      <td>SD</td>\n",
       "      <td>12.0</td>\n",
       "      <td>86.0</td>\n",
       "      <td>19.70</td>\n",
       "      <td>85.50%</td>\n",
       "      <td>1.0</td>\n",
       "    </tr>\n",
       "    <tr>\n",
       "      <th>2</th>\n",
       "      <td>12/5/13</td>\n",
       "      <td>8:30 AM</td>\n",
       "      <td>John \"Da Man\"</td>\n",
       "      <td>Repici</td>\n",
       "      <td>M</td>\n",
       "      <td>\"Kevin Spacey\"</td>\n",
       "      <td>NaN</td>\n",
       "      <td>(40.9099922695, -73.2632063245)</td>\n",
       "      <td>2796 BRANCH ST</td>\n",
       "      <td>9.0</td>\n",
       "      <td>\"Yakima\"</td>\n",
       "      <td>WA</td>\n",
       "      <td>41.0</td>\n",
       "      <td>69.0</td>\n",
       "      <td>24.09</td>\n",
       "      <td>73%</td>\n",
       "      <td>1.0</td>\n",
       "    </tr>\n",
       "    <tr>\n",
       "      <th>3</th>\n",
       "      <td>1/2/14</td>\n",
       "      <td>9:00 AM</td>\n",
       "      <td>Stephen</td>\n",
       "      <td>Tyler</td>\n",
       "      <td>M</td>\n",
       "      <td>\"Russell Crowe\"</td>\n",
       "      <td>NaN</td>\n",
       "      <td>(43.3616709338, -76.4360441829)</td>\n",
       "      <td>2805 JANETTE WAY</td>\n",
       "      <td>5.0</td>\n",
       "      <td>\"Worcester\"</td>\n",
       "      <td>MA</td>\n",
       "      <td>22.0</td>\n",
       "      <td>88.0</td>\n",
       "      <td>26.97</td>\n",
       "      <td>27%</td>\n",
       "      <td>1.0</td>\n",
       "    </tr>\n",
       "    <tr>\n",
       "      <th>4</th>\n",
       "      <td>6/5/14</td>\n",
       "      <td>9:30 AM</td>\n",
       "      <td>NaN</td>\n",
       "      <td>Blankman</td>\n",
       "      <td>F</td>\n",
       "      <td>\"Denzel Washington\"</td>\n",
       "      <td>NaN</td>\n",
       "      <td>(42.9657659397, -78.9531063633)</td>\n",
       "      <td>6001 MCMAHON DR</td>\n",
       "      <td>1.0</td>\n",
       "      <td>\"Arlington\"</td>\n",
       "      <td>VA</td>\n",
       "      <td>5.0</td>\n",
       "      <td>64.0</td>\n",
       "      <td>21.51</td>\n",
       "      <td>78.30%</td>\n",
       "      <td>1.0</td>\n",
       "    </tr>\n",
       "  </tbody>\n",
       "</table>\n",
       "</div>"
      ],
      "text/plain": [
       "      Date     Time      FirstName  LastName Sex      Favourite Artist  \\\n",
       "0  10/5/13  7:30 AM           John       Doe   M      \"Jack Nicholson\"   \n",
       "1  10/9/13  8:00 AM           Jack  McGinnis   M     \"Roberto Benigni\"   \n",
       "2  12/5/13  8:30 AM  John \"Da Man\"    Repici   M        \"Kevin Spacey\"   \n",
       "3   1/2/14  9:00 AM        Stephen     Tyler   M       \"Russell Crowe\"   \n",
       "4   6/5/14  9:30 AM            NaN  Blankman   F   \"Denzel Washington\"   \n",
       "\n",
       "   Unnamed: 6               Fav. Park Location Home Address (Street)  Region  \\\n",
       "0         NaN  (40.9099922695, -73.2632063245)          3526 HIGH ST     9.0   \n",
       "1         NaN  (40.9099922695, -73.2632063245)           51 OMAHA CT     9.0   \n",
       "2         NaN  (40.9099922695, -73.2632063245)        2796 BRANCH ST     9.0   \n",
       "3         NaN  (43.3616709338, -76.4360441829)      2805 JANETTE WAY     5.0   \n",
       "4         NaN  (42.9657659397, -78.9531063633)       6001 MCMAHON DR     1.0   \n",
       "\n",
       "          \"City\" \"State\"  \"Age\"  \"Weight\"  \"BMI\" Complete  Type  \n",
       "0   \"Youngstown\"      OH   60.0      59.0  22.02   85.50%   1.0  \n",
       "1      \"Yankton\"      SD   12.0      86.0  19.70   85.50%   1.0  \n",
       "2       \"Yakima\"      WA   41.0      69.0  24.09      73%   1.0  \n",
       "3    \"Worcester\"      MA   22.0      88.0  26.97      27%   1.0  \n",
       "4    \"Arlington\"      VA    5.0      64.0  21.51   78.30%   1.0  "
      ]
     },
     "execution_count": 8,
     "metadata": {},
     "output_type": "execute_result"
    }
   ],
   "source": [
    "df.head()"
   ]
  },
  {
   "cell_type": "code",
   "execution_count": 9,
   "metadata": {
    "colab": {
     "base_uri": "https://localhost:8080/"
    },
    "id": "-_aJufE_cEkD",
    "outputId": "d7ac4333-f033-4d96-eefa-beb5bc9a683b"
   },
   "outputs": [
    {
     "data": {
      "text/plain": [
       "Date                      object\n",
       "Time                      object\n",
       "FirstName                 object\n",
       "LastName                  object\n",
       "Sex                       object\n",
       "Favourite Artist          object\n",
       "Unnamed: 6               float64\n",
       "Fav. Park Location        object\n",
       "Home Address (Street)     object\n",
       "Region                   float64\n",
       "\"City\"                    object\n",
       "\"State\"                   object\n",
       "\"Age\"                    float64\n",
       "\"Weight\"                 float64\n",
       "\"BMI\"                    float64\n",
       "Complete                  object\n",
       "Type                     float64\n",
       "dtype: object"
      ]
     },
     "execution_count": 9,
     "metadata": {},
     "output_type": "execute_result"
    }
   ],
   "source": [
    "# let's learn the data-types\n",
    "df.dtypes"
   ]
  },
  {
   "cell_type": "code",
   "execution_count": 10,
   "metadata": {
    "colab": {
     "base_uri": "https://localhost:8080/"
    },
    "id": "sb4btwuYcEkE",
    "outputId": "4851dbfe-9932-471e-9bd1-6ad9214e3af3"
   },
   "outputs": [
    {
     "data": {
      "text/plain": [
       "Date                      object\n",
       "Time                      object\n",
       "FirstName                 object\n",
       "LastName                  object\n",
       "Sex                       object\n",
       "Favourite Artist          object\n",
       "Unnamed: 6               float64\n",
       "Fav. Park Location        object\n",
       "Home Address (Street)     object\n",
       "Region                   float64\n",
       "\"City\"                    object\n",
       "\"State\"                   object\n",
       "\"Age\"                    float64\n",
       "\"Weight\"                 float64\n",
       "\"BMI\"                    float64\n",
       "Complete                  object\n",
       "Type                     float64\n",
       "dtype: object"
      ]
     },
     "execution_count": 10,
     "metadata": {},
     "output_type": "execute_result"
    }
   ],
   "source": [
    "# for large datasets, dtypes command allow you to see limited number of data-types. \n",
    "# in order to prevent this\n",
    "pandas.set_option(\"display.max_rows\", 999)\n",
    "pandas.set_option(\"display.max_columns\", 999)\n",
    "df.dtypes"
   ]
  },
  {
   "cell_type": "code",
   "execution_count": 11,
   "metadata": {
    "colab": {
     "base_uri": "https://localhost:8080/"
    },
    "id": "g_jMJYTecEkE",
    "outputId": "52293b30-57fe-4408-882d-e1ff037fb380"
   },
   "outputs": [
    {
     "data": {
      "text/plain": [
       "<bound method DataFrame.info of         Date      Time              FirstName   LastName  Sex  \\\n",
       "0    10/5/13   7:30 AM                   John        Doe    M   \n",
       "1    10/9/13   8:00 AM                   Jack   McGinnis    M   \n",
       "2    12/5/13   8:30 AM          John \"Da Man\"     Repici    M   \n",
       "3     1/2/14   9:00 AM                Stephen      Tyler    M   \n",
       "4     6/5/14   9:30 AM                    NaN   Blankman    F   \n",
       "5    9/12/14  10:00 AM  Joan \"the bone\", Anne        Jet    M   \n",
       "6    10/5/14  10:30 AM                  Maria     Spacey    F   \n",
       "7    10/5/14  11:00 AM                  Susan      Black    F   \n",
       "8     1/1/16  11:30 AM                  Robin    Jackson    F   \n",
       "9    10/5/16  12:00 PM                    NaN        NaN    F   \n",
       "10   10/5/16  12:30 PM                Whitney       Penn    F   \n",
       "11   10/5/17   1:00 PM                    Bob     Marley    M   \n",
       "12  10/15/17   1:30 PM                 Robert  Robertson    M   \n",
       "13   10/5/18   2:00 PM                  Emily       Foxx    F   \n",
       "14   10/5/19   2:30 PM                  Susan    Mancini    F   \n",
       "15       NaN       NaN                    NaN        NaN  NaN   \n",
       "16       NaN       NaN                    NaN        NaN  NaN   \n",
       "\n",
       "             Favourite Artist  Unnamed: 6               Fav. Park Location  \\\n",
       "0            \"Jack Nicholson\"         NaN  (40.9099922695, -73.2632063245)   \n",
       "1           \"Roberto Benigni\"         NaN  (40.9099922695, -73.2632063245)   \n",
       "2              \"Kevin Spacey\"         NaN  (40.9099922695, -73.2632063245)   \n",
       "3             \"Russell Crowe\"         NaN  (43.3616709338, -76.4360441829)   \n",
       "4         \"Denzel Washington\"         NaN  (42.9657659397, -78.9531063633)   \n",
       "5              \"Adrien Brody\"         NaN  (40.7475174105, -73.4568035403)   \n",
       "6                 \"Sean Penn\"         NaN  (40.7475174105, -73.4568035403)   \n",
       "7                \"Jamie Foxx\"         NaN  (40.7475174105, -73.4568035403)   \n",
       "8    \"Philip Seymour Hoffman\"         NaN  (40.7475174105, -73.4568035403)   \n",
       "9           \"Forest Whitaker\"         NaN  (40.7475174105, -73.4568035403)   \n",
       "10         \"Daniel Day-Lewis\"         NaN  (42.6731942171, -76.8677249793)   \n",
       "11                \"Sean Penn\"         NaN  (42.2155402507, -75.8362368401)   \n",
       "12             \"Jeff Bridges\"         NaN  (43.3417081221, -76.6913106828)   \n",
       "13              \"Colin Firth\"         NaN  (43.0469783183, -75.9818848047)   \n",
       "14            \"Jean Dujardin\"         NaN  (42.0930548903, -77.1547655357)   \n",
       "15                        NaN         NaN                              NaN   \n",
       "16                        NaN         NaN                              NaN   \n",
       "\n",
       "              Home Address (Street)  Region            \"City\" \"State\"  \"Age\"  \\\n",
       "0                      3526 HIGH ST     9.0      \"Youngstown\"      OH   60.0   \n",
       "1                       51 OMAHA CT     9.0         \"Yankton\"      SD   12.0   \n",
       "2                    2796 BRANCH ST     9.0          \"Yakima\"      WA   41.0   \n",
       "3                  2805 JANETTE WAY     5.0       \"Worcester\"      MA   22.0   \n",
       "4                   6001 MCMAHON DR     1.0       \"Arlington\"      VA    5.0   \n",
       "5                5828 PEPPERMILL CT     NaN   \"Winston-Salem\"      NC    9.0   \n",
       "6                               NaN     9.0        \"Winnipeg\"      MB   18.0   \n",
       "7                     2561 19TH AVE     9.0      \"Winchester\"      VA   16.0   \n",
       "8   11150 TRINITY RIVER DR Unit 114     9.0      \"Wilmington\"      NC   30.0   \n",
       "9                      7325 10TH ST     9.0      \"Wilmington\"      DE   43.0   \n",
       "10                 645 MORRISON AVE     4.0       \"Williston\"      ND   18.0   \n",
       "11                    4085 FAWN CIR     5.0    \"Williamsport\"      PA   50.0   \n",
       "12                  2930 LA ROSA RD     4.0      \"Williamson\"      WV    2.0   \n",
       "13                    2113 KIRK WAY     5.0   \"Wichita Falls\"      TX   13.0   \n",
       "14              4533 LOCH HAVEN WAY     4.0         \"Wichita\"      KS   15.0   \n",
       "15                              NaN     NaN               NaN     NaN    NaN   \n",
       "16                              NaN     NaN               NaN     NaN    NaN   \n",
       "\n",
       "    \"Weight\"  \"BMI\" Complete  Type  \n",
       "0       59.0  22.02   85.50%   1.0  \n",
       "1       86.0  19.70   85.50%   1.0  \n",
       "2       69.0  24.09      73%   1.0  \n",
       "3       88.0  26.97      27%   1.0  \n",
       "4       64.0  21.51   78.30%   1.0  \n",
       "5       55.0  18.69   25.60%   1.0  \n",
       "6       60.0  24.24   85.50%   1.0  \n",
       "7       53.0  21.23   85.50%   1.0  \n",
       "8       68.0  30.26      73%   1.0  \n",
       "9       56.0  21.88      27%   1.0  \n",
       "10      47.0  17.63   78.30%   1.0  \n",
       "11      69.0  24.57   25.60%   1.0  \n",
       "12      66.0  20.68   75.50%   1.0  \n",
       "13      55.0  20.97      73%   1.0  \n",
       "14      68.0  27.30      27%   1.0  \n",
       "15       NaN    NaN      NaN   NaN  \n",
       "16       NaN    NaN      NaN   NaN  >"
      ]
     },
     "execution_count": 11,
     "metadata": {},
     "output_type": "execute_result"
    }
   ],
   "source": [
    "df.info"
   ]
  },
  {
   "cell_type": "code",
   "execution_count": 12,
   "metadata": {
    "colab": {
     "base_uri": "https://localhost:8080/",
     "height": 300
    },
    "id": "eyl19NHrcEkE",
    "outputId": "518100fd-a27a-484f-e788-95f7a5e333f3"
   },
   "outputs": [
    {
     "data": {
      "text/html": [
       "<div>\n",
       "<style scoped>\n",
       "    .dataframe tbody tr th:only-of-type {\n",
       "        vertical-align: middle;\n",
       "    }\n",
       "\n",
       "    .dataframe tbody tr th {\n",
       "        vertical-align: top;\n",
       "    }\n",
       "\n",
       "    .dataframe thead th {\n",
       "        text-align: right;\n",
       "    }\n",
       "</style>\n",
       "<table border=\"1\" class=\"dataframe\">\n",
       "  <thead>\n",
       "    <tr style=\"text-align: right;\">\n",
       "      <th></th>\n",
       "      <th>Unnamed: 6</th>\n",
       "      <th>Region</th>\n",
       "      <th>\"Age\"</th>\n",
       "      <th>\"Weight\"</th>\n",
       "      <th>\"BMI\"</th>\n",
       "      <th>Type</th>\n",
       "    </tr>\n",
       "  </thead>\n",
       "  <tbody>\n",
       "    <tr>\n",
       "      <th>count</th>\n",
       "      <td>0.0</td>\n",
       "      <td>14.000000</td>\n",
       "      <td>15.00000</td>\n",
       "      <td>15.000000</td>\n",
       "      <td>15.000000</td>\n",
       "      <td>15.0</td>\n",
       "    </tr>\n",
       "    <tr>\n",
       "      <th>mean</th>\n",
       "      <td>NaN</td>\n",
       "      <td>6.500000</td>\n",
       "      <td>23.60000</td>\n",
       "      <td>64.200000</td>\n",
       "      <td>22.782667</td>\n",
       "      <td>1.0</td>\n",
       "    </tr>\n",
       "    <tr>\n",
       "      <th>std</th>\n",
       "      <td>NaN</td>\n",
       "      <td>2.766559</td>\n",
       "      <td>17.34441</td>\n",
       "      <td>11.409269</td>\n",
       "      <td>3.451860</td>\n",
       "      <td>0.0</td>\n",
       "    </tr>\n",
       "    <tr>\n",
       "      <th>min</th>\n",
       "      <td>NaN</td>\n",
       "      <td>1.000000</td>\n",
       "      <td>2.00000</td>\n",
       "      <td>47.000000</td>\n",
       "      <td>17.630000</td>\n",
       "      <td>1.0</td>\n",
       "    </tr>\n",
       "    <tr>\n",
       "      <th>25%</th>\n",
       "      <td>NaN</td>\n",
       "      <td>4.250000</td>\n",
       "      <td>12.50000</td>\n",
       "      <td>55.500000</td>\n",
       "      <td>20.825000</td>\n",
       "      <td>1.0</td>\n",
       "    </tr>\n",
       "    <tr>\n",
       "      <th>50%</th>\n",
       "      <td>NaN</td>\n",
       "      <td>7.000000</td>\n",
       "      <td>18.00000</td>\n",
       "      <td>64.000000</td>\n",
       "      <td>21.880000</td>\n",
       "      <td>1.0</td>\n",
       "    </tr>\n",
       "    <tr>\n",
       "      <th>75%</th>\n",
       "      <td>NaN</td>\n",
       "      <td>9.000000</td>\n",
       "      <td>35.50000</td>\n",
       "      <td>68.500000</td>\n",
       "      <td>24.405000</td>\n",
       "      <td>1.0</td>\n",
       "    </tr>\n",
       "    <tr>\n",
       "      <th>max</th>\n",
       "      <td>NaN</td>\n",
       "      <td>9.000000</td>\n",
       "      <td>60.00000</td>\n",
       "      <td>88.000000</td>\n",
       "      <td>30.260000</td>\n",
       "      <td>1.0</td>\n",
       "    </tr>\n",
       "  </tbody>\n",
       "</table>\n",
       "</div>"
      ],
      "text/plain": [
       "       Unnamed: 6     Region     \"Age\"   \"Weight\"      \"BMI\"  Type\n",
       "count         0.0  14.000000  15.00000  15.000000  15.000000  15.0\n",
       "mean          NaN   6.500000  23.60000  64.200000  22.782667   1.0\n",
       "std           NaN   2.766559  17.34441  11.409269   3.451860   0.0\n",
       "min           NaN   1.000000   2.00000  47.000000  17.630000   1.0\n",
       "25%           NaN   4.250000  12.50000  55.500000  20.825000   1.0\n",
       "50%           NaN   7.000000  18.00000  64.000000  21.880000   1.0\n",
       "75%           NaN   9.000000  35.50000  68.500000  24.405000   1.0\n",
       "max           NaN   9.000000  60.00000  88.000000  30.260000   1.0"
      ]
     },
     "execution_count": 12,
     "metadata": {},
     "output_type": "execute_result"
    }
   ],
   "source": [
    "df.describe()"
   ]
  },
  {
   "cell_type": "code",
   "execution_count": 13,
   "metadata": {
    "colab": {
     "base_uri": "https://localhost:8080/",
     "height": 510
    },
    "id": "R55sSX09cEkF",
    "outputId": "fb41ecc6-01bc-451a-fbf5-c6da449c4871"
   },
   "outputs": [
    {
     "data": {
      "text/html": [
       "<div>\n",
       "<style scoped>\n",
       "    .dataframe tbody tr th:only-of-type {\n",
       "        vertical-align: middle;\n",
       "    }\n",
       "\n",
       "    .dataframe tbody tr th {\n",
       "        vertical-align: top;\n",
       "    }\n",
       "\n",
       "    .dataframe thead th {\n",
       "        text-align: right;\n",
       "    }\n",
       "</style>\n",
       "<table border=\"1\" class=\"dataframe\">\n",
       "  <thead>\n",
       "    <tr style=\"text-align: right;\">\n",
       "      <th></th>\n",
       "      <th>Date</th>\n",
       "      <th>Time</th>\n",
       "      <th>FirstName</th>\n",
       "      <th>LastName</th>\n",
       "      <th>Sex</th>\n",
       "      <th>Favourite Artist</th>\n",
       "      <th>Unnamed: 6</th>\n",
       "      <th>Fav. Park Location</th>\n",
       "      <th>Home Address (Street)</th>\n",
       "      <th>Region</th>\n",
       "      <th>\"City\"</th>\n",
       "      <th>\"State\"</th>\n",
       "      <th>\"Age\"</th>\n",
       "      <th>\"Weight\"</th>\n",
       "      <th>\"BMI\"</th>\n",
       "      <th>Complete</th>\n",
       "      <th>Type</th>\n",
       "    </tr>\n",
       "  </thead>\n",
       "  <tbody>\n",
       "    <tr>\n",
       "      <th>count</th>\n",
       "      <td>15</td>\n",
       "      <td>15</td>\n",
       "      <td>13</td>\n",
       "      <td>14</td>\n",
       "      <td>15</td>\n",
       "      <td>15</td>\n",
       "      <td>0.0</td>\n",
       "      <td>15</td>\n",
       "      <td>14</td>\n",
       "      <td>14.000000</td>\n",
       "      <td>15</td>\n",
       "      <td>15</td>\n",
       "      <td>15.00000</td>\n",
       "      <td>15.000000</td>\n",
       "      <td>15.000000</td>\n",
       "      <td>15</td>\n",
       "      <td>15.0</td>\n",
       "    </tr>\n",
       "    <tr>\n",
       "      <th>unique</th>\n",
       "      <td>13</td>\n",
       "      <td>15</td>\n",
       "      <td>12</td>\n",
       "      <td>14</td>\n",
       "      <td>2</td>\n",
       "      <td>14</td>\n",
       "      <td>NaN</td>\n",
       "      <td>9</td>\n",
       "      <td>14</td>\n",
       "      <td>NaN</td>\n",
       "      <td>14</td>\n",
       "      <td>14</td>\n",
       "      <td>NaN</td>\n",
       "      <td>NaN</td>\n",
       "      <td>NaN</td>\n",
       "      <td>6</td>\n",
       "      <td>NaN</td>\n",
       "    </tr>\n",
       "    <tr>\n",
       "      <th>top</th>\n",
       "      <td>10/5/14</td>\n",
       "      <td>7:30 AM</td>\n",
       "      <td>Susan</td>\n",
       "      <td>Doe</td>\n",
       "      <td>F</td>\n",
       "      <td>\"Sean Penn\"</td>\n",
       "      <td>NaN</td>\n",
       "      <td>(40.7475174105, -73.4568035403)</td>\n",
       "      <td>3526 HIGH ST</td>\n",
       "      <td>NaN</td>\n",
       "      <td>\"Wilmington\"</td>\n",
       "      <td>NC</td>\n",
       "      <td>NaN</td>\n",
       "      <td>NaN</td>\n",
       "      <td>NaN</td>\n",
       "      <td>85.50%</td>\n",
       "      <td>NaN</td>\n",
       "    </tr>\n",
       "    <tr>\n",
       "      <th>freq</th>\n",
       "      <td>2</td>\n",
       "      <td>1</td>\n",
       "      <td>2</td>\n",
       "      <td>1</td>\n",
       "      <td>8</td>\n",
       "      <td>2</td>\n",
       "      <td>NaN</td>\n",
       "      <td>5</td>\n",
       "      <td>1</td>\n",
       "      <td>NaN</td>\n",
       "      <td>2</td>\n",
       "      <td>2</td>\n",
       "      <td>NaN</td>\n",
       "      <td>NaN</td>\n",
       "      <td>NaN</td>\n",
       "      <td>4</td>\n",
       "      <td>NaN</td>\n",
       "    </tr>\n",
       "    <tr>\n",
       "      <th>mean</th>\n",
       "      <td>NaN</td>\n",
       "      <td>NaN</td>\n",
       "      <td>NaN</td>\n",
       "      <td>NaN</td>\n",
       "      <td>NaN</td>\n",
       "      <td>NaN</td>\n",
       "      <td>NaN</td>\n",
       "      <td>NaN</td>\n",
       "      <td>NaN</td>\n",
       "      <td>6.500000</td>\n",
       "      <td>NaN</td>\n",
       "      <td>NaN</td>\n",
       "      <td>23.60000</td>\n",
       "      <td>64.200000</td>\n",
       "      <td>22.782667</td>\n",
       "      <td>NaN</td>\n",
       "      <td>1.0</td>\n",
       "    </tr>\n",
       "    <tr>\n",
       "      <th>std</th>\n",
       "      <td>NaN</td>\n",
       "      <td>NaN</td>\n",
       "      <td>NaN</td>\n",
       "      <td>NaN</td>\n",
       "      <td>NaN</td>\n",
       "      <td>NaN</td>\n",
       "      <td>NaN</td>\n",
       "      <td>NaN</td>\n",
       "      <td>NaN</td>\n",
       "      <td>2.766559</td>\n",
       "      <td>NaN</td>\n",
       "      <td>NaN</td>\n",
       "      <td>17.34441</td>\n",
       "      <td>11.409269</td>\n",
       "      <td>3.451860</td>\n",
       "      <td>NaN</td>\n",
       "      <td>0.0</td>\n",
       "    </tr>\n",
       "    <tr>\n",
       "      <th>min</th>\n",
       "      <td>NaN</td>\n",
       "      <td>NaN</td>\n",
       "      <td>NaN</td>\n",
       "      <td>NaN</td>\n",
       "      <td>NaN</td>\n",
       "      <td>NaN</td>\n",
       "      <td>NaN</td>\n",
       "      <td>NaN</td>\n",
       "      <td>NaN</td>\n",
       "      <td>1.000000</td>\n",
       "      <td>NaN</td>\n",
       "      <td>NaN</td>\n",
       "      <td>2.00000</td>\n",
       "      <td>47.000000</td>\n",
       "      <td>17.630000</td>\n",
       "      <td>NaN</td>\n",
       "      <td>1.0</td>\n",
       "    </tr>\n",
       "    <tr>\n",
       "      <th>25%</th>\n",
       "      <td>NaN</td>\n",
       "      <td>NaN</td>\n",
       "      <td>NaN</td>\n",
       "      <td>NaN</td>\n",
       "      <td>NaN</td>\n",
       "      <td>NaN</td>\n",
       "      <td>NaN</td>\n",
       "      <td>NaN</td>\n",
       "      <td>NaN</td>\n",
       "      <td>4.250000</td>\n",
       "      <td>NaN</td>\n",
       "      <td>NaN</td>\n",
       "      <td>12.50000</td>\n",
       "      <td>55.500000</td>\n",
       "      <td>20.825000</td>\n",
       "      <td>NaN</td>\n",
       "      <td>1.0</td>\n",
       "    </tr>\n",
       "    <tr>\n",
       "      <th>50%</th>\n",
       "      <td>NaN</td>\n",
       "      <td>NaN</td>\n",
       "      <td>NaN</td>\n",
       "      <td>NaN</td>\n",
       "      <td>NaN</td>\n",
       "      <td>NaN</td>\n",
       "      <td>NaN</td>\n",
       "      <td>NaN</td>\n",
       "      <td>NaN</td>\n",
       "      <td>7.000000</td>\n",
       "      <td>NaN</td>\n",
       "      <td>NaN</td>\n",
       "      <td>18.00000</td>\n",
       "      <td>64.000000</td>\n",
       "      <td>21.880000</td>\n",
       "      <td>NaN</td>\n",
       "      <td>1.0</td>\n",
       "    </tr>\n",
       "    <tr>\n",
       "      <th>75%</th>\n",
       "      <td>NaN</td>\n",
       "      <td>NaN</td>\n",
       "      <td>NaN</td>\n",
       "      <td>NaN</td>\n",
       "      <td>NaN</td>\n",
       "      <td>NaN</td>\n",
       "      <td>NaN</td>\n",
       "      <td>NaN</td>\n",
       "      <td>NaN</td>\n",
       "      <td>9.000000</td>\n",
       "      <td>NaN</td>\n",
       "      <td>NaN</td>\n",
       "      <td>35.50000</td>\n",
       "      <td>68.500000</td>\n",
       "      <td>24.405000</td>\n",
       "      <td>NaN</td>\n",
       "      <td>1.0</td>\n",
       "    </tr>\n",
       "    <tr>\n",
       "      <th>max</th>\n",
       "      <td>NaN</td>\n",
       "      <td>NaN</td>\n",
       "      <td>NaN</td>\n",
       "      <td>NaN</td>\n",
       "      <td>NaN</td>\n",
       "      <td>NaN</td>\n",
       "      <td>NaN</td>\n",
       "      <td>NaN</td>\n",
       "      <td>NaN</td>\n",
       "      <td>9.000000</td>\n",
       "      <td>NaN</td>\n",
       "      <td>NaN</td>\n",
       "      <td>60.00000</td>\n",
       "      <td>88.000000</td>\n",
       "      <td>30.260000</td>\n",
       "      <td>NaN</td>\n",
       "      <td>1.0</td>\n",
       "    </tr>\n",
       "  </tbody>\n",
       "</table>\n",
       "</div>"
      ],
      "text/plain": [
       "           Date     Time FirstName LastName  Sex Favourite Artist  Unnamed: 6  \\\n",
       "count        15       15        13       14   15               15         0.0   \n",
       "unique       13       15        12       14    2               14         NaN   \n",
       "top     10/5/14  7:30 AM     Susan      Doe    F      \"Sean Penn\"         NaN   \n",
       "freq          2        1         2        1    8                2         NaN   \n",
       "mean        NaN      NaN       NaN      NaN  NaN              NaN         NaN   \n",
       "std         NaN      NaN       NaN      NaN  NaN              NaN         NaN   \n",
       "min         NaN      NaN       NaN      NaN  NaN              NaN         NaN   \n",
       "25%         NaN      NaN       NaN      NaN  NaN              NaN         NaN   \n",
       "50%         NaN      NaN       NaN      NaN  NaN              NaN         NaN   \n",
       "75%         NaN      NaN       NaN      NaN  NaN              NaN         NaN   \n",
       "max         NaN      NaN       NaN      NaN  NaN              NaN         NaN   \n",
       "\n",
       "                     Fav. Park Location Home Address (Street)     Region  \\\n",
       "count                                15                    14  14.000000   \n",
       "unique                                9                    14        NaN   \n",
       "top     (40.7475174105, -73.4568035403)          3526 HIGH ST        NaN   \n",
       "freq                                  5                     1        NaN   \n",
       "mean                                NaN                   NaN   6.500000   \n",
       "std                                 NaN                   NaN   2.766559   \n",
       "min                                 NaN                   NaN   1.000000   \n",
       "25%                                 NaN                   NaN   4.250000   \n",
       "50%                                 NaN                   NaN   7.000000   \n",
       "75%                                 NaN                   NaN   9.000000   \n",
       "max                                 NaN                   NaN   9.000000   \n",
       "\n",
       "               \"City\" \"State\"     \"Age\"   \"Weight\"      \"BMI\" Complete  Type  \n",
       "count              15      15  15.00000  15.000000  15.000000       15  15.0  \n",
       "unique             14      14       NaN        NaN        NaN        6   NaN  \n",
       "top      \"Wilmington\"      NC       NaN        NaN        NaN   85.50%   NaN  \n",
       "freq                2       2       NaN        NaN        NaN        4   NaN  \n",
       "mean              NaN     NaN  23.60000  64.200000  22.782667      NaN   1.0  \n",
       "std               NaN     NaN  17.34441  11.409269   3.451860      NaN   0.0  \n",
       "min               NaN     NaN   2.00000  47.000000  17.630000      NaN   1.0  \n",
       "25%               NaN     NaN  12.50000  55.500000  20.825000      NaN   1.0  \n",
       "50%               NaN     NaN  18.00000  64.000000  21.880000      NaN   1.0  \n",
       "75%               NaN     NaN  35.50000  68.500000  24.405000      NaN   1.0  \n",
       "max               NaN     NaN  60.00000  88.000000  30.260000      NaN   1.0  "
      ]
     },
     "execution_count": 13,
     "metadata": {},
     "output_type": "execute_result"
    }
   ],
   "source": [
    "#By default, describe() applies to numeric columns. To expand to other types,\n",
    "df.describe(include='all')"
   ]
  },
  {
   "cell_type": "code",
   "execution_count": 14,
   "metadata": {
    "colab": {
     "base_uri": "https://localhost:8080/",
     "height": 291
    },
    "id": "ytOA8BnIcEkF",
    "outputId": "345fe9bf-308f-4cb7-e046-428a8db3386f"
   },
   "outputs": [
    {
     "data": {
      "text/html": [
       "<div>\n",
       "<style scoped>\n",
       "    .dataframe tbody tr th:only-of-type {\n",
       "        vertical-align: middle;\n",
       "    }\n",
       "\n",
       "    .dataframe tbody tr th {\n",
       "        vertical-align: top;\n",
       "    }\n",
       "\n",
       "    .dataframe thead th {\n",
       "        text-align: right;\n",
       "    }\n",
       "</style>\n",
       "<table border=\"1\" class=\"dataframe\">\n",
       "  <thead>\n",
       "    <tr style=\"text-align: right;\">\n",
       "      <th></th>\n",
       "      <th>Date</th>\n",
       "      <th>Time</th>\n",
       "      <th>FirstName</th>\n",
       "      <th>LastName</th>\n",
       "      <th>Sex</th>\n",
       "      <th>Favourite Artist</th>\n",
       "      <th>Fav. Park Location</th>\n",
       "      <th>Home Address (Street)</th>\n",
       "      <th>\"City\"</th>\n",
       "      <th>\"State\"</th>\n",
       "      <th>Complete</th>\n",
       "    </tr>\n",
       "  </thead>\n",
       "  <tbody>\n",
       "    <tr>\n",
       "      <th>count</th>\n",
       "      <td>15</td>\n",
       "      <td>15</td>\n",
       "      <td>13</td>\n",
       "      <td>14</td>\n",
       "      <td>15</td>\n",
       "      <td>15</td>\n",
       "      <td>15</td>\n",
       "      <td>14</td>\n",
       "      <td>15</td>\n",
       "      <td>15</td>\n",
       "      <td>15</td>\n",
       "    </tr>\n",
       "    <tr>\n",
       "      <th>unique</th>\n",
       "      <td>13</td>\n",
       "      <td>15</td>\n",
       "      <td>12</td>\n",
       "      <td>14</td>\n",
       "      <td>2</td>\n",
       "      <td>14</td>\n",
       "      <td>9</td>\n",
       "      <td>14</td>\n",
       "      <td>14</td>\n",
       "      <td>14</td>\n",
       "      <td>6</td>\n",
       "    </tr>\n",
       "    <tr>\n",
       "      <th>top</th>\n",
       "      <td>10/5/14</td>\n",
       "      <td>7:30 AM</td>\n",
       "      <td>Susan</td>\n",
       "      <td>Doe</td>\n",
       "      <td>F</td>\n",
       "      <td>\"Sean Penn\"</td>\n",
       "      <td>(40.7475174105, -73.4568035403)</td>\n",
       "      <td>3526 HIGH ST</td>\n",
       "      <td>\"Wilmington\"</td>\n",
       "      <td>NC</td>\n",
       "      <td>85.50%</td>\n",
       "    </tr>\n",
       "    <tr>\n",
       "      <th>freq</th>\n",
       "      <td>2</td>\n",
       "      <td>1</td>\n",
       "      <td>2</td>\n",
       "      <td>1</td>\n",
       "      <td>8</td>\n",
       "      <td>2</td>\n",
       "      <td>5</td>\n",
       "      <td>1</td>\n",
       "      <td>2</td>\n",
       "      <td>2</td>\n",
       "      <td>4</td>\n",
       "    </tr>\n",
       "  </tbody>\n",
       "</table>\n",
       "</div>"
      ],
      "text/plain": [
       "           Date     Time FirstName LastName Sex Favourite Artist  \\\n",
       "count        15       15        13       14  15               15   \n",
       "unique       13       15        12       14   2               14   \n",
       "top     10/5/14  7:30 AM     Susan      Doe   F      \"Sean Penn\"   \n",
       "freq          2        1         2        1   8                2   \n",
       "\n",
       "                     Fav. Park Location Home Address (Street)         \"City\"  \\\n",
       "count                                15                    14             15   \n",
       "unique                                9                    14             14   \n",
       "top     (40.7475174105, -73.4568035403)          3526 HIGH ST   \"Wilmington\"   \n",
       "freq                                  5                     1              2   \n",
       "\n",
       "       \"State\" Complete  \n",
       "count       15       15  \n",
       "unique      14        6  \n",
       "top         NC   85.50%  \n",
       "freq         2        4  "
      ]
     },
     "execution_count": 14,
     "metadata": {},
     "output_type": "execute_result"
    }
   ],
   "source": [
    "#the result might be messy (since describe outputs different results for numberical versus object). Let's try\n",
    "df.describe(include='object')"
   ]
  },
  {
   "cell_type": "code",
   "execution_count": 15,
   "metadata": {
    "colab": {
     "base_uri": "https://localhost:8080/"
    },
    "id": "bw_OHwQ0cEkF",
    "outputId": "3f31344c-fcd2-4bbb-f972-9f5162a132b2"
   },
   "outputs": [
    {
     "data": {
      "text/plain": [
       "0    10/5/13\n",
       "1    10/9/13\n",
       "2    12/5/13\n",
       "3     1/2/14\n",
       "Name: Date, dtype: object"
      ]
     },
     "execution_count": 15,
     "metadata": {},
     "output_type": "execute_result"
    }
   ],
   "source": [
    "df['Date'][0:4]"
   ]
  },
  {
   "cell_type": "code",
   "execution_count": 16,
   "metadata": {
    "colab": {
     "base_uri": "https://localhost:8080/"
    },
    "id": "p8qKtKCCcEkG",
    "outputId": "7e575ed9-798b-4a26-e57e-3d998c9dbc4a"
   },
   "outputs": [
    {
     "data": {
      "text/plain": [
       "0     OH\n",
       "1     SD\n",
       "2     WA\n",
       "3     MA\n",
       "Name: \"State\", dtype: object"
      ]
     },
     "execution_count": 16,
     "metadata": {},
     "output_type": "execute_result"
    }
   ],
   "source": [
    "# see the difference between previous and this referencing!\n",
    "df['\"State\"'][0:4]"
   ]
  },
  {
   "cell_type": "code",
   "execution_count": 17,
   "metadata": {
    "colab": {
     "base_uri": "https://localhost:8080/"
    },
    "id": "PVtUsd2LcEkG",
    "outputId": "d0563270-8ee0-4f17-e813-c8293dabfbd7"
   },
   "outputs": [
    {
     "data": {
      "text/plain": [
       "14"
      ]
     },
     "execution_count": 17,
     "metadata": {},
     "output_type": "execute_result"
    }
   ],
   "source": [
    "# how many different states are there\n",
    "df['\"State\"'].nunique()"
   ]
  },
  {
   "cell_type": "code",
   "execution_count": 18,
   "metadata": {
    "colab": {
     "base_uri": "https://localhost:8080/"
    },
    "id": "qBDg1CjWcEkG",
    "outputId": "ff482e6c-b61d-4312-e8ea-9734c7967f34"
   },
   "outputs": [
    {
     "data": {
      "text/plain": [
       "F    8\n",
       "M    7\n",
       "Name: Sex, dtype: int64"
      ]
     },
     "execution_count": 18,
     "metadata": {},
     "output_type": "execute_result"
    }
   ],
   "source": [
    "# how many females, how many males\n",
    "df['Sex'].value_counts()"
   ]
  },
  {
   "cell_type": "code",
   "execution_count": 19,
   "metadata": {
    "colab": {
     "base_uri": "https://localhost:8080/"
    },
    "id": "1TTTfzZRcEkG",
    "outputId": "4a1ead20-3594-45f0-fd45-826681cda43d"
   },
   "outputs": [
    {
     "data": {
      "text/plain": [
       "0    85.50%\n",
       "1    85.50%\n",
       "2       73%\n",
       "3       27%\n",
       "4    78.30%\n",
       "5    25.60%\n",
       "6    85.50%\n",
       "7    85.50%\n",
       "Name: Complete, dtype: object"
      ]
     },
     "execution_count": 19,
     "metadata": {},
     "output_type": "execute_result"
    }
   ],
   "source": [
    "# we'll receive an error message if we try\n",
    "df['Complete'][0:8]"
   ]
  },
  {
   "cell_type": "code",
   "execution_count": 20,
   "metadata": {
    "colab": {
     "base_uri": "https://localhost:8080/",
     "height": 329
    },
    "id": "CAMxDX1XcEkH",
    "outputId": "0afee157-2df3-445c-c7f4-e51bec5c4139"
   },
   "outputs": [
    {
     "data": {
      "text/html": [
       "<div>\n",
       "<style scoped>\n",
       "    .dataframe tbody tr th:only-of-type {\n",
       "        vertical-align: middle;\n",
       "    }\n",
       "\n",
       "    .dataframe tbody tr th {\n",
       "        vertical-align: top;\n",
       "    }\n",
       "\n",
       "    .dataframe thead th {\n",
       "        text-align: right;\n",
       "    }\n",
       "</style>\n",
       "<table border=\"1\" class=\"dataframe\">\n",
       "  <thead>\n",
       "    <tr style=\"text-align: right;\">\n",
       "      <th></th>\n",
       "      <th>Date</th>\n",
       "      <th>Time</th>\n",
       "      <th>FirstName</th>\n",
       "      <th>LastName</th>\n",
       "      <th>Sex</th>\n",
       "      <th>Favourite Artist</th>\n",
       "      <th>Unnamed: 6</th>\n",
       "      <th>Fav. Park Location</th>\n",
       "      <th>Home Address (Street)</th>\n",
       "      <th>Region</th>\n",
       "      <th>\"City\"</th>\n",
       "      <th>\"State\"</th>\n",
       "      <th>\"Age\"</th>\n",
       "      <th>\"Weight\"</th>\n",
       "      <th>\"BMI\"</th>\n",
       "      <th>Complete</th>\n",
       "      <th>Type</th>\n",
       "      <th>Complete as percentege</th>\n",
       "    </tr>\n",
       "  </thead>\n",
       "  <tbody>\n",
       "    <tr>\n",
       "      <th>0</th>\n",
       "      <td>10/5/13</td>\n",
       "      <td>7:30 AM</td>\n",
       "      <td>John</td>\n",
       "      <td>Doe</td>\n",
       "      <td>M</td>\n",
       "      <td>\"Jack Nicholson\"</td>\n",
       "      <td>NaN</td>\n",
       "      <td>(40.9099922695, -73.2632063245)</td>\n",
       "      <td>3526 HIGH ST</td>\n",
       "      <td>9.0</td>\n",
       "      <td>\"Youngstown\"</td>\n",
       "      <td>OH</td>\n",
       "      <td>60.0</td>\n",
       "      <td>59.0</td>\n",
       "      <td>22.02</td>\n",
       "      <td>85.50%</td>\n",
       "      <td>1.0</td>\n",
       "      <td>85.5</td>\n",
       "    </tr>\n",
       "    <tr>\n",
       "      <th>1</th>\n",
       "      <td>10/9/13</td>\n",
       "      <td>8:00 AM</td>\n",
       "      <td>Jack</td>\n",
       "      <td>McGinnis</td>\n",
       "      <td>M</td>\n",
       "      <td>\"Roberto Benigni\"</td>\n",
       "      <td>NaN</td>\n",
       "      <td>(40.9099922695, -73.2632063245)</td>\n",
       "      <td>51 OMAHA CT</td>\n",
       "      <td>9.0</td>\n",
       "      <td>\"Yankton\"</td>\n",
       "      <td>SD</td>\n",
       "      <td>12.0</td>\n",
       "      <td>86.0</td>\n",
       "      <td>19.70</td>\n",
       "      <td>85.50%</td>\n",
       "      <td>1.0</td>\n",
       "      <td>85.5</td>\n",
       "    </tr>\n",
       "    <tr>\n",
       "      <th>2</th>\n",
       "      <td>12/5/13</td>\n",
       "      <td>8:30 AM</td>\n",
       "      <td>John \"Da Man\"</td>\n",
       "      <td>Repici</td>\n",
       "      <td>M</td>\n",
       "      <td>\"Kevin Spacey\"</td>\n",
       "      <td>NaN</td>\n",
       "      <td>(40.9099922695, -73.2632063245)</td>\n",
       "      <td>2796 BRANCH ST</td>\n",
       "      <td>9.0</td>\n",
       "      <td>\"Yakima\"</td>\n",
       "      <td>WA</td>\n",
       "      <td>41.0</td>\n",
       "      <td>69.0</td>\n",
       "      <td>24.09</td>\n",
       "      <td>73%</td>\n",
       "      <td>1.0</td>\n",
       "      <td>73.0</td>\n",
       "    </tr>\n",
       "  </tbody>\n",
       "</table>\n",
       "</div>"
      ],
      "text/plain": [
       "      Date     Time      FirstName  LastName Sex    Favourite Artist  \\\n",
       "0  10/5/13  7:30 AM           John       Doe   M    \"Jack Nicholson\"   \n",
       "1  10/9/13  8:00 AM           Jack  McGinnis   M   \"Roberto Benigni\"   \n",
       "2  12/5/13  8:30 AM  John \"Da Man\"    Repici   M      \"Kevin Spacey\"   \n",
       "\n",
       "   Unnamed: 6               Fav. Park Location Home Address (Street)  Region  \\\n",
       "0         NaN  (40.9099922695, -73.2632063245)          3526 HIGH ST     9.0   \n",
       "1         NaN  (40.9099922695, -73.2632063245)           51 OMAHA CT     9.0   \n",
       "2         NaN  (40.9099922695, -73.2632063245)        2796 BRANCH ST     9.0   \n",
       "\n",
       "          \"City\" \"State\"  \"Age\"  \"Weight\"  \"BMI\" Complete  Type  \\\n",
       "0   \"Youngstown\"      OH   60.0      59.0  22.02   85.50%   1.0   \n",
       "1      \"Yankton\"      SD   12.0      86.0  19.70   85.50%   1.0   \n",
       "2       \"Yakima\"      WA   41.0      69.0  24.09      73%   1.0   \n",
       "\n",
       "   Complete as percentege  \n",
       "0                    85.5  \n",
       "1                    85.5  \n",
       "2                    73.0  "
      ]
     },
     "execution_count": 20,
     "metadata": {},
     "output_type": "execute_result"
    }
   ],
   "source": [
    "# we'll receive another error message if we try\n",
    "# df['Complete as percentege'] = df['Complete'].astype('float64')\n",
    "#\n",
    "# the reason is that % sign. let's ged rid off it\n",
    "df['Complete as percentege'] = df['Complete'].str.replace('%','').astype('float64')\n",
    "df.head(3)"
   ]
  },
  {
   "cell_type": "code",
   "execution_count": 21,
   "metadata": {
    "id": "4XpXu2dQcEkH"
   },
   "outputs": [],
   "source": [
    "series_of_type_per_column = df.dtypes"
   ]
  },
  {
   "cell_type": "code",
   "execution_count": 22,
   "metadata": {
    "colab": {
     "base_uri": "https://localhost:8080/",
     "height": 443
    },
    "id": "SlyKIXXKcEkH",
    "outputId": "cafd32c5-ee44-4184-f51a-548929a5e96a"
   },
   "outputs": [
    {
     "data": {
      "text/html": [
       "<div>\n",
       "<style scoped>\n",
       "    .dataframe tbody tr th:only-of-type {\n",
       "        vertical-align: middle;\n",
       "    }\n",
       "\n",
       "    .dataframe tbody tr th {\n",
       "        vertical-align: top;\n",
       "    }\n",
       "\n",
       "    .dataframe thead th {\n",
       "        text-align: right;\n",
       "    }\n",
       "</style>\n",
       "<table border=\"1\" class=\"dataframe\">\n",
       "  <thead>\n",
       "    <tr style=\"text-align: right;\">\n",
       "      <th></th>\n",
       "      <th>Date</th>\n",
       "      <th>Time</th>\n",
       "      <th>FirstName</th>\n",
       "      <th>LastName</th>\n",
       "      <th>Sex</th>\n",
       "      <th>Favourite Artist</th>\n",
       "      <th>Unnamed: 6</th>\n",
       "      <th>Fav. Park Location</th>\n",
       "      <th>Home Address (Street)</th>\n",
       "      <th>Region</th>\n",
       "      <th>\"City\"</th>\n",
       "      <th>\"State\"</th>\n",
       "      <th>\"Age\"</th>\n",
       "      <th>\"Weight\"</th>\n",
       "      <th>\"BMI\"</th>\n",
       "      <th>Complete</th>\n",
       "      <th>Type</th>\n",
       "      <th>Complete as percentege</th>\n",
       "    </tr>\n",
       "  </thead>\n",
       "  <tbody>\n",
       "    <tr>\n",
       "      <th>0</th>\n",
       "      <td>10/5/13</td>\n",
       "      <td>7:30 AM</td>\n",
       "      <td>John</td>\n",
       "      <td>Doe</td>\n",
       "      <td>M</td>\n",
       "      <td>\"Jack Nicholson\"</td>\n",
       "      <td>NaN</td>\n",
       "      <td>(40.9099922695, -73.2632063245)</td>\n",
       "      <td>3526 HIGH ST</td>\n",
       "      <td>9.0</td>\n",
       "      <td>\"Youngstown\"</td>\n",
       "      <td>OH</td>\n",
       "      <td>60.0</td>\n",
       "      <td>59.0</td>\n",
       "      <td>22.02</td>\n",
       "      <td>85.50%</td>\n",
       "      <td>1.0</td>\n",
       "      <td>85.5</td>\n",
       "    </tr>\n",
       "    <tr>\n",
       "      <th>1</th>\n",
       "      <td>10/9/13</td>\n",
       "      <td>8:00 AM</td>\n",
       "      <td>Jack</td>\n",
       "      <td>McGinnis</td>\n",
       "      <td>M</td>\n",
       "      <td>\"Roberto Benigni\"</td>\n",
       "      <td>NaN</td>\n",
       "      <td>(40.9099922695, -73.2632063245)</td>\n",
       "      <td>51 OMAHA CT</td>\n",
       "      <td>9.0</td>\n",
       "      <td>\"Yankton\"</td>\n",
       "      <td>SD</td>\n",
       "      <td>12.0</td>\n",
       "      <td>86.0</td>\n",
       "      <td>19.70</td>\n",
       "      <td>85.50%</td>\n",
       "      <td>1.0</td>\n",
       "      <td>85.5</td>\n",
       "    </tr>\n",
       "    <tr>\n",
       "      <th>2</th>\n",
       "      <td>12/5/13</td>\n",
       "      <td>8:30 AM</td>\n",
       "      <td>John \"Da Man\"</td>\n",
       "      <td>Repici</td>\n",
       "      <td>M</td>\n",
       "      <td>\"Kevin Spacey\"</td>\n",
       "      <td>NaN</td>\n",
       "      <td>(40.9099922695, -73.2632063245)</td>\n",
       "      <td>2796 BRANCH ST</td>\n",
       "      <td>9.0</td>\n",
       "      <td>\"Yakima\"</td>\n",
       "      <td>WA</td>\n",
       "      <td>41.0</td>\n",
       "      <td>69.0</td>\n",
       "      <td>24.09</td>\n",
       "      <td>73%</td>\n",
       "      <td>1.0</td>\n",
       "      <td>73.0</td>\n",
       "    </tr>\n",
       "    <tr>\n",
       "      <th>3</th>\n",
       "      <td>1/2/14</td>\n",
       "      <td>9:00 AM</td>\n",
       "      <td>Stephen</td>\n",
       "      <td>Tyler</td>\n",
       "      <td>M</td>\n",
       "      <td>\"Russell Crowe\"</td>\n",
       "      <td>NaN</td>\n",
       "      <td>(43.3616709338, -76.4360441829)</td>\n",
       "      <td>2805 JANETTE WAY</td>\n",
       "      <td>5.0</td>\n",
       "      <td>\"Worcester\"</td>\n",
       "      <td>MA</td>\n",
       "      <td>22.0</td>\n",
       "      <td>88.0</td>\n",
       "      <td>26.97</td>\n",
       "      <td>27%</td>\n",
       "      <td>1.0</td>\n",
       "      <td>27.0</td>\n",
       "    </tr>\n",
       "    <tr>\n",
       "      <th>4</th>\n",
       "      <td>6/5/14</td>\n",
       "      <td>9:30 AM</td>\n",
       "      <td>NaN</td>\n",
       "      <td>Blankman</td>\n",
       "      <td>F</td>\n",
       "      <td>\"Denzel Washington\"</td>\n",
       "      <td>NaN</td>\n",
       "      <td>(42.9657659397, -78.9531063633)</td>\n",
       "      <td>6001 MCMAHON DR</td>\n",
       "      <td>1.0</td>\n",
       "      <td>\"Arlington\"</td>\n",
       "      <td>VA</td>\n",
       "      <td>5.0</td>\n",
       "      <td>64.0</td>\n",
       "      <td>21.51</td>\n",
       "      <td>78.30%</td>\n",
       "      <td>1.0</td>\n",
       "      <td>78.3</td>\n",
       "    </tr>\n",
       "  </tbody>\n",
       "</table>\n",
       "</div>"
      ],
      "text/plain": [
       "      Date     Time      FirstName  LastName Sex      Favourite Artist  \\\n",
       "0  10/5/13  7:30 AM           John       Doe   M      \"Jack Nicholson\"   \n",
       "1  10/9/13  8:00 AM           Jack  McGinnis   M     \"Roberto Benigni\"   \n",
       "2  12/5/13  8:30 AM  John \"Da Man\"    Repici   M        \"Kevin Spacey\"   \n",
       "3   1/2/14  9:00 AM        Stephen     Tyler   M       \"Russell Crowe\"   \n",
       "4   6/5/14  9:30 AM            NaN  Blankman   F   \"Denzel Washington\"   \n",
       "\n",
       "   Unnamed: 6               Fav. Park Location Home Address (Street)  Region  \\\n",
       "0         NaN  (40.9099922695, -73.2632063245)          3526 HIGH ST     9.0   \n",
       "1         NaN  (40.9099922695, -73.2632063245)           51 OMAHA CT     9.0   \n",
       "2         NaN  (40.9099922695, -73.2632063245)        2796 BRANCH ST     9.0   \n",
       "3         NaN  (43.3616709338, -76.4360441829)      2805 JANETTE WAY     5.0   \n",
       "4         NaN  (42.9657659397, -78.9531063633)       6001 MCMAHON DR     1.0   \n",
       "\n",
       "          \"City\" \"State\"  \"Age\"  \"Weight\"  \"BMI\" Complete  Type  \\\n",
       "0   \"Youngstown\"      OH   60.0      59.0  22.02   85.50%   1.0   \n",
       "1      \"Yankton\"      SD   12.0      86.0  19.70   85.50%   1.0   \n",
       "2       \"Yakima\"      WA   41.0      69.0  24.09      73%   1.0   \n",
       "3    \"Worcester\"      MA   22.0      88.0  26.97      27%   1.0   \n",
       "4    \"Arlington\"      VA    5.0      64.0  21.51   78.30%   1.0   \n",
       "\n",
       "   Complete as percentege  \n",
       "0                    85.5  \n",
       "1                    85.5  \n",
       "2                    73.0  \n",
       "3                    27.0  \n",
       "4                    78.3  "
      ]
     },
     "execution_count": 22,
     "metadata": {},
     "output_type": "execute_result"
    }
   ],
   "source": [
    "df.head() # now we have a new column!"
   ]
  },
  {
   "cell_type": "code",
   "execution_count": 23,
   "metadata": {
    "colab": {
     "base_uri": "https://localhost:8080/"
    },
    "id": "pD949jmVcEkH",
    "outputId": "350f5ba6-92d6-4d34-f359-fbd35358ff8f"
   },
   "outputs": [
    {
     "name": "stdout",
     "output_type": "stream",
     "text": [
      "\n",
      " Date has 13 unique entries; first  5 are\n",
      "0    10/5/13\n",
      "1    10/9/13\n",
      "2    12/5/13\n",
      "3     1/2/14\n",
      "4     6/5/14\n",
      "Name: Date, dtype: object\n",
      "\n",
      " Time has 15 unique entries; first  5 are\n",
      "0    7:30 AM\n",
      "1    8:00 AM\n",
      "2    8:30 AM\n",
      "3    9:00 AM\n",
      "4    9:30 AM\n",
      "Name: Time, dtype: object\n",
      "\n",
      " FirstName has 12 unique entries; first  5 are\n",
      "0             John\n",
      "1             Jack\n",
      "2    John \"Da Man\"\n",
      "3          Stephen\n",
      "4              NaN\n",
      "Name: FirstName, dtype: object\n",
      "\n",
      " LastName has 14 unique entries; first  5 are\n",
      "0         Doe\n",
      "1    McGinnis\n",
      "2      Repici\n",
      "3       Tyler\n",
      "4    Blankman\n",
      "Name: LastName, dtype: object\n",
      "\n",
      " Sex has 2 unique entries; first  5 are\n",
      "0    M\n",
      "1    M\n",
      "2    M\n",
      "3    M\n",
      "4    F\n",
      "Name: Sex, dtype: object\n",
      "\n",
      " Favourite Artist has 14 unique entries; first  5 are\n",
      "0        \"Jack Nicholson\"\n",
      "1       \"Roberto Benigni\"\n",
      "2          \"Kevin Spacey\"\n",
      "3         \"Russell Crowe\"\n",
      "4     \"Denzel Washington\"\n",
      "Name: Favourite Artist, dtype: object\n",
      "\n",
      " Fav. Park Location has 9 unique entries; first  5 are\n",
      "0    (40.9099922695, -73.2632063245)\n",
      "1    (40.9099922695, -73.2632063245)\n",
      "2    (40.9099922695, -73.2632063245)\n",
      "3    (43.3616709338, -76.4360441829)\n",
      "4    (42.9657659397, -78.9531063633)\n",
      "Name: Fav. Park Location, dtype: object\n",
      "\n",
      " Home Address (Street) has 14 unique entries; first  5 are\n",
      "0        3526 HIGH ST\n",
      "1         51 OMAHA CT\n",
      "2      2796 BRANCH ST\n",
      "3    2805 JANETTE WAY\n",
      "4     6001 MCMAHON DR\n",
      "Name: Home Address (Street), dtype: object\n",
      "\n",
      " \"City\" has 14 unique entries; first  5 are\n",
      "0     \"Youngstown\"\n",
      "1        \"Yankton\"\n",
      "2         \"Yakima\"\n",
      "3      \"Worcester\"\n",
      "4      \"Arlington\"\n",
      "Name: \"City\", dtype: object\n",
      "\n",
      " \"State\" has 14 unique entries; first  5 are\n",
      "0     OH\n",
      "1     SD\n",
      "2     WA\n",
      "3     MA\n",
      "4     VA\n",
      "Name: \"State\", dtype: object\n",
      "\n",
      " Complete has 6 unique entries; first  5 are\n",
      "0    85.50%\n",
      "1    85.50%\n",
      "2       73%\n",
      "3       27%\n",
      "4    78.30%\n",
      "Name: Complete, dtype: object\n"
     ]
    }
   ],
   "source": [
    "first_n_entries=5\n",
    "for col,col_type in df.dtypes.iteritems():\n",
    "    if(col_type=='object'):\n",
    "        print('\\n',col,'has',df[col].nunique(),'unique entries; first ',first_n_entries,'are')\n",
    "        print(df[col][0:first_n_entries])"
   ]
  },
  {
   "cell_type": "code",
   "execution_count": 24,
   "metadata": {
    "id": "raDrwISJcEkH"
   },
   "outputs": [],
   "source": [
    "def uniq_per_col(df,count):\n",
    "    for this_column in df.columns:\n",
    "        print(\"\\n==== \",this_column,\"has\",df[this_column].nunique(),\"unique entries ====\")\n",
    "        print(df[this_column].value_counts().head(count))"
   ]
  },
  {
   "cell_type": "code",
   "execution_count": 25,
   "metadata": {
    "colab": {
     "base_uri": "https://localhost:8080/"
    },
    "id": "-4y57-SZcEkI",
    "outputId": "98cd3948-d79f-4854-bb5e-3c6b83557478"
   },
   "outputs": [
    {
     "name": "stdout",
     "output_type": "stream",
     "text": [
      "\n",
      "====  Date has 13 unique entries ====\n",
      "10/5/14    2\n",
      "10/5/16    2\n",
      "10/5/13    1\n",
      "10/9/13    1\n",
      "12/5/13    1\n",
      "Name: Date, dtype: int64\n",
      "\n",
      "====  Time has 15 unique entries ====\n",
      "7:30 AM    1\n",
      "8:00 AM    1\n",
      "8:30 AM    1\n",
      "9:00 AM    1\n",
      "9:30 AM    1\n",
      "Name: Time, dtype: int64\n",
      "\n",
      "====  FirstName has 12 unique entries ====\n",
      "Susan            2\n",
      "John             1\n",
      "Jack             1\n",
      "John \"Da Man\"    1\n",
      "Stephen          1\n",
      "Name: FirstName, dtype: int64\n",
      "\n",
      "====  LastName has 14 unique entries ====\n",
      "Doe         1\n",
      "McGinnis    1\n",
      "Repici      1\n",
      "Tyler       1\n",
      "Blankman    1\n",
      "Name: LastName, dtype: int64\n",
      "\n",
      "====  Sex has 2 unique entries ====\n",
      "F    8\n",
      "M    7\n",
      "Name: Sex, dtype: int64\n",
      "\n",
      "====  Favourite Artist has 14 unique entries ====\n",
      " \"Sean Penn\"          2\n",
      " \"Jack Nicholson\"     1\n",
      " \"Roberto Benigni\"    1\n",
      " \"Kevin Spacey\"       1\n",
      " \"Russell Crowe\"      1\n",
      "Name: Favourite Artist, dtype: int64\n",
      "\n",
      "====  Unnamed: 6 has 0 unique entries ====\n",
      "Series([], Name: Unnamed: 6, dtype: int64)\n",
      "\n",
      "====  Fav. Park Location has 9 unique entries ====\n",
      "(40.7475174105, -73.4568035403)    5\n",
      "(40.9099922695, -73.2632063245)    3\n",
      "(43.3616709338, -76.4360441829)    1\n",
      "(42.9657659397, -78.9531063633)    1\n",
      "(42.6731942171, -76.8677249793)    1\n",
      "Name: Fav. Park Location, dtype: int64\n",
      "\n",
      "====  Home Address (Street) has 14 unique entries ====\n",
      "3526 HIGH ST        1\n",
      "51 OMAHA CT         1\n",
      "2796 BRANCH ST      1\n",
      "2805 JANETTE WAY    1\n",
      "6001 MCMAHON DR     1\n",
      "Name: Home Address (Street), dtype: int64\n",
      "\n",
      "====  Region has 4 unique entries ====\n",
      "9.0    7\n",
      "5.0    3\n",
      "4.0    3\n",
      "1.0    1\n",
      "Name: Region, dtype: int64\n",
      "\n",
      "====  \"City\" has 14 unique entries ====\n",
      " \"Wilmington\"    2\n",
      " \"Youngstown\"    1\n",
      " \"Yankton\"       1\n",
      " \"Yakima\"        1\n",
      " \"Worcester\"     1\n",
      "Name: \"City\", dtype: int64\n",
      "\n",
      "====  \"State\" has 14 unique entries ====\n",
      " NC    2\n",
      " OH    1\n",
      " SD    1\n",
      " WA    1\n",
      " MA    1\n",
      "Name: \"State\", dtype: int64\n",
      "\n",
      "====  \"Age\" has 14 unique entries ====\n",
      "18.0    2\n",
      "60.0    1\n",
      "12.0    1\n",
      "41.0    1\n",
      "22.0    1\n",
      "Name: \"Age\", dtype: int64\n",
      "\n",
      "====  \"Weight\" has 12 unique entries ====\n",
      "69.0    2\n",
      "55.0    2\n",
      "68.0    2\n",
      "59.0    1\n",
      "86.0    1\n",
      "Name: \"Weight\", dtype: int64\n",
      "\n",
      "====  \"BMI\" has 15 unique entries ====\n",
      "22.02    1\n",
      "19.70    1\n",
      "24.09    1\n",
      "26.97    1\n",
      "21.51    1\n",
      "Name: \"BMI\", dtype: int64\n",
      "\n",
      "====  Complete has 6 unique entries ====\n",
      "85.50%    4\n",
      "73%       3\n",
      "27%       3\n",
      "78.30%    2\n",
      "25.60%    2\n",
      "Name: Complete, dtype: int64\n",
      "\n",
      "====  Type has 1 unique entries ====\n",
      "1.0    15\n",
      "Name: Type, dtype: int64\n",
      "\n",
      "====  Complete as percentege has 6 unique entries ====\n",
      "85.5    4\n",
      "73.0    3\n",
      "27.0    3\n",
      "78.3    2\n",
      "25.6    2\n",
      "Name: Complete as percentege, dtype: int64\n"
     ]
    }
   ],
   "source": [
    "uniq_per_col(df,5)"
   ]
  },
  {
   "cell_type": "code",
   "execution_count": 26,
   "metadata": {
    "colab": {
     "base_uri": "https://localhost:8080/",
     "height": 779
    },
    "id": "-aTBIue6cEkI",
    "outputId": "31135606-9a50-4b86-ffdf-0e97968c8ff1"
   },
   "outputs": [
    {
     "data": {
      "text/html": [
       "<div>\n",
       "<style scoped>\n",
       "    .dataframe tbody tr th:only-of-type {\n",
       "        vertical-align: middle;\n",
       "    }\n",
       "\n",
       "    .dataframe tbody tr th {\n",
       "        vertical-align: top;\n",
       "    }\n",
       "\n",
       "    .dataframe thead th {\n",
       "        text-align: right;\n",
       "    }\n",
       "</style>\n",
       "<table border=\"1\" class=\"dataframe\">\n",
       "  <thead>\n",
       "    <tr style=\"text-align: right;\">\n",
       "      <th></th>\n",
       "      <th>0</th>\n",
       "      <th>1</th>\n",
       "      <th>2</th>\n",
       "      <th>3</th>\n",
       "      <th>4</th>\n",
       "      <th>5</th>\n",
       "    </tr>\n",
       "  </thead>\n",
       "  <tbody>\n",
       "    <tr>\n",
       "      <th>Date</th>\n",
       "      <td>10/5/13</td>\n",
       "      <td>10/9/13</td>\n",
       "      <td>12/5/13</td>\n",
       "      <td>1/2/14</td>\n",
       "      <td>6/5/14</td>\n",
       "      <td>9/12/14</td>\n",
       "    </tr>\n",
       "    <tr>\n",
       "      <th>Time</th>\n",
       "      <td>7:30 AM</td>\n",
       "      <td>8:00 AM</td>\n",
       "      <td>8:30 AM</td>\n",
       "      <td>9:00 AM</td>\n",
       "      <td>9:30 AM</td>\n",
       "      <td>10:00 AM</td>\n",
       "    </tr>\n",
       "    <tr>\n",
       "      <th>FirstName</th>\n",
       "      <td>John</td>\n",
       "      <td>Jack</td>\n",
       "      <td>John \"Da Man\"</td>\n",
       "      <td>Stephen</td>\n",
       "      <td>NaN</td>\n",
       "      <td>Joan \"the bone\", Anne</td>\n",
       "    </tr>\n",
       "    <tr>\n",
       "      <th>LastName</th>\n",
       "      <td>Doe</td>\n",
       "      <td>McGinnis</td>\n",
       "      <td>Repici</td>\n",
       "      <td>Tyler</td>\n",
       "      <td>Blankman</td>\n",
       "      <td>Jet</td>\n",
       "    </tr>\n",
       "    <tr>\n",
       "      <th>Sex</th>\n",
       "      <td>M</td>\n",
       "      <td>M</td>\n",
       "      <td>M</td>\n",
       "      <td>M</td>\n",
       "      <td>F</td>\n",
       "      <td>M</td>\n",
       "    </tr>\n",
       "    <tr>\n",
       "      <th>Favourite Artist</th>\n",
       "      <td>\"Jack Nicholson\"</td>\n",
       "      <td>\"Roberto Benigni\"</td>\n",
       "      <td>\"Kevin Spacey\"</td>\n",
       "      <td>\"Russell Crowe\"</td>\n",
       "      <td>\"Denzel Washington\"</td>\n",
       "      <td>\"Adrien Brody\"</td>\n",
       "    </tr>\n",
       "    <tr>\n",
       "      <th>Unnamed: 6</th>\n",
       "      <td>NaN</td>\n",
       "      <td>NaN</td>\n",
       "      <td>NaN</td>\n",
       "      <td>NaN</td>\n",
       "      <td>NaN</td>\n",
       "      <td>NaN</td>\n",
       "    </tr>\n",
       "    <tr>\n",
       "      <th>Fav. Park Location</th>\n",
       "      <td>(40.9099922695, -73.2632063245)</td>\n",
       "      <td>(40.9099922695, -73.2632063245)</td>\n",
       "      <td>(40.9099922695, -73.2632063245)</td>\n",
       "      <td>(43.3616709338, -76.4360441829)</td>\n",
       "      <td>(42.9657659397, -78.9531063633)</td>\n",
       "      <td>(40.7475174105, -73.4568035403)</td>\n",
       "    </tr>\n",
       "    <tr>\n",
       "      <th>Home Address (Street)</th>\n",
       "      <td>3526 HIGH ST</td>\n",
       "      <td>51 OMAHA CT</td>\n",
       "      <td>2796 BRANCH ST</td>\n",
       "      <td>2805 JANETTE WAY</td>\n",
       "      <td>6001 MCMAHON DR</td>\n",
       "      <td>5828 PEPPERMILL CT</td>\n",
       "    </tr>\n",
       "    <tr>\n",
       "      <th>Region</th>\n",
       "      <td>9.0</td>\n",
       "      <td>9.0</td>\n",
       "      <td>9.0</td>\n",
       "      <td>5.0</td>\n",
       "      <td>1.0</td>\n",
       "      <td>NaN</td>\n",
       "    </tr>\n",
       "    <tr>\n",
       "      <th>\"City\"</th>\n",
       "      <td>\"Youngstown\"</td>\n",
       "      <td>\"Yankton\"</td>\n",
       "      <td>\"Yakima\"</td>\n",
       "      <td>\"Worcester\"</td>\n",
       "      <td>\"Arlington\"</td>\n",
       "      <td>\"Winston-Salem\"</td>\n",
       "    </tr>\n",
       "    <tr>\n",
       "      <th>\"State\"</th>\n",
       "      <td>OH</td>\n",
       "      <td>SD</td>\n",
       "      <td>WA</td>\n",
       "      <td>MA</td>\n",
       "      <td>VA</td>\n",
       "      <td>NC</td>\n",
       "    </tr>\n",
       "    <tr>\n",
       "      <th>\"Age\"</th>\n",
       "      <td>60.0</td>\n",
       "      <td>12.0</td>\n",
       "      <td>41.0</td>\n",
       "      <td>22.0</td>\n",
       "      <td>5.0</td>\n",
       "      <td>9.0</td>\n",
       "    </tr>\n",
       "    <tr>\n",
       "      <th>\"Weight\"</th>\n",
       "      <td>59.0</td>\n",
       "      <td>86.0</td>\n",
       "      <td>69.0</td>\n",
       "      <td>88.0</td>\n",
       "      <td>64.0</td>\n",
       "      <td>55.0</td>\n",
       "    </tr>\n",
       "    <tr>\n",
       "      <th>\"BMI\"</th>\n",
       "      <td>22.02</td>\n",
       "      <td>19.7</td>\n",
       "      <td>24.09</td>\n",
       "      <td>26.97</td>\n",
       "      <td>21.51</td>\n",
       "      <td>18.69</td>\n",
       "    </tr>\n",
       "    <tr>\n",
       "      <th>Complete</th>\n",
       "      <td>85.50%</td>\n",
       "      <td>85.50%</td>\n",
       "      <td>73%</td>\n",
       "      <td>27%</td>\n",
       "      <td>78.30%</td>\n",
       "      <td>25.60%</td>\n",
       "    </tr>\n",
       "    <tr>\n",
       "      <th>Type</th>\n",
       "      <td>1.0</td>\n",
       "      <td>1.0</td>\n",
       "      <td>1.0</td>\n",
       "      <td>1.0</td>\n",
       "      <td>1.0</td>\n",
       "      <td>1.0</td>\n",
       "    </tr>\n",
       "    <tr>\n",
       "      <th>Complete as percentege</th>\n",
       "      <td>85.5</td>\n",
       "      <td>85.5</td>\n",
       "      <td>73.0</td>\n",
       "      <td>27.0</td>\n",
       "      <td>78.3</td>\n",
       "      <td>25.6</td>\n",
       "    </tr>\n",
       "  </tbody>\n",
       "</table>\n",
       "</div>"
      ],
      "text/plain": [
       "                                                      0  \\\n",
       "Date                                            10/5/13   \n",
       "Time                                            7:30 AM   \n",
       "FirstName                                          John   \n",
       "LastName                                            Doe   \n",
       "Sex                                                   M   \n",
       "Favourite Artist                       \"Jack Nicholson\"   \n",
       "Unnamed: 6                                          NaN   \n",
       "Fav. Park Location      (40.9099922695, -73.2632063245)   \n",
       "Home Address (Street)                      3526 HIGH ST   \n",
       "Region                                              9.0   \n",
       "\"City\"                                     \"Youngstown\"   \n",
       "\"State\"                                              OH   \n",
       "\"Age\"                                              60.0   \n",
       "\"Weight\"                                           59.0   \n",
       "\"BMI\"                                             22.02   \n",
       "Complete                                         85.50%   \n",
       "Type                                                1.0   \n",
       "Complete as percentege                             85.5   \n",
       "\n",
       "                                                      1  \\\n",
       "Date                                            10/9/13   \n",
       "Time                                            8:00 AM   \n",
       "FirstName                                          Jack   \n",
       "LastName                                       McGinnis   \n",
       "Sex                                                   M   \n",
       "Favourite Artist                      \"Roberto Benigni\"   \n",
       "Unnamed: 6                                          NaN   \n",
       "Fav. Park Location      (40.9099922695, -73.2632063245)   \n",
       "Home Address (Street)                       51 OMAHA CT   \n",
       "Region                                              9.0   \n",
       "\"City\"                                        \"Yankton\"   \n",
       "\"State\"                                              SD   \n",
       "\"Age\"                                              12.0   \n",
       "\"Weight\"                                           86.0   \n",
       "\"BMI\"                                              19.7   \n",
       "Complete                                         85.50%   \n",
       "Type                                                1.0   \n",
       "Complete as percentege                             85.5   \n",
       "\n",
       "                                                      2  \\\n",
       "Date                                            12/5/13   \n",
       "Time                                            8:30 AM   \n",
       "FirstName                                 John \"Da Man\"   \n",
       "LastName                                         Repici   \n",
       "Sex                                                   M   \n",
       "Favourite Artist                         \"Kevin Spacey\"   \n",
       "Unnamed: 6                                          NaN   \n",
       "Fav. Park Location      (40.9099922695, -73.2632063245)   \n",
       "Home Address (Street)                    2796 BRANCH ST   \n",
       "Region                                              9.0   \n",
       "\"City\"                                         \"Yakima\"   \n",
       "\"State\"                                              WA   \n",
       "\"Age\"                                              41.0   \n",
       "\"Weight\"                                           69.0   \n",
       "\"BMI\"                                             24.09   \n",
       "Complete                                            73%   \n",
       "Type                                                1.0   \n",
       "Complete as percentege                             73.0   \n",
       "\n",
       "                                                      3  \\\n",
       "Date                                             1/2/14   \n",
       "Time                                            9:00 AM   \n",
       "FirstName                                       Stephen   \n",
       "LastName                                          Tyler   \n",
       "Sex                                                   M   \n",
       "Favourite Artist                        \"Russell Crowe\"   \n",
       "Unnamed: 6                                          NaN   \n",
       "Fav. Park Location      (43.3616709338, -76.4360441829)   \n",
       "Home Address (Street)                  2805 JANETTE WAY   \n",
       "Region                                              5.0   \n",
       "\"City\"                                      \"Worcester\"   \n",
       "\"State\"                                              MA   \n",
       "\"Age\"                                              22.0   \n",
       "\"Weight\"                                           88.0   \n",
       "\"BMI\"                                             26.97   \n",
       "Complete                                            27%   \n",
       "Type                                                1.0   \n",
       "Complete as percentege                             27.0   \n",
       "\n",
       "                                                      4  \\\n",
       "Date                                             6/5/14   \n",
       "Time                                            9:30 AM   \n",
       "FirstName                                           NaN   \n",
       "LastName                                       Blankman   \n",
       "Sex                                                   F   \n",
       "Favourite Artist                    \"Denzel Washington\"   \n",
       "Unnamed: 6                                          NaN   \n",
       "Fav. Park Location      (42.9657659397, -78.9531063633)   \n",
       "Home Address (Street)                   6001 MCMAHON DR   \n",
       "Region                                              1.0   \n",
       "\"City\"                                      \"Arlington\"   \n",
       "\"State\"                                              VA   \n",
       "\"Age\"                                               5.0   \n",
       "\"Weight\"                                           64.0   \n",
       "\"BMI\"                                             21.51   \n",
       "Complete                                         78.30%   \n",
       "Type                                                1.0   \n",
       "Complete as percentege                             78.3   \n",
       "\n",
       "                                                      5  \n",
       "Date                                            9/12/14  \n",
       "Time                                           10:00 AM  \n",
       "FirstName                         Joan \"the bone\", Anne  \n",
       "LastName                                            Jet  \n",
       "Sex                                                   M  \n",
       "Favourite Artist                         \"Adrien Brody\"  \n",
       "Unnamed: 6                                          NaN  \n",
       "Fav. Park Location      (40.7475174105, -73.4568035403)  \n",
       "Home Address (Street)                5828 PEPPERMILL CT  \n",
       "Region                                              NaN  \n",
       "\"City\"                                  \"Winston-Salem\"  \n",
       "\"State\"                                              NC  \n",
       "\"Age\"                                               9.0  \n",
       "\"Weight\"                                           55.0  \n",
       "\"BMI\"                                             18.69  \n",
       "Complete                                         25.60%  \n",
       "Type                                                1.0  \n",
       "Complete as percentege                             25.6  "
      ]
     },
     "execution_count": 26,
     "metadata": {},
     "output_type": "execute_result"
    }
   ],
   "source": [
    "df.head(6).T # let's see how the transpose of the dataset looks like"
   ]
  },
  {
   "cell_type": "code",
   "execution_count": 27,
   "metadata": {
    "colab": {
     "base_uri": "https://localhost:8080/",
     "height": 305
    },
    "id": "67dSj_MYcEkI",
    "outputId": "cc643370-473d-4bc3-bbf1-3a12633a91af"
   },
   "outputs": [
    {
     "data": {
      "text/html": [
       "<div>\n",
       "<style scoped>\n",
       "    .dataframe tbody tr th:only-of-type {\n",
       "        vertical-align: middle;\n",
       "    }\n",
       "\n",
       "    .dataframe tbody tr th {\n",
       "        vertical-align: top;\n",
       "    }\n",
       "\n",
       "    .dataframe thead th {\n",
       "        text-align: right;\n",
       "    }\n",
       "</style>\n",
       "<table border=\"1\" class=\"dataframe\">\n",
       "  <thead>\n",
       "    <tr style=\"text-align: right;\">\n",
       "      <th></th>\n",
       "      <th>Date</th>\n",
       "      <th>Time</th>\n",
       "      <th>FirstName</th>\n",
       "      <th>LastName</th>\n",
       "      <th>Sex</th>\n",
       "      <th>Favourite Artist</th>\n",
       "      <th>Unnamed: 6</th>\n",
       "      <th>Fav. Park Location</th>\n",
       "      <th>Home Address (Street)</th>\n",
       "      <th>Region</th>\n",
       "      <th>\"City\"</th>\n",
       "      <th>\"State\"</th>\n",
       "      <th>\"Age\"</th>\n",
       "      <th>\"Weight\"</th>\n",
       "      <th>\"BMI\"</th>\n",
       "      <th>Complete</th>\n",
       "      <th>Type</th>\n",
       "      <th>Complete as percentege</th>\n",
       "    </tr>\n",
       "  </thead>\n",
       "  <tbody>\n",
       "    <tr>\n",
       "      <th>0</th>\n",
       "      <td>False</td>\n",
       "      <td>False</td>\n",
       "      <td>False</td>\n",
       "      <td>False</td>\n",
       "      <td>False</td>\n",
       "      <td>False</td>\n",
       "      <td>True</td>\n",
       "      <td>False</td>\n",
       "      <td>False</td>\n",
       "      <td>False</td>\n",
       "      <td>False</td>\n",
       "      <td>False</td>\n",
       "      <td>False</td>\n",
       "      <td>False</td>\n",
       "      <td>False</td>\n",
       "      <td>False</td>\n",
       "      <td>False</td>\n",
       "      <td>False</td>\n",
       "    </tr>\n",
       "    <tr>\n",
       "      <th>1</th>\n",
       "      <td>False</td>\n",
       "      <td>False</td>\n",
       "      <td>False</td>\n",
       "      <td>False</td>\n",
       "      <td>False</td>\n",
       "      <td>False</td>\n",
       "      <td>True</td>\n",
       "      <td>False</td>\n",
       "      <td>False</td>\n",
       "      <td>False</td>\n",
       "      <td>False</td>\n",
       "      <td>False</td>\n",
       "      <td>False</td>\n",
       "      <td>False</td>\n",
       "      <td>False</td>\n",
       "      <td>False</td>\n",
       "      <td>False</td>\n",
       "      <td>False</td>\n",
       "    </tr>\n",
       "    <tr>\n",
       "      <th>2</th>\n",
       "      <td>False</td>\n",
       "      <td>False</td>\n",
       "      <td>False</td>\n",
       "      <td>False</td>\n",
       "      <td>False</td>\n",
       "      <td>False</td>\n",
       "      <td>True</td>\n",
       "      <td>False</td>\n",
       "      <td>False</td>\n",
       "      <td>False</td>\n",
       "      <td>False</td>\n",
       "      <td>False</td>\n",
       "      <td>False</td>\n",
       "      <td>False</td>\n",
       "      <td>False</td>\n",
       "      <td>False</td>\n",
       "      <td>False</td>\n",
       "      <td>False</td>\n",
       "    </tr>\n",
       "    <tr>\n",
       "      <th>3</th>\n",
       "      <td>False</td>\n",
       "      <td>False</td>\n",
       "      <td>False</td>\n",
       "      <td>False</td>\n",
       "      <td>False</td>\n",
       "      <td>False</td>\n",
       "      <td>True</td>\n",
       "      <td>False</td>\n",
       "      <td>False</td>\n",
       "      <td>False</td>\n",
       "      <td>False</td>\n",
       "      <td>False</td>\n",
       "      <td>False</td>\n",
       "      <td>False</td>\n",
       "      <td>False</td>\n",
       "      <td>False</td>\n",
       "      <td>False</td>\n",
       "      <td>False</td>\n",
       "    </tr>\n",
       "    <tr>\n",
       "      <th>4</th>\n",
       "      <td>False</td>\n",
       "      <td>False</td>\n",
       "      <td>True</td>\n",
       "      <td>False</td>\n",
       "      <td>False</td>\n",
       "      <td>False</td>\n",
       "      <td>True</td>\n",
       "      <td>False</td>\n",
       "      <td>False</td>\n",
       "      <td>False</td>\n",
       "      <td>False</td>\n",
       "      <td>False</td>\n",
       "      <td>False</td>\n",
       "      <td>False</td>\n",
       "      <td>False</td>\n",
       "      <td>False</td>\n",
       "      <td>False</td>\n",
       "      <td>False</td>\n",
       "    </tr>\n",
       "  </tbody>\n",
       "</table>\n",
       "</div>"
      ],
      "text/plain": [
       "    Date   Time  FirstName  LastName    Sex  Favourite Artist  Unnamed: 6  \\\n",
       "0  False  False      False     False  False             False        True   \n",
       "1  False  False      False     False  False             False        True   \n",
       "2  False  False      False     False  False             False        True   \n",
       "3  False  False      False     False  False             False        True   \n",
       "4  False  False       True     False  False             False        True   \n",
       "\n",
       "   Fav. Park Location  Home Address (Street)  Region  \"City\"  \"State\"  \"Age\"  \\\n",
       "0               False                  False   False   False    False  False   \n",
       "1               False                  False   False   False    False  False   \n",
       "2               False                  False   False   False    False  False   \n",
       "3               False                  False   False   False    False  False   \n",
       "4               False                  False   False   False    False  False   \n",
       "\n",
       "   \"Weight\"  \"BMI\"  Complete   Type  Complete as percentege  \n",
       "0     False  False     False  False                   False  \n",
       "1     False  False     False  False                   False  \n",
       "2     False  False     False  False                   False  \n",
       "3     False  False     False  False                   False  \n",
       "4     False  False     False  False                   False  "
      ]
     },
     "execution_count": 27,
     "metadata": {},
     "output_type": "execute_result"
    }
   ],
   "source": [
    "# are there columns that have no values?\n",
    "df.isnull().head()"
   ]
  },
  {
   "cell_type": "code",
   "execution_count": 28,
   "metadata": {
    "colab": {
     "base_uri": "https://localhost:8080/"
    },
    "id": "v1qx8DnxcEkI",
    "outputId": "9e6b24ec-6545-421e-f3a5-e937e9c71533"
   },
   "outputs": [
    {
     "data": {
      "text/plain": [
       "Date                       2\n",
       "Time                       2\n",
       "FirstName                  4\n",
       "LastName                   3\n",
       "Sex                        2\n",
       "Favourite Artist           2\n",
       "Unnamed: 6                17\n",
       "Fav. Park Location         2\n",
       "Home Address (Street)      3\n",
       "Region                     3\n",
       "\"City\"                     2\n",
       "\"State\"                    2\n",
       "\"Age\"                      2\n",
       "\"Weight\"                   2\n",
       "\"BMI\"                      2\n",
       "Complete                   2\n",
       "Type                       2\n",
       "Complete as percentege     2\n",
       "dtype: int64"
      ]
     },
     "execution_count": 28,
     "metadata": {},
     "output_type": "execute_result"
    }
   ],
   "source": [
    "df.isnull().sum()"
   ]
  },
  {
   "cell_type": "code",
   "execution_count": 29,
   "metadata": {
    "colab": {
     "base_uri": "https://localhost:8080/"
    },
    "id": "kI9-XsdNcEkI",
    "outputId": "9ce6e9a6-4038-4275-9062-20879f79c777"
   },
   "outputs": [
    {
     "data": {
      "text/plain": [
       "(17, 18)"
      ]
     },
     "execution_count": 29,
     "metadata": {},
     "output_type": "execute_result"
    }
   ],
   "source": [
    "df.shape"
   ]
  },
  {
   "cell_type": "code",
   "execution_count": 30,
   "metadata": {
    "colab": {
     "base_uri": "https://localhost:8080/"
    },
    "id": "Ffgydu10cEkI",
    "outputId": "cc4839f6-9017-4b66-c7e0-60cf701e7ff1"
   },
   "outputs": [
    {
     "data": {
      "text/plain": [
       "Date                      False\n",
       "Time                      False\n",
       "FirstName                 False\n",
       "LastName                  False\n",
       "Sex                       False\n",
       "Favourite Artist          False\n",
       "Unnamed: 6                 True\n",
       "Fav. Park Location        False\n",
       "Home Address (Street)     False\n",
       "Region                    False\n",
       "\"City\"                    False\n",
       "\"State\"                   False\n",
       "\"Age\"                     False\n",
       "\"Weight\"                  False\n",
       "\"BMI\"                     False\n",
       "Complete                  False\n",
       "Type                      False\n",
       "Complete as percentege    False\n",
       "dtype: bool"
      ]
     },
     "execution_count": 30,
     "metadata": {},
     "output_type": "execute_result"
    }
   ],
   "source": [
    "# one of the columns is completely empty (probably we skipped that column accidentally)\n",
    "df.isnull().sum()==df.shape[0]"
   ]
  },
  {
   "cell_type": "code",
   "execution_count": 31,
   "metadata": {
    "id": "9t2ele5UcEkI"
   },
   "outputs": [],
   "source": [
    "# let's drop columns that are not useful\n",
    "series_of_bool_indicating_whether_column_is_empty = df.isnull().sum()==df.shape[0]\n",
    "\n",
    "for col_name, bool_value in series_of_bool_indicating_whether_column_is_empty.iteritems():\n",
    "    if bool_value:\n",
    "        df.drop([col_name],axis=1,inplace=True)"
   ]
  },
  {
   "cell_type": "code",
   "execution_count": 32,
   "metadata": {
    "colab": {
     "base_uri": "https://localhost:8080/"
    },
    "id": "4ARrRUEgcEkJ",
    "outputId": "d381cae1-5edd-41e2-ac97-49733e0744f9"
   },
   "outputs": [
    {
     "data": {
      "text/plain": [
       "(17, 17)"
      ]
     },
     "execution_count": 32,
     "metadata": {},
     "output_type": "execute_result"
    }
   ],
   "source": [
    "df.shape"
   ]
  },
  {
   "cell_type": "code",
   "execution_count": 33,
   "metadata": {
    "colab": {
     "base_uri": "https://localhost:8080/"
    },
    "id": "cPPIMaFmcEkJ",
    "outputId": "46747f24-d03d-47dc-9110-38191dd394b1"
   },
   "outputs": [
    {
     "data": {
      "text/plain": [
       "17"
      ]
     },
     "execution_count": 33,
     "metadata": {},
     "output_type": "execute_result"
    }
   ],
   "source": [
    "len(df)"
   ]
  },
  {
   "cell_type": "code",
   "execution_count": 34,
   "metadata": {
    "colab": {
     "base_uri": "https://localhost:8080/"
    },
    "id": "zcwgEAhQcEkJ",
    "outputId": "f80396f2-b90c-4ee6-e0c5-7efa33785abc"
   },
   "outputs": [
    {
     "data": {
      "text/plain": [
       "Date                      0.117647\n",
       "Time                      0.117647\n",
       "FirstName                 0.235294\n",
       "LastName                  0.176471\n",
       "Sex                       0.117647\n",
       "Favourite Artist          0.117647\n",
       "Fav. Park Location        0.117647\n",
       "Home Address (Street)     0.176471\n",
       "Region                    0.176471\n",
       "\"City\"                    0.117647\n",
       "\"State\"                   0.117647\n",
       "\"Age\"                     0.117647\n",
       "\"Weight\"                  0.117647\n",
       "\"BMI\"                     0.117647\n",
       "Complete                  0.117647\n",
       "Type                      0.117647\n",
       "Complete as percentege    0.117647\n",
       "dtype: float64"
      ]
     },
     "execution_count": 34,
     "metadata": {},
     "output_type": "execute_result"
    }
   ],
   "source": [
    "df.isnull().sum()/len(df)"
   ]
  },
  {
   "cell_type": "code",
   "execution_count": 35,
   "metadata": {
    "colab": {
     "base_uri": "https://localhost:8080/"
    },
    "id": "QxxMh7m2cEkJ",
    "outputId": "1a03a210-a264-4d3d-cce3-fa53478b8772"
   },
   "outputs": [
    {
     "data": {
      "text/plain": [
       "4"
      ]
     },
     "execution_count": 35,
     "metadata": {},
     "output_type": "execute_result"
    }
   ],
   "source": [
    "df['FirstName'].isnull().sum()"
   ]
  },
  {
   "cell_type": "code",
   "execution_count": 36,
   "metadata": {
    "colab": {
     "base_uri": "https://localhost:8080/"
    },
    "id": "KsBZScx8cEkJ",
    "outputId": "9891c176-0a8d-4be1-c9a0-a29498d0fede"
   },
   "outputs": [
    {
     "data": {
      "text/plain": [
       "2"
      ]
     },
     "execution_count": 36,
     "metadata": {},
     "output_type": "execute_result"
    }
   ],
   "source": [
    "# Strange! when we look at the CSV file, we only see two empty cells. What is going on? Let's investigate more.\n",
    "df['Date'].isnull().sum()"
   ]
  },
  {
   "cell_type": "code",
   "execution_count": 37,
   "metadata": {
    "colab": {
     "base_uri": "https://localhost:8080/",
     "height": 211
    },
    "id": "kUC0I7a8cEkK",
    "outputId": "ebc6ed19-5562-438f-9304-628a13c4663a"
   },
   "outputs": [
    {
     "data": {
      "text/html": [
       "<div>\n",
       "<style scoped>\n",
       "    .dataframe tbody tr th:only-of-type {\n",
       "        vertical-align: middle;\n",
       "    }\n",
       "\n",
       "    .dataframe tbody tr th {\n",
       "        vertical-align: top;\n",
       "    }\n",
       "\n",
       "    .dataframe thead th {\n",
       "        text-align: right;\n",
       "    }\n",
       "</style>\n",
       "<table border=\"1\" class=\"dataframe\">\n",
       "  <thead>\n",
       "    <tr style=\"text-align: right;\">\n",
       "      <th></th>\n",
       "      <th>Date</th>\n",
       "      <th>Time</th>\n",
       "      <th>FirstName</th>\n",
       "      <th>LastName</th>\n",
       "      <th>Sex</th>\n",
       "      <th>Favourite Artist</th>\n",
       "      <th>Fav. Park Location</th>\n",
       "      <th>Home Address (Street)</th>\n",
       "      <th>Region</th>\n",
       "      <th>\"City\"</th>\n",
       "      <th>\"State\"</th>\n",
       "      <th>\"Age\"</th>\n",
       "      <th>\"Weight\"</th>\n",
       "      <th>\"BMI\"</th>\n",
       "      <th>Complete</th>\n",
       "      <th>Type</th>\n",
       "      <th>Complete as percentege</th>\n",
       "    </tr>\n",
       "  </thead>\n",
       "  <tbody>\n",
       "    <tr>\n",
       "      <th>15</th>\n",
       "      <td>NaN</td>\n",
       "      <td>NaN</td>\n",
       "      <td>NaN</td>\n",
       "      <td>NaN</td>\n",
       "      <td>NaN</td>\n",
       "      <td>NaN</td>\n",
       "      <td>NaN</td>\n",
       "      <td>NaN</td>\n",
       "      <td>NaN</td>\n",
       "      <td>NaN</td>\n",
       "      <td>NaN</td>\n",
       "      <td>NaN</td>\n",
       "      <td>NaN</td>\n",
       "      <td>NaN</td>\n",
       "      <td>NaN</td>\n",
       "      <td>NaN</td>\n",
       "      <td>NaN</td>\n",
       "    </tr>\n",
       "    <tr>\n",
       "      <th>16</th>\n",
       "      <td>NaN</td>\n",
       "      <td>NaN</td>\n",
       "      <td>NaN</td>\n",
       "      <td>NaN</td>\n",
       "      <td>NaN</td>\n",
       "      <td>NaN</td>\n",
       "      <td>NaN</td>\n",
       "      <td>NaN</td>\n",
       "      <td>NaN</td>\n",
       "      <td>NaN</td>\n",
       "      <td>NaN</td>\n",
       "      <td>NaN</td>\n",
       "      <td>NaN</td>\n",
       "      <td>NaN</td>\n",
       "      <td>NaN</td>\n",
       "      <td>NaN</td>\n",
       "      <td>NaN</td>\n",
       "    </tr>\n",
       "  </tbody>\n",
       "</table>\n",
       "</div>"
      ],
      "text/plain": [
       "   Date Time FirstName LastName  Sex Favourite Artist Fav. Park Location  \\\n",
       "15  NaN  NaN       NaN      NaN  NaN              NaN                NaN   \n",
       "16  NaN  NaN       NaN      NaN  NaN              NaN                NaN   \n",
       "\n",
       "   Home Address (Street)  Region \"City\" \"State\"  \"Age\"  \"Weight\"  \"BMI\"  \\\n",
       "15                   NaN     NaN    NaN     NaN    NaN       NaN    NaN   \n",
       "16                   NaN     NaN    NaN     NaN    NaN       NaN    NaN   \n",
       "\n",
       "   Complete  Type  Complete as percentege  \n",
       "15      NaN   NaN                     NaN  \n",
       "16      NaN   NaN                     NaN  "
      ]
     },
     "execution_count": 37,
     "metadata": {},
     "output_type": "execute_result"
    }
   ],
   "source": [
    "# still strange. according csv file, the Date column is full!\n",
    "# let's print the rows where the Date cell is null\n",
    "df[df['Date'].isnull()]"
   ]
  },
  {
   "cell_type": "code",
   "execution_count": 38,
   "metadata": {
    "id": "v4UU_lNocEkK"
   },
   "outputs": [],
   "source": [
    "# Now we know the problem: even though there is no entry, the last 2 rows was accepted as regular rows.\n",
    "# The last two rows are actually empty! let's get rid off them\n",
    "series_of_bool_indicating_whether_column_is_empty = df.T.isnull().sum()==df.T.shape[0]\n",
    "for col_name, bool_value in series_of_bool_indicating_whether_column_is_empty.iteritems():\n",
    "    if bool_value:\n",
    "        df.drop([col_name],axis=0,inplace=True)"
   ]
  },
  {
   "cell_type": "code",
   "execution_count": 39,
   "metadata": {
    "colab": {
     "base_uri": "https://localhost:8080/"
    },
    "id": "92ooFnEWcEkK",
    "outputId": "831a9087-c62c-4d8d-837a-1fec85027481"
   },
   "outputs": [
    {
     "data": {
      "text/plain": [
       "(15, 17)"
      ]
     },
     "execution_count": 39,
     "metadata": {},
     "output_type": "execute_result"
    }
   ],
   "source": [
    "df.shape"
   ]
  },
  {
   "cell_type": "code",
   "execution_count": 40,
   "metadata": {
    "colab": {
     "base_uri": "https://localhost:8080/"
    },
    "id": "4RIQNZrzcEkK",
    "outputId": "c9570954-1153-4f93-ae6b-589e923ed8c0"
   },
   "outputs": [
    {
     "data": {
      "text/plain": [
       "2"
      ]
     },
     "execution_count": 40,
     "metadata": {},
     "output_type": "execute_result"
    }
   ],
   "source": [
    "df['FirstName'].isnull().sum()"
   ]
  },
  {
   "cell_type": "code",
   "execution_count": 41,
   "metadata": {
    "colab": {
     "base_uri": "https://localhost:8080/",
     "height": 443
    },
    "id": "K9ysLNQxcEkK",
    "outputId": "6081c4f5-66b2-477b-f79b-a7ceb975988d"
   },
   "outputs": [
    {
     "data": {
      "text/html": [
       "<div>\n",
       "<style scoped>\n",
       "    .dataframe tbody tr th:only-of-type {\n",
       "        vertical-align: middle;\n",
       "    }\n",
       "\n",
       "    .dataframe tbody tr th {\n",
       "        vertical-align: top;\n",
       "    }\n",
       "\n",
       "    .dataframe thead th {\n",
       "        text-align: right;\n",
       "    }\n",
       "</style>\n",
       "<table border=\"1\" class=\"dataframe\">\n",
       "  <thead>\n",
       "    <tr style=\"text-align: right;\">\n",
       "      <th></th>\n",
       "      <th>Date</th>\n",
       "      <th>Time</th>\n",
       "      <th>FirstName</th>\n",
       "      <th>LastName</th>\n",
       "      <th>Sex</th>\n",
       "      <th>Favourite Artist</th>\n",
       "      <th>Fav. Park Location</th>\n",
       "      <th>Home Address (Street)</th>\n",
       "      <th>Region</th>\n",
       "      <th>\"City\"</th>\n",
       "      <th>\"State\"</th>\n",
       "      <th>\"Age\"</th>\n",
       "      <th>\"Weight\"</th>\n",
       "      <th>\"BMI\"</th>\n",
       "      <th>Complete</th>\n",
       "      <th>Type</th>\n",
       "      <th>Complete as percentege</th>\n",
       "    </tr>\n",
       "  </thead>\n",
       "  <tbody>\n",
       "    <tr>\n",
       "      <th>0</th>\n",
       "      <td>10/5/13</td>\n",
       "      <td>7:30 AM</td>\n",
       "      <td>John</td>\n",
       "      <td>Doe</td>\n",
       "      <td>M</td>\n",
       "      <td>\"Jack Nicholson\"</td>\n",
       "      <td>(40.9099922695, -73.2632063245)</td>\n",
       "      <td>3526 HIGH ST</td>\n",
       "      <td>9.0</td>\n",
       "      <td>\"Youngstown\"</td>\n",
       "      <td>OH</td>\n",
       "      <td>60.0</td>\n",
       "      <td>59.0</td>\n",
       "      <td>22.02</td>\n",
       "      <td>85.50%</td>\n",
       "      <td>1.0</td>\n",
       "      <td>85.5</td>\n",
       "    </tr>\n",
       "    <tr>\n",
       "      <th>1</th>\n",
       "      <td>10/9/13</td>\n",
       "      <td>8:00 AM</td>\n",
       "      <td>Jack</td>\n",
       "      <td>McGinnis</td>\n",
       "      <td>M</td>\n",
       "      <td>\"Roberto Benigni\"</td>\n",
       "      <td>(40.9099922695, -73.2632063245)</td>\n",
       "      <td>51 OMAHA CT</td>\n",
       "      <td>9.0</td>\n",
       "      <td>\"Yankton\"</td>\n",
       "      <td>SD</td>\n",
       "      <td>12.0</td>\n",
       "      <td>86.0</td>\n",
       "      <td>19.70</td>\n",
       "      <td>85.50%</td>\n",
       "      <td>1.0</td>\n",
       "      <td>85.5</td>\n",
       "    </tr>\n",
       "    <tr>\n",
       "      <th>2</th>\n",
       "      <td>12/5/13</td>\n",
       "      <td>8:30 AM</td>\n",
       "      <td>John \"Da Man\"</td>\n",
       "      <td>Repici</td>\n",
       "      <td>M</td>\n",
       "      <td>\"Kevin Spacey\"</td>\n",
       "      <td>(40.9099922695, -73.2632063245)</td>\n",
       "      <td>2796 BRANCH ST</td>\n",
       "      <td>9.0</td>\n",
       "      <td>\"Yakima\"</td>\n",
       "      <td>WA</td>\n",
       "      <td>41.0</td>\n",
       "      <td>69.0</td>\n",
       "      <td>24.09</td>\n",
       "      <td>73%</td>\n",
       "      <td>1.0</td>\n",
       "      <td>73.0</td>\n",
       "    </tr>\n",
       "    <tr>\n",
       "      <th>3</th>\n",
       "      <td>1/2/14</td>\n",
       "      <td>9:00 AM</td>\n",
       "      <td>Stephen</td>\n",
       "      <td>Tyler</td>\n",
       "      <td>M</td>\n",
       "      <td>\"Russell Crowe\"</td>\n",
       "      <td>(43.3616709338, -76.4360441829)</td>\n",
       "      <td>2805 JANETTE WAY</td>\n",
       "      <td>5.0</td>\n",
       "      <td>\"Worcester\"</td>\n",
       "      <td>MA</td>\n",
       "      <td>22.0</td>\n",
       "      <td>88.0</td>\n",
       "      <td>26.97</td>\n",
       "      <td>27%</td>\n",
       "      <td>1.0</td>\n",
       "      <td>27.0</td>\n",
       "    </tr>\n",
       "    <tr>\n",
       "      <th>4</th>\n",
       "      <td>6/5/14</td>\n",
       "      <td>9:30 AM</td>\n",
       "      <td>NaN</td>\n",
       "      <td>Blankman</td>\n",
       "      <td>F</td>\n",
       "      <td>\"Denzel Washington\"</td>\n",
       "      <td>(42.9657659397, -78.9531063633)</td>\n",
       "      <td>6001 MCMAHON DR</td>\n",
       "      <td>1.0</td>\n",
       "      <td>\"Arlington\"</td>\n",
       "      <td>VA</td>\n",
       "      <td>5.0</td>\n",
       "      <td>64.0</td>\n",
       "      <td>21.51</td>\n",
       "      <td>78.30%</td>\n",
       "      <td>1.0</td>\n",
       "      <td>78.3</td>\n",
       "    </tr>\n",
       "  </tbody>\n",
       "</table>\n",
       "</div>"
      ],
      "text/plain": [
       "      Date     Time      FirstName  LastName Sex      Favourite Artist  \\\n",
       "0  10/5/13  7:30 AM           John       Doe   M      \"Jack Nicholson\"   \n",
       "1  10/9/13  8:00 AM           Jack  McGinnis   M     \"Roberto Benigni\"   \n",
       "2  12/5/13  8:30 AM  John \"Da Man\"    Repici   M        \"Kevin Spacey\"   \n",
       "3   1/2/14  9:00 AM        Stephen     Tyler   M       \"Russell Crowe\"   \n",
       "4   6/5/14  9:30 AM            NaN  Blankman   F   \"Denzel Washington\"   \n",
       "\n",
       "                Fav. Park Location Home Address (Street)  Region  \\\n",
       "0  (40.9099922695, -73.2632063245)          3526 HIGH ST     9.0   \n",
       "1  (40.9099922695, -73.2632063245)           51 OMAHA CT     9.0   \n",
       "2  (40.9099922695, -73.2632063245)        2796 BRANCH ST     9.0   \n",
       "3  (43.3616709338, -76.4360441829)      2805 JANETTE WAY     5.0   \n",
       "4  (42.9657659397, -78.9531063633)       6001 MCMAHON DR     1.0   \n",
       "\n",
       "          \"City\" \"State\"  \"Age\"  \"Weight\"  \"BMI\" Complete  Type  \\\n",
       "0   \"Youngstown\"      OH   60.0      59.0  22.02   85.50%   1.0   \n",
       "1      \"Yankton\"      SD   12.0      86.0  19.70   85.50%   1.0   \n",
       "2       \"Yakima\"      WA   41.0      69.0  24.09      73%   1.0   \n",
       "3    \"Worcester\"      MA   22.0      88.0  26.97      27%   1.0   \n",
       "4    \"Arlington\"      VA    5.0      64.0  21.51   78.30%   1.0   \n",
       "\n",
       "   Complete as percentege  \n",
       "0                    85.5  \n",
       "1                    85.5  \n",
       "2                    73.0  \n",
       "3                    27.0  \n",
       "4                    78.3  "
      ]
     },
     "execution_count": 41,
     "metadata": {},
     "output_type": "execute_result"
    }
   ],
   "source": [
    "df.head()"
   ]
  },
  {
   "cell_type": "code",
   "execution_count": 42,
   "metadata": {
    "colab": {
     "base_uri": "https://localhost:8080/",
     "height": 329
    },
    "id": "lTApN6D7cEkK",
    "outputId": "ecbf3695-fa11-416f-9424-85bcfd7e41a8"
   },
   "outputs": [
    {
     "data": {
      "text/html": [
       "<div>\n",
       "<style scoped>\n",
       "    .dataframe tbody tr th:only-of-type {\n",
       "        vertical-align: middle;\n",
       "    }\n",
       "\n",
       "    .dataframe tbody tr th {\n",
       "        vertical-align: top;\n",
       "    }\n",
       "\n",
       "    .dataframe thead th {\n",
       "        text-align: right;\n",
       "    }\n",
       "</style>\n",
       "<table border=\"1\" class=\"dataframe\">\n",
       "  <thead>\n",
       "    <tr style=\"text-align: right;\">\n",
       "      <th></th>\n",
       "      <th>Date</th>\n",
       "      <th>Time</th>\n",
       "      <th>FirstName</th>\n",
       "      <th>LastName</th>\n",
       "      <th>Sex</th>\n",
       "      <th>Favourite Artist</th>\n",
       "      <th>Fav. Park Location</th>\n",
       "      <th>Home Address (Street)</th>\n",
       "      <th>Region</th>\n",
       "      <th>\"City\"</th>\n",
       "      <th>\"State\"</th>\n",
       "      <th>\"Age\"</th>\n",
       "      <th>\"Weight\"</th>\n",
       "      <th>\"BMI\"</th>\n",
       "      <th>Complete</th>\n",
       "      <th>Type</th>\n",
       "      <th>Complete as percentege</th>\n",
       "    </tr>\n",
       "  </thead>\n",
       "  <tbody>\n",
       "    <tr>\n",
       "      <th>12</th>\n",
       "      <td>10/15/17</td>\n",
       "      <td>1:30 PM</td>\n",
       "      <td>Robert</td>\n",
       "      <td>Robertson</td>\n",
       "      <td>M</td>\n",
       "      <td>\"Jeff Bridges\"</td>\n",
       "      <td>(43.3417081221, -76.6913106828)</td>\n",
       "      <td>2930 LA ROSA RD</td>\n",
       "      <td>4.0</td>\n",
       "      <td>\"Williamson\"</td>\n",
       "      <td>WV</td>\n",
       "      <td>2.0</td>\n",
       "      <td>66.0</td>\n",
       "      <td>20.68</td>\n",
       "      <td>75.50%</td>\n",
       "      <td>1.0</td>\n",
       "      <td>75.5</td>\n",
       "    </tr>\n",
       "    <tr>\n",
       "      <th>13</th>\n",
       "      <td>10/5/18</td>\n",
       "      <td>2:00 PM</td>\n",
       "      <td>Emily</td>\n",
       "      <td>Foxx</td>\n",
       "      <td>F</td>\n",
       "      <td>\"Colin Firth\"</td>\n",
       "      <td>(43.0469783183, -75.9818848047)</td>\n",
       "      <td>2113 KIRK WAY</td>\n",
       "      <td>5.0</td>\n",
       "      <td>\"Wichita Falls\"</td>\n",
       "      <td>TX</td>\n",
       "      <td>13.0</td>\n",
       "      <td>55.0</td>\n",
       "      <td>20.97</td>\n",
       "      <td>73%</td>\n",
       "      <td>1.0</td>\n",
       "      <td>73.0</td>\n",
       "    </tr>\n",
       "    <tr>\n",
       "      <th>14</th>\n",
       "      <td>10/5/19</td>\n",
       "      <td>2:30 PM</td>\n",
       "      <td>Susan</td>\n",
       "      <td>Mancini</td>\n",
       "      <td>F</td>\n",
       "      <td>\"Jean Dujardin\"</td>\n",
       "      <td>(42.0930548903, -77.1547655357)</td>\n",
       "      <td>4533 LOCH HAVEN WAY</td>\n",
       "      <td>4.0</td>\n",
       "      <td>\"Wichita\"</td>\n",
       "      <td>KS</td>\n",
       "      <td>15.0</td>\n",
       "      <td>68.0</td>\n",
       "      <td>27.30</td>\n",
       "      <td>27%</td>\n",
       "      <td>1.0</td>\n",
       "      <td>27.0</td>\n",
       "    </tr>\n",
       "  </tbody>\n",
       "</table>\n",
       "</div>"
      ],
      "text/plain": [
       "        Date     Time FirstName   LastName Sex  Favourite Artist  \\\n",
       "12  10/15/17  1:30 PM    Robert  Robertson   M    \"Jeff Bridges\"   \n",
       "13   10/5/18  2:00 PM     Emily       Foxx   F     \"Colin Firth\"   \n",
       "14   10/5/19  2:30 PM     Susan    Mancini   F   \"Jean Dujardin\"   \n",
       "\n",
       "                 Fav. Park Location Home Address (Street)  Region  \\\n",
       "12  (43.3417081221, -76.6913106828)       2930 LA ROSA RD     4.0   \n",
       "13  (43.0469783183, -75.9818848047)         2113 KIRK WAY     5.0   \n",
       "14  (42.0930548903, -77.1547655357)   4533 LOCH HAVEN WAY     4.0   \n",
       "\n",
       "              \"City\" \"State\"  \"Age\"  \"Weight\"  \"BMI\" Complete  Type  \\\n",
       "12      \"Williamson\"      WV    2.0      66.0  20.68   75.50%   1.0   \n",
       "13   \"Wichita Falls\"      TX   13.0      55.0  20.97      73%   1.0   \n",
       "14         \"Wichita\"      KS   15.0      68.0  27.30      27%   1.0   \n",
       "\n",
       "    Complete as percentege  \n",
       "12                    75.5  \n",
       "13                    73.0  \n",
       "14                    27.0  "
      ]
     },
     "execution_count": 42,
     "metadata": {},
     "output_type": "execute_result"
    }
   ],
   "source": [
    "df.tail(3)"
   ]
  },
  {
   "cell_type": "code",
   "execution_count": 43,
   "metadata": {
    "id": "Chtam1eqcEkK"
   },
   "outputs": [],
   "source": [
    "#However, this is python. there must be an easier way of removing empty rows and columns "
   ]
  },
  {
   "cell_type": "code",
   "execution_count": 44,
   "metadata": {
    "colab": {
     "base_uri": "https://localhost:8080/"
    },
    "id": "P-17tFWHcEkK",
    "outputId": "34eae660-8dcf-4ab2-e307-530bc158fdb9"
   },
   "outputs": [
    {
     "name": "stdout",
     "output_type": "stream",
     "text": [
      "before: (17, 17)\n",
      "after: (15, 16)\n"
     ]
    }
   ],
   "source": [
    "url = 'https://raw.githubusercontent.com/fgonzaleumbc/Data601_fall2022/main/Datasets/sample_dataset.csv'\n",
    "df = pandas.read_csv(url, skiprows=1, low_memory=False)\n",
    "print('before:',df.shape)\n",
    "#\n",
    "df.dropna(how='all',axis=0,inplace=True) # rows \n",
    "df.dropna(how='all',axis=1,inplace=True) # columns\n",
    "#\n",
    "print('after:',df.shape)"
   ]
  },
  {
   "cell_type": "code",
   "execution_count": 45,
   "metadata": {
    "colab": {
     "base_uri": "https://localhost:8080/"
    },
    "id": "Jo3UMWfycEkL",
    "outputId": "ea054f97-de19-4e23-aa18-86c69da24825"
   },
   "outputs": [
    {
     "name": "stdout",
     "output_type": "stream",
     "text": [
      "Type\n"
     ]
    }
   ],
   "source": [
    "# Are there columns where all rows have the same value?\n",
    "for this_column in df.columns:\n",
    "    if (df[this_column].nunique()==1):\n",
    "        print(this_column)"
   ]
  },
  {
   "cell_type": "code",
   "execution_count": 46,
   "metadata": {
    "colab": {
     "base_uri": "https://localhost:8080/"
    },
    "id": "mDJvIlxqcEkL",
    "outputId": "80c7d431-4723-4311-e9d8-e012b40d0e45"
   },
   "outputs": [
    {
     "name": "stdout",
     "output_type": "stream",
     "text": [
      "before: (15, 16)\n",
      "after: (15, 15)\n"
     ]
    }
   ],
   "source": [
    "print('before:',df.shape)\n",
    "#\n",
    "for this_column in df.columns:\n",
    "    if (df[this_column].nunique()==1):\n",
    "        df.drop([this_column],axis=1,inplace=True)\n",
    "#        \n",
    "print('after:',df.shape)"
   ]
  },
  {
   "cell_type": "code",
   "execution_count": 47,
   "metadata": {
    "id": "hF2sdrjMcEkL"
   },
   "outputs": [],
   "source": [
    "# We can inspect the remaining columns\n",
    "def uniq_per_col(df,count):\n",
    "    for this_column in df.columns:\n",
    "        print(\"==== \",this_column,\"has\",df[this_column].nunique(),\"unique entries ====\")\n",
    "        print(df[this_column].value_counts().head(count))"
   ]
  },
  {
   "cell_type": "code",
   "execution_count": 48,
   "metadata": {
    "colab": {
     "base_uri": "https://localhost:8080/"
    },
    "id": "hw9ZCnDWcEkL",
    "outputId": "daa2533f-2f83-412d-b5a5-3ba97e33d440"
   },
   "outputs": [
    {
     "name": "stdout",
     "output_type": "stream",
     "text": [
      "====  Date has 13 unique entries ====\n",
      "10/5/14    2\n",
      "10/5/16    2\n",
      "10/5/13    1\n",
      "10/9/13    1\n",
      "12/5/13    1\n",
      "Name: Date, dtype: int64\n",
      "====  Time has 15 unique entries ====\n",
      "7:30 AM    1\n",
      "8:00 AM    1\n",
      "8:30 AM    1\n",
      "9:00 AM    1\n",
      "9:30 AM    1\n",
      "Name: Time, dtype: int64\n",
      "====  FirstName has 12 unique entries ====\n",
      "Susan            2\n",
      "John             1\n",
      "Jack             1\n",
      "John \"Da Man\"    1\n",
      "Stephen          1\n",
      "Name: FirstName, dtype: int64\n",
      "====  LastName has 14 unique entries ====\n",
      "Doe         1\n",
      "McGinnis    1\n",
      "Repici      1\n",
      "Tyler       1\n",
      "Blankman    1\n",
      "Name: LastName, dtype: int64\n",
      "====  Sex has 2 unique entries ====\n",
      "F    8\n",
      "M    7\n",
      "Name: Sex, dtype: int64\n",
      "====  Favourite Artist has 14 unique entries ====\n",
      " \"Sean Penn\"          2\n",
      " \"Jack Nicholson\"     1\n",
      " \"Roberto Benigni\"    1\n",
      " \"Kevin Spacey\"       1\n",
      " \"Russell Crowe\"      1\n",
      "Name: Favourite Artist, dtype: int64\n",
      "====  Fav. Park Location has 9 unique entries ====\n",
      "(40.7475174105, -73.4568035403)    5\n",
      "(40.9099922695, -73.2632063245)    3\n",
      "(43.3616709338, -76.4360441829)    1\n",
      "(42.9657659397, -78.9531063633)    1\n",
      "(42.6731942171, -76.8677249793)    1\n",
      "Name: Fav. Park Location, dtype: int64\n",
      "====  Home Address (Street) has 14 unique entries ====\n",
      "3526 HIGH ST        1\n",
      "51 OMAHA CT         1\n",
      "2796 BRANCH ST      1\n",
      "2805 JANETTE WAY    1\n",
      "6001 MCMAHON DR     1\n",
      "Name: Home Address (Street), dtype: int64\n",
      "====  Region has 4 unique entries ====\n",
      "9.0    7\n",
      "5.0    3\n",
      "4.0    3\n",
      "1.0    1\n",
      "Name: Region, dtype: int64\n",
      "====  \"City\" has 14 unique entries ====\n",
      " \"Wilmington\"    2\n",
      " \"Youngstown\"    1\n",
      " \"Yankton\"       1\n",
      " \"Yakima\"        1\n",
      " \"Worcester\"     1\n",
      "Name: \"City\", dtype: int64\n",
      "====  \"State\" has 14 unique entries ====\n",
      " NC    2\n",
      " OH    1\n",
      " SD    1\n",
      " WA    1\n",
      " MA    1\n",
      "Name: \"State\", dtype: int64\n",
      "====  \"Age\" has 14 unique entries ====\n",
      "18.0    2\n",
      "60.0    1\n",
      "12.0    1\n",
      "41.0    1\n",
      "22.0    1\n",
      "Name: \"Age\", dtype: int64\n",
      "====  \"Weight\" has 12 unique entries ====\n",
      "69.0    2\n",
      "55.0    2\n",
      "68.0    2\n",
      "59.0    1\n",
      "86.0    1\n",
      "Name: \"Weight\", dtype: int64\n",
      "====  \"BMI\" has 15 unique entries ====\n",
      "22.02    1\n",
      "19.70    1\n",
      "24.09    1\n",
      "26.97    1\n",
      "21.51    1\n",
      "Name: \"BMI\", dtype: int64\n",
      "====  Complete has 6 unique entries ====\n",
      "85.50%    4\n",
      "73%       3\n",
      "27%       3\n",
      "78.30%    2\n",
      "25.60%    2\n",
      "Name: Complete, dtype: int64\n"
     ]
    }
   ],
   "source": [
    "uniq_per_col(df,5)"
   ]
  },
  {
   "cell_type": "code",
   "execution_count": 49,
   "metadata": {
    "colab": {
     "base_uri": "https://localhost:8080/"
    },
    "id": "Q8VVtrLJcEkL",
    "outputId": "44669e8f-0428-4ee7-dd66-7b16ea6ab181"
   },
   "outputs": [
    {
     "name": "stdout",
     "output_type": "stream",
     "text": [
      "Defaulting to user installation because normal site-packages is not writeable\n",
      "Requirement already satisfied: missingno in c:\\users\\felix\\appdata\\roaming\\python\\python39\\site-packages (0.5.1)\n",
      "Requirement already satisfied: numpy in c:\\programdata\\anaconda3\\lib\\site-packages (from missingno) (1.21.5)\n",
      "Requirement already satisfied: scipy in c:\\programdata\\anaconda3\\lib\\site-packages (from missingno) (1.7.3)\n",
      "Requirement already satisfied: matplotlib in c:\\programdata\\anaconda3\\lib\\site-packages (from missingno) (3.5.1)\n",
      "Requirement already satisfied: seaborn in c:\\programdata\\anaconda3\\lib\\site-packages (from missingno) (0.11.2)\n",
      "Requirement already satisfied: python-dateutil>=2.7 in c:\\programdata\\anaconda3\\lib\\site-packages (from matplotlib->missingno) (2.8.2)\n",
      "Requirement already satisfied: cycler>=0.10 in c:\\programdata\\anaconda3\\lib\\site-packages (from matplotlib->missingno) (0.11.0)\n",
      "Requirement already satisfied: pyparsing>=2.2.1 in c:\\programdata\\anaconda3\\lib\\site-packages (from matplotlib->missingno) (3.0.4)\n",
      "Requirement already satisfied: pillow>=6.2.0 in c:\\programdata\\anaconda3\\lib\\site-packages (from matplotlib->missingno) (9.0.1)\n",
      "Requirement already satisfied: packaging>=20.0 in c:\\programdata\\anaconda3\\lib\\site-packages (from matplotlib->missingno) (21.3)\n",
      "Requirement already satisfied: fonttools>=4.22.0 in c:\\programdata\\anaconda3\\lib\\site-packages (from matplotlib->missingno) (4.25.0)\n",
      "Requirement already satisfied: kiwisolver>=1.0.1 in c:\\programdata\\anaconda3\\lib\\site-packages (from matplotlib->missingno) (1.3.2)\n",
      "Requirement already satisfied: six>=1.5 in c:\\programdata\\anaconda3\\lib\\site-packages (from python-dateutil>=2.7->matplotlib->missingno) (1.16.0)\n",
      "Requirement already satisfied: pandas>=0.23 in c:\\programdata\\anaconda3\\lib\\site-packages (from seaborn->missingno) (1.4.2)\n",
      "Requirement already satisfied: pytz>=2020.1 in c:\\programdata\\anaconda3\\lib\\site-packages (from pandas>=0.23->seaborn->missingno) (2021.3)\n"
     ]
    }
   ],
   "source": [
    "!pip install missingno"
   ]
  },
  {
   "cell_type": "code",
   "execution_count": 50,
   "metadata": {
    "id": "j6-iMRnQcEkL"
   },
   "outputs": [],
   "source": [
    "import missingno as msno"
   ]
  },
  {
   "cell_type": "code",
   "execution_count": 51,
   "metadata": {
    "id": "Es0ZEuPJcEkL"
   },
   "outputs": [],
   "source": [
    "import matplotlib.pylab as plt"
   ]
  },
  {
   "cell_type": "code",
   "execution_count": 52,
   "metadata": {
    "id": "5FxsJlw1cEkL"
   },
   "outputs": [],
   "source": [
    "pandas.options.display.max_rows = 999\n",
    "pandas.set_option('display.max_columns', 500)"
   ]
  },
  {
   "cell_type": "code",
   "execution_count": 53,
   "metadata": {
    "colab": {
     "base_uri": "https://localhost:8080/"
    },
    "id": "JUFytkcLcEkM",
    "outputId": "22cc9867-fbe3-486f-b8da-f7fa10c1edea"
   },
   "outputs": [
    {
     "data": {
      "text/plain": [
       "(17, 17)"
      ]
     },
     "execution_count": 53,
     "metadata": {},
     "output_type": "execute_result"
    }
   ],
   "source": [
    "url = 'https://raw.githubusercontent.com/fgonzaleumbc/Data601_fall2022/main/Datasets/sample_dataset.csv'\n",
    "df = pandas.read_csv(url, skiprows=1, low_memory=False)\n",
    "df.shape"
   ]
  },
  {
   "cell_type": "code",
   "execution_count": 54,
   "metadata": {
    "colab": {
     "base_uri": "https://localhost:8080/",
     "height": 463
    },
    "id": "BMeDtKdHcEkM",
    "outputId": "a6baa205-c322-47f6-b635-2fcfacd6f89c"
   },
   "outputs": [
    {
     "data": {
      "text/plain": [
       "<AxesSubplot:>"
      ]
     },
     "execution_count": 54,
     "metadata": {},
     "output_type": "execute_result"
    },
    {
     "data": {
      "image/png": "[encoded data removed]",
      "text/plain": [
       "<Figure size 1800x720 with 2 Axes>"
      ]
     },
     "metadata": {
      "needs_background": "light"
     },
     "output_type": "display_data"
    }
   ],
   "source": [
    "msno.matrix(df.sample(17))"
   ]
  },
  {
   "cell_type": "code",
   "execution_count": 55,
   "metadata": {
    "colab": {
     "base_uri": "https://localhost:8080/"
    },
    "id": "JZB6UaLScEkM",
    "outputId": "46320254-e7ce-4269-8e0e-1f809a202a0b"
   },
   "outputs": [
    {
     "data": {
      "text/plain": [
       "(15, 16)"
      ]
     },
     "execution_count": 55,
     "metadata": {},
     "output_type": "execute_result"
    }
   ],
   "source": [
    "df.dropna(how='all',axis=0,inplace=True) # rows \n",
    "df.dropna(how='all',axis=1,inplace=True) # columns\n",
    "df.shape"
   ]
  },
  {
   "cell_type": "code",
   "execution_count": 56,
   "metadata": {
    "colab": {
     "base_uri": "https://localhost:8080/",
     "height": 463
    },
    "id": "n6DVrNCrcEkM",
    "outputId": "23dcf1f2-85d4-4795-925e-e7825e110417"
   },
   "outputs": [
    {
     "data": {
      "text/plain": [
       "<AxesSubplot:>"
      ]
     },
     "execution_count": 56,
     "metadata": {},
     "output_type": "execute_result"
    },
    {
     "data": {
      "image/png": "[encoded data removed]",
      "text/plain": [
       "<Figure size 1800x720 with 2 Axes>"
      ]
     },
     "metadata": {
      "needs_background": "light"
     },
     "output_type": "display_data"
    }
   ],
   "source": [
    "msno.matrix(df.sample(15))"
   ]
  },
  {
   "cell_type": "code",
   "execution_count": null,
   "metadata": {
    "id": "Psys9Z_YHIbo"
   },
   "outputs": [],
   "source": []
  }
 ],
 "metadata": {
  "colab": {
   "collapsed_sections": [],
   "include_colab_link": true,
   "name": "DATA601_Pandas_Example.ipynb",
   "provenance": []
  },
  "kernelspec": {
   "display_name": "Python 3 (ipykernel)",
   "language": "python",
   "name": "python3"
  },
  "language_info": {
   "codemirror_mode": {
    "name": "ipython",
    "version": 3
   },
   "file_extension": ".py",
   "mimetype": "text/x-python",
   "name": "python",
   "nbconvert_exporter": "python",
   "pygments_lexer": "ipython3",
   "version": "3.9.12"
  }
 },
 "nbformat": 4,
 "nbformat_minor": 1
}
