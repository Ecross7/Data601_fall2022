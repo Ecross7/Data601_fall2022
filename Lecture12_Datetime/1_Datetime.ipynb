{
 "cells": [
  {
   "cell_type": "markdown",
   "metadata": {
    "id": "7Z4Yq-IZA0af"
   },
   "source": [
    "# Date and Times in Python"
   ]
  },
  {
   "cell_type": "markdown",
   "metadata": {
    "id": "LACcW1a8Fgg7"
   },
   "source": [
    "Most of the content presented in this notebook is inspired by the following content.\n",
    "\n",
    "[Python Data Science Handbook](https://jakevdp.github.io/PythonDataScienceHandbook/03.11-working-with-time-series.html)\n",
    "\n",
    "[Python Pandas Tutorial (Part 10): Working with Dates and Time Series Data](https://www.youtube.com/watch?v=UFuo7EHI8zc&ab_channel=CoreySchafer)"
   ]
  },
  {
   "cell_type": "markdown",
   "metadata": {
    "id": "98Y7ybTFA5gF"
   },
   "source": [
    "# Datetime Module"
   ]
  },
  {
   "cell_type": "code",
   "execution_count": 1,
   "metadata": {
    "executionInfo": {
     "elapsed": 6,
     "status": "ok",
     "timestamp": 1652452014831,
     "user": {
      "displayName": "Ergun Simsek",
      "userId": "16739529127101354422"
     },
     "user_tz": 240
    },
    "id": "24K989UByebb"
   },
   "outputs": [],
   "source": [
    "## import datetime module\n",
    "from datetime import datetime"
   ]
  },
  {
   "cell_type": "markdown",
   "metadata": {
    "id": "gTCtQ8A0zhjD"
   },
   "source": [
    "[Datetime source code](https://github.com/python/cpython/blob/3.10/Lib/datetime.py)\n",
    "\n",
    "[Datetime Python Documentation](https://docs.python.org/3/library/datetime.html)\n",
    "\n",
    "Datetime Arguments: [Reference to the documentation](https://docs.python.org/3/library/datetime.html#datetime.datetime)\n",
    "\n",
    "Depending on can be either aware or naive depending on use of timezones. Aware object can locate itself relative to other aware objects while naive object do not contain enough information to unambiguously locate itself relative to other date/time objects. [Datetime 'Aware` and `naive` object categories](https://docs.python.org/3/library/datetime.html#aware-and-naive-objects)\n",
    "\n",
    "\n",
    "See documentation section on \"strftime() and strptime() Format Codes.\" Some importat format codes:\n",
    "\n",
    "Directive          |  Meaning\n",
    "-------------------|------------------\n",
    "%a                 |  Weekday as locale’s abbreviated name.\n",
    "%A                 | Weekday as locale’s full name.\n",
    "%w                 | Weekday as a decimal number, where 0 is Sunday and 6 is Saturday.\n",
    "%d                 | Day of the month as a zero-padded decimal number.\n",
    "%b                 | Month as locale’s abbreviated name.\n",
    "%B                 | Month as locale’s full name.\n",
    "%m                 | Month as a zero-padded decimal number.\n",
    "%y                 | Year without century as a zero-padded decimal number.\n",
    "%Y                 | Year with century as a decimal number.\n",
    "%H                 | Hour (24-hour clock) as a zero-padded decimal number.\n",
    "%I                 | Hour (12-hour clock) as a zero-padded decimal number.\n",
    "%p                 | Locale’s equivalent of either AM or PM.\n",
    "%M                 | Minute as a zero-padded decimal number.\n",
    "%S                 | Second as a zero-padded decimal number.\n",
    "%j                 | Day of the year as a zero-padded decimal number."
   ]
  },
  {
   "cell_type": "code",
   "execution_count": 2,
   "metadata": {
    "executionInfo": {
     "elapsed": 5,
     "status": "ok",
     "timestamp": 1652452014831,
     "user": {
      "displayName": "Ergun Simsek",
      "userId": "16739529127101354422"
     },
     "user_tz": 240
    },
    "id": "6dOYfj4eyk7A"
   },
   "outputs": [
    {
     "data": {
      "text/plain": [
       "'Thursday'"
      ]
     },
     "execution_count": 2,
     "metadata": {},
     "output_type": "execute_result"
    }
   ],
   "source": [
    "## now we can create a datetime object\n",
    "today = datetime(year = 2021, month = 10, day = 28)\n",
    "today.strftime('%A')"
   ]
  },
  {
   "cell_type": "code",
   "execution_count": 3,
   "metadata": {},
   "outputs": [
    {
     "name": "stdout",
     "output_type": "stream",
     "text": [
      "2022-11-21 19:51:46.404345\n",
      "Mon\n",
      "Monday\n",
      "1\n",
      "21\n",
      "Nov\n",
      "November\n",
      "2022\n"
     ]
    }
   ],
   "source": [
    "datetime_now = datetime.now()\n",
    "print(datetime_now) # Time at the moment the cell ran.\n",
    "print(datetime_now.strftime('%a')) # Weekday as locale’s abbreviated name.\n",
    "print(datetime_now.strftime('%A')) # Weekday as locale’s full name.\n",
    "print(datetime_now.strftime('%w')) # Weekday as a decimal number, where 0 is Sunday and 6 is Saturday.\n",
    "print(datetime_now.strftime('%d')) # Day of the month as a zero-padded decimal number.\n",
    "print(datetime_now.strftime('%b')) # Month as locale’s abbreviated name.\n",
    "print(datetime_now.strftime('%B')) # Month as locale’s full name.\n",
    "print(datetime_now.strftime('%Y')) # Year with century as a decimal number."
   ]
  },
  {
   "cell_type": "code",
   "execution_count": 4,
   "metadata": {},
   "outputs": [
    {
     "data": {
      "text/plain": [
       "'Today is Monday November 21, 2022.'"
      ]
     },
     "execution_count": 4,
     "metadata": {},
     "output_type": "execute_result"
    }
   ],
   "source": [
    "# Strtime works similar to print function.\n",
    "datetime_now.strftime('Today is %A %B %d, %Y.')"
   ]
  },
  {
   "cell_type": "code",
   "execution_count": 5,
   "metadata": {},
   "outputs": [
    {
     "data": {
      "text/plain": [
       "datetime.datetime"
      ]
     },
     "execution_count": 5,
     "metadata": {},
     "output_type": "execute_result"
    }
   ],
   "source": [
    "type(datetime_now)\n",
    "# Note that datetime object/data type."
   ]
  },
  {
   "cell_type": "code",
   "execution_count": 6,
   "metadata": {},
   "outputs": [
    {
     "data": {
      "text/plain": [
       "datetime.date(2001, 6, 1)"
      ]
     },
     "execution_count": 6,
     "metadata": {},
     "output_type": "execute_result"
    }
   ],
   "source": [
    "# Converts a string to a datetime as specified in the format.\n",
    "string_to_date = datetime.strptime('06-01-2001', '%m-%d-%Y').date() \n",
    "string_to_date"
   ]
  },
  {
   "cell_type": "markdown",
   "metadata": {
    "id": "4SmCkUDAA-Kb"
   },
   "source": [
    "# Dateutil Library\n",
    "[Dateutil - Pypi](https://pypi.org/project/python-dateutil/)"
   ]
  },
  {
   "cell_type": "code",
   "execution_count": 7,
   "metadata": {
    "executionInfo": {
     "elapsed": 144,
     "status": "ok",
     "timestamp": 1652452014972,
     "user": {
      "displayName": "Ergun Simsek",
      "userId": "16739529127101354422"
     },
     "user_tz": 240
    },
    "id": "muRO6T3A0bRI"
   },
   "outputs": [],
   "source": [
    "## We could also use dateutil library to parse time and date\n",
    "## Note that dateutil is a third-party library.\n",
    "## let's import parser from dateutil.\n",
    "\n",
    "from dateutil import parser"
   ]
  },
  {
   "cell_type": "code",
   "execution_count": 8,
   "metadata": {
    "colab": {
     "base_uri": "https://localhost:8080/"
    },
    "executionInfo": {
     "elapsed": 125,
     "status": "ok",
     "timestamp": 1652452015096,
     "user": {
      "displayName": "Ergun Simsek",
      "userId": "16739529127101354422"
     },
     "user_tz": 240
    },
    "id": "p01sTTWp2AV6",
    "outputId": "a9abff32-2774-4d6e-c7fe-6639a5f477d1"
   },
   "outputs": [
    {
     "data": {
      "text/plain": [
       "datetime.datetime(2021, 7, 4, 0, 0)"
      ]
     },
     "execution_count": 8,
     "metadata": {},
     "output_type": "execute_result"
    }
   ],
   "source": [
    "## Parser allow us to convert strings to datetime.datetime objects\n",
    "parser.parse('July 4th of 2021')\n",
    "## Parser has a parse method to parse strings"
   ]
  },
  {
   "cell_type": "code",
   "execution_count": 9,
   "metadata": {},
   "outputs": [
    {
     "data": {
      "text/plain": [
       "datetime.datetime(2021, 7, 4, 0, 0)"
      ]
     },
     "execution_count": 9,
     "metadata": {},
     "output_type": "execute_result"
    }
   ],
   "source": [
    "parser.parse('07/04/2021')"
   ]
  },
  {
   "cell_type": "markdown",
   "metadata": {
    "id": "TOPkgsSH3tKX"
   },
   "source": [
    "Note that the result is `datetime` object. Parser also recognizes other date formats."
   ]
  },
  {
   "cell_type": "code",
   "execution_count": 10,
   "metadata": {
    "colab": {
     "base_uri": "https://localhost:8080/"
    },
    "executionInfo": {
     "elapsed": 5,
     "status": "ok",
     "timestamp": 1652452015096,
     "user": {
      "displayName": "Ergun Simsek",
      "userId": "16739529127101354422"
     },
     "user_tz": 240
    },
    "id": "YPyOEACc2q9B",
    "outputId": "abaa999b-b335-472c-c567-e9a5ca1839c2"
   },
   "outputs": [
    {
     "name": "stdout",
     "output_type": "stream",
     "text": [
      "2021-07-04 00:00:00\n"
     ]
    },
    {
     "data": {
      "text/plain": [
       "datetime.datetime(2021, 7, 4, 0, 0)"
      ]
     },
     "execution_count": 10,
     "metadata": {},
     "output_type": "execute_result"
    }
   ],
   "source": [
    "print(parser.parse('4th of July --- 2021')) # This prints the date and time if any was included.\n",
    "parser.parse('4th of July --- 2021') # This returns the datetime and parameters"
   ]
  },
  {
   "cell_type": "code",
   "execution_count": 11,
   "metadata": {},
   "outputs": [
    {
     "data": {
      "text/plain": [
       "datetime.datetime(2021, 7, 4, 0, 0)"
      ]
     },
     "execution_count": 11,
     "metadata": {},
     "output_type": "execute_result"
    }
   ],
   "source": [
    "parser.parse('2021, July 4')"
   ]
  },
  {
   "cell_type": "code",
   "execution_count": 12,
   "metadata": {},
   "outputs": [
    {
     "data": {
      "text/plain": [
       "datetime.datetime(2021, 7, 4, 0, 0)"
      ]
     },
     "execution_count": 12,
     "metadata": {},
     "output_type": "execute_result"
    }
   ],
   "source": [
    "parser.parse('2021/07/04')"
   ]
  },
  {
   "cell_type": "code",
   "execution_count": 13,
   "metadata": {},
   "outputs": [
    {
     "data": {
      "text/plain": [
       "datetime.datetime(2021, 10, 28, 0, 0)"
      ]
     },
     "execution_count": 13,
     "metadata": {},
     "output_type": "execute_result"
    }
   ],
   "source": [
    "parser.parse('28th Oct. 2021')"
   ]
  },
  {
   "cell_type": "markdown",
   "metadata": {
    "id": "onIM8wxU3B7c"
   },
   "source": [
    "# Working with `datetime` object"
   ]
  },
  {
   "cell_type": "code",
   "execution_count": 14,
   "metadata": {
    "executionInfo": {
     "elapsed": 4,
     "status": "ok",
     "timestamp": 1652452015097,
     "user": {
      "displayName": "Ergun Simsek",
      "userId": "16739529127101354422"
     },
     "user_tz": 240
    },
    "id": "Y5FdIaz53rpn"
   },
   "outputs": [],
   "source": [
    "## let's create a datetime object let's say my birthday 03-15-1982\n",
    "my_birthday = datetime(year= 1982, month = 3, day =15)"
   ]
  },
  {
   "cell_type": "code",
   "execution_count": 15,
   "metadata": {
    "colab": {
     "base_uri": "https://localhost:8080/",
     "height": 35
    },
    "executionInfo": {
     "elapsed": 4,
     "status": "ok",
     "timestamp": 1652452015097,
     "user": {
      "displayName": "Ergun Simsek",
      "userId": "16739529127101354422"
     },
     "user_tz": 240
    },
    "id": "hCFeOnZY5I2x",
    "outputId": "f624e786-db1a-4d69-a519-f8455fc807d6"
   },
   "outputs": [
    {
     "data": {
      "text/plain": [
       "'Monday'"
      ]
     },
     "execution_count": 15,
     "metadata": {},
     "output_type": "execute_result"
    }
   ],
   "source": [
    "## We can check the day of the week\n",
    "my_birthday.strftime('%A')"
   ]
  },
  {
   "cell_type": "code",
   "execution_count": 16,
   "metadata": {
    "colab": {
     "base_uri": "https://localhost:8080/",
     "height": 35
    },
    "executionInfo": {
     "elapsed": 129,
     "status": "ok",
     "timestamp": 1652452015223,
     "user": {
      "displayName": "Ergun Simsek",
      "userId": "16739529127101354422"
     },
     "user_tz": 240
    },
    "id": "VemJBMjW3_bQ",
    "outputId": "9f355488-3af8-4334-b4c1-ee3a0ae82a80"
   },
   "outputs": [
    {
     "data": {
      "text/plain": [
       "'(Mon)-15/March--1982'"
      ]
     },
     "execution_count": 16,
     "metadata": {},
     "output_type": "execute_result"
    }
   ],
   "source": [
    "## note that using .strftime method we can convert the time into any string format.\n",
    "my_birthday.strftime('(%a)-%d/%B--%Y')"
   ]
  },
  {
   "cell_type": "markdown",
   "metadata": {
    "id": "AzPJSCwg57w9"
   },
   "source": [
    "[Reference to `strfformat` directives](https://docs.python.org/3/library/datetime.html#strftime-and-strptime-behavior)"
   ]
  },
  {
   "cell_type": "markdown",
   "metadata": {
    "id": "RUwliQF54wQa"
   },
   "source": [
    "# Numpy \"datetime64\" type"
   ]
  },
  {
   "cell_type": "markdown",
   "metadata": {
    "id": "ib7p5Z6mjHEU"
   },
   "source": [
    "Numpy also has a datetime data type which can be used with vectorized operations in arrays.\n",
    "\n",
    "[Numpy-Datetime Documentation](https://numpy.org/doc/stable/reference/arrays.datetime.html) \n",
    "\n",
    "[All available datetime-units](https://numpy.org/doc/stable/reference/arrays.datetime.html#datetime-units)"
   ]
  },
  {
   "cell_type": "code",
   "execution_count": 17,
   "metadata": {
    "executionInfo": {
     "elapsed": 6,
     "status": "ok",
     "timestamp": 1652452015223,
     "user": {
      "displayName": "Ergun Simsek",
      "userId": "16739529127101354422"
     },
     "user_tz": 240
    },
    "id": "sgcp3S7X9mdm"
   },
   "outputs": [],
   "source": [
    "import numpy as np"
   ]
  },
  {
   "cell_type": "code",
   "execution_count": 18,
   "metadata": {
    "colab": {
     "base_uri": "https://localhost:8080/"
    },
    "executionInfo": {
     "elapsed": 6,
     "status": "ok",
     "timestamp": 1652452015224,
     "user": {
      "displayName": "Ergun Simsek",
      "userId": "16739529127101354422"
     },
     "user_tz": 240
    },
    "id": "nKa3XZcJ96Hk",
    "outputId": "d62422ec-777f-4d46-ee3f-0df74ce2a90c"
   },
   "outputs": [
    {
     "data": {
      "text/plain": [
       "array(['2021-10-28'], dtype='datetime64[D]')"
      ]
     },
     "execution_count": 18,
     "metadata": {},
     "output_type": "execute_result"
    }
   ],
   "source": [
    "## note that in the case of working with a lot dates and time \n",
    "## this is the compact way to store data\n",
    "date = np.array(['2021-10-28'], dtype = 'datetime64')\n",
    "## use np.array with dtype argument to create today as np.datetime64 object\n",
    "date"
   ]
  },
  {
   "cell_type": "code",
   "execution_count": 19,
   "metadata": {
    "colab": {
     "base_uri": "https://localhost:8080/"
    },
    "executionInfo": {
     "elapsed": 4,
     "status": "ok",
     "timestamp": 1652452015224,
     "user": {
      "displayName": "Ergun Simsek",
      "userId": "16739529127101354422"
     },
     "user_tz": 240
    },
    "id": "GfHj_xil-G1D",
    "outputId": "38f7cb85-e2d1-4275-bbf8-33674bd0e1df"
   },
   "outputs": [
    {
     "data": {
      "text/plain": [
       "array(['2021-10-28', '2021-10-29', '2021-10-30', '2021-10-31',\n",
       "       '2021-11-01', '2021-11-02', '2021-11-03', '2021-11-04',\n",
       "       '2021-11-05', '2021-11-06'], dtype='datetime64[D]')"
      ]
     },
     "execution_count": 19,
     "metadata": {},
     "output_type": "execute_result"
    }
   ],
   "source": [
    "## Note that we can easily apply vectorized operations.\n",
    "date + np.arange(10) # Np.arrange produces integers from 0 to 9."
   ]
  },
  {
   "cell_type": "markdown",
   "metadata": {
    "id": "cSaxVYZd_n03"
   },
   "source": [
    "Note that numpy automatically choosed 'D' as the unit."
   ]
  },
  {
   "cell_type": "code",
   "execution_count": 20,
   "metadata": {
    "colab": {
     "base_uri": "https://localhost:8080/"
    },
    "executionInfo": {
     "elapsed": 3,
     "status": "ok",
     "timestamp": 1652452015357,
     "user": {
      "displayName": "Ergun Simsek",
      "userId": "16739529127101354422"
     },
     "user_tz": 240
    },
    "id": "21Vjf8D7ALNB",
    "outputId": "f4983ef7-b43f-4545-aafe-44465a0e335f"
   },
   "outputs": [
    {
     "data": {
      "text/plain": [
       "array(['2021', '2022', '2023', '2024', '2025', '2026', '2027', '2028',\n",
       "       '2029', '2030', '2031', '2032'], dtype='datetime64[Y]')"
      ]
     },
     "execution_count": 20,
     "metadata": {},
     "output_type": "execute_result"
    }
   ],
   "source": [
    "## We can select second as the unit and let's see the difference\n",
    "date = np.array(['2021-10-28'], dtype = 'datetime64[Y]')\n",
    "\n",
    "date + np.arange(12)"
   ]
  },
  {
   "cell_type": "markdown",
   "metadata": {
    "id": "Wwtl5Xuc_hDL"
   },
   "source": [
    "## Date and Times in Pandas\n",
    "\n",
    "[pd.to_datetime](https://pandas.pydata.org/pandas-docs/stable/reference/api/pandas.to_datetime.html)\n",
    "\n",
    "[Pandas Timestamp Documentation](https://pandas.pydata.org/pandas-docs/stable/reference/api/pandas.Timestamp.html)"
   ]
  },
  {
   "cell_type": "code",
   "execution_count": 21,
   "metadata": {
    "executionInfo": {
     "elapsed": 356,
     "status": "ok",
     "timestamp": 1652452015711,
     "user": {
      "displayName": "Ergun Simsek",
      "userId": "16739529127101354422"
     },
     "user_tz": 240
    },
    "id": "DtUTJ8TFBTU1"
   },
   "outputs": [],
   "source": [
    "## let's import pandas\n",
    "import pandas as pd"
   ]
  },
  {
   "cell_type": "code",
   "execution_count": 22,
   "metadata": {
    "executionInfo": {
     "elapsed": 126,
     "status": "ok",
     "timestamp": 1652452015835,
     "user": {
      "displayName": "Ergun Simsek",
      "userId": "16739529127101354422"
     },
     "user_tz": 240
    },
    "id": "j-Y6A2mwBg-M"
   },
   "outputs": [],
   "source": [
    "# One data structure used in pandas using is Timestamp\n",
    "today = pd.Timestamp(year= 2022, month = 11, day = 21)"
   ]
  },
  {
   "cell_type": "code",
   "execution_count": 23,
   "metadata": {
    "colab": {
     "base_uri": "https://localhost:8080/"
    },
    "executionInfo": {
     "elapsed": 2,
     "status": "ok",
     "timestamp": 1652452015835,
     "user": {
      "displayName": "Ergun Simsek",
      "userId": "16739529127101354422"
     },
     "user_tz": 240
    },
    "id": "IAY8484je1CB",
    "outputId": "c1ea6c9c-d0f4-4457-b64b-03a14729b195"
   },
   "outputs": [
    {
     "data": {
      "text/plain": [
       "Timestamp('1997-05-19 00:00:00')"
      ]
     },
     "execution_count": 23,
     "metadata": {},
     "output_type": "execute_result"
    }
   ],
   "source": [
    "pd.Timestamp(ts_input = 10000, unit='D') # Units D = days. 10,000 days from reference date/time."
   ]
  },
  {
   "cell_type": "code",
   "execution_count": 24,
   "metadata": {},
   "outputs": [
    {
     "data": {
      "text/plain": [
       "Timestamp('1970-01-01 00:00:00')"
      ]
     },
     "execution_count": 24,
     "metadata": {},
     "output_type": "execute_result"
    }
   ],
   "source": [
    "pd.Timestamp(ts_input = 0, unit='D') # Reference date and time for ts_input is 1970-01-01."
   ]
  },
  {
   "cell_type": "code",
   "execution_count": 25,
   "metadata": {},
   "outputs": [
    {
     "data": {
      "text/plain": [
       "Timestamp('1969-12-31 23:59:59')"
      ]
     },
     "execution_count": 25,
     "metadata": {},
     "output_type": "execute_result"
    }
   ],
   "source": [
    "pd.Timestamp(ts_input = -1, unit='s') # Unit s = seconds. -1 second from reference date/time."
   ]
  },
  {
   "cell_type": "code",
   "execution_count": 26,
   "metadata": {
    "colab": {
     "base_uri": "https://localhost:8080/",
     "height": 35
    },
    "executionInfo": {
     "elapsed": 206,
     "status": "ok",
     "timestamp": 1652452016040,
     "user": {
      "displayName": "Ergun Simsek",
      "userId": "16739529127101354422"
     },
     "user_tz": 240
    },
    "id": "t0eJYw4Gfneb",
    "outputId": "cd01c345-e7d1-4d43-ed55-ac409c8507e5"
   },
   "outputs": [
    {
     "data": {
      "text/plain": [
       "'Monday'"
      ]
     },
     "execution_count": 26,
     "metadata": {},
     "output_type": "execute_result"
    }
   ],
   "source": [
    "today.day_name()"
   ]
  },
  {
   "cell_type": "code",
   "execution_count": 27,
   "metadata": {
    "colab": {
     "base_uri": "https://localhost:8080/",
     "height": 35
    },
    "executionInfo": {
     "elapsed": 6,
     "status": "ok",
     "timestamp": 1652452016041,
     "user": {
      "displayName": "Ergun Simsek",
      "userId": "16739529127101354422"
     },
     "user_tz": 240
    },
    "id": "PZYF0-uOfqsa",
    "outputId": "62e5cb97-48f3-4dc1-f2e1-e3c148a0a281"
   },
   "outputs": [
    {
     "data": {
      "text/plain": [
       "'Monday'"
      ]
     },
     "execution_count": 27,
     "metadata": {},
     "output_type": "execute_result"
    }
   ],
   "source": [
    "today.strftime('%A')"
   ]
  },
  {
   "cell_type": "code",
   "execution_count": 28,
   "metadata": {
    "colab": {
     "base_uri": "https://localhost:8080/"
    },
    "executionInfo": {
     "elapsed": 5,
     "status": "ok",
     "timestamp": 1652452016041,
     "user": {
      "displayName": "Ergun Simsek",
      "userId": "16739529127101354422"
     },
     "user_tz": 240
    },
    "id": "2CKBQJ6DgSxO",
    "outputId": "e5faaeaf-0287-4566-b30e-b96cd9ed7d0c"
   },
   "outputs": [
    {
     "data": {
      "text/plain": [
       "Timestamp('2021-10-28 00:00:00')"
      ]
     },
     "execution_count": 28,
     "metadata": {},
     "output_type": "execute_result"
    }
   ],
   "source": [
    "# We can also use pd.to_datetime to create a timestamp.\n",
    "pd.to_datetime('Oct. 28th 2021')"
   ]
  },
  {
   "cell_type": "code",
   "execution_count": null,
   "metadata": {
    "executionInfo": {
     "elapsed": 4,
     "status": "ok",
     "timestamp": 1652452016041,
     "user": {
      "displayName": "Ergun Simsek",
      "userId": "16739529127101354422"
     },
     "user_tz": 240
    },
    "id": "LoEvJuENEYL0"
   },
   "outputs": [],
   "source": [
    "# Pandas uses both datetime module and numpy.datetime64 data dtype\n",
    "# We can use some of the methods used in these modules. \n",
    "# There are also some additional methods that are very hadny when you analyze data."
   ]
  },
  {
   "cell_type": "markdown",
   "metadata": {
    "id": "rYjvGDr7CgaM"
   },
   "source": [
    "[What is Ethereum](https://ethereum.org/en/eth/)"
   ]
  },
  {
   "cell_type": "code",
   "execution_count": 29,
   "metadata": {
    "executionInfo": {
     "elapsed": 416,
     "status": "ok",
     "timestamp": 1652452016454,
     "user": {
      "displayName": "Ergun Simsek",
      "userId": "16739529127101354422"
     },
     "user_tz": 240
    },
    "id": "NqGh_qg5jMyu"
   },
   "outputs": [],
   "source": [
    "## let's consider the following example\n",
    "data_url ='https://raw.githubusercontent.com/fgonzaleumbc/Data601_fall2022/main/Datasets/ETH-1.csv'\n",
    "df = pd.read_csv(data_url)"
   ]
  },
  {
   "cell_type": "code",
   "execution_count": 30,
   "metadata": {
    "colab": {
     "base_uri": "https://localhost:8080/",
     "height": 206
    },
    "executionInfo": {
     "elapsed": 4,
     "status": "ok",
     "timestamp": 1652452016454,
     "user": {
      "displayName": "Ergun Simsek",
      "userId": "16739529127101354422"
     },
     "user_tz": 240
    },
    "id": "iz4_wLQ5ubgU",
    "outputId": "ffb28416-e24e-466f-81ac-2974f8f299e1"
   },
   "outputs": [
    {
     "data": {
      "text/html": [
       "<div>\n",
       "<style scoped>\n",
       "    .dataframe tbody tr th:only-of-type {\n",
       "        vertical-align: middle;\n",
       "    }\n",
       "\n",
       "    .dataframe tbody tr th {\n",
       "        vertical-align: top;\n",
       "    }\n",
       "\n",
       "    .dataframe thead th {\n",
       "        text-align: right;\n",
       "    }\n",
       "</style>\n",
       "<table border=\"1\" class=\"dataframe\">\n",
       "  <thead>\n",
       "    <tr style=\"text-align: right;\">\n",
       "      <th></th>\n",
       "      <th>Date</th>\n",
       "      <th>Symbol</th>\n",
       "      <th>Open</th>\n",
       "      <th>High</th>\n",
       "      <th>Low</th>\n",
       "      <th>Close</th>\n",
       "      <th>Volume</th>\n",
       "    </tr>\n",
       "  </thead>\n",
       "  <tbody>\n",
       "    <tr>\n",
       "      <th>0</th>\n",
       "      <td>2020-03-13 08-PM</td>\n",
       "      <td>ETHUSD</td>\n",
       "      <td>129.94</td>\n",
       "      <td>131.82</td>\n",
       "      <td>126.87</td>\n",
       "      <td>128.71</td>\n",
       "      <td>1940673.93</td>\n",
       "    </tr>\n",
       "    <tr>\n",
       "      <th>1</th>\n",
       "      <td>2020-03-13 07-PM</td>\n",
       "      <td>ETHUSD</td>\n",
       "      <td>119.51</td>\n",
       "      <td>132.02</td>\n",
       "      <td>117.10</td>\n",
       "      <td>129.94</td>\n",
       "      <td>7579741.09</td>\n",
       "    </tr>\n",
       "    <tr>\n",
       "      <th>2</th>\n",
       "      <td>2020-03-13 06-PM</td>\n",
       "      <td>ETHUSD</td>\n",
       "      <td>124.47</td>\n",
       "      <td>124.85</td>\n",
       "      <td>115.50</td>\n",
       "      <td>119.51</td>\n",
       "      <td>4898735.81</td>\n",
       "    </tr>\n",
       "    <tr>\n",
       "      <th>3</th>\n",
       "      <td>2020-03-13 05-PM</td>\n",
       "      <td>ETHUSD</td>\n",
       "      <td>124.08</td>\n",
       "      <td>127.42</td>\n",
       "      <td>121.63</td>\n",
       "      <td>124.47</td>\n",
       "      <td>2753450.92</td>\n",
       "    </tr>\n",
       "    <tr>\n",
       "      <th>4</th>\n",
       "      <td>2020-03-13 04-PM</td>\n",
       "      <td>ETHUSD</td>\n",
       "      <td>124.85</td>\n",
       "      <td>129.51</td>\n",
       "      <td>120.17</td>\n",
       "      <td>124.08</td>\n",
       "      <td>4461424.71</td>\n",
       "    </tr>\n",
       "  </tbody>\n",
       "</table>\n",
       "</div>"
      ],
      "text/plain": [
       "               Date  Symbol    Open    High     Low   Close      Volume\n",
       "0  2020-03-13 08-PM  ETHUSD  129.94  131.82  126.87  128.71  1940673.93\n",
       "1  2020-03-13 07-PM  ETHUSD  119.51  132.02  117.10  129.94  7579741.09\n",
       "2  2020-03-13 06-PM  ETHUSD  124.47  124.85  115.50  119.51  4898735.81\n",
       "3  2020-03-13 05-PM  ETHUSD  124.08  127.42  121.63  124.47  2753450.92\n",
       "4  2020-03-13 04-PM  ETHUSD  124.85  129.51  120.17  124.08  4461424.71"
      ]
     },
     "execution_count": 30,
     "metadata": {},
     "output_type": "execute_result"
    }
   ],
   "source": [
    "df.head()"
   ]
  },
  {
   "cell_type": "code",
   "execution_count": 33,
   "metadata": {
    "executionInfo": {
     "elapsed": 3,
     "status": "ok",
     "timestamp": 1652452016454,
     "user": {
      "displayName": "Ergun Simsek",
      "userId": "16739529127101354422"
     },
     "user_tz": 240
    },
    "id": "wOqVMCDIgxl1"
   },
   "outputs": [],
   "source": [
    "# Run this to see that it fails\n",
    "#pd.to_datetime(df.Date)"
   ]
  },
  {
   "cell_type": "code",
   "execution_count": null,
   "metadata": {
    "executionInfo": {
     "elapsed": 3,
     "status": "ok",
     "timestamp": 1652452016454,
     "user": {
      "displayName": "Ergun Simsek",
      "userId": "16739529127101354422"
     },
     "user_tz": 240
    },
    "id": "8zv8it1-jpuv"
   },
   "outputs": [],
   "source": [
    "# Note that in this case it is not straightforward to convert strings to datetime\n",
    "# Let's try pd.to_datetime"
   ]
  },
  {
   "cell_type": "code",
   "execution_count": 34,
   "metadata": {
    "colab": {
     "base_uri": "https://localhost:8080/",
     "height": 35
    },
    "executionInfo": {
     "elapsed": 146,
     "status": "ok",
     "timestamp": 1652452016598,
     "user": {
      "displayName": "Ergun Simsek",
      "userId": "16739529127101354422"
     },
     "user_tz": 240
    },
    "id": "CuupQqv2h82l",
    "outputId": "f58ef891-f64e-40b0-c53f-399dcb66201c"
   },
   "outputs": [
    {
     "data": {
      "text/plain": [
       "'2020-03-13 07-PM'"
      ]
     },
     "execution_count": 34,
     "metadata": {},
     "output_type": "execute_result"
    }
   ],
   "source": [
    "df.Date.iloc[1]"
   ]
  },
  {
   "cell_type": "code",
   "execution_count": 35,
   "metadata": {
    "colab": {
     "base_uri": "https://localhost:8080/"
    },
    "executionInfo": {
     "elapsed": 4,
     "status": "ok",
     "timestamp": 1652452016599,
     "user": {
      "displayName": "Ergun Simsek",
      "userId": "16739529127101354422"
     },
     "user_tz": 240
    },
    "id": "KA7--SWTj7D7",
    "outputId": "60e427b5-e9d6-450a-c156-101fecbecce5"
   },
   "outputs": [
    {
     "data": {
      "text/plain": [
       "Timestamp('2020-03-13 19:00:00')"
      ]
     },
     "execution_count": 35,
     "metadata": {},
     "output_type": "execute_result"
    }
   ],
   "source": [
    "## We can use the format parameter to give the format of the string use pd.to_datetime together with format argument.\n",
    "pd.to_datetime(df.Date, format = '%Y-%m-%d %I-%p').iloc[1]"
   ]
  },
  {
   "cell_type": "markdown",
   "metadata": {
    "id": "3TiObd62kWsg"
   },
   "source": [
    "[pd.to_datetime](https://pandas.pydata.org/pandas-docs/stable/reference/api/pandas.to_datetime.html)\n",
    "\n",
    "[strftime - strptime](https://docs.python.org/3/library/datetime.html#strftime-and-strptime-behavior)"
   ]
  },
  {
   "cell_type": "code",
   "execution_count": 36,
   "metadata": {
    "colab": {
     "base_uri": "https://localhost:8080/",
     "height": 424
    },
    "executionInfo": {
     "elapsed": 317,
     "status": "ok",
     "timestamp": 1652452016914,
     "user": {
      "displayName": "Ergun Simsek",
      "userId": "16739529127101354422"
     },
     "user_tz": 240
    },
    "id": "NTsZH199lgqA",
    "outputId": "8fc055b2-cdcd-4db6-80b6-b9619b3bbd1f"
   },
   "outputs": [
    {
     "data": {
      "text/html": [
       "<div>\n",
       "<style scoped>\n",
       "    .dataframe tbody tr th:only-of-type {\n",
       "        vertical-align: middle;\n",
       "    }\n",
       "\n",
       "    .dataframe tbody tr th {\n",
       "        vertical-align: top;\n",
       "    }\n",
       "\n",
       "    .dataframe thead th {\n",
       "        text-align: right;\n",
       "    }\n",
       "</style>\n",
       "<table border=\"1\" class=\"dataframe\">\n",
       "  <thead>\n",
       "    <tr style=\"text-align: right;\">\n",
       "      <th></th>\n",
       "      <th>Date</th>\n",
       "      <th>Symbol</th>\n",
       "      <th>Open</th>\n",
       "      <th>High</th>\n",
       "      <th>Low</th>\n",
       "      <th>Close</th>\n",
       "      <th>Volume</th>\n",
       "    </tr>\n",
       "  </thead>\n",
       "  <tbody>\n",
       "    <tr>\n",
       "      <th>0</th>\n",
       "      <td>2020-03-13 08-PM</td>\n",
       "      <td>ETHUSD</td>\n",
       "      <td>129.94</td>\n",
       "      <td>131.82</td>\n",
       "      <td>126.87</td>\n",
       "      <td>128.71</td>\n",
       "      <td>1940673.93</td>\n",
       "    </tr>\n",
       "    <tr>\n",
       "      <th>1</th>\n",
       "      <td>2020-03-13 07-PM</td>\n",
       "      <td>ETHUSD</td>\n",
       "      <td>119.51</td>\n",
       "      <td>132.02</td>\n",
       "      <td>117.10</td>\n",
       "      <td>129.94</td>\n",
       "      <td>7579741.09</td>\n",
       "    </tr>\n",
       "    <tr>\n",
       "      <th>2</th>\n",
       "      <td>2020-03-13 06-PM</td>\n",
       "      <td>ETHUSD</td>\n",
       "      <td>124.47</td>\n",
       "      <td>124.85</td>\n",
       "      <td>115.50</td>\n",
       "      <td>119.51</td>\n",
       "      <td>4898735.81</td>\n",
       "    </tr>\n",
       "    <tr>\n",
       "      <th>3</th>\n",
       "      <td>2020-03-13 05-PM</td>\n",
       "      <td>ETHUSD</td>\n",
       "      <td>124.08</td>\n",
       "      <td>127.42</td>\n",
       "      <td>121.63</td>\n",
       "      <td>124.47</td>\n",
       "      <td>2753450.92</td>\n",
       "    </tr>\n",
       "    <tr>\n",
       "      <th>4</th>\n",
       "      <td>2020-03-13 04-PM</td>\n",
       "      <td>ETHUSD</td>\n",
       "      <td>124.85</td>\n",
       "      <td>129.51</td>\n",
       "      <td>120.17</td>\n",
       "      <td>124.08</td>\n",
       "      <td>4461424.71</td>\n",
       "    </tr>\n",
       "    <tr>\n",
       "      <th>...</th>\n",
       "      <td>...</td>\n",
       "      <td>...</td>\n",
       "      <td>...</td>\n",
       "      <td>...</td>\n",
       "      <td>...</td>\n",
       "      <td>...</td>\n",
       "      <td>...</td>\n",
       "    </tr>\n",
       "    <tr>\n",
       "      <th>23669</th>\n",
       "      <td>2017-07-01 03-PM</td>\n",
       "      <td>ETHUSD</td>\n",
       "      <td>265.74</td>\n",
       "      <td>272.74</td>\n",
       "      <td>265.00</td>\n",
       "      <td>272.57</td>\n",
       "      <td>1500282.55</td>\n",
       "    </tr>\n",
       "    <tr>\n",
       "      <th>23670</th>\n",
       "      <td>2017-07-01 02-PM</td>\n",
       "      <td>ETHUSD</td>\n",
       "      <td>268.79</td>\n",
       "      <td>269.90</td>\n",
       "      <td>265.00</td>\n",
       "      <td>265.74</td>\n",
       "      <td>1702536.85</td>\n",
       "    </tr>\n",
       "    <tr>\n",
       "      <th>23671</th>\n",
       "      <td>2017-07-01 01-PM</td>\n",
       "      <td>ETHUSD</td>\n",
       "      <td>274.83</td>\n",
       "      <td>274.93</td>\n",
       "      <td>265.00</td>\n",
       "      <td>268.79</td>\n",
       "      <td>3010787.99</td>\n",
       "    </tr>\n",
       "    <tr>\n",
       "      <th>23672</th>\n",
       "      <td>2017-07-01 12-PM</td>\n",
       "      <td>ETHUSD</td>\n",
       "      <td>275.01</td>\n",
       "      <td>275.01</td>\n",
       "      <td>271.00</td>\n",
       "      <td>274.83</td>\n",
       "      <td>824362.87</td>\n",
       "    </tr>\n",
       "    <tr>\n",
       "      <th>23673</th>\n",
       "      <td>2017-07-01 11-AM</td>\n",
       "      <td>ETHUSD</td>\n",
       "      <td>279.98</td>\n",
       "      <td>279.99</td>\n",
       "      <td>272.10</td>\n",
       "      <td>275.01</td>\n",
       "      <td>679358.87</td>\n",
       "    </tr>\n",
       "  </tbody>\n",
       "</table>\n",
       "<p>23674 rows × 7 columns</p>\n",
       "</div>"
      ],
      "text/plain": [
       "                   Date  Symbol    Open    High     Low   Close      Volume\n",
       "0      2020-03-13 08-PM  ETHUSD  129.94  131.82  126.87  128.71  1940673.93\n",
       "1      2020-03-13 07-PM  ETHUSD  119.51  132.02  117.10  129.94  7579741.09\n",
       "2      2020-03-13 06-PM  ETHUSD  124.47  124.85  115.50  119.51  4898735.81\n",
       "3      2020-03-13 05-PM  ETHUSD  124.08  127.42  121.63  124.47  2753450.92\n",
       "4      2020-03-13 04-PM  ETHUSD  124.85  129.51  120.17  124.08  4461424.71\n",
       "...                 ...     ...     ...     ...     ...     ...         ...\n",
       "23669  2017-07-01 03-PM  ETHUSD  265.74  272.74  265.00  272.57  1500282.55\n",
       "23670  2017-07-01 02-PM  ETHUSD  268.79  269.90  265.00  265.74  1702536.85\n",
       "23671  2017-07-01 01-PM  ETHUSD  274.83  274.93  265.00  268.79  3010787.99\n",
       "23672  2017-07-01 12-PM  ETHUSD  275.01  275.01  271.00  274.83   824362.87\n",
       "23673  2017-07-01 11-AM  ETHUSD  279.98  279.99  272.10  275.01   679358.87\n",
       "\n",
       "[23674 rows x 7 columns]"
      ]
     },
     "execution_count": 36,
     "metadata": {},
     "output_type": "execute_result"
    }
   ],
   "source": [
    "# We can use parse_dates parameter and infer_datetime_format when pd.read_csv.\n",
    "pd.read_csv(data_url, parse_dates = ['Date'], infer_datetime_format= True)"
   ]
  },
  {
   "cell_type": "code",
   "execution_count": 37,
   "metadata": {
    "executionInfo": {
     "elapsed": 652,
     "status": "ok",
     "timestamp": 1652452017564,
     "user": {
      "displayName": "Ergun Simsek",
      "userId": "16739529127101354422"
     },
     "user_tz": 240
    },
    "id": "1UPIlVWcmT3S"
   },
   "outputs": [],
   "source": [
    "# Another way we can also define a function to define format.\n",
    "# In this case we need to pass a parser to date_parser argument define my_time_parser \n",
    "# This takes a string and return pd.to_datetime \n",
    "def my_time_parser(date):\n",
    "    return pd.to_datetime(date, format = '%Y-%m-%d %I-%p')\n",
    "\n",
    "# Could have also used datetime.strptime mehtod\n",
    "\n",
    "# Read_csv but this time pass my_time_parser to date_parser argument\n",
    "df1 = pd.read_csv(data_url, parse_dates= ['Date'], date_parser= my_time_parser)"
   ]
  },
  {
   "cell_type": "code",
   "execution_count": 38,
   "metadata": {
    "executionInfo": {
     "elapsed": 4,
     "status": "ok",
     "timestamp": 1652452017565,
     "user": {
      "displayName": "Ergun Simsek",
      "userId": "16739529127101354422"
     },
     "user_tz": 240
    },
    "id": "5IKIzzIRkwFu"
   },
   "outputs": [
    {
     "data": {
      "text/plain": [
       "8"
      ]
     },
     "execution_count": 38,
     "metadata": {},
     "output_type": "execute_result"
    }
   ],
   "source": [
    "# Function with adition function.\n",
    "def my_addition(a, b):\n",
    "    return a+b\n",
    "\n",
    "my_addition(3, 5)"
   ]
  },
  {
   "cell_type": "code",
   "execution_count": 39,
   "metadata": {
    "colab": {
     "base_uri": "https://localhost:8080/"
    },
    "executionInfo": {
     "elapsed": 3,
     "status": "ok",
     "timestamp": 1652452017565,
     "user": {
      "displayName": "Ergun Simsek",
      "userId": "16739529127101354422"
     },
     "user_tz": 240
    },
    "id": "fWQkGpLAlAZY",
    "outputId": "bad8e4ea-af91-4521-a268-fabe143c5130"
   },
   "outputs": [
    {
     "data": {
      "text/plain": [
       "8"
      ]
     },
     "execution_count": 39,
     "metadata": {},
     "output_type": "execute_result"
    }
   ],
   "source": [
    "# The above function could also be redefined using lambda functions.\n",
    "f = lambda a,b: a+b\n",
    "\n",
    "# Testing the function.\n",
    "f(3,5)"
   ]
  },
  {
   "cell_type": "code",
   "execution_count": 40,
   "metadata": {
    "colab": {
     "base_uri": "https://localhost:8080/"
    },
    "executionInfo": {
     "elapsed": 1737,
     "status": "ok",
     "timestamp": 1652452019300,
     "user": {
      "displayName": "Ergun Simsek",
      "userId": "16739529127101354422"
     },
     "user_tz": 240
    },
    "id": "xRekeUTrnn7z",
    "outputId": "c7b676d7-c943-42fc-ac27-e3a16b3c963c"
   },
   "outputs": [
    {
     "data": {
      "text/plain": [
       "0       2020-03-13 20:00:00\n",
       "1       2020-03-13 19:00:00\n",
       "2       2020-03-13 18:00:00\n",
       "3       2020-03-13 17:00:00\n",
       "4       2020-03-13 16:00:00\n",
       "                ...        \n",
       "23669   2017-07-01 15:00:00\n",
       "23670   2017-07-01 14:00:00\n",
       "23671   2017-07-01 13:00:00\n",
       "23672   2017-07-01 12:00:00\n",
       "23673   2017-07-01 11:00:00\n",
       "Name: Date, Length: 23674, dtype: datetime64[ns]"
      ]
     },
     "execution_count": 40,
     "metadata": {},
     "output_type": "execute_result"
    }
   ],
   "source": [
    "# We could directly pass a lambda function too in datetime.\n",
    "df1 = pd.read_csv('https://raw.githubusercontent.com/fgonzaleumbc/Data601_fall2022/main/Datasets/ETH-1.csv', \n",
    "                  parse_dates= ['Date'], \n",
    "                  date_parser = lambda date: datetime.strptime(date, '%Y-%m-%d %I-%p'))\n",
    "df1.Date"
   ]
  },
  {
   "cell_type": "code",
   "execution_count": 41,
   "metadata": {
    "colab": {
     "base_uri": "https://localhost:8080/"
    },
    "executionInfo": {
     "elapsed": 168,
     "status": "ok",
     "timestamp": 1652452019466,
     "user": {
      "displayName": "Ergun Simsek",
      "userId": "16739529127101354422"
     },
     "user_tz": 240
    },
    "id": "GXVOxkNwoSk7",
    "outputId": "052dbb2c-b8c7-4277-afb1-c62dd724b639"
   },
   "outputs": [
    {
     "data": {
      "text/plain": [
       "11"
      ]
     },
     "execution_count": 41,
     "metadata": {},
     "output_type": "execute_result"
    }
   ],
   "source": [
    "# Note that each entry is an timestamp and can use the timestamp methods.\n",
    "df1.Date.iloc[2].weekofyear # Week of year for date in index 2."
   ]
  },
  {
   "cell_type": "code",
   "execution_count": 42,
   "metadata": {
    "colab": {
     "base_uri": "https://localhost:8080/"
    },
    "executionInfo": {
     "elapsed": 5,
     "status": "ok",
     "timestamp": 1652452019466,
     "user": {
      "displayName": "Ergun Simsek",
      "userId": "16739529127101354422"
     },
     "user_tz": 240
    },
    "id": "0jVMUrTToElt",
    "outputId": "1f7b28b7-2795-4f54-e62e-064e63a481c4"
   },
   "outputs": [
    {
     "data": {
      "text/plain": [
       "0          Friday\n",
       "1          Friday\n",
       "2          Friday\n",
       "3          Friday\n",
       "4          Friday\n",
       "           ...   \n",
       "23669    Saturday\n",
       "23670    Saturday\n",
       "23671    Saturday\n",
       "23672    Saturday\n",
       "23673    Saturday\n",
       "Name: Date, Length: 23674, dtype: object"
      ]
     },
     "execution_count": 42,
     "metadata": {},
     "output_type": "execute_result"
    }
   ],
   "source": [
    "## We can use .dt class to be able to access datetime methods.\n",
    "df1.Date.dt.day_name()"
   ]
  },
  {
   "cell_type": "code",
   "execution_count": 43,
   "metadata": {},
   "outputs": [
    {
     "data": {
      "text/plain": [
       "Timestamp('2017-07-01 11:00:00')"
      ]
     },
     "execution_count": 43,
     "metadata": {},
     "output_type": "execute_result"
    }
   ],
   "source": [
    "# Check min of date\n",
    "df1.Date.min()"
   ]
  },
  {
   "cell_type": "code",
   "execution_count": 44,
   "metadata": {},
   "outputs": [
    {
     "data": {
      "text/plain": [
       "Timestamp('2020-03-13 20:00:00')"
      ]
     },
     "execution_count": 44,
     "metadata": {},
     "output_type": "execute_result"
    }
   ],
   "source": [
    "# Check max of date\n",
    "df1.Date.max()"
   ]
  },
  {
   "cell_type": "code",
   "execution_count": 45,
   "metadata": {},
   "outputs": [
    {
     "data": {
      "text/plain": [
       "Timedelta('986 days 09:00:00')"
      ]
     },
     "execution_count": 45,
     "metadata": {},
     "output_type": "execute_result"
    }
   ],
   "source": [
    "# Note that results of operations are timedelta type\n",
    "df1.Date.max() - df1.Date.min()"
   ]
  },
  {
   "cell_type": "code",
   "execution_count": 46,
   "metadata": {
    "colab": {
     "base_uri": "https://localhost:8080/"
    },
    "executionInfo": {
     "elapsed": 4,
     "status": "ok",
     "timestamp": 1652452019466,
     "user": {
      "displayName": "Ergun Simsek",
      "userId": "16739529127101354422"
     },
     "user_tz": 240
    },
    "id": "FSaxukFHo0A3",
    "outputId": "ba94d9a9-01ec-4488-e179-3bf71971728e"
   },
   "outputs": [
    {
     "data": {
      "text/plain": [
       "Timedelta('-987 days +15:00:00')"
      ]
     },
     "execution_count": 46,
     "metadata": {},
     "output_type": "execute_result"
    }
   ],
   "source": [
    "df1.Date.min() - df1.Date.max()"
   ]
  },
  {
   "cell_type": "code",
   "execution_count": 47,
   "metadata": {},
   "outputs": [
    {
     "data": {
      "text/plain": [
       "0       986 days 09:00:00\n",
       "1       986 days 08:00:00\n",
       "2       986 days 07:00:00\n",
       "3       986 days 06:00:00\n",
       "4       986 days 05:00:00\n",
       "               ...       \n",
       "23669     0 days 04:00:00\n",
       "23670     0 days 03:00:00\n",
       "23671     0 days 02:00:00\n",
       "23672     0 days 01:00:00\n",
       "23673     0 days 00:00:00\n",
       "Name: Date, Length: 23674, dtype: timedelta64[ns]"
      ]
     },
     "execution_count": 47,
     "metadata": {},
     "output_type": "execute_result"
    }
   ],
   "source": [
    "# We can perform operations accross a dataframe column.\n",
    "# Note again that we get timedelta objects when we check the difference of two timestamps.\n",
    "df1.Date - df1.Date.min()"
   ]
  },
  {
   "cell_type": "code",
   "execution_count": 48,
   "metadata": {},
   "outputs": [
    {
     "data": {
      "text/html": [
       "<div>\n",
       "<style scoped>\n",
       "    .dataframe tbody tr th:only-of-type {\n",
       "        vertical-align: middle;\n",
       "    }\n",
       "\n",
       "    .dataframe tbody tr th {\n",
       "        vertical-align: top;\n",
       "    }\n",
       "\n",
       "    .dataframe thead th {\n",
       "        text-align: right;\n",
       "    }\n",
       "</style>\n",
       "<table border=\"1\" class=\"dataframe\">\n",
       "  <thead>\n",
       "    <tr style=\"text-align: right;\">\n",
       "      <th></th>\n",
       "      <th>Date</th>\n",
       "      <th>Symbol</th>\n",
       "      <th>Open</th>\n",
       "      <th>High</th>\n",
       "      <th>Low</th>\n",
       "      <th>Close</th>\n",
       "      <th>Volume</th>\n",
       "      <th>time_delta</th>\n",
       "    </tr>\n",
       "  </thead>\n",
       "  <tbody>\n",
       "    <tr>\n",
       "      <th>0</th>\n",
       "      <td>2020-03-13 20:00:00</td>\n",
       "      <td>ETHUSD</td>\n",
       "      <td>129.94</td>\n",
       "      <td>131.82</td>\n",
       "      <td>126.87</td>\n",
       "      <td>128.71</td>\n",
       "      <td>1940673.93</td>\n",
       "      <td>986 days 09:00:00</td>\n",
       "    </tr>\n",
       "    <tr>\n",
       "      <th>1</th>\n",
       "      <td>2020-03-13 19:00:00</td>\n",
       "      <td>ETHUSD</td>\n",
       "      <td>119.51</td>\n",
       "      <td>132.02</td>\n",
       "      <td>117.10</td>\n",
       "      <td>129.94</td>\n",
       "      <td>7579741.09</td>\n",
       "      <td>986 days 08:00:00</td>\n",
       "    </tr>\n",
       "    <tr>\n",
       "      <th>2</th>\n",
       "      <td>2020-03-13 18:00:00</td>\n",
       "      <td>ETHUSD</td>\n",
       "      <td>124.47</td>\n",
       "      <td>124.85</td>\n",
       "      <td>115.50</td>\n",
       "      <td>119.51</td>\n",
       "      <td>4898735.81</td>\n",
       "      <td>986 days 07:00:00</td>\n",
       "    </tr>\n",
       "    <tr>\n",
       "      <th>3</th>\n",
       "      <td>2020-03-13 17:00:00</td>\n",
       "      <td>ETHUSD</td>\n",
       "      <td>124.08</td>\n",
       "      <td>127.42</td>\n",
       "      <td>121.63</td>\n",
       "      <td>124.47</td>\n",
       "      <td>2753450.92</td>\n",
       "      <td>986 days 06:00:00</td>\n",
       "    </tr>\n",
       "    <tr>\n",
       "      <th>4</th>\n",
       "      <td>2020-03-13 16:00:00</td>\n",
       "      <td>ETHUSD</td>\n",
       "      <td>124.85</td>\n",
       "      <td>129.51</td>\n",
       "      <td>120.17</td>\n",
       "      <td>124.08</td>\n",
       "      <td>4461424.71</td>\n",
       "      <td>986 days 05:00:00</td>\n",
       "    </tr>\n",
       "  </tbody>\n",
       "</table>\n",
       "</div>"
      ],
      "text/plain": [
       "                 Date  Symbol    Open    High     Low   Close      Volume  \\\n",
       "0 2020-03-13 20:00:00  ETHUSD  129.94  131.82  126.87  128.71  1940673.93   \n",
       "1 2020-03-13 19:00:00  ETHUSD  119.51  132.02  117.10  129.94  7579741.09   \n",
       "2 2020-03-13 18:00:00  ETHUSD  124.47  124.85  115.50  119.51  4898735.81   \n",
       "3 2020-03-13 17:00:00  ETHUSD  124.08  127.42  121.63  124.47  2753450.92   \n",
       "4 2020-03-13 16:00:00  ETHUSD  124.85  129.51  120.17  124.08  4461424.71   \n",
       "\n",
       "         time_delta  \n",
       "0 986 days 09:00:00  \n",
       "1 986 days 08:00:00  \n",
       "2 986 days 07:00:00  \n",
       "3 986 days 06:00:00  \n",
       "4 986 days 05:00:00  "
      ]
     },
     "execution_count": 48,
     "metadata": {},
     "output_type": "execute_result"
    }
   ],
   "source": [
    "# We can create a feature with the time_delta\n",
    "df1['time_delta'] = df1.Date - df1.Date.min()\n",
    "df1.head()"
   ]
  },
  {
   "cell_type": "markdown",
   "metadata": {
    "id": "HObBts9ADWm-"
   },
   "source": [
    "### Indexing by time"
   ]
  },
  {
   "cell_type": "markdown",
   "metadata": {
    "id": "37fkykn7rL_o"
   },
   "source": [
    "When you are working with time data it is generally good idea to index your dataframe with the time."
   ]
  },
  {
   "cell_type": "code",
   "execution_count": 49,
   "metadata": {
    "executionInfo": {
     "elapsed": 5,
     "status": "ok",
     "timestamp": 1652452019807,
     "user": {
      "displayName": "Ergun Simsek",
      "userId": "16739529127101354422"
     },
     "user_tz": 240
    },
    "id": "dvznxc8JEhKE"
   },
   "outputs": [],
   "source": [
    "# let's set the index key as 'Date' column\n",
    "df1.set_index(keys = 'Date', inplace= True)"
   ]
  },
  {
   "cell_type": "code",
   "execution_count": 50,
   "metadata": {
    "executionInfo": {
     "elapsed": 5,
     "status": "ok",
     "timestamp": 1652452019807,
     "user": {
      "displayName": "Ergun Simsek",
      "userId": "16739529127101354422"
     },
     "user_tz": 240
    },
    "id": "b7E5f4Xjrc_1"
   },
   "outputs": [],
   "source": [
    "df1.sort_index(inplace = True)"
   ]
  },
  {
   "cell_type": "code",
   "execution_count": 51,
   "metadata": {},
   "outputs": [
    {
     "data": {
      "text/html": [
       "<div>\n",
       "<style scoped>\n",
       "    .dataframe tbody tr th:only-of-type {\n",
       "        vertical-align: middle;\n",
       "    }\n",
       "\n",
       "    .dataframe tbody tr th {\n",
       "        vertical-align: top;\n",
       "    }\n",
       "\n",
       "    .dataframe thead th {\n",
       "        text-align: right;\n",
       "    }\n",
       "</style>\n",
       "<table border=\"1\" class=\"dataframe\">\n",
       "  <thead>\n",
       "    <tr style=\"text-align: right;\">\n",
       "      <th></th>\n",
       "      <th>Symbol</th>\n",
       "      <th>Open</th>\n",
       "      <th>High</th>\n",
       "      <th>Low</th>\n",
       "      <th>Close</th>\n",
       "      <th>Volume</th>\n",
       "      <th>time_delta</th>\n",
       "    </tr>\n",
       "    <tr>\n",
       "      <th>Date</th>\n",
       "      <th></th>\n",
       "      <th></th>\n",
       "      <th></th>\n",
       "      <th></th>\n",
       "      <th></th>\n",
       "      <th></th>\n",
       "      <th></th>\n",
       "    </tr>\n",
       "  </thead>\n",
       "  <tbody>\n",
       "    <tr>\n",
       "      <th>2017-07-01 11:00:00</th>\n",
       "      <td>ETHUSD</td>\n",
       "      <td>279.98</td>\n",
       "      <td>279.99</td>\n",
       "      <td>272.1</td>\n",
       "      <td>275.01</td>\n",
       "      <td>679358.87</td>\n",
       "      <td>0 days 00:00:00</td>\n",
       "    </tr>\n",
       "    <tr>\n",
       "      <th>2017-07-01 12:00:00</th>\n",
       "      <td>ETHUSD</td>\n",
       "      <td>275.01</td>\n",
       "      <td>275.01</td>\n",
       "      <td>271.0</td>\n",
       "      <td>274.83</td>\n",
       "      <td>824362.87</td>\n",
       "      <td>0 days 01:00:00</td>\n",
       "    </tr>\n",
       "    <tr>\n",
       "      <th>2017-07-01 13:00:00</th>\n",
       "      <td>ETHUSD</td>\n",
       "      <td>274.83</td>\n",
       "      <td>274.93</td>\n",
       "      <td>265.0</td>\n",
       "      <td>268.79</td>\n",
       "      <td>3010787.99</td>\n",
       "      <td>0 days 02:00:00</td>\n",
       "    </tr>\n",
       "    <tr>\n",
       "      <th>2017-07-01 14:00:00</th>\n",
       "      <td>ETHUSD</td>\n",
       "      <td>268.79</td>\n",
       "      <td>269.90</td>\n",
       "      <td>265.0</td>\n",
       "      <td>265.74</td>\n",
       "      <td>1702536.85</td>\n",
       "      <td>0 days 03:00:00</td>\n",
       "    </tr>\n",
       "    <tr>\n",
       "      <th>2017-07-01 15:00:00</th>\n",
       "      <td>ETHUSD</td>\n",
       "      <td>265.74</td>\n",
       "      <td>272.74</td>\n",
       "      <td>265.0</td>\n",
       "      <td>272.57</td>\n",
       "      <td>1500282.55</td>\n",
       "      <td>0 days 04:00:00</td>\n",
       "    </tr>\n",
       "  </tbody>\n",
       "</table>\n",
       "</div>"
      ],
      "text/plain": [
       "                     Symbol    Open    High    Low   Close      Volume  \\\n",
       "Date                                                                     \n",
       "2017-07-01 11:00:00  ETHUSD  279.98  279.99  272.1  275.01   679358.87   \n",
       "2017-07-01 12:00:00  ETHUSD  275.01  275.01  271.0  274.83   824362.87   \n",
       "2017-07-01 13:00:00  ETHUSD  274.83  274.93  265.0  268.79  3010787.99   \n",
       "2017-07-01 14:00:00  ETHUSD  268.79  269.90  265.0  265.74  1702536.85   \n",
       "2017-07-01 15:00:00  ETHUSD  265.74  272.74  265.0  272.57  1500282.55   \n",
       "\n",
       "                         time_delta  \n",
       "Date                                 \n",
       "2017-07-01 11:00:00 0 days 00:00:00  \n",
       "2017-07-01 12:00:00 0 days 01:00:00  \n",
       "2017-07-01 13:00:00 0 days 02:00:00  \n",
       "2017-07-01 14:00:00 0 days 03:00:00  \n",
       "2017-07-01 15:00:00 0 days 04:00:00  "
      ]
     },
     "execution_count": 51,
     "metadata": {},
     "output_type": "execute_result"
    }
   ],
   "source": [
    "df1.head()"
   ]
  },
  {
   "cell_type": "code",
   "execution_count": 52,
   "metadata": {
    "colab": {
     "base_uri": "https://localhost:8080/",
     "height": 455
    },
    "executionInfo": {
     "elapsed": 4,
     "status": "ok",
     "timestamp": 1652452019808,
     "user": {
      "displayName": "Ergun Simsek",
      "userId": "16739529127101354422"
     },
     "user_tz": 240
    },
    "id": "MTuH_IoPFFsB",
    "outputId": "f8982610-d13b-4151-ba69-b3e0f1b19f6e"
   },
   "outputs": [
    {
     "data": {
      "text/html": [
       "<div>\n",
       "<style scoped>\n",
       "    .dataframe tbody tr th:only-of-type {\n",
       "        vertical-align: middle;\n",
       "    }\n",
       "\n",
       "    .dataframe tbody tr th {\n",
       "        vertical-align: top;\n",
       "    }\n",
       "\n",
       "    .dataframe thead th {\n",
       "        text-align: right;\n",
       "    }\n",
       "</style>\n",
       "<table border=\"1\" class=\"dataframe\">\n",
       "  <thead>\n",
       "    <tr style=\"text-align: right;\">\n",
       "      <th></th>\n",
       "      <th>Symbol</th>\n",
       "      <th>Open</th>\n",
       "      <th>High</th>\n",
       "      <th>Low</th>\n",
       "      <th>Close</th>\n",
       "      <th>Volume</th>\n",
       "      <th>time_delta</th>\n",
       "    </tr>\n",
       "    <tr>\n",
       "      <th>Date</th>\n",
       "      <th></th>\n",
       "      <th></th>\n",
       "      <th></th>\n",
       "      <th></th>\n",
       "      <th></th>\n",
       "      <th></th>\n",
       "      <th></th>\n",
       "    </tr>\n",
       "  </thead>\n",
       "  <tbody>\n",
       "    <tr>\n",
       "      <th>2019-01-01 00:00:00</th>\n",
       "      <td>ETHUSD</td>\n",
       "      <td>130.53</td>\n",
       "      <td>131.91</td>\n",
       "      <td>130.48</td>\n",
       "      <td>131.62</td>\n",
       "      <td>1067136.21</td>\n",
       "      <td>548 days 13:00:00</td>\n",
       "    </tr>\n",
       "    <tr>\n",
       "      <th>2019-01-01 01:00:00</th>\n",
       "      <td>ETHUSD</td>\n",
       "      <td>131.62</td>\n",
       "      <td>131.62</td>\n",
       "      <td>130.77</td>\n",
       "      <td>130.79</td>\n",
       "      <td>434917.99</td>\n",
       "      <td>548 days 14:00:00</td>\n",
       "    </tr>\n",
       "    <tr>\n",
       "      <th>2019-01-01 02:00:00</th>\n",
       "      <td>ETHUSD</td>\n",
       "      <td>130.79</td>\n",
       "      <td>130.88</td>\n",
       "      <td>129.55</td>\n",
       "      <td>130.06</td>\n",
       "      <td>838183.43</td>\n",
       "      <td>548 days 15:00:00</td>\n",
       "    </tr>\n",
       "    <tr>\n",
       "      <th>2019-01-01 03:00:00</th>\n",
       "      <td>ETHUSD</td>\n",
       "      <td>130.06</td>\n",
       "      <td>130.79</td>\n",
       "      <td>130.06</td>\n",
       "      <td>130.75</td>\n",
       "      <td>503732.63</td>\n",
       "      <td>548 days 16:00:00</td>\n",
       "    </tr>\n",
       "    <tr>\n",
       "      <th>2019-01-01 04:00:00</th>\n",
       "      <td>ETHUSD</td>\n",
       "      <td>130.75</td>\n",
       "      <td>133.96</td>\n",
       "      <td>130.74</td>\n",
       "      <td>131.96</td>\n",
       "      <td>2791135.37</td>\n",
       "      <td>548 days 17:00:00</td>\n",
       "    </tr>\n",
       "    <tr>\n",
       "      <th>...</th>\n",
       "      <td>...</td>\n",
       "      <td>...</td>\n",
       "      <td>...</td>\n",
       "      <td>...</td>\n",
       "      <td>...</td>\n",
       "      <td>...</td>\n",
       "      <td>...</td>\n",
       "    </tr>\n",
       "    <tr>\n",
       "      <th>2019-02-28 19:00:00</th>\n",
       "      <td>ETHUSD</td>\n",
       "      <td>136.00</td>\n",
       "      <td>137.50</td>\n",
       "      <td>134.17</td>\n",
       "      <td>135.57</td>\n",
       "      <td>1208793.69</td>\n",
       "      <td>607 days 08:00:00</td>\n",
       "    </tr>\n",
       "    <tr>\n",
       "      <th>2019-02-28 20:00:00</th>\n",
       "      <td>ETHUSD</td>\n",
       "      <td>135.57</td>\n",
       "      <td>135.60</td>\n",
       "      <td>134.37</td>\n",
       "      <td>134.99</td>\n",
       "      <td>1023140.26</td>\n",
       "      <td>607 days 09:00:00</td>\n",
       "    </tr>\n",
       "    <tr>\n",
       "      <th>2019-02-28 21:00:00</th>\n",
       "      <td>ETHUSD</td>\n",
       "      <td>134.99</td>\n",
       "      <td>135.37</td>\n",
       "      <td>134.86</td>\n",
       "      <td>135.13</td>\n",
       "      <td>330511.15</td>\n",
       "      <td>607 days 10:00:00</td>\n",
       "    </tr>\n",
       "    <tr>\n",
       "      <th>2019-02-28 22:00:00</th>\n",
       "      <td>ETHUSD</td>\n",
       "      <td>135.13</td>\n",
       "      <td>135.13</td>\n",
       "      <td>134.25</td>\n",
       "      <td>134.68</td>\n",
       "      <td>331870.37</td>\n",
       "      <td>607 days 11:00:00</td>\n",
       "    </tr>\n",
       "    <tr>\n",
       "      <th>2019-02-28 23:00:00</th>\n",
       "      <td>ETHUSD</td>\n",
       "      <td>134.68</td>\n",
       "      <td>135.53</td>\n",
       "      <td>134.40</td>\n",
       "      <td>134.48</td>\n",
       "      <td>350372.86</td>\n",
       "      <td>607 days 12:00:00</td>\n",
       "    </tr>\n",
       "  </tbody>\n",
       "</table>\n",
       "<p>1416 rows × 7 columns</p>\n",
       "</div>"
      ],
      "text/plain": [
       "                     Symbol    Open    High     Low   Close      Volume  \\\n",
       "Date                                                                      \n",
       "2019-01-01 00:00:00  ETHUSD  130.53  131.91  130.48  131.62  1067136.21   \n",
       "2019-01-01 01:00:00  ETHUSD  131.62  131.62  130.77  130.79   434917.99   \n",
       "2019-01-01 02:00:00  ETHUSD  130.79  130.88  129.55  130.06   838183.43   \n",
       "2019-01-01 03:00:00  ETHUSD  130.06  130.79  130.06  130.75   503732.63   \n",
       "2019-01-01 04:00:00  ETHUSD  130.75  133.96  130.74  131.96  2791135.37   \n",
       "...                     ...     ...     ...     ...     ...         ...   \n",
       "2019-02-28 19:00:00  ETHUSD  136.00  137.50  134.17  135.57  1208793.69   \n",
       "2019-02-28 20:00:00  ETHUSD  135.57  135.60  134.37  134.99  1023140.26   \n",
       "2019-02-28 21:00:00  ETHUSD  134.99  135.37  134.86  135.13   330511.15   \n",
       "2019-02-28 22:00:00  ETHUSD  135.13  135.13  134.25  134.68   331870.37   \n",
       "2019-02-28 23:00:00  ETHUSD  134.68  135.53  134.40  134.48   350372.86   \n",
       "\n",
       "                           time_delta  \n",
       "Date                                   \n",
       "2019-01-01 00:00:00 548 days 13:00:00  \n",
       "2019-01-01 01:00:00 548 days 14:00:00  \n",
       "2019-01-01 02:00:00 548 days 15:00:00  \n",
       "2019-01-01 03:00:00 548 days 16:00:00  \n",
       "2019-01-01 04:00:00 548 days 17:00:00  \n",
       "...                               ...  \n",
       "2019-02-28 19:00:00 607 days 08:00:00  \n",
       "2019-02-28 20:00:00 607 days 09:00:00  \n",
       "2019-02-28 21:00:00 607 days 10:00:00  \n",
       "2019-02-28 22:00:00 607 days 11:00:00  \n",
       "2019-02-28 23:00:00 607 days 12:00:00  \n",
       "\n",
       "[1416 rows x 7 columns]"
      ]
     },
     "execution_count": 52,
     "metadata": {},
     "output_type": "execute_result"
    }
   ],
   "source": [
    "## Advantage of working with a dataframe index with DatetimeIndex\n",
    "df1.head()\n",
    "## now we can slice our data very easly\n",
    "## let's get all the rows from 2019-01 to 2019-02.\n",
    "df1['2019-01': '2019-02']"
   ]
  },
  {
   "cell_type": "code",
   "execution_count": 53,
   "metadata": {
    "colab": {
     "base_uri": "https://localhost:8080/"
    },
    "executionInfo": {
     "elapsed": 5,
     "status": "ok",
     "timestamp": 1652452019808,
     "user": {
      "displayName": "Ergun Simsek",
      "userId": "16739529127101354422"
     },
     "user_tz": 240
    },
    "id": "OEjNRNKUE0Tr",
    "outputId": "cc55f9db-0d07-4197-decd-b06865e1de32"
   },
   "outputs": [
    {
     "data": {
      "text/plain": [
       "2018-11-24     2\n",
       "2019-09-25     3\n",
       "2020-10-21     5\n",
       "2021-10-27     7\n",
       "2021-10-28    11\n",
       "dtype: int64"
      ]
     },
     "execution_count": 53,
     "metadata": {},
     "output_type": "execute_result"
    }
   ],
   "source": [
    "# Another way of indexing a dataframe with DatetimeIndex is when you create the dataframe\n",
    "index = pd.DatetimeIndex(['2018-11-24', '2019-9-25', '2020-10-21', '2021-10-27', '2021-10-28'])\n",
    "data = pd.Series([2,3,5,7,11], index= index)\n",
    "data"
   ]
  },
  {
   "cell_type": "markdown",
   "metadata": {
    "id": "qd39egCvfW2e"
   },
   "source": [
    "## Resampling"
   ]
  },
  {
   "cell_type": "markdown",
   "metadata": {
    "id": "nS4Gt_CNximY"
   },
   "source": [
    "### Resample vs Asfreq"
   ]
  },
  {
   "cell_type": "code",
   "execution_count": 54,
   "metadata": {
    "executionInfo": {
     "elapsed": 792,
     "status": "ok",
     "timestamp": 1652452020710,
     "user": {
      "displayName": "Ergun Simsek",
      "userId": "16739529127101354422"
     },
     "user_tz": 240
    },
    "id": "bXIWjnMcxANy"
   },
   "outputs": [],
   "source": [
    "%matplotlib inline\n",
    "import matplotlib.pyplot as plt\n",
    "import seaborn; "
   ]
  },
  {
   "cell_type": "code",
   "execution_count": 55,
   "metadata": {
    "executionInfo": {
     "elapsed": 4,
     "status": "ok",
     "timestamp": 1652452020710,
     "user": {
      "displayName": "Ergun Simsek",
      "userId": "16739529127101354422"
     },
     "user_tz": 240
    },
    "id": "vT5vgZxXxVq2"
   },
   "outputs": [
    {
     "data": {
      "text/plain": [
       "Date\n",
       "2017-07-01 11:00:00    279.98\n",
       "2017-07-01 12:00:00    275.01\n",
       "2017-07-01 13:00:00    274.83\n",
       "2017-07-01 14:00:00    268.79\n",
       "2017-07-01 15:00:00    265.74\n",
       "                        ...  \n",
       "2020-03-13 16:00:00    124.85\n",
       "2020-03-13 17:00:00    124.08\n",
       "2020-03-13 18:00:00    124.47\n",
       "2020-03-13 19:00:00    119.51\n",
       "2020-03-13 20:00:00    129.94\n",
       "Name: Open, Length: 23674, dtype: float64"
      ]
     },
     "execution_count": 55,
     "metadata": {},
     "output_type": "execute_result"
    }
   ],
   "source": [
    "## First make sure that you sort your index \n",
    "## Let's create a variable open for the opening values of the Ethereum\n",
    "price_open = df1.Open\n",
    "price_open\n",
    "# Be careful, 'open' is also a function within python and should not be used as variable."
   ]
  },
  {
   "cell_type": "markdown",
   "metadata": {
    "id": "1KC1_cYe8A3S"
   },
   "source": [
    "[Date Offsets](https://pandas.pydata.org/pandas-docs/stable/user_guide/timeseries.html#dateoffset-objects)"
   ]
  },
  {
   "cell_type": "code",
   "execution_count": 56,
   "metadata": {
    "colab": {
     "base_uri": "https://localhost:8080/"
    },
    "executionInfo": {
     "elapsed": 157,
     "status": "ok",
     "timestamp": 1652452020866,
     "user": {
      "displayName": "Ergun Simsek",
      "userId": "16739529127101354422"
     },
     "user_tz": 240
    },
    "id": "YZhm4diiET70",
    "outputId": "9543d8f2-f2c4-40d1-ef4d-472c03b296e9"
   },
   "outputs": [
    {
     "data": {
      "text/plain": [
       "Date\n",
       "2017-12-29    345.722109\n",
       "2018-12-31    483.887252\n",
       "2019-12-31    180.763469\n",
       "2020-12-31    196.696462\n",
       "Freq: BA-DEC, Name: Open, dtype: float64"
      ]
     },
     "execution_count": 56,
     "metadata": {},
     "output_type": "execute_result"
    }
   ],
   "source": [
    "## here use resample with 'BA' offset\n",
    "price_open.resample('BA').mean()"
   ]
  },
  {
   "cell_type": "code",
   "execution_count": 57,
   "metadata": {
    "colab": {
     "base_uri": "https://localhost:8080/"
    },
    "executionInfo": {
     "elapsed": 3,
     "status": "ok",
     "timestamp": 1652452020866,
     "user": {
      "displayName": "Ergun Simsek",
      "userId": "16739529127101354422"
     },
     "user_tz": 240
    },
    "id": "6qIhrEALEYFP",
    "outputId": "dd2b003b-c541-4bd9-950d-4b68cd268344"
   },
   "outputs": [
    {
     "data": {
      "text/plain": [
       "Date\n",
       "2017-12-29 11:00:00    715.00\n",
       "2018-12-31 11:00:00    135.51\n",
       "2019-12-31 11:00:00    131.32\n",
       "Freq: BA-DEC, Name: Open, dtype: float64"
      ]
     },
     "execution_count": 57,
     "metadata": {},
     "output_type": "execute_result"
    }
   ],
   "source": [
    "## here use asfreq method with 'BA' offset and compare\n",
    "price_open.asfreq('BA')"
   ]
  },
  {
   "cell_type": "code",
   "execution_count": 58,
   "metadata": {
    "colab": {
     "base_uri": "https://localhost:8080/",
     "height": 351
    },
    "executionInfo": {
     "elapsed": 756,
     "status": "ok",
     "timestamp": 1652452021620,
     "user": {
      "displayName": "Ergun Simsek",
      "userId": "16739529127101354422"
     },
     "user_tz": 240
    },
    "id": "Ly0kp0lnxaoQ",
    "outputId": "ceb001c3-d23e-44a1-b247-8137bf833de9"
   },
   "outputs": [
    {
     "data": {
      "text/plain": [
       "(array([17532., 17652., 17775., 17897., 18017., 18140., 18262., 18383.,\n",
       "        18506., 18628.]),\n",
       " [Text(0, 0, ''),\n",
       "  Text(0, 0, ''),\n",
       "  Text(0, 0, ''),\n",
       "  Text(0, 0, ''),\n",
       "  Text(0, 0, ''),\n",
       "  Text(0, 0, ''),\n",
       "  Text(0, 0, ''),\n",
       "  Text(0, 0, ''),\n",
       "  Text(0, 0, ''),\n",
       "  Text(0, 0, '')])"
      ]
     },
     "execution_count": 58,
     "metadata": {},
     "output_type": "execute_result"
    },
    {
     "data": {
      "image/png": "[encoded data removed]",
      "text/plain": [
       "<Figure size 432x288 with 1 Axes>"
      ]
     },
     "metadata": {
      "needs_background": "light"
     },
     "output_type": "display_data"
    }
   ],
   "source": [
    "## Plot them in the same plot\n",
    "plt.plot(price_open.resample('BA').mean())\n",
    "plt.plot(price_open.asfreq('BA'))\n",
    "plt.xticks(rotation =90)"
   ]
  },
  {
   "cell_type": "markdown",
   "metadata": {
    "id": "eE9C-hdlx77H"
   },
   "source": [
    "# Rolling Windows"
   ]
  },
  {
   "cell_type": "markdown",
   "metadata": {
    "id": "JE2kdt-bE8hy"
   },
   "source": [
    "[Moving Average](https://towardsdatascience.com/dont-miss-out-on-rolling-window-functions-in-pandas-850b817131db)\n",
    "\n",
    "[Rolling Documentation](https://pandas.pydata.org/pandas-docs/stable/reference/api/pandas.DataFrame.rolling.html)"
   ]
  },
  {
   "cell_type": "code",
   "execution_count": 59,
   "metadata": {
    "colab": {
     "base_uri": "https://localhost:8080/",
     "height": 454
    },
    "executionInfo": {
     "elapsed": 1565,
     "status": "ok",
     "timestamp": 1652452023182,
     "user": {
      "displayName": "Ergun Simsek",
      "userId": "16739529127101354422"
     },
     "user_tz": 240
    },
    "id": "o9yXYY5I6m4T",
    "outputId": "9e758660-6c90-481d-f765-ebe803fdc3dd"
   },
   "outputs": [
    {
     "data": {
      "image/png": "[encoded data removed]",
      "text/plain": [
       "<Figure size 1080x504 with 1 Axes>"
      ]
     },
     "metadata": {
      "needs_background": "light"
     },
     "output_type": "display_data"
    }
   ],
   "source": [
    "rolling = price_open.rolling(365, center =True)\n",
    "\n",
    "data = pd.DataFrame({'input': price_open,\n",
    "                     'one-year rolling_mean': rolling.mean(),\n",
    "                     'one-year rolling_std': rolling.std()})\n",
    "ax = data.plot(style=['-', '--', ':'], figsize = (15,7))\n",
    "ax.lines[0].set_alpha(0.3)"
   ]
  },
  {
   "cell_type": "code",
   "execution_count": 60,
   "metadata": {
    "colab": {
     "base_uri": "https://localhost:8080/"
    },
    "executionInfo": {
     "elapsed": 6,
     "status": "ok",
     "timestamp": 1652452023183,
     "user": {
      "displayName": "Ergun Simsek",
      "userId": "16739529127101354422"
     },
     "user_tz": 240
    },
    "id": "WI67O-D_vrgJ",
    "outputId": "d577bdec-aa2f-4d49-9820-e473c552a221"
   },
   "outputs": [
    {
     "data": {
      "text/plain": [
       "Date\n",
       "2017-07-01 11:00:00    279.98\n",
       "2017-07-01 12:00:00    275.01\n",
       "2017-07-01 13:00:00    274.83\n",
       "2017-07-01 14:00:00    268.79\n",
       "2017-07-01 15:00:00    265.74\n",
       "                        ...  \n",
       "2020-03-13 16:00:00    124.85\n",
       "2020-03-13 17:00:00    124.08\n",
       "2020-03-13 18:00:00    124.47\n",
       "2020-03-13 19:00:00    119.51\n",
       "2020-03-13 20:00:00    129.94\n",
       "Name: Open, Length: 23674, dtype: float64"
      ]
     },
     "execution_count": 60,
     "metadata": {},
     "output_type": "execute_result"
    }
   ],
   "source": [
    "price_open"
   ]
  },
  {
   "cell_type": "code",
   "execution_count": 61,
   "metadata": {
    "executionInfo": {
     "elapsed": 3,
     "status": "ok",
     "timestamp": 1652452023183,
     "user": {
      "displayName": "Ergun Simsek",
      "userId": "16739529127101354422"
     },
     "user_tz": 240
    },
    "id": "91QC9Fdsxzed"
   },
   "outputs": [
    {
     "data": {
      "text/plain": [
       "Date\n",
       "2017-07-01 11:00:00    275.01\n",
       "2017-07-01 12:00:00    274.83\n",
       "2017-07-01 13:00:00    268.79\n",
       "2017-07-01 14:00:00    265.74\n",
       "2017-07-01 15:00:00    272.57\n",
       "                        ...  \n",
       "2020-03-13 16:00:00    124.08\n",
       "2020-03-13 17:00:00    124.47\n",
       "2020-03-13 18:00:00    119.51\n",
       "2020-03-13 19:00:00    129.94\n",
       "2020-03-13 20:00:00       NaN\n",
       "Name: Open, Length: 23674, dtype: float64"
      ]
     },
     "execution_count": 61,
     "metadata": {},
     "output_type": "execute_result"
    }
   ],
   "source": [
    "# Shift the price at open by -1 day. Note the index 0 above gets removed and last date creates a NaN.\n",
    "one_day_shift = price_open.shift(-1)\n",
    "one_day_shift"
   ]
  },
  {
   "cell_type": "code",
   "execution_count": 62,
   "metadata": {
    "executionInfo": {
     "elapsed": 3,
     "status": "ok",
     "timestamp": 1652452023183,
     "user": {
      "displayName": "Ergun Simsek",
      "userId": "16739529127101354422"
     },
     "user_tz": 240
    },
    "id": "FlaEuVdlxQSJ"
   },
   "outputs": [
    {
     "data": {
      "text/plain": [
       "Date\n",
       "2017-07-01 11:00:00    274.83\n",
       "2017-07-01 12:00:00    268.79\n",
       "2017-07-01 13:00:00    265.74\n",
       "2017-07-01 14:00:00    272.57\n",
       "2017-07-01 15:00:00    268.00\n",
       "                        ...  \n",
       "2020-03-13 16:00:00    124.47\n",
       "2020-03-13 17:00:00    119.51\n",
       "2020-03-13 18:00:00    129.94\n",
       "2020-03-13 19:00:00       NaN\n",
       "2020-03-13 20:00:00       NaN\n",
       "Name: Open, Length: 23674, dtype: float64"
      ]
     },
     "execution_count": 62,
     "metadata": {},
     "output_type": "execute_result"
    }
   ],
   "source": [
    "two_days_shift = price_open.shift(-2)\n",
    "two_days_shift"
   ]
  },
  {
   "cell_type": "markdown",
   "metadata": {
    "id": "uh28I7Is_0fZ"
   },
   "source": [
    "# Exercise"
   ]
  },
  {
   "cell_type": "markdown",
   "metadata": {
    "id": "qbjN0TpG_4eN"
   },
   "source": [
    "[Exercise from Python Data Science Handbook: Visualizing Seattle Bicycle Counts](https://jakevdp.github.io/PythonDataScienceHandbook/03.11-working-with-time-series.html#Example:-Visualizing-Seattle-Bicycle-Counts)\n",
    "\n",
    "[Blog on Seattle Really Seeing an Uptick in Cycling](https://jakevdp.github.io/blog/2014/06/10/is-seattle-really-seeing-an-uptick-in-cycling/)"
   ]
  },
  {
   "cell_type": "markdown",
   "metadata": {
    "executionInfo": {
     "elapsed": 4,
     "status": "ok",
     "timestamp": 1652452023183,
     "user": {
      "displayName": "Ergun Simsek",
      "userId": "16739529127101354422"
     },
     "user_tz": 240
    },
    "id": "f3un8ITtAPvh"
   },
   "source": [
    "# Notebook End"
   ]
  },
  {
   "cell_type": "code",
   "execution_count": null,
   "metadata": {},
   "outputs": [],
   "source": []
  },
  {
   "cell_type": "code",
   "execution_count": null,
   "metadata": {},
   "outputs": [],
   "source": []
  },
  {
   "cell_type": "code",
   "execution_count": null,
   "metadata": {},
   "outputs": [],
   "source": []
  }
 ],
 "metadata": {
  "colab": {
   "collapsed_sections": [],
   "name": "DATA601_a_WorkingWithTimeDate.ipynb",
   "provenance": []
  },
  "kernelspec": {
   "display_name": "Python 3 (ipykernel)",
   "language": "python",
   "name": "python3"
  },
  "language_info": {
   "codemirror_mode": {
    "name": "ipython",
    "version": 3
   },
   "file_extension": ".py",
   "mimetype": "text/x-python",
   "name": "python",
   "nbconvert_exporter": "python",
   "pygments_lexer": "ipython3",
   "version": "3.9.12"
  }
 },
 "nbformat": 4,
 "nbformat_minor": 1
}
