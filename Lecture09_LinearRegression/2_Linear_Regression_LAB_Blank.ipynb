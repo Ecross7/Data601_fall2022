{
 "cells": [
  {
   "cell_type": "markdown",
   "metadata": {
    "colab_type": "text",
    "id": "view-in-github"
   },
   "source": [
    "<a href=\"https://colab.research.google.com/github/simsekergun/DATA601/blob/main/Lecture13_LinearRegression/Linear_Regression_LAB_Blank.ipynb\" target=\"_parent\"><img src=\"https://colab.research.google.com/assets/colab-badge.svg\" alt=\"Open In Colab\"/></a>"
   ]
  },
  {
   "cell_type": "code",
   "execution_count": null,
   "metadata": {
    "id": "pgebinkwqCk-"
   },
   "outputs": [],
   "source": [
    "import numpy as np\n",
    "import matplotlib.pyplot as plt \n",
    "import pandas as pd  \n",
    "import seaborn as sns \n",
    "%matplotlib inline\n",
    "\n",
    "# For linear regression, we will need\n",
    "from sklearn.linear_model import LinearRegression\n",
    "from sklearn.metrics import mean_squared_error\n",
    "from sklearn.metrics import r2_score\n",
    "from sklearn.model_selection import train_test_split\n",
    "# For the last part, we will need this\n",
    "from numpy.linalg import inv"
   ]
  },
  {
   "cell_type": "markdown",
   "metadata": {
    "id": "wOO_3go6ts0m"
   },
   "source": [
    "In this lab, we will use Boston house prices dataset. You can load the dataset by running the cell below. \n",
    "\n",
    "Here are you tasks:\n",
    "1. Basic EDA\n",
    "2.a. Build a simple linear regression model (using only one feature) to predict the house price, <br>\n",
    "b. determine your model's applicability (R^2) and accuracy (MSE) both for training and testing, and <br> \n",
    "c. Visualize ground-truth vs. prediction.\n",
    "3. a. Build a linear regression model with two features to to predict the house price, <br>\n",
    "b. determine your model's applicability (R^2) and accuracy (MSE) both for training and testing, and <br> \n",
    "c. Visualize ground-truth vs. prediction.\n",
    "4. Repeat task-3(a) with linear algebra\n",
    "\n",
    "Use 80/20 train-test split."
   ]
  },
  {
   "cell_type": "code",
   "execution_count": null,
   "metadata": {
    "id": "i1JcjETZqHGn"
   },
   "outputs": [],
   "source": [
    "# load the housing data from the scikit-learn library\n",
    "from sklearn.datasets import load_boston\n",
    "boston_dataset = load_boston()\n",
    "# check this link for more\n",
    "# https://scikit-learn.org/stable/datasets/toy_dataset.html"
   ]
  },
  {
   "cell_type": "code",
   "execution_count": null,
   "metadata": {
    "id": "ER7IWZDgqR8X"
   },
   "outputs": [],
   "source": [
    "print(boston_dataset.keys())"
   ]
  },
  {
   "cell_type": "code",
   "execution_count": null,
   "metadata": {
    "id": "GGNZZJdCqN6I"
   },
   "outputs": [],
   "source": [
    "print(boston_dataset.DESCR)"
   ]
  },
  {
   "cell_type": "code",
   "execution_count": null,
   "metadata": {
    "id": "E8ONOJFfTXyw"
   },
   "outputs": [],
   "source": [
    "# create a dataframe \n",
    "boston = pd.DataFrame(boston_dataset.data, columns=boston_dataset.feature_names)\n",
    "\n",
    "#  the target value MEDV is missing from the data. \n",
    "# create a new column of target values and add it to the dataframe\n",
    "boston['MEDV'] = boston_dataset.target"
   ]
  },
  {
   "cell_type": "markdown",
   "metadata": {
    "id": "hluGXNWfTO8M"
   },
   "source": [
    "## EDA"
   ]
  },
  {
   "cell_type": "code",
   "execution_count": null,
   "metadata": {
    "id": "Ehx8J2DjTQ7z"
   },
   "outputs": [],
   "source": []
  },
  {
   "cell_type": "markdown",
   "metadata": {
    "id": "pQI48bwmOiCJ"
   },
   "source": [
    "Build a simple linear regression model (x = one of the features, y = medv)"
   ]
  },
  {
   "cell_type": "code",
   "execution_count": null,
   "metadata": {
    "id": "kXi0uVBLOujG"
   },
   "outputs": [],
   "source": []
  },
  {
   "cell_type": "markdown",
   "metadata": {
    "id": "MY4ZBAijr1Tk"
   },
   "source": [
    "Build a linear regression model"
   ]
  },
  {
   "cell_type": "code",
   "execution_count": null,
   "metadata": {
    "id": "a8wnhZRwr17r"
   },
   "outputs": [],
   "source": []
  },
  {
   "cell_type": "markdown",
   "metadata": {
    "id": "SRJSD1EgCW8k"
   },
   "source": [
    "## Linear Regression with Linear Algebra"
   ]
  },
  {
   "cell_type": "markdown",
   "metadata": {
    "id": "e2MsfG192EId"
   },
   "source": [
    "### Training"
   ]
  },
  {
   "cell_type": "code",
   "execution_count": null,
   "metadata": {
    "id": "uxIR5Wtp2efC"
   },
   "outputs": [],
   "source": []
  },
  {
   "cell_type": "markdown",
   "metadata": {
    "id": "xkaIoudW2IeZ"
   },
   "source": [
    "### Testing"
   ]
  },
  {
   "cell_type": "code",
   "execution_count": null,
   "metadata": {
    "id": "qEsTXbPQ1i2m"
   },
   "outputs": [],
   "source": []
  }
 ],
 "metadata": {
  "colab": {
   "collapsed_sections": [],
   "include_colab_link": true,
   "name": "Linear_Regression_LAB_Blank.ipynb",
   "provenance": []
  },
  "kernelspec": {
   "display_name": "Python 3 (ipykernel)",
   "language": "python",
   "name": "python3"
  },
  "language_info": {
   "codemirror_mode": {
    "name": "ipython",
    "version": 3
   },
   "file_extension": ".py",
   "mimetype": "text/x-python",
   "name": "python",
   "nbconvert_exporter": "python",
   "pygments_lexer": "ipython3",
   "version": "3.9.12"
  }
 },
 "nbformat": 4,
 "nbformat_minor": 1
}
